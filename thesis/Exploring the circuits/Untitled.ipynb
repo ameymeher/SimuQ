{
 "cells": [
  {
   "cell_type": "code",
   "execution_count": 1,
   "id": "014394df",
   "metadata": {},
   "outputs": [],
   "source": [
    "from simuq.qsystem import QSystem\n",
    "from simuq.environment import Qubit"
   ]
  },
  {
   "cell_type": "code",
   "execution_count": 2,
   "id": "cb549c57",
   "metadata": {},
   "outputs": [],
   "source": [
    "def Ising(N, T, J, h):\n",
    "    qs = QSystem()\n",
    "    q = [Qubit(qs) for _ in range(N)]\n",
    "    H = 0\n",
    "    for j in range(N):\n",
    "        for k in range(N):\n",
    "            H += J[j, k] * q[j].Z * q[k].Z\n",
    "    for j in range(N):\n",
    "        H += h[j] * q[j].X\n",
    "    qs.add_evolution(H, T)\n",
    "    return qs"
   ]
  },
  {
   "cell_type": "code",
   "execution_count": 3,
   "id": "8ec87d79",
   "metadata": {},
   "outputs": [],
   "source": [
    "N = 4\n",
    "T = 1\n",
    "system = 'ibm_lagos'\n",
    "optimization_level = 3\n",
    "use_pulse = True"
   ]
  }
 ],
 "metadata": {
  "kernelspec": {
   "display_name": "Python 3 (ipykernel)",
   "language": "python",
   "name": "python3"
  },
  "language_info": {
   "codemirror_mode": {
    "name": "ipython",
    "version": 3
   },
   "file_extension": ".py",
   "mimetype": "text/x-python",
   "name": "python",
   "nbconvert_exporter": "python",
   "pygments_lexer": "ipython3",
   "version": "3.9.18"
  }
 },
 "nbformat": 4,
 "nbformat_minor": 5
}
