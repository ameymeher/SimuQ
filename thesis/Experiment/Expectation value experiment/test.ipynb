{
 "cells": [
  {
   "cell_type": "code",
   "execution_count": 5,
   "metadata": {},
   "outputs": [],
   "source": [
    "from qiskit_ibm_runtime import QiskitRuntimeService\n",
    " \n",
    "service = QiskitRuntimeService()\n",
    "backend = service.backend(\"ibmq_qasm_simulator\")"
   ]
  },
  {
   "cell_type": "code",
   "execution_count": 17,
   "metadata": {},
   "outputs": [
    {
     "name": "stdout",
     "output_type": "stream",
     "text": [
      ">>> Observable: ['ZZZZZZZZZZZZ']\n"
     ]
    }
   ],
   "source": [
    "import numpy as np\n",
    "from qiskit.circuit.library import IQP\n",
    "from qiskit.quantum_info import SparsePauliOp, random_hermitian\n",
    " \n",
    "n_qubits = 12\n",
    " \n",
    "mat = np.real(random_hermitian(n_qubits, seed=1234))\n",
    "circuit = IQP(mat)\n",
    "observable = SparsePauliOp(\"Z\" * n_qubits)\n",
    "print(f\">>> Observable: {observable.paulis}\")"
   ]
  },
  {
   "cell_type": "code",
   "execution_count": 13,
   "metadata": {},
   "outputs": [],
   "source": [
    "from qiskit_ibm_runtime import Estimator\n",
    " \n",
    "estimator = Estimator(backend=backend)"
   ]
  },
  {
   "cell_type": "code",
   "execution_count": 14,
   "metadata": {},
   "outputs": [
    {
     "name": "stdout",
     "output_type": "stream",
     "text": [
      ">>> Job ID: cmf9p8rrga5j1u9rarq0\n",
      ">>> Job Status: JobStatus.RUNNING\n"
     ]
    }
   ],
   "source": [
    "job = estimator.run(circuit, observable)\n",
    "print(f\">>> Job ID: {job.job_id()}\")\n",
    "print(f\">>> Job Status: {job.status()}\")"
   ]
  },
  {
   "cell_type": "code",
   "execution_count": 15,
   "metadata": {},
   "outputs": [
    {
     "name": "stdout",
     "output_type": "stream",
     "text": [
      ">>> EstimatorResult(values=array([-0.0335]), metadata=[{'variance': 0.99887775, 'shots': 4000}])\n",
      "  > Expectation value: -0.0335\n",
      "  > Metadata: {'variance': 0.99887775, 'shots': 4000}\n"
     ]
    }
   ],
   "source": [
    "result = job.result()\n",
    "print(f\">>> {result}\")\n",
    "print(f\"  > Expectation value: {result.values[0]}\")\n",
    "print(f\"  > Metadata: {result.metadata[0]}\")"
   ]
  }
 ],
 "metadata": {
  "kernelspec": {
   "display_name": "simuq",
   "language": "python",
   "name": "python3"
  },
  "language_info": {
   "codemirror_mode": {
    "name": "ipython",
    "version": 3
   },
   "file_extension": ".py",
   "mimetype": "text/x-python",
   "name": "python",
   "nbconvert_exporter": "python",
   "pygments_lexer": "ipython3",
   "version": "3.10.13"
  }
 },
 "nbformat": 4,
 "nbformat_minor": 2
}
