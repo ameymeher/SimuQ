{
 "cells": [
  {
   "cell_type": "code",
   "execution_count": 1,
   "metadata": {
    "collapsed": true
   },
   "outputs": [],
   "source": [
    "from qiskit import QuantumCircuit, Aer, execute\n",
    "from qiskit.visualization import array_to_latex\n",
    "from qiskit_transpiler import get_pm\n",
    "from math import pi"
   ]
  },
  {
   "cell_type": "code",
   "execution_count": 2,
   "outputs": [],
   "source": [
    "from qiskit.pulse import DriveChannel, GaussianSquare, ShiftPhase\n",
    "\n",
    "def get_n_link(backend):\n",
    "    configuration = backend.configuration()\n",
    "    defaults = backend.defaults()\n",
    "    n = configuration.num_qubits\n",
    "\n",
    "    connected_pairs_cnot = configuration.coupling_map\n",
    "    instruction_schedule_map = defaults.instruction_schedule_map\n",
    "\n",
    "    def get_control_qubit(q1, q2):  # Control performs Z\n",
    "        try:\n",
    "            cx_sched = instruction_schedule_map.get(\"cx\", qubits=(q1, q2))\n",
    "        except:\n",
    "            cx_sched = instruction_schedule_map.get(\"ecr\", qubits=(q1, q2))\n",
    "        supported = False\n",
    "        for time, inst in cx_sched.instructions:\n",
    "            if isinstance(inst.channel, DriveChannel) and not isinstance(inst, ShiftPhase):\n",
    "                if isinstance(inst.pulse, GaussianSquare):\n",
    "                    target = inst.channel.index\n",
    "                    control = q1 if target == q2 else q2\n",
    "                    supported = True\n",
    "        if not supported:\n",
    "            raise ValueError(\"This machine is not supported!\")\n",
    "        return control\n",
    "\n",
    "    link = []\n",
    "    for item in connected_pairs_cnot:\n",
    "        if get_control_qubit(item[0], item[1]) == item[0]:\n",
    "            link.append(item)\n",
    "\n",
    "    return n, link\n",
    "\n",
    "def make_circuit(backend,line,ins,params,t):\n",
    "    n, link = get_n_link(backend)\n",
    "    circ = QuantumCircuit(n)\n",
    "    if line < n:\n",
    "        if ins == 0:\n",
    "            q = line\n",
    "            circ.rz(-params[1], q)\n",
    "            circ.rx(2 * params[0] * t, q)\n",
    "            circ.rz(params[1], q)\n",
    "        else:\n",
    "            q = line\n",
    "            lamb = 2 * params[0] * t\n",
    "            circ.rz(lamb, q)\n",
    "    else:\n",
    "        # print(line)\n",
    "        (q0, q1) = link[line - n]\n",
    "        theta = 2 * params[0] * t\n",
    "        if ins == 0:\n",
    "            circ.rzx(theta, q0, q1)\n",
    "        elif ins == 1:\n",
    "            circ.rxx(theta, q0, q1)\n",
    "        elif ins == 2:\n",
    "            circ.ryy(theta, q0, q1)\n",
    "        else:\n",
    "            circ.rzz(theta, q0, q1)\n",
    "    return circ"
   ],
   "metadata": {
    "collapsed": false
   }
  },
  {
   "cell_type": "code",
   "execution_count": 3,
   "outputs": [],
   "source": [
    "from qiskit_ibm_provider import IBMProvider\n",
    "\n",
    "with open('../ibm_API_key','r') as file:\n",
    "    token = file.readline()\n",
    "IBMProvider.save_account(token,instance='ibm-q-ncsu/nc-state/quantum-compiler',overwrite=True)\n",
    "provider = IBMProvider()"
   ],
   "metadata": {
    "collapsed": false
   }
  },
  {
   "cell_type": "code",
   "execution_count": 4,
   "outputs": [],
   "source": [
    "from qiskit_transpiler import get_pm\n",
    "backend = provider.get_backend('ibmq_mumbai')\n",
    "pm = get_pm(backend)"
   ],
   "metadata": {
    "collapsed": false
   }
  },
  {
   "cell_type": "code",
   "execution_count": 5,
   "outputs": [],
   "source": [
    "params = [pi/2,pi/2]\n",
    "t = 0.5"
   ],
   "metadata": {
    "collapsed": false
   }
  },
  {
   "cell_type": "code",
   "execution_count": 6,
   "outputs": [],
   "source": [
    "circuits_0 = []\n",
    "circuits_1 = []\n",
    "\n",
    "for i in range(27):\n",
    "    circuits_0.append(pm.run(make_circuit(backend,i,0,params,t)))\n",
    "    circuits_1.append(pm.run(make_circuit(backend,i,1,params,t)))"
   ],
   "metadata": {
    "collapsed": false
   }
  },
  {
   "cell_type": "code",
   "execution_count": 7,
   "outputs": [],
   "source": [
    "from qiskit import transpile as transpile_qiskit\n",
    "transpiled_circuits_0 = transpile_qiskit(circuits_0,backend)\n",
    "transpiled_circuits_1 = transpile_qiskit(circuits_1,backend)"
   ],
   "metadata": {
    "collapsed": false
   }
  },
  {
   "cell_type": "code",
   "execution_count": 8,
   "outputs": [],
   "source": [
    "from qiskit_aer.noise import NoiseModel\n",
    "simulator = provider.get_backend(\"ibmq_qasm_simulator\")\n",
    "noise_model = NoiseModel.from_backend(backend).to_dict()\n",
    "simulator.options.update_options(noise_model=noise_model)"
   ],
   "metadata": {
    "collapsed": false
   }
  },
  {
   "cell_type": "code",
   "execution_count": 10,
   "outputs": [
    {
     "ename": "QpyError",
     "evalue": "\"Object type '<class 'qiskit.pulse.schedule.Schedule'>' is not supported in Program namespace.\"",
     "output_type": "error",
     "traceback": [
      "\u001B[1;31m---------------------------------------------------------------------------\u001B[0m",
      "\u001B[1;31mQpyError\u001B[0m                                  Traceback (most recent call last)",
      "Cell \u001B[1;32mIn[10], line 1\u001B[0m\n\u001B[1;32m----> 1\u001B[0m job \u001B[38;5;241m=\u001B[39m \u001B[43mexecute\u001B[49m\u001B[43m(\u001B[49m\u001B[43mtranspiled_circuits_0\u001B[49m\u001B[43m,\u001B[49m\u001B[43m \u001B[49m\u001B[43mshots\u001B[49m\u001B[38;5;241;43m=\u001B[39;49m\u001B[38;5;241;43m1024\u001B[39;49m\u001B[43m,\u001B[49m\u001B[43m \u001B[49m\u001B[43mbackend\u001B[49m\u001B[38;5;241;43m=\u001B[39;49m\u001B[43mbackend\u001B[49m\u001B[43m)\u001B[49m\n",
      "File \u001B[1;32m~\\.conda\\envs\\thesis\\lib\\site-packages\\qiskit\\execute_function.py:340\u001B[0m, in \u001B[0;36mexecute\u001B[1;34m(experiments, backend, basis_gates, coupling_map, backend_properties, initial_layout, seed_transpiler, optimization_level, pass_manager, shots, memory, seed_simulator, default_qubit_los, default_meas_los, qubit_lo_range, meas_lo_range, schedule_los, meas_level, meas_return, memory_slots, memory_slot_size, rep_time, rep_delay, parameter_binds, schedule_circuit, inst_map, meas_map, scheduling_method, init_qubits, **run_config)\u001B[0m\n\u001B[0;32m    338\u001B[0m     run_kwargs[\u001B[38;5;124m\"\u001B[39m\u001B[38;5;124mparameter_binds\u001B[39m\u001B[38;5;124m\"\u001B[39m] \u001B[38;5;241m=\u001B[39m parameter_binds\n\u001B[0;32m    339\u001B[0m run_kwargs\u001B[38;5;241m.\u001B[39mupdate(run_config)\n\u001B[1;32m--> 340\u001B[0m job \u001B[38;5;241m=\u001B[39m backend\u001B[38;5;241m.\u001B[39mrun(experiments, \u001B[38;5;241m*\u001B[39m\u001B[38;5;241m*\u001B[39mrun_kwargs)\n\u001B[0;32m    341\u001B[0m end_time \u001B[38;5;241m=\u001B[39m time()\n\u001B[0;32m    342\u001B[0m _log_submission_time(start_time, end_time)\n",
      "File \u001B[1;32m~\\.conda\\envs\\thesis\\lib\\site-packages\\qiskit_ibm_provider\\ibm_backend.py:495\u001B[0m, in \u001B[0;36mIBMBackend.run\u001B[1;34m(self, circuits, dynamic, job_tags, init_circuit, init_num_resets, header, shots, memory, meas_level, meas_return, rep_delay, init_qubits, use_measure_esp, noise_model, seed_simulator, **run_config)\u001B[0m\n\u001B[0;32m    491\u001B[0m \u001B[38;5;28;01mif\u001B[39;00m \u001B[38;5;129;01mnot\u001B[39;00m program_id\u001B[38;5;241m.\u001B[39mstartswith(QASM3RUNNERPROGRAMID):\n\u001B[0;32m    492\u001B[0m     \u001B[38;5;66;03m# Transpiling in circuit-runner is deprecated.\u001B[39;00m\n\u001B[0;32m    493\u001B[0m     run_config_dict[\u001B[38;5;124m\"\u001B[39m\u001B[38;5;124mskip_transpilation\u001B[39m\u001B[38;5;124m\"\u001B[39m] \u001B[38;5;241m=\u001B[39m \u001B[38;5;28;01mTrue\u001B[39;00m\n\u001B[1;32m--> 495\u001B[0m \u001B[38;5;28;01mreturn\u001B[39;00m \u001B[38;5;28;43mself\u001B[39;49m\u001B[38;5;241;43m.\u001B[39;49m\u001B[43m_runtime_run\u001B[49m\u001B[43m(\u001B[49m\n\u001B[0;32m    496\u001B[0m \u001B[43m    \u001B[49m\u001B[43mprogram_id\u001B[49m\u001B[38;5;241;43m=\u001B[39;49m\u001B[43mprogram_id\u001B[49m\u001B[43m,\u001B[49m\n\u001B[0;32m    497\u001B[0m \u001B[43m    \u001B[49m\u001B[43minputs\u001B[49m\u001B[38;5;241;43m=\u001B[39;49m\u001B[43mrun_config_dict\u001B[49m\u001B[43m,\u001B[49m\n\u001B[0;32m    498\u001B[0m \u001B[43m    \u001B[49m\u001B[43mbackend_name\u001B[49m\u001B[38;5;241;43m=\u001B[39;49m\u001B[38;5;28;43mself\u001B[39;49m\u001B[38;5;241;43m.\u001B[39;49m\u001B[43mname\u001B[49m\u001B[43m,\u001B[49m\n\u001B[0;32m    499\u001B[0m \u001B[43m    \u001B[49m\u001B[43mjob_tags\u001B[49m\u001B[38;5;241;43m=\u001B[39;49m\u001B[43mjob_tags\u001B[49m\u001B[43m,\u001B[49m\n\u001B[0;32m    500\u001B[0m \u001B[43m    \u001B[49m\u001B[43mimage\u001B[49m\u001B[38;5;241;43m=\u001B[39;49m\u001B[43mimage\u001B[49m\u001B[43m,\u001B[49m\n\u001B[0;32m    501\u001B[0m \u001B[43m\u001B[49m\u001B[43m)\u001B[49m\n",
      "File \u001B[1;32m~\\.conda\\envs\\thesis\\lib\\site-packages\\qiskit_ibm_provider\\ibm_backend.py:528\u001B[0m, in \u001B[0;36mIBMBackend._runtime_run\u001B[1;34m(self, program_id, inputs, backend_name, job_tags, image)\u001B[0m\n\u001B[0;32m    525\u001B[0m     start_session \u001B[38;5;241m=\u001B[39m \u001B[38;5;28;01mFalse\u001B[39;00m\n\u001B[0;32m    527\u001B[0m \u001B[38;5;28;01mtry\u001B[39;00m:\n\u001B[1;32m--> 528\u001B[0m     response \u001B[38;5;241m=\u001B[39m \u001B[38;5;28;43mself\u001B[39;49m\u001B[38;5;241;43m.\u001B[39;49m\u001B[43mprovider\u001B[49m\u001B[38;5;241;43m.\u001B[39;49m\u001B[43m_runtime_client\u001B[49m\u001B[38;5;241;43m.\u001B[39;49m\u001B[43mprogram_run\u001B[49m\u001B[43m(\u001B[49m\n\u001B[0;32m    529\u001B[0m \u001B[43m        \u001B[49m\u001B[43mprogram_id\u001B[49m\u001B[38;5;241;43m=\u001B[39;49m\u001B[43mprogram_id\u001B[49m\u001B[43m,\u001B[49m\n\u001B[0;32m    530\u001B[0m \u001B[43m        \u001B[49m\u001B[43mbackend_name\u001B[49m\u001B[38;5;241;43m=\u001B[39;49m\u001B[43mbackend_name\u001B[49m\u001B[43m,\u001B[49m\n\u001B[0;32m    531\u001B[0m \u001B[43m        \u001B[49m\u001B[43mparams\u001B[49m\u001B[38;5;241;43m=\u001B[39;49m\u001B[43minputs\u001B[49m\u001B[43m,\u001B[49m\n\u001B[0;32m    532\u001B[0m \u001B[43m        \u001B[49m\u001B[43mhgp\u001B[49m\u001B[38;5;241;43m=\u001B[39;49m\u001B[43mhgp_name\u001B[49m\u001B[43m,\u001B[49m\n\u001B[0;32m    533\u001B[0m \u001B[43m        \u001B[49m\u001B[43mjob_tags\u001B[49m\u001B[38;5;241;43m=\u001B[39;49m\u001B[43mjob_tags\u001B[49m\u001B[43m,\u001B[49m\n\u001B[0;32m    534\u001B[0m \u001B[43m        \u001B[49m\u001B[43msession_id\u001B[49m\u001B[38;5;241;43m=\u001B[39;49m\u001B[43msession_id\u001B[49m\u001B[43m,\u001B[49m\n\u001B[0;32m    535\u001B[0m \u001B[43m        \u001B[49m\u001B[43mstart_session\u001B[49m\u001B[38;5;241;43m=\u001B[39;49m\u001B[43mstart_session\u001B[49m\u001B[43m,\u001B[49m\n\u001B[0;32m    536\u001B[0m \u001B[43m        \u001B[49m\u001B[43mmax_execution_time\u001B[49m\u001B[38;5;241;43m=\u001B[39;49m\u001B[43mmax_execution_time\u001B[49m\u001B[43m,\u001B[49m\n\u001B[0;32m    537\u001B[0m \u001B[43m        \u001B[49m\u001B[43mimage\u001B[49m\u001B[38;5;241;43m=\u001B[39;49m\u001B[43mimage\u001B[49m\u001B[43m,\u001B[49m\n\u001B[0;32m    538\u001B[0m \u001B[43m    \u001B[49m\u001B[43m)\u001B[49m\n\u001B[0;32m    539\u001B[0m \u001B[38;5;28;01mexcept\u001B[39;00m RequestsApiError \u001B[38;5;28;01mas\u001B[39;00m ex:\n\u001B[0;32m    540\u001B[0m     \u001B[38;5;28;01mraise\u001B[39;00m IBMBackendApiError(\u001B[38;5;124m\"\u001B[39m\u001B[38;5;124mError submitting job: \u001B[39m\u001B[38;5;132;01m{}\u001B[39;00m\u001B[38;5;124m\"\u001B[39m\u001B[38;5;241m.\u001B[39mformat(\u001B[38;5;28mstr\u001B[39m(ex))) \u001B[38;5;28;01mfrom\u001B[39;00m \u001B[38;5;21;01mex\u001B[39;00m\n",
      "File \u001B[1;32m~\\.conda\\envs\\thesis\\lib\\site-packages\\qiskit_ibm_provider\\api\\clients\\runtime.py:137\u001B[0m, in \u001B[0;36mRuntimeClient.program_run\u001B[1;34m(self, program_id, backend_name, params, image, hgp, log_level, session_id, job_tags, max_execution_time, start_session)\u001B[0m\n\u001B[0;32m    135\u001B[0m     hub, group, project \u001B[38;5;241m=\u001B[39m from_instance_format(hgp)\n\u001B[0;32m    136\u001B[0m     hgp_dict \u001B[38;5;241m=\u001B[39m {\u001B[38;5;124m\"\u001B[39m\u001B[38;5;124mhub\u001B[39m\u001B[38;5;124m\"\u001B[39m: hub, \u001B[38;5;124m\"\u001B[39m\u001B[38;5;124mgroup\u001B[39m\u001B[38;5;124m\"\u001B[39m: group, \u001B[38;5;124m\"\u001B[39m\u001B[38;5;124mproject\u001B[39m\u001B[38;5;124m\"\u001B[39m: project}\n\u001B[1;32m--> 137\u001B[0m \u001B[38;5;28;01mreturn\u001B[39;00m \u001B[38;5;28mself\u001B[39m\u001B[38;5;241m.\u001B[39m_api\u001B[38;5;241m.\u001B[39mprogram_run(\n\u001B[0;32m    138\u001B[0m     program_id\u001B[38;5;241m=\u001B[39mprogram_id,\n\u001B[0;32m    139\u001B[0m     backend_name\u001B[38;5;241m=\u001B[39mbackend_name,\n\u001B[0;32m    140\u001B[0m     params\u001B[38;5;241m=\u001B[39mparams,\n\u001B[0;32m    141\u001B[0m     image\u001B[38;5;241m=\u001B[39mimage,\n\u001B[0;32m    142\u001B[0m     log_level\u001B[38;5;241m=\u001B[39mlog_level,\n\u001B[0;32m    143\u001B[0m     session_id\u001B[38;5;241m=\u001B[39msession_id,\n\u001B[0;32m    144\u001B[0m     job_tags\u001B[38;5;241m=\u001B[39mjob_tags,\n\u001B[0;32m    145\u001B[0m     max_execution_time\u001B[38;5;241m=\u001B[39mmax_execution_time,\n\u001B[0;32m    146\u001B[0m     start_session\u001B[38;5;241m=\u001B[39mstart_session,\n\u001B[0;32m    147\u001B[0m     \u001B[38;5;241m*\u001B[39m\u001B[38;5;241m*\u001B[39mhgp_dict\n\u001B[0;32m    148\u001B[0m )\n",
      "File \u001B[1;32m~\\.conda\\envs\\thesis\\lib\\site-packages\\qiskit_ibm_provider\\api\\rest\\runtime.py:128\u001B[0m, in \u001B[0;36mRuntime.program_run\u001B[1;34m(self, program_id, backend_name, params, image, hub, group, project, log_level, session_id, job_tags, max_execution_time, start_session)\u001B[0m\n\u001B[0;32m    126\u001B[0m     payload[\u001B[38;5;124m\"\u001B[39m\u001B[38;5;124mgroup\u001B[39m\u001B[38;5;124m\"\u001B[39m] \u001B[38;5;241m=\u001B[39m group\n\u001B[0;32m    127\u001B[0m     payload[\u001B[38;5;124m\"\u001B[39m\u001B[38;5;124mproject\u001B[39m\u001B[38;5;124m\"\u001B[39m] \u001B[38;5;241m=\u001B[39m project\n\u001B[1;32m--> 128\u001B[0m data \u001B[38;5;241m=\u001B[39m \u001B[43mjson\u001B[49m\u001B[38;5;241;43m.\u001B[39;49m\u001B[43mdumps\u001B[49m\u001B[43m(\u001B[49m\u001B[43mpayload\u001B[49m\u001B[43m,\u001B[49m\u001B[43m \u001B[49m\u001B[38;5;28;43mcls\u001B[39;49m\u001B[38;5;241;43m=\u001B[39;49m\u001B[43mRuntimeEncoder\u001B[49m\u001B[43m)\u001B[49m\n\u001B[0;32m    129\u001B[0m \u001B[38;5;28;01mreturn\u001B[39;00m \u001B[38;5;28mself\u001B[39m\u001B[38;5;241m.\u001B[39msession\u001B[38;5;241m.\u001B[39mpost(url, data\u001B[38;5;241m=\u001B[39mdata, timeout\u001B[38;5;241m=\u001B[39m\u001B[38;5;241m900\u001B[39m)\u001B[38;5;241m.\u001B[39mjson()\n",
      "File \u001B[1;32m~\\.conda\\envs\\thesis\\lib\\json\\__init__.py:238\u001B[0m, in \u001B[0;36mdumps\u001B[1;34m(obj, skipkeys, ensure_ascii, check_circular, allow_nan, cls, indent, separators, default, sort_keys, **kw)\u001B[0m\n\u001B[0;32m    232\u001B[0m \u001B[38;5;28;01mif\u001B[39;00m \u001B[38;5;28mcls\u001B[39m \u001B[38;5;129;01mis\u001B[39;00m \u001B[38;5;28;01mNone\u001B[39;00m:\n\u001B[0;32m    233\u001B[0m     \u001B[38;5;28mcls\u001B[39m \u001B[38;5;241m=\u001B[39m JSONEncoder\n\u001B[0;32m    234\u001B[0m \u001B[38;5;28;01mreturn\u001B[39;00m \u001B[38;5;28;43mcls\u001B[39;49m\u001B[43m(\u001B[49m\n\u001B[0;32m    235\u001B[0m \u001B[43m    \u001B[49m\u001B[43mskipkeys\u001B[49m\u001B[38;5;241;43m=\u001B[39;49m\u001B[43mskipkeys\u001B[49m\u001B[43m,\u001B[49m\u001B[43m \u001B[49m\u001B[43mensure_ascii\u001B[49m\u001B[38;5;241;43m=\u001B[39;49m\u001B[43mensure_ascii\u001B[49m\u001B[43m,\u001B[49m\n\u001B[0;32m    236\u001B[0m \u001B[43m    \u001B[49m\u001B[43mcheck_circular\u001B[49m\u001B[38;5;241;43m=\u001B[39;49m\u001B[43mcheck_circular\u001B[49m\u001B[43m,\u001B[49m\u001B[43m \u001B[49m\u001B[43mallow_nan\u001B[49m\u001B[38;5;241;43m=\u001B[39;49m\u001B[43mallow_nan\u001B[49m\u001B[43m,\u001B[49m\u001B[43m \u001B[49m\u001B[43mindent\u001B[49m\u001B[38;5;241;43m=\u001B[39;49m\u001B[43mindent\u001B[49m\u001B[43m,\u001B[49m\n\u001B[0;32m    237\u001B[0m \u001B[43m    \u001B[49m\u001B[43mseparators\u001B[49m\u001B[38;5;241;43m=\u001B[39;49m\u001B[43mseparators\u001B[49m\u001B[43m,\u001B[49m\u001B[43m \u001B[49m\u001B[43mdefault\u001B[49m\u001B[38;5;241;43m=\u001B[39;49m\u001B[43mdefault\u001B[49m\u001B[43m,\u001B[49m\u001B[43m \u001B[49m\u001B[43msort_keys\u001B[49m\u001B[38;5;241;43m=\u001B[39;49m\u001B[43msort_keys\u001B[49m\u001B[43m,\u001B[49m\n\u001B[1;32m--> 238\u001B[0m \u001B[43m    \u001B[49m\u001B[38;5;241;43m*\u001B[39;49m\u001B[38;5;241;43m*\u001B[39;49m\u001B[43mkw\u001B[49m\u001B[43m)\u001B[49m\u001B[38;5;241;43m.\u001B[39;49m\u001B[43mencode\u001B[49m\u001B[43m(\u001B[49m\u001B[43mobj\u001B[49m\u001B[43m)\u001B[49m\n",
      "File \u001B[1;32m~\\.conda\\envs\\thesis\\lib\\json\\encoder.py:199\u001B[0m, in \u001B[0;36mJSONEncoder.encode\u001B[1;34m(self, o)\u001B[0m\n\u001B[0;32m    195\u001B[0m         \u001B[38;5;28;01mreturn\u001B[39;00m encode_basestring(o)\n\u001B[0;32m    196\u001B[0m \u001B[38;5;66;03m# This doesn't pass the iterator directly to ''.join() because the\u001B[39;00m\n\u001B[0;32m    197\u001B[0m \u001B[38;5;66;03m# exceptions aren't as detailed.  The list call should be roughly\u001B[39;00m\n\u001B[0;32m    198\u001B[0m \u001B[38;5;66;03m# equivalent to the PySequence_Fast that ''.join() would do.\u001B[39;00m\n\u001B[1;32m--> 199\u001B[0m chunks \u001B[38;5;241m=\u001B[39m \u001B[38;5;28;43mself\u001B[39;49m\u001B[38;5;241;43m.\u001B[39;49m\u001B[43miterencode\u001B[49m\u001B[43m(\u001B[49m\u001B[43mo\u001B[49m\u001B[43m,\u001B[49m\u001B[43m \u001B[49m\u001B[43m_one_shot\u001B[49m\u001B[38;5;241;43m=\u001B[39;49m\u001B[38;5;28;43;01mTrue\u001B[39;49;00m\u001B[43m)\u001B[49m\n\u001B[0;32m    200\u001B[0m \u001B[38;5;28;01mif\u001B[39;00m \u001B[38;5;129;01mnot\u001B[39;00m \u001B[38;5;28misinstance\u001B[39m(chunks, (\u001B[38;5;28mlist\u001B[39m, \u001B[38;5;28mtuple\u001B[39m)):\n\u001B[0;32m    201\u001B[0m     chunks \u001B[38;5;241m=\u001B[39m \u001B[38;5;28mlist\u001B[39m(chunks)\n",
      "File \u001B[1;32m~\\.conda\\envs\\thesis\\lib\\json\\encoder.py:257\u001B[0m, in \u001B[0;36mJSONEncoder.iterencode\u001B[1;34m(self, o, _one_shot)\u001B[0m\n\u001B[0;32m    252\u001B[0m \u001B[38;5;28;01melse\u001B[39;00m:\n\u001B[0;32m    253\u001B[0m     _iterencode \u001B[38;5;241m=\u001B[39m _make_iterencode(\n\u001B[0;32m    254\u001B[0m         markers, \u001B[38;5;28mself\u001B[39m\u001B[38;5;241m.\u001B[39mdefault, _encoder, \u001B[38;5;28mself\u001B[39m\u001B[38;5;241m.\u001B[39mindent, floatstr,\n\u001B[0;32m    255\u001B[0m         \u001B[38;5;28mself\u001B[39m\u001B[38;5;241m.\u001B[39mkey_separator, \u001B[38;5;28mself\u001B[39m\u001B[38;5;241m.\u001B[39mitem_separator, \u001B[38;5;28mself\u001B[39m\u001B[38;5;241m.\u001B[39msort_keys,\n\u001B[0;32m    256\u001B[0m         \u001B[38;5;28mself\u001B[39m\u001B[38;5;241m.\u001B[39mskipkeys, _one_shot)\n\u001B[1;32m--> 257\u001B[0m \u001B[38;5;28;01mreturn\u001B[39;00m \u001B[43m_iterencode\u001B[49m\u001B[43m(\u001B[49m\u001B[43mo\u001B[49m\u001B[43m,\u001B[49m\u001B[43m \u001B[49m\u001B[38;5;241;43m0\u001B[39;49m\u001B[43m)\u001B[49m\n",
      "File \u001B[1;32m~\\.conda\\envs\\thesis\\lib\\site-packages\\qiskit_ibm_provider\\utils\\json.py:218\u001B[0m, in \u001B[0;36mRuntimeEncoder.default\u001B[1;34m(self, obj)\u001B[0m\n\u001B[0;32m    216\u001B[0m     \u001B[38;5;28;01mreturn\u001B[39;00m {\u001B[38;5;124m\"\u001B[39m\u001B[38;5;124m__type__\u001B[39m\u001B[38;5;124m\"\u001B[39m: \u001B[38;5;124m\"\u001B[39m\u001B[38;5;124mto_json\u001B[39m\u001B[38;5;124m\"\u001B[39m, \u001B[38;5;124m\"\u001B[39m\u001B[38;5;124m__value__\u001B[39m\u001B[38;5;124m\"\u001B[39m: obj\u001B[38;5;241m.\u001B[39mto_json()}\n\u001B[0;32m    217\u001B[0m \u001B[38;5;28;01mif\u001B[39;00m \u001B[38;5;28misinstance\u001B[39m(obj, QuantumCircuit):\n\u001B[1;32m--> 218\u001B[0m     value \u001B[38;5;241m=\u001B[39m \u001B[43m_serialize_and_encode\u001B[49m\u001B[43m(\u001B[49m\n\u001B[0;32m    219\u001B[0m \u001B[43m        \u001B[49m\u001B[43mdata\u001B[49m\u001B[38;5;241;43m=\u001B[39;49m\u001B[43mobj\u001B[49m\u001B[43m,\u001B[49m\n\u001B[0;32m    220\u001B[0m \u001B[43m        \u001B[49m\u001B[43mserializer\u001B[49m\u001B[38;5;241;43m=\u001B[39;49m\u001B[38;5;28;43;01mlambda\u001B[39;49;00m\u001B[43m \u001B[49m\u001B[43mbuff\u001B[49m\u001B[43m,\u001B[49m\u001B[43m \u001B[49m\u001B[43mdata\u001B[49m\u001B[43m:\u001B[49m\u001B[43m \u001B[49m\u001B[43mdump\u001B[49m\u001B[43m(\u001B[49m\n\u001B[0;32m    221\u001B[0m \u001B[43m            \u001B[49m\u001B[43mdata\u001B[49m\u001B[43m,\u001B[49m\u001B[43m \u001B[49m\u001B[43mbuff\u001B[49m\u001B[43m,\u001B[49m\u001B[43m \u001B[49m\u001B[43mRuntimeEncoder\u001B[49m\n\u001B[0;32m    222\u001B[0m \u001B[43m        \u001B[49m\u001B[43m)\u001B[49m\u001B[43m,\u001B[49m\u001B[43m  \u001B[49m\u001B[38;5;66;43;03m# type: ignore[no-untyped-call]\u001B[39;49;00m\n\u001B[0;32m    223\u001B[0m \u001B[43m    \u001B[49m\u001B[43m)\u001B[49m\n\u001B[0;32m    224\u001B[0m     \u001B[38;5;28;01mreturn\u001B[39;00m {\u001B[38;5;124m\"\u001B[39m\u001B[38;5;124m__type__\u001B[39m\u001B[38;5;124m\"\u001B[39m: \u001B[38;5;124m\"\u001B[39m\u001B[38;5;124mQuantumCircuit\u001B[39m\u001B[38;5;124m\"\u001B[39m, \u001B[38;5;124m\"\u001B[39m\u001B[38;5;124m__value__\u001B[39m\u001B[38;5;124m\"\u001B[39m: value}\n\u001B[0;32m    225\u001B[0m \u001B[38;5;28;01mif\u001B[39;00m \u001B[38;5;28misinstance\u001B[39m(obj, Parameter):\n",
      "File \u001B[1;32m~\\.conda\\envs\\thesis\\lib\\site-packages\\qiskit_ibm_provider\\utils\\json.py:95\u001B[0m, in \u001B[0;36m_serialize_and_encode\u001B[1;34m(data, serializer, compress, **kwargs)\u001B[0m\n\u001B[0;32m     83\u001B[0m \u001B[38;5;250m\u001B[39m\u001B[38;5;124;03m\"\"\"Serialize the input data and return the encoded string.\u001B[39;00m\n\u001B[0;32m     84\u001B[0m \n\u001B[0;32m     85\u001B[0m \u001B[38;5;124;03mArgs:\u001B[39;00m\n\u001B[1;32m   (...)\u001B[0m\n\u001B[0;32m     92\u001B[0m \u001B[38;5;124;03m    String representation.\u001B[39;00m\n\u001B[0;32m     93\u001B[0m \u001B[38;5;124;03m\"\"\"\u001B[39;00m\n\u001B[0;32m     94\u001B[0m \u001B[38;5;28;01mwith\u001B[39;00m io\u001B[38;5;241m.\u001B[39mBytesIO() \u001B[38;5;28;01mas\u001B[39;00m buff:\n\u001B[1;32m---> 95\u001B[0m     serializer(buff, data, \u001B[38;5;241m*\u001B[39m\u001B[38;5;241m*\u001B[39mkwargs)\n\u001B[0;32m     96\u001B[0m     buff\u001B[38;5;241m.\u001B[39mseek(\u001B[38;5;241m0\u001B[39m)\n\u001B[0;32m     97\u001B[0m     serialized_data \u001B[38;5;241m=\u001B[39m buff\u001B[38;5;241m.\u001B[39mread()\n",
      "File \u001B[1;32m~\\.conda\\envs\\thesis\\lib\\site-packages\\qiskit_ibm_provider\\utils\\json.py:220\u001B[0m, in \u001B[0;36mRuntimeEncoder.default.<locals>.<lambda>\u001B[1;34m(buff, data)\u001B[0m\n\u001B[0;32m    216\u001B[0m     \u001B[38;5;28;01mreturn\u001B[39;00m {\u001B[38;5;124m\"\u001B[39m\u001B[38;5;124m__type__\u001B[39m\u001B[38;5;124m\"\u001B[39m: \u001B[38;5;124m\"\u001B[39m\u001B[38;5;124mto_json\u001B[39m\u001B[38;5;124m\"\u001B[39m, \u001B[38;5;124m\"\u001B[39m\u001B[38;5;124m__value__\u001B[39m\u001B[38;5;124m\"\u001B[39m: obj\u001B[38;5;241m.\u001B[39mto_json()}\n\u001B[0;32m    217\u001B[0m \u001B[38;5;28;01mif\u001B[39;00m \u001B[38;5;28misinstance\u001B[39m(obj, QuantumCircuit):\n\u001B[0;32m    218\u001B[0m     value \u001B[38;5;241m=\u001B[39m _serialize_and_encode(\n\u001B[0;32m    219\u001B[0m         data\u001B[38;5;241m=\u001B[39mobj,\n\u001B[1;32m--> 220\u001B[0m         serializer\u001B[38;5;241m=\u001B[39m\u001B[38;5;28;01mlambda\u001B[39;00m buff, data: \u001B[43mdump\u001B[49m\u001B[43m(\u001B[49m\n\u001B[0;32m    221\u001B[0m \u001B[43m            \u001B[49m\u001B[43mdata\u001B[49m\u001B[43m,\u001B[49m\u001B[43m \u001B[49m\u001B[43mbuff\u001B[49m\u001B[43m,\u001B[49m\u001B[43m \u001B[49m\u001B[43mRuntimeEncoder\u001B[49m\n\u001B[0;32m    222\u001B[0m \u001B[43m        \u001B[49m\u001B[43m)\u001B[49m,  \u001B[38;5;66;03m# type: ignore[no-untyped-call]\u001B[39;00m\n\u001B[0;32m    223\u001B[0m     )\n\u001B[0;32m    224\u001B[0m     \u001B[38;5;28;01mreturn\u001B[39;00m {\u001B[38;5;124m\"\u001B[39m\u001B[38;5;124m__type__\u001B[39m\u001B[38;5;124m\"\u001B[39m: \u001B[38;5;124m\"\u001B[39m\u001B[38;5;124mQuantumCircuit\u001B[39m\u001B[38;5;124m\"\u001B[39m, \u001B[38;5;124m\"\u001B[39m\u001B[38;5;124m__value__\u001B[39m\u001B[38;5;124m\"\u001B[39m: value}\n\u001B[0;32m    225\u001B[0m \u001B[38;5;28;01mif\u001B[39;00m \u001B[38;5;28misinstance\u001B[39m(obj, Parameter):\n",
      "File \u001B[1;32m~\\.conda\\envs\\thesis\\lib\\site-packages\\qiskit\\utils\\deprecation.py:183\u001B[0m, in \u001B[0;36mdeprecate_arg.<locals>.decorator.<locals>.wrapper\u001B[1;34m(*args, **kwargs)\u001B[0m\n\u001B[0;32m    170\u001B[0m \u001B[38;5;129m@functools\u001B[39m\u001B[38;5;241m.\u001B[39mwraps(func)\n\u001B[0;32m    171\u001B[0m \u001B[38;5;28;01mdef\u001B[39;00m \u001B[38;5;21mwrapper\u001B[39m(\u001B[38;5;241m*\u001B[39margs, \u001B[38;5;241m*\u001B[39m\u001B[38;5;241m*\u001B[39mkwargs):\n\u001B[0;32m    172\u001B[0m     _maybe_warn_and_rename_kwarg(\n\u001B[0;32m    173\u001B[0m         args,\n\u001B[0;32m    174\u001B[0m         kwargs,\n\u001B[1;32m   (...)\u001B[0m\n\u001B[0;32m    181\u001B[0m         predicate\u001B[38;5;241m=\u001B[39mpredicate,\n\u001B[0;32m    182\u001B[0m     )\n\u001B[1;32m--> 183\u001B[0m     \u001B[38;5;28;01mreturn\u001B[39;00m func(\u001B[38;5;241m*\u001B[39margs, \u001B[38;5;241m*\u001B[39m\u001B[38;5;241m*\u001B[39mkwargs)\n",
      "File \u001B[1;32m~\\.conda\\envs\\thesis\\lib\\site-packages\\qiskit_ibm_provider\\qpy\\interface.py:169\u001B[0m, in \u001B[0;36mdump\u001B[1;34m(programs, file_obj, metadata_serializer)\u001B[0m\n\u001B[0;32m    166\u001B[0m common\u001B[38;5;241m.\u001B[39mwrite_type_key(file_obj, type_key)  \u001B[38;5;66;03m# type: ignore[no-untyped-call]\u001B[39;00m\n\u001B[0;32m    168\u001B[0m \u001B[38;5;28;01mfor\u001B[39;00m program \u001B[38;5;129;01min\u001B[39;00m programs:\n\u001B[1;32m--> 169\u001B[0m     \u001B[43mwriter\u001B[49m\u001B[43m(\u001B[49m\u001B[43m  \u001B[49m\u001B[38;5;66;43;03m# type: ignore[no-untyped-call]\u001B[39;49;00m\n\u001B[0;32m    170\u001B[0m \u001B[43m        \u001B[49m\u001B[43mfile_obj\u001B[49m\u001B[43m,\u001B[49m\u001B[43m \u001B[49m\u001B[43mprogram\u001B[49m\u001B[43m,\u001B[49m\u001B[43m \u001B[49m\u001B[43mmetadata_serializer\u001B[49m\u001B[38;5;241;43m=\u001B[39;49m\u001B[43mmetadata_serializer\u001B[49m\n\u001B[0;32m    171\u001B[0m \u001B[43m    \u001B[49m\u001B[43m)\u001B[49m\n",
      "File \u001B[1;32m~\\.conda\\envs\\thesis\\lib\\site-packages\\qiskit_ibm_provider\\qpy\\binary_io\\circuits.py:1091\u001B[0m, in \u001B[0;36mwrite_circuit\u001B[1;34m(file_obj, circuit, metadata_serializer)\u001B[0m\n\u001B[0;32m   1088\u001B[0m instruction_buffer\u001B[38;5;241m.\u001B[39mclose()\n\u001B[0;32m   1090\u001B[0m \u001B[38;5;66;03m# Write calibrations\u001B[39;00m\n\u001B[1;32m-> 1091\u001B[0m \u001B[43m_write_calibrations\u001B[49m\u001B[43m(\u001B[49m\u001B[43mfile_obj\u001B[49m\u001B[43m,\u001B[49m\u001B[43m \u001B[49m\u001B[43mcircuit\u001B[49m\u001B[38;5;241;43m.\u001B[39;49m\u001B[43mcalibrations\u001B[49m\u001B[43m,\u001B[49m\u001B[43m \u001B[49m\u001B[43mmetadata_serializer\u001B[49m\u001B[43m)\u001B[49m\n\u001B[0;32m   1092\u001B[0m _write_layout(file_obj, circuit)\n",
      "File \u001B[1;32m~\\.conda\\envs\\thesis\\lib\\site-packages\\qiskit_ibm_provider\\qpy\\binary_io\\circuits.py:830\u001B[0m, in \u001B[0;36m_write_calibrations\u001B[1;34m(file_obj, calibrations, metadata_serializer)\u001B[0m\n\u001B[0;32m    821\u001B[0m \u001B[38;5;28;01mfor\u001B[39;00m (name, qubits, params), schedule \u001B[38;5;129;01min\u001B[39;00m flatten_dict\u001B[38;5;241m.\u001B[39mitems():\n\u001B[0;32m    822\u001B[0m     \u001B[38;5;66;03m# In principle ScheduleBlock and Schedule can be supported.\u001B[39;00m\n\u001B[0;32m    823\u001B[0m     \u001B[38;5;66;03m# As of version 5 only ScheduleBlock is supported.\u001B[39;00m\n\u001B[0;32m    824\u001B[0m     name_bytes \u001B[38;5;241m=\u001B[39m name\u001B[38;5;241m.\u001B[39mencode(common\u001B[38;5;241m.\u001B[39mENCODE)\n\u001B[0;32m    825\u001B[0m     defheader \u001B[38;5;241m=\u001B[39m struct\u001B[38;5;241m.\u001B[39mpack(\n\u001B[0;32m    826\u001B[0m         formats\u001B[38;5;241m.\u001B[39mCALIBRATION_DEF_PACK,\n\u001B[0;32m    827\u001B[0m         \u001B[38;5;28mlen\u001B[39m(name_bytes),\n\u001B[0;32m    828\u001B[0m         \u001B[38;5;28mlen\u001B[39m(qubits),\n\u001B[0;32m    829\u001B[0m         \u001B[38;5;28mlen\u001B[39m(params),\n\u001B[1;32m--> 830\u001B[0m         \u001B[43mtype_keys\u001B[49m\u001B[38;5;241;43m.\u001B[39;49m\u001B[43mProgram\u001B[49m\u001B[38;5;241;43m.\u001B[39;49m\u001B[43massign\u001B[49m\u001B[43m(\u001B[49m\u001B[43mschedule\u001B[49m\u001B[43m)\u001B[49m,\n\u001B[0;32m    831\u001B[0m     )\n\u001B[0;32m    832\u001B[0m     file_obj\u001B[38;5;241m.\u001B[39mwrite(defheader)\n\u001B[0;32m    833\u001B[0m     file_obj\u001B[38;5;241m.\u001B[39mwrite(name_bytes)\n",
      "File \u001B[1;32m~\\.conda\\envs\\thesis\\lib\\site-packages\\qiskit_ibm_provider\\qpy\\type_keys.py:431\u001B[0m, in \u001B[0;36mProgram.assign\u001B[1;34m(cls, obj)\u001B[0m\n\u001B[0;32m    428\u001B[0m \u001B[38;5;28;01mif\u001B[39;00m \u001B[38;5;28misinstance\u001B[39m(obj, ScheduleBlock):\n\u001B[0;32m    429\u001B[0m     \u001B[38;5;28;01mreturn\u001B[39;00m \u001B[38;5;28mcls\u001B[39m\u001B[38;5;241m.\u001B[39mSCHEDULE_BLOCK\n\u001B[1;32m--> 431\u001B[0m \u001B[38;5;28;01mraise\u001B[39;00m exceptions\u001B[38;5;241m.\u001B[39mQpyError(\n\u001B[0;32m    432\u001B[0m     \u001B[38;5;124mf\u001B[39m\u001B[38;5;124m\"\u001B[39m\u001B[38;5;124mObject type \u001B[39m\u001B[38;5;124m'\u001B[39m\u001B[38;5;132;01m{\u001B[39;00m\u001B[38;5;28mtype\u001B[39m(obj)\u001B[38;5;132;01m}\u001B[39;00m\u001B[38;5;124m'\u001B[39m\u001B[38;5;124m is not supported in \u001B[39m\u001B[38;5;132;01m{\u001B[39;00m\u001B[38;5;28mcls\u001B[39m\u001B[38;5;241m.\u001B[39m\u001B[38;5;18m__name__\u001B[39m\u001B[38;5;132;01m}\u001B[39;00m\u001B[38;5;124m namespace.\u001B[39m\u001B[38;5;124m\"\u001B[39m\n\u001B[0;32m    433\u001B[0m )\n",
      "\u001B[1;31mQpyError\u001B[0m: \"Object type '<class 'qiskit.pulse.schedule.Schedule'>' is not supported in Program namespace.\""
     ]
    }
   ],
   "source": [
    "job = execute(transpiled_circuits_0, shots=1024, backend=backend)"
   ],
   "metadata": {
    "collapsed": false
   }
  }
 ],
 "metadata": {
  "kernelspec": {
   "display_name": "Python 3",
   "language": "python",
   "name": "python3"
  },
  "language_info": {
   "codemirror_mode": {
    "name": "ipython",
    "version": 2
   },
   "file_extension": ".py",
   "mimetype": "text/x-python",
   "name": "python",
   "nbconvert_exporter": "python",
   "pygments_lexer": "ipython2",
   "version": "2.7.6"
  }
 },
 "nbformat": 4,
 "nbformat_minor": 0
}
