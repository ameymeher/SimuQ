{
 "cells": [
  {
   "cell_type": "code",
   "execution_count": 1,
   "metadata": {
    "collapsed": true
   },
   "outputs": [],
   "source": [
    "from qiskit import QuantumCircuit, execute\n",
    "from math import pi"
   ]
  },
  {
   "cell_type": "code",
   "execution_count": 2,
   "outputs": [],
   "source": [
    "from qiskit.pulse import DriveChannel, GaussianSquare, ShiftPhase\n",
    "\n",
    "def get_n_link(backend):\n",
    "    configuration = backend.configuration()\n",
    "    defaults = backend.defaults()\n",
    "    n = configuration.num_qubits\n",
    "\n",
    "    connected_pairs_cnot = configuration.coupling_map\n",
    "    instruction_schedule_map = defaults.instruction_schedule_map\n",
    "\n",
    "    def get_control_qubit(q1, q2):  # Control performs Z\n",
    "        try:\n",
    "            cx_sched = instruction_schedule_map.get(\"cx\", qubits=(q1, q2))\n",
    "        except:\n",
    "            cx_sched = instruction_schedule_map.get(\"ecr\", qubits=(q1, q2))\n",
    "        supported = False\n",
    "        for time, inst in cx_sched.instructions:\n",
    "            if isinstance(inst.channel, DriveChannel) and not isinstance(inst, ShiftPhase):\n",
    "                if isinstance(inst.pulse, GaussianSquare):\n",
    "                    target = inst.channel.index\n",
    "                    control = q1 if target == q2 else q2\n",
    "                    supported = True\n",
    "        if not supported:\n",
    "            raise ValueError(\"This machine is not supported!\")\n",
    "        return control\n",
    "\n",
    "    link = []\n",
    "    for item in connected_pairs_cnot:\n",
    "        if get_control_qubit(item[0], item[1]) == item[0]:\n",
    "            link.append(item)\n",
    "\n",
    "    return n, link\n",
    "\n",
    "def make_circuit(backend,line,ins,params,t):\n",
    "    n, link = get_n_link(backend)\n",
    "    circ = QuantumCircuit(n)\n",
    "    if line < n:\n",
    "        if ins == 0:\n",
    "            q = line\n",
    "            circ.rz(-params[1], q)\n",
    "            circ.rx(2 * params[0] * t, q)\n",
    "            circ.rz(params[1], q)\n",
    "        else:\n",
    "            q = line\n",
    "            lamb = 2 * params[0] * t\n",
    "            circ.h(q)                   #Added to measure reliability\n",
    "            circ.rz(lamb, q)\n",
    "            circ.h(q)                   #Added to measure reliability\n",
    "    else:\n",
    "        # print(line)\n",
    "        (q0, q1) = link[line - n]\n",
    "        theta = 2 * params[0] * t\n",
    "        if ins == 0:\n",
    "            circ.rzx(theta, q0, q1)\n",
    "        elif ins == 1:\n",
    "            circ.rxx(theta, q0, q1)\n",
    "        elif ins == 2:\n",
    "            circ.ryy(theta, q0, q1)\n",
    "        else:\n",
    "            circ.h(q0)                   #Added to measure reliability\n",
    "            circ.h(q1)                   #Added to measure reliability\n",
    "            circ.rzz(theta, q0, q1)\n",
    "            circ.h(q0)                   #Added to measure reliability\n",
    "            circ.h(q1)                   #Added to measure reliability\n",
    "    circ.measure_all()\n",
    "    return circ"
   ],
   "metadata": {
    "collapsed": false
   }
  },
  {
   "cell_type": "code",
   "execution_count": 3,
   "outputs": [
    {
     "name": "stderr",
     "output_type": "stream",
     "text": [
      "C:\\Users\\Admin\\AppData\\Local\\Temp\\ipykernel_13128\\335559639.py:6: DeprecationWarning: The package qiskit.providers.ibmq is being deprecated. Please see https://ibm.biz/provider_migration_guide to get instructions on how to migrate to qiskit-ibm-provider (https://github.com/Qiskit/qiskit-ibm-provider) and qiskit-ibm-runtime (https://github.com/Qiskit/qiskit-ibm-runtime).\n",
      "  provider = IBMQ.enable_account(token, hub='ibm-q-ncsu', group='nc-state', project='quantum-compiler')\n",
      "C:\\Users\\Admin\\AppData\\Local\\Temp\\ipykernel_13128\\335559639.py:6: DeprecationWarning: The qiskit.IBMQ entrypoint and the qiskit-ibmq-provider package (accessible from 'qiskit.providers.ibmq`) are deprecated and will be removed in a future release. Instead you should use the qiskit-ibm-provider package which is accessible from 'qiskit_ibm_provider'. You can install it with 'pip install qiskit_ibm_provider'. Just replace 'qiskit.IBMQ' with 'qiskit_ibm_provider.IBMProvider'\n",
      "  provider = IBMQ.enable_account(token, hub='ibm-q-ncsu', group='nc-state', project='quantum-compiler')\n"
     ]
    }
   ],
   "source": [
    "from qiskit import IBMQ\n",
    "\n",
    "with open('../ibm_API_key','r') as file:\n",
    "    token = file.readline()\n",
    "\n",
    "provider = IBMQ.enable_account(token, hub='ibm-q-ncsu', group='nc-state', project='quantum-compiler')\n",
    "\n",
    "#from qiskit_ibm_provider import IBMProvider\n",
    "#IBMProvider.save_account(token,instance='ibm-q-ncsu/nc-state/quantum-compiler',overwrite=True)\n",
    "#provider = IBMProvider()"
   ],
   "metadata": {
    "collapsed": false
   }
  },
  {
   "cell_type": "code",
   "execution_count": 4,
   "outputs": [],
   "source": [
    "from qiskit_transpiler import get_pm\n",
    "backend = provider.get_backend('ibmq_mumbai')\n",
    "pm = get_pm(backend)"
   ],
   "metadata": {
    "collapsed": false
   }
  },
  {
   "cell_type": "code",
   "execution_count": 5,
   "outputs": [],
   "source": [
    "params = [pi/4,pi/2]\n",
    "t = 1\n",
    "n, links = get_n_link(backend)"
   ],
   "metadata": {
    "collapsed": false
   }
  },
  {
   "cell_type": "code",
   "execution_count": 6,
   "outputs": [],
   "source": [
    "circuits_0 = []\n",
    "circuits_1 = []\n",
    "circuits_link_0 = []\n",
    "circuits_link_1 = []\n",
    "circuits_link_2 = []\n",
    "circuits_link_3 = []\n",
    "\n",
    "for i in range(n):\n",
    "    circuits_0.append(pm.run(make_circuit(backend,i,0,params,t)))\n",
    "    circuits_1.append(pm.run(make_circuit(backend,i,1,params,t)))\n",
    "\n",
    "for i in range(len(links)):\n",
    "    circuits_link_0.append(pm.run(make_circuit(backend,n+i,0,params,t)))\n",
    "    circuits_link_1.append(pm.run(make_circuit(backend,n+i,1,params,t)))\n",
    "    circuits_link_2.append(pm.run(make_circuit(backend,n+i,2,params,t)))\n",
    "    circuits_link_3.append(pm.run(make_circuit(backend,n+i,3,params,t)))"
   ],
   "metadata": {
    "collapsed": false
   }
  },
  {
   "cell_type": "code",
   "execution_count": 7,
   "outputs": [],
   "source": [
    "from qiskit import transpile as transpile_qiskit\n",
    "transpiled_circuits_0 = transpile_qiskit(circuits_0,backend)\n",
    "transpiled_circuits_1 = transpile_qiskit(circuits_1,backend)\n",
    "transpiled_circuits_link_0 = transpile_qiskit(circuits_link_0,backend)\n",
    "transpiled_circuits_link_1 = transpile_qiskit(circuits_link_1,backend)\n",
    "transpiled_circuits_link_2 = transpile_qiskit(circuits_link_2,backend)\n",
    "transpiled_circuits_link_3 = transpile_qiskit(circuits_link_3,backend)"
   ],
   "metadata": {
    "collapsed": false
   }
  },
  {
   "cell_type": "code",
   "execution_count": 8,
   "outputs": [],
   "source": [
    "from qiskit_aer.noise import NoiseModel\n",
    "simulator = provider.get_backend(\"ibmq_qasm_simulator\")\n",
    "noise_model = NoiseModel.from_backend(backend).to_dict()\n",
    "simulator.options.update_options(noise_model=noise_model)"
   ],
   "metadata": {
    "collapsed": false
   }
  },
  {
   "cell_type": "code",
   "execution_count": 9,
   "outputs": [],
   "source": [
    "job = execute(transpiled_circuits_0 * 5, shots=1024, backend=backend)\n",
    "job = execute(transpiled_circuits_1 * 5, shots=1024, backend=backend)\n",
    "job = execute(transpiled_circuits_link_0 * 5, shots=1024, backend=backend)\n",
    "job = execute(transpiled_circuits_link_1 * 5, shots=1024, backend=backend)\n",
    "job = execute(transpiled_circuits_link_2 * 5, shots=1024, backend=backend)\n",
    "job = execute(transpiled_circuits_link_3 * 5, shots=1024, backend=backend)"
   ],
   "metadata": {
    "collapsed": false
   }
  },
  {
   "cell_type": "code",
   "execution_count": null,
   "outputs": [],
   "source": [],
   "metadata": {
    "collapsed": false
   }
  }
 ],
 "metadata": {
  "kernelspec": {
   "display_name": "Python 3",
   "language": "python",
   "name": "python3"
  },
  "language_info": {
   "codemirror_mode": {
    "name": "ipython",
    "version": 2
   },
   "file_extension": ".py",
   "mimetype": "text/x-python",
   "name": "python",
   "nbconvert_exporter": "python",
   "pygments_lexer": "ipython2",
   "version": "2.7.6"
  }
 },
 "nbformat": 4,
 "nbformat_minor": 0
}
