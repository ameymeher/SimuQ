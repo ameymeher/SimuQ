{
 "cells": [
  {
   "cell_type": "code",
   "execution_count": 1,
   "metadata": {
    "collapsed": true,
    "ExecuteTime": {
     "end_time": "2023-11-14T22:59:58.504473Z",
     "start_time": "2023-11-14T22:59:58.069797Z"
    }
   },
   "outputs": [],
   "source": [
    "from qiskit import QuantumCircuit, Aer, execute\n",
    "from qiskit.visualization import array_to_latex\n",
    "from qiskit_transpiler import get_pm\n",
    "from math import pi\n",
    "from qiskit import IBMQ\n",
    "from qiskit.providers import ibmq"
   ]
  },
  {
   "cell_type": "code",
   "execution_count": null,
   "outputs": [],
   "source": [],
   "metadata": {
    "collapsed": false,
    "ExecuteTime": {
     "end_time": "2023-11-14T22:58:33.880285Z",
     "start_time": "2023-11-14T22:58:33.833061Z"
    }
   }
  },
  {
   "cell_type": "code",
   "execution_count": 5,
   "outputs": [],
   "source": [
    "from qiskit.pulse import DriveChannel, GaussianSquare, ShiftPhase\n",
    "\n",
    "def get_n_link(backend):\n",
    "    configuration = backend.configuration()\n",
    "    defaults = backend.defaults()\n",
    "    n = configuration.num_qubits\n",
    "\n",
    "    connected_pairs_cnot = configuration.coupling_map\n",
    "    instruction_schedule_map = defaults.instruction_schedule_map\n",
    "\n",
    "    def get_control_qubit(q1, q2):  # Control performs Z\n",
    "        try:\n",
    "            cx_sched = instruction_schedule_map.get(\"cx\", qubits=(q1, q2))\n",
    "        except:\n",
    "            cx_sched = instruction_schedule_map.get(\"ecr\", qubits=(q1, q2))\n",
    "        supported = False\n",
    "        for time, inst in cx_sched.instructions:\n",
    "            if isinstance(inst.channel, DriveChannel) and not isinstance(inst, ShiftPhase):\n",
    "                if isinstance(inst.pulse, GaussianSquare):\n",
    "                    target = inst.channel.index\n",
    "                    control = q1 if target == q2 else q2\n",
    "                    supported = True\n",
    "        if not supported:\n",
    "            raise ValueError(\"This machine is not supported!\")\n",
    "        return control\n",
    "\n",
    "    link = []\n",
    "    for item in connected_pairs_cnot:\n",
    "        if get_control_qubit(item[0], item[1]) == item[0]:\n",
    "            link.append(item)\n",
    "\n",
    "    return n, link\n",
    "\n",
    "def make_circuit(backend,line,ins,params,t):\n",
    "    n, link = get_n_link(backend)\n",
    "    circ = QuantumCircuit(n)\n",
    "    if line < n:\n",
    "        if ins == 0:\n",
    "            q = line\n",
    "            circ.rz(-params[1], q)\n",
    "            circ.rx(2 * params[0] * t, q)\n",
    "            circ.rz(params[1], q)\n",
    "        else:\n",
    "            q = line\n",
    "            lamb = 2 * params[0] * t\n",
    "            circ.rz(lamb, q)\n",
    "    else:\n",
    "        # print(line)\n",
    "        (q0, q1) = link[line - n]\n",
    "        theta = 2 * params[0] * t\n",
    "        if ins == 0:\n",
    "            circ.rzx(theta, q0, q1)\n",
    "        elif ins == 1:\n",
    "            circ.rxx(theta, q0, q1)\n",
    "        elif ins == 2:\n",
    "            circ.ryy(theta, q0, q1)\n",
    "        else:\n",
    "            circ.rzz(theta, q0, q1)\n",
    "    return circ"
   ],
   "metadata": {
    "collapsed": false,
    "ExecuteTime": {
     "end_time": "2023-11-14T23:00:31.843552Z",
     "start_time": "2023-11-14T23:00:31.820693Z"
    }
   }
  },
  {
   "cell_type": "code",
   "execution_count": 3,
   "outputs": [],
   "source": [
    "from qiskit_ibm_provider import IBMProvider\n",
    "\n",
    "with open('../../ibm_API_key','r') as file:\n",
    "    token = file.readline()\n",
    "#IBMProvider.save_account(token,instance='ibm-q-ncsu/nc-state/quantum-compiler',overwrite=True)\n",
    "provider = IBMQ.enable_account(token, hub=\"ibm-q-ncsu\", group=\"nc-state\", project=\"quantum-compiler\")\n",
    "#provider = IBMProvider()"
   ],
   "metadata": {
    "collapsed": false,
    "ExecuteTime": {
     "end_time": "2023-11-14T23:00:18.760369Z",
     "start_time": "2023-11-14T23:00:13.227292Z"
    }
   }
  },
  {
   "cell_type": "code",
   "execution_count": 4,
   "outputs": [],
   "source": [
    "from qiskit_transpiler import get_pm\n",
    "backend = provider.get_backend('ibmq_mumbai')\n",
    "pm = get_pm(backend)"
   ],
   "metadata": {
    "collapsed": false,
    "ExecuteTime": {
     "end_time": "2023-11-14T23:00:23.316239Z",
     "start_time": "2023-11-14T23:00:22.487431Z"
    }
   }
  },
  {
   "cell_type": "code",
   "execution_count": 6,
   "outputs": [],
   "source": [
    "params = [pi/2,pi/2]\n",
    "t = 0.5"
   ],
   "metadata": {
    "collapsed": false,
    "ExecuteTime": {
     "end_time": "2023-11-14T23:00:44.202407Z",
     "start_time": "2023-11-14T23:00:44.196280Z"
    }
   }
  },
  {
   "cell_type": "code",
   "execution_count": 7,
   "outputs": [],
   "source": [
    "circuits_0 = []\n",
    "circuits_1 = []\n",
    "\n",
    "for i in range(27):\n",
    "    circuits_0.append(pm.run(make_circuit(backend,i,0,params,t)))\n",
    "    circuits_1.append(pm.run(make_circuit(backend,i,1,params,t)))"
   ],
   "metadata": {
    "collapsed": false,
    "ExecuteTime": {
     "end_time": "2023-11-14T23:00:46.828677Z",
     "start_time": "2023-11-14T23:00:45.712895Z"
    }
   }
  },
  {
   "cell_type": "code",
   "execution_count": 8,
   "outputs": [],
   "source": [
    "from qiskit import transpile as transpile_qiskit\n",
    "transpiled_circuits_0 = transpile_qiskit(circuits_0,backend)\n",
    "transpiled_circuits_1 = transpile_qiskit(circuits_1,backend)"
   ],
   "metadata": {
    "collapsed": false,
    "ExecuteTime": {
     "end_time": "2023-11-14T23:00:52.847990Z",
     "start_time": "2023-11-14T23:00:51.477049Z"
    }
   }
  },
  {
   "cell_type": "code",
   "execution_count": 9,
   "outputs": [],
   "source": [
    "from qiskit_aer.noise import NoiseModel\n",
    "simulator = provider.get_backend(\"ibmq_qasm_simulator\")\n",
    "noise_model = NoiseModel.from_backend(backend).to_dict()\n",
    "simulator.options.update_options(noise_model=noise_model)"
   ],
   "metadata": {
    "collapsed": false,
    "ExecuteTime": {
     "end_time": "2023-11-14T23:00:58.928253Z",
     "start_time": "2023-11-14T23:00:58.641810Z"
    }
   }
  },
  {
   "cell_type": "code",
   "execution_count": 10,
   "outputs": [],
   "source": [
    "job = execute(transpiled_circuits_0, shots=1024, backend=simulator)"
   ],
   "metadata": {
    "collapsed": false,
    "ExecuteTime": {
     "end_time": "2023-11-14T23:01:12.490418Z",
     "start_time": "2023-11-14T23:01:05.963403Z"
    }
   }
  },
  {
   "cell_type": "code",
   "execution_count": null,
   "outputs": [],
   "source": [],
   "metadata": {
    "collapsed": false
   }
  }
 ],
 "metadata": {
  "kernelspec": {
   "display_name": "Python 3",
   "language": "python",
   "name": "python3"
  },
  "language_info": {
   "codemirror_mode": {
    "name": "ipython",
    "version": 2
   },
   "file_extension": ".py",
   "mimetype": "text/x-python",
   "name": "python",
   "nbconvert_exporter": "python",
   "pygments_lexer": "ipython2",
   "version": "2.7.6"
  }
 },
 "nbformat": 4,
 "nbformat_minor": 0
}
