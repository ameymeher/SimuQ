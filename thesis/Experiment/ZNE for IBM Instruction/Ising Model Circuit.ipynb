{
 "cells": [
  {
   "cell_type": "code",
   "execution_count": 19,
   "outputs": [],
   "source": [
    "import numpy as np\n",
    "from SimuQ.thesis.Experiment.utilities.hamiltonian_models import Ising"
   ],
   "metadata": {
    "collapsed": false
   }
  },
  {
   "cell_type": "code",
   "execution_count": 20,
   "outputs": [],
   "source": [
    "N = 4\n",
    "T = 1"
   ],
   "metadata": {
    "collapsed": false
   }
  },
  {
   "cell_type": "markdown",
   "source": [
    "### Ising chain model creation"
   ],
   "metadata": {
    "collapsed": false
   }
  },
  {
   "cell_type": "code",
   "execution_count": 21,
   "metadata": {
    "collapsed": true
   },
   "outputs": [],
   "source": [
    "h = np.array([1 for j in range(N)])\n",
    "J_chain = np.zeros((N, N))\n",
    "for j in range(N - 1):\n",
    "    J_chain[j, j + 1] = 1\n",
    "\n",
    "J_cycle = np.copy(J_chain)\n",
    "J_cycle[0, N - 1] = 1\n",
    "\n",
    "Ising_chain = Ising(N, T, J_chain, h)"
   ]
  },
  {
   "cell_type": "markdown",
   "source": [
    "### Initialization step"
   ],
   "metadata": {
    "collapsed": false
   }
  },
  {
   "cell_type": "code",
   "execution_count": 22,
   "outputs": [],
   "source": [
    "from qiskit_ibm_provider import IBMProvider\n",
    "from simuq.provider import BaseProvider\n",
    "from simuq.solver import generate_as"
   ],
   "metadata": {
    "collapsed": false
   }
  },
  {
   "cell_type": "code",
   "execution_count": 23,
   "outputs": [],
   "source": [
    "#Init parameters of the IBMProvider\n",
    "qs = Ising_chain\n",
    "hub = \"ibm-q-ncsu\"\n",
    "group = \"nc-state\"\n",
    "project = \"quantum-compiler\"\n",
    "api_file = \"../ibm_API_key\"\n",
    "aais = 'heisenberg'\n",
    "backend = 'ibmq_mumbai'\n",
    "tol = 0.01\n",
    "trotter_num = 6\n",
    "verbose = 0\n",
    "use_pulse = True\n",
    "state_prep = None"
   ],
   "metadata": {
    "collapsed": false
   }
  },
  {
   "cell_type": "code",
   "execution_count": 6,
   "outputs": [],
   "source": [
    "#Init functionality of the IBMProvider\n",
    "from qiskit import IBMQ\n",
    "\n",
    "with open(api_file, \"r\") as f:\n",
    "        api_key = f.readline().strip()\n",
    "\n",
    "provider = IBMQ.enable_account(api_key, hub='ibm-q-ncsu', group='nc-state', project='quantum-compiler')"
   ],
   "metadata": {
    "collapsed": false
   }
  },
  {
   "cell_type": "markdown",
   "source": [
    "### Compilation step"
   ],
   "metadata": {
    "collapsed": false
   }
  },
  {
   "cell_type": "code",
   "execution_count": 7,
   "outputs": [],
   "source": [
    "backend = provider.get_backend(backend)\n",
    "nsite = backend.configuration().n_qubits\n",
    "\n",
    "if qs.num_sites > nsite:\n",
    "    raise Exception(\"Device has less sites than the target quantum system.\")\n",
    "\n",
    "if aais == \"heisenberg\":\n",
    "    from simuq.aais import ibm\n",
    "    from qiskit_pulse_ibm import transpile\n",
    "\n",
    "    mach = ibm.generate_qmachine(backend)\n",
    "    comp = transpile"
   ],
   "metadata": {
    "collapsed": false
   }
  },
  {
   "cell_type": "code",
   "execution_count": 8,
   "outputs": [],
   "source": [
    "layout, sol_gvars, boxes, edges = generate_as(\n",
    "    qs,\n",
    "    mach,\n",
    "    trotter_num,\n",
    "    solver=\"least_squares\",\n",
    "    solver_args={\"tol\": tol},\n",
    "    override_layout=None,\n",
    "    verbose=verbose,\n",
    ")"
   ],
   "metadata": {
    "collapsed": false
   }
  },
  {
   "cell_type": "code",
   "execution_count": 16,
   "outputs": [],
   "source": [
    "prog = comp(\n",
    "    backend,\n",
    "    layout,\n",
    "    sol_gvars,\n",
    "    boxes,\n",
    "    edges,\n",
    "    use_pulse=False,\n",
    ")"
   ],
   "metadata": {
    "collapsed": false
   }
  }
 ],
 "metadata": {
  "kernelspec": {
   "display_name": "Python 3",
   "language": "python",
   "name": "python3"
  },
  "language_info": {
   "codemirror_mode": {
    "name": "ipython",
    "version": 2
   },
   "file_extension": ".py",
   "mimetype": "text/x-python",
   "name": "python",
   "nbconvert_exporter": "python",
   "pygments_lexer": "ipython2",
   "version": "2.7.6"
  }
 },
 "nbformat": 4,
 "nbformat_minor": 0
}
