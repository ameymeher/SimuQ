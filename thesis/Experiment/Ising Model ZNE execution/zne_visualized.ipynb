{
 "cells": [
  {
   "cell_type": "code",
   "execution_count": 1,
   "metadata": {
    "collapsed": true
   },
   "outputs": [],
   "source": [
    "from qiskit_ibm_provider import IBMProvider\n",
    "with open('../ibm_API_key','r') as file:\n",
    "    token = file.readline()\n",
    "\n",
    "provider = IBMProvider(token=token, instance=\"ibm-q-ncsu/nc-state/quantum-compiler\")"
   ]
  },
  {
   "cell_type": "code",
   "execution_count": 2,
   "outputs": [],
   "source": [
    "n_4_t_1 = [\"cna13m6m2pvg008sktx0\",\n",
    "\"cna13nyyzmv0008w8t10\",\n",
    "\"cna13q6m2pvg008sktxg\",\n",
    "\"cna13rfj5tjg0080xg9g\",\n",
    "\"cna13sz1m2c0008wypqg\",\n",
    "\"cna13v7yzmv0008w8t1g\"]"
   ],
   "metadata": {
    "collapsed": false
   }
  },
  {
   "cell_type": "code",
   "execution_count": 3,
   "outputs": [],
   "source": [
    "results = []\n",
    "for job_id in n_4_t_1:\n",
    "    results.append(provider.retrieve_job(job_id).result().get_counts())"
   ],
   "metadata": {
    "collapsed": false
   }
  },
  {
   "cell_type": "code",
   "execution_count": 54,
   "outputs": [],
   "source": [
    "def get_average_distributions(results):\n",
    "\n",
    "    average_results = []\n",
    "\n",
    "    for same_circuit_results in results:\n",
    "        all_keys = set()\n",
    "        for dist in same_circuit_results:\n",
    "            all_keys = all_keys.union(set(dist.keys()))\n",
    "\n",
    "        from collections import defaultdict\n",
    "\n",
    "        def default_value():\n",
    "            return 0\n",
    "\n",
    "        average_dist = defaultdict(default_value)\n",
    "\n",
    "        for key in all_keys:\n",
    "            for i in range(len(same_circuit_results)):\n",
    "                if key in same_circuit_results[i]:\n",
    "                    average_dist[key] =  average_dist[key] + same_circuit_results[i][key]\n",
    "\n",
    "            average_dist[key] = average_dist[key] // len(same_circuit_results)\n",
    "\n",
    "        average_results.append(average_dist)\n",
    "\n",
    "    return average_results"
   ],
   "metadata": {
    "collapsed": false
   }
  },
  {
   "cell_type": "code",
   "execution_count": 55,
   "outputs": [],
   "source": [
    "average_results = get_average_distributions(results)"
   ],
   "metadata": {
    "collapsed": false
   }
  },
  {
   "cell_type": "code",
   "execution_count": 80,
   "outputs": [],
   "source": [
    "top_75_dist_0_noise = dict(sorted(average_results[0].items(),key = lambda x: x[1], reverse=True)[:75])"
   ],
   "metadata": {
    "collapsed": false
   }
  },
  {
   "cell_type": "code",
   "execution_count": 148,
   "outputs": [
    {
     "data": {
      "text/plain": "'000000010000000000000001000'"
     },
     "execution_count": 148,
     "metadata": {},
     "output_type": "execute_result"
    }
   ],
   "source": [
    "key = list(top_75_dist_0_noise.keys())[15]\n",
    "\n",
    "data_points = []\n",
    "x = [1,1.47312,1.86022,2.24731,2.63441,3.02151]\n",
    "\n",
    "for dist in average_results:\n",
    "    data_points.append(dist[key])\n",
    "\n",
    "key"
   ],
   "metadata": {
    "collapsed": false
   }
  },
  {
   "cell_type": "code",
   "execution_count": 149,
   "outputs": [
    {
     "data": {
      "text/plain": "<Figure size 640x480 with 1 Axes>",
      "image/png": "[encoded data removed]"
     },
     "metadata": {},
     "output_type": "display_data"
    }
   ],
   "source": [
    "import matplotlib.pyplot as plt\n",
    "\n",
    "plt.scatter(x,data_points)\n",
    "plt.show()"
   ],
   "metadata": {
    "collapsed": false
   }
  }
 ],
 "metadata": {
  "kernelspec": {
   "display_name": "Python 3",
   "language": "python",
   "name": "python3"
  },
  "language_info": {
   "codemirror_mode": {
    "name": "ipython",
    "version": 2
   },
   "file_extension": ".py",
   "mimetype": "text/x-python",
   "name": "python",
   "nbconvert_exporter": "python",
   "pygments_lexer": "ipython2",
   "version": "2.7.6"
  }
 },
 "nbformat": 4,
 "nbformat_minor": 0
}
