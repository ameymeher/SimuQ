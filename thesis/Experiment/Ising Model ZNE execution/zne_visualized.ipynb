{
 "cells": [
  {
   "cell_type": "code",
   "execution_count": 1,
   "metadata": {
    "collapsed": true
   },
   "outputs": [],
   "source": [
    "from qiskit_ibm_provider import IBMProvider\n",
    "with open('../ibm_API_key','r') as file:\n",
    "    token = file.readline()\n",
    "\n",
    "provider = IBMProvider(token=token, instance=\"ibm-q-ncsu/nc-state/quantum-compiler\")"
   ]
  },
  {
   "cell_type": "code",
   "execution_count": 12,
   "outputs": [],
   "source": [
    "import pandas as pd\n",
    "\n",
    "data_lines = []\n",
    "for N in range(4,7):\n",
    "    for T in range(1,4):\n",
    "        for noise in range(1,13,2):\n",
    "            data = {'N' : N, 'T':T,'Noise':noise}\n",
    "            data_lines.append(data)\n",
    "\n",
    "df = pd.DataFrame(data_lines)\n",
    "\n",
    "job_ids = [\n",
    "    \"cna13m6m2pvg008sktx0\",\n",
    "    \"cna13nyyzmv0008w8t10\",\n",
    "    \"cna13q6m2pvg008sktxg\",\n",
    "    \"cna13rfj5tjg0080xg9g\",\n",
    "    \"cna13sz1m2c0008wypqg\",\n",
    "    \"cna13v7yzmv0008w8t1g\",\n",
    "    \"cna151m1m2c0008wypxg\",\n",
    "    \"cna152m8ff30008rjhp0\",\n",
    "    \"cna153wj5tjg0080xgcg\",\n",
    "    \"cna155mr0vyg008d7zpg\",\n",
    "    \"cna156wj5tjg0080xgd0\",\n",
    "    \"cna158dyzmv0008w8t20\",\n",
    "    \"cna15wf1m2c0008wypy0\",\n",
    "    \"cna15xzj5tjg0080xgeg\",\n",
    "    \"cna15z7j5tjg0080xgf0\",\n",
    "    \"cna1600r0vyg008d7zqg\",\n",
    "    \"cna16188ff30008rjhsg\",\n",
    "    \"cna162g1m2c0008wypyg\",\n",
    "    \"cna173mr0vyg008d7zrg\",\n",
    "    \"cna174wj5tjg0080xgh0\",\n",
    "    \"cna175wr0vyg008d7zs0\",\n",
    "    \"cna177c8ff30008rjhwg\",\n",
    "    \"cna178x1m2c0008wypzg\",\n",
    "    \"cna17an8ff30008rjhx0\",\n",
    "    \"cna1944m2pvg008skvag\",\n",
    "    \"cna195cr0vyg008d7zx0\",\n",
    "    \"cna196m8ff30008rjj1g\",\n",
    "    \"cna197w8ff30008rjj20\",\n",
    "    \"cna1995r0vyg008d7zxg\",\n",
    "    \"cna19anr0vyg008d7zy0\",\n",
    "    \"cna19t71m2c0008wyq20\",\n",
    "    \"cna19vf1m2c0008wyq2g\",\n",
    "    \"cna19wzj5tjg0080xgp0\",\n",
    "    \"cna19y7j5tjg0080xgpg\",\n",
    "    \"cna19zfyzmv0008w8t6g\",\n",
    "    \"cna1a0r1m2c0008wyq30\",\n",
    "    \"cna1ahaj5tjg0080xgqg\",\n",
    "    \"cna1ajaj5tjg0080xgr0\",\n",
    "    \"cna1akjm2pvg008skvd0\",\n",
    "    \"cna1an2yzmv0008w8t80\",\n",
    "    \"cna1ap28ff30008rjj4g\",\n",
    "    \"cna1apt8ff30008rjj5g\",\n",
    "    \"cna1b34r0vyg008d8010\",\n",
    "    \"cna1b4c1m2c0008wyq4g\",\n",
    "    \"cna1b5w1m2c0008wyq5g\",\n",
    "    \"cna1b74r0vyg008d801g\",\n",
    "    \"cna1b85j5tjg0080xgsg\",\n",
    "    \"cna1b9dr0vyg008d8020\",\n",
    "    \"cna1br7m2pvg008skvh0\",\n",
    "    \"cna1bsf1m2c0008wyq80\",\n",
    "    \"cna1btq8ff30008rjja0\",\n",
    "    \"cna1bvz1m2c0008wyq90\",\n",
    "    \"cna1bwz8ff30008rjjag\",\n",
    "    \"cna1bxz8ff30008rjjb0\"\n",
    "]\n",
    "\n",
    "df['Job Id'] = job_ids"
   ],
   "metadata": {
    "collapsed": false
   }
  },
  {
   "cell_type": "code",
   "execution_count": 24,
   "outputs": [
    {
     "name": "stdout",
     "output_type": "stream",
     "text": [
      "    N  T  Noise                Job Id  \\\n",
      "0   4  1      1  cna13m6m2pvg008sktx0   \n",
      "1   4  1      3  cna13nyyzmv0008w8t10   \n",
      "2   4  1      5  cna13q6m2pvg008sktxg   \n",
      "3   4  1      7  cna13rfj5tjg0080xg9g   \n",
      "4   4  1      9  cna13sz1m2c0008wypqg   \n",
      "5   4  1     11  cna13v7yzmv0008w8t1g   \n",
      "6   4  2      1  cna151m1m2c0008wypxg   \n",
      "7   4  2      3  cna152m8ff30008rjhp0   \n",
      "8   4  2      5  cna153wj5tjg0080xgcg   \n",
      "9   4  2      7  cna155mr0vyg008d7zpg   \n",
      "10  4  2      9  cna156wj5tjg0080xgd0   \n",
      "11  4  2     11  cna158dyzmv0008w8t20   \n",
      "12  4  3      1  cna15wf1m2c0008wypy0   \n",
      "13  4  3      3  cna15xzj5tjg0080xgeg   \n",
      "14  4  3      5  cna15z7j5tjg0080xgf0   \n",
      "15  4  3      7  cna1600r0vyg008d7zqg   \n",
      "16  4  3      9  cna16188ff30008rjhsg   \n",
      "17  4  3     11  cna162g1m2c0008wypyg   \n",
      "18  5  1      1  cna173mr0vyg008d7zrg   \n",
      "19  5  1      3  cna174wj5tjg0080xgh0   \n",
      "20  5  1      5  cna175wr0vyg008d7zs0   \n",
      "21  5  1      7  cna177c8ff30008rjhwg   \n",
      "22  5  1      9  cna178x1m2c0008wypzg   \n",
      "23  5  1     11  cna17an8ff30008rjhx0   \n",
      "24  5  2      1  cna1944m2pvg008skvag   \n",
      "25  5  2      3  cna195cr0vyg008d7zx0   \n",
      "26  5  2      5  cna196m8ff30008rjj1g   \n",
      "27  5  2      7  cna197w8ff30008rjj20   \n",
      "28  5  2      9  cna1995r0vyg008d7zxg   \n",
      "29  5  2     11  cna19anr0vyg008d7zy0   \n",
      "30  5  3      1  cna19t71m2c0008wyq20   \n",
      "31  5  3      3  cna19vf1m2c0008wyq2g   \n",
      "32  5  3      5  cna19wzj5tjg0080xgp0   \n",
      "33  5  3      7  cna19y7j5tjg0080xgpg   \n",
      "34  5  3      9  cna19zfyzmv0008w8t6g   \n",
      "35  5  3     11  cna1a0r1m2c0008wyq30   \n",
      "36  6  1      1  cna1ahaj5tjg0080xgqg   \n",
      "37  6  1      3  cna1ajaj5tjg0080xgr0   \n",
      "38  6  1      5  cna1akjm2pvg008skvd0   \n",
      "39  6  1      7  cna1an2yzmv0008w8t80   \n",
      "40  6  1      9  cna1ap28ff30008rjj4g   \n",
      "41  6  1     11  cna1apt8ff30008rjj5g   \n",
      "42  6  2      1  cna1b34r0vyg008d8010   \n",
      "43  6  2      3  cna1b4c1m2c0008wyq4g   \n",
      "44  6  2      5  cna1b5w1m2c0008wyq5g   \n",
      "45  6  2      7  cna1b74r0vyg008d801g   \n",
      "46  6  2      9  cna1b85j5tjg0080xgsg   \n",
      "47  6  2     11  cna1b9dr0vyg008d8020   \n",
      "48  6  3      1  cna1br7m2pvg008skvh0   \n",
      "49  6  3      3  cna1bsf1m2c0008wyq80   \n",
      "50  6  3      5  cna1btq8ff30008rjja0   \n",
      "51  6  3      7  cna1bvz1m2c0008wyq90   \n",
      "52  6  3      9  cna1bwz8ff30008rjjag   \n",
      "53  6  3     11  cna1bxz8ff30008rjjb0   \n",
      "\n",
      "                                           raw_result  \n",
      "0   [{'000000001000001000000000000': 1, '000000000...  \n",
      "1   [{'000000000000001000000000011': 1, '000001001...  \n",
      "2   [{'000000001000000000000001100': 4, '000000000...  \n",
      "3   [{'000000001000000000000000001': 2, '000101000...  \n",
      "4   [{'000000010000001000000000101': 1, '000000001...  \n",
      "5   [{'000000010000000100000000110': 1, '000000000...  \n",
      "6   [{'000000100000000000000001001': 2, '000000011...  \n",
      "7   [{'000000000001000000000000010': 1, '000000110...  \n",
      "8   [{'000000000000000000000000111': 40, '00000000...  \n",
      "9   [{'000000001000000000000000111': 4, '000000010...  \n",
      "10  [{'000100000000000000000001101': 1, '000000010...  \n",
      "11  [{'000000001000000100000000010': 1, '000100001...  \n",
      "12  [{'000000000000000000100001100': 1, '000100000...  \n",
      "13  [{'000000010000000000000000111': 4, '000000000...  \n",
      "14  [{'010000000000000000000000010': 1, '000000010...  \n",
      "15  [{'000000100000000000000001001': 1, '000000010...  \n",
      "16  [{'000000000000001100000000011': 1, '000101010...  \n",
      "17  [{'100000000000000000000001100': 1, '000000000...  \n",
      "18  [{'000000001000100000000000110': 1, '000010001...  \n",
      "19  [{'000000000000010010000000001': 1, '000000001...  \n",
      "20  [{'000000001000000000000001010': 4, '000100000...  \n",
      "21  [{'001000000000000000000001110': 1, '000000011...  \n",
      "22  [{'000000010000000010000100010': 1, '100000000...  \n",
      "23  [{'000000010000000000000000100': 16, '10000000...  \n",
      "24  [{'000000100000000000000001000': 1, '100100000...  \n",
      "25  [{'000000000000010000000000011': 1, '000000001...  \n",
      "26  [{'000000001000000000000100000': 3, '000000000...  \n",
      "27  [{'000000000000000000000000001': 15, '00000101...  \n",
      "28  [{'001000000000000000000101111': 2, '000010010...  \n",
      "29  [{'000000000000000000000000011': 15, '00000000...  \n",
      "30  [{'000001001000000000000100001': 1, '100001000...  \n",
      "31  [{'000000000000001000000000100': 6, '010000011...  \n",
      "32  [{'000000000000010000000000101': 1, '000000010...  \n",
      "33  [{'000000011000000000000001000': 1, '000000010...  \n",
      "34  [{'000000000000001000000101000': 3, '000000001...  \n",
      "35  [{'000000000000001010000001100': 2, '000000000...  \n",
      "36  [{'000000000000001000100010011': 1, '000100000...  \n",
      "37  [{'000000000000000000000101011': 1, '000000000...  \n",
      "38  [{'000110000000000000000001100': 1, '000000000...  \n",
      "39  [{'000000011000000000100000100': 1, '000000000...  \n",
      "40  [{'000000000000000000000101101': 7, '000000010...  \n",
      "41  [{'000010010000000000000100010': 1, '000000001...  \n",
      "42  [{'001000010000010000100100100': 1, '000000000...  \n",
      "43  [{'000000001000001000000100011': 1, '000000000...  \n",
      "44  [{'000000010000000000100000100': 3, '000000000...  \n",
      "45  [{'001000000000000000100001010': 1, '000000000...  \n",
      "46  [{'000000010000000000000101110': 1, '000000010...  \n",
      "47  [{'000000000000000000100101100': 10, '00000000...  \n",
      "48  [{'010001000000000000000000011': 1, '000000000...  \n",
      "49  [{'010000000000000000100100100': 1, '000001000...  \n",
      "50  [{'000100000000000000100001010': 1, '000000000...  \n",
      "51  [{'000000010000000000100001111': 2, '000000000...  \n",
      "52  [{'000000000000000000000001010': 14, '00000001...  \n",
      "53  [{'000000000000000000100101011': 10, '00000001...  \n"
     ]
    }
   ],
   "source": [
    "print(df)"
   ],
   "metadata": {
    "collapsed": false
   }
  },
  {
   "cell_type": "code",
   "execution_count": 34,
   "outputs": [],
   "source": [
    "df['raw_result'] = df['Job Id'].apply(lambda x: provider.retrieve_job(x).result().get_counts())"
   ],
   "metadata": {
    "collapsed": false
   }
  },
  {
   "cell_type": "code",
   "execution_count": 35,
   "outputs": [],
   "source": [
    "def get_average_distributions(same_circuit_results):\n",
    "\n",
    "    all_keys = set()\n",
    "    for dist in same_circuit_results:\n",
    "        all_keys = all_keys.union(set(dist.keys()))\n",
    "\n",
    "    from collections import defaultdict\n",
    "\n",
    "    def default_value():\n",
    "        return 0\n",
    "\n",
    "    average_dist = defaultdict(default_value)\n",
    "\n",
    "    for key in all_keys:\n",
    "        for i in range(len(same_circuit_results)):\n",
    "            if key in same_circuit_results[i]:\n",
    "                average_dist[key] =  average_dist[key] + same_circuit_results[i][key]\n",
    "\n",
    "        average_dist[key] = average_dist[key] // len(same_circuit_results)\n",
    "\n",
    "    return average_dist\n",
    "\n",
    "df['average_result'] = df['raw_result'].apply(lambda x: get_average_distributions(x))"
   ],
   "metadata": {
    "collapsed": false
   }
  },
  {
   "cell_type": "code",
   "execution_count": 41,
   "outputs": [],
   "source": [
    "def process_results(result,layout):\n",
    "\n",
    "    def layout_rev(res):\n",
    "        n = len(layout)\n",
    "        # print(self.layout)\n",
    "        b = res\n",
    "        ret = \"\"\n",
    "        for i in range(n):\n",
    "            ret += b[-1 - layout[i]]\n",
    "        return ret\n",
    "\n",
    "\n",
    "    n_shots = sum(result.values())\n",
    "\n",
    "    from collections import defaultdict\n",
    "\n",
    "    def default_value():\n",
    "        return 0\n",
    "\n",
    "    ret = defaultdict(default_value)\n",
    "\n",
    "    for key in result.keys():\n",
    "        new_key = layout_rev(key)\n",
    "        ret[new_key] += result[key] / n_shots\n",
    "\n",
    "    return ret\n",
    "\n",
    "def get_layout(row):\n",
    "    layout = None\n",
    "    if row['N'] == 4:\n",
    "        layout = [0,1,2,3]\n",
    "    elif row['N'] == 5:\n",
    "        layout = [0,1,2,3,4]\n",
    "    else:\n",
    "        layout = [0,1,2,3,4,5]\n",
    "\n",
    "    return process_results(row['average_result'],layout)\n",
    "\n",
    "df['processed_result'] = df.apply(lambda x: get_layout(x), axis=1)"
   ],
   "metadata": {
    "collapsed": false
   }
  },
  {
   "cell_type": "code",
   "execution_count": 45,
   "outputs": [
    {
     "name": "stdout",
     "output_type": "stream",
     "text": [
      "Compiled.\n",
      "Solved.\n",
      "Compiled.\n",
      "Solved.\n",
      "Compiled.\n",
      "Solved.\n",
      "Compiled.\n",
      "Solved.\n",
      "Compiled.\n",
      "Solved.\n",
      "Compiled.\n",
      "Solved.\n",
      "Compiled.\n",
      "Solved.\n",
      "Compiled.\n",
      "Solved.\n",
      "Compiled.\n",
      "Solved.\n",
      "Compiled.\n",
      "Solved.\n",
      "Compiled.\n",
      "Solved.\n",
      "Compiled.\n",
      "Solved.\n",
      "Compiled.\n",
      "Solved.\n",
      "Compiled.\n",
      "Solved.\n",
      "Compiled.\n",
      "Solved.\n",
      "Compiled.\n",
      "Solved.\n",
      "Compiled.\n",
      "Solved.\n",
      "Compiled.\n",
      "Solved.\n",
      "Compiled.\n",
      "Solved.\n",
      "Compiled.\n",
      "Solved.\n",
      "Compiled.\n",
      "Solved.\n",
      "Compiled.\n",
      "Solved.\n",
      "Compiled.\n",
      "Solved.\n",
      "Compiled.\n",
      "Solved.\n",
      "Compiled.\n",
      "Solved.\n",
      "Compiled.\n",
      "Solved.\n",
      "Compiled.\n",
      "Solved.\n",
      "Compiled.\n",
      "Solved.\n",
      "Compiled.\n",
      "Solved.\n",
      "Compiled.\n",
      "Solved.\n",
      "Compiled.\n",
      "Solved.\n",
      "Compiled.\n",
      "Solved.\n",
      "Compiled.\n",
      "Solved.\n",
      "Compiled.\n",
      "Solved.\n",
      "Compiled.\n",
      "Solved.\n",
      "Compiled.\n",
      "Solved.\n",
      "Compiled.\n",
      "Solved.\n",
      "Compiled.\n",
      "Solved.\n",
      "Compiled.\n",
      "Solved.\n",
      "Compiled.\n",
      "Solved.\n",
      "Compiled.\n",
      "Solved.\n",
      "Compiled.\n",
      "Solved.\n",
      "Compiled.\n",
      "Solved.\n",
      "Compiled.\n",
      "Solved.\n",
      "Compiled.\n",
      "Solved.\n",
      "Compiled.\n",
      "Solved.\n",
      "Compiled.\n",
      "Solved.\n",
      "Compiled.\n",
      "Solved.\n",
      "Compiled.\n",
      "Solved.\n",
      "Compiled.\n",
      "Solved.\n",
      "Compiled.\n",
      "Solved.\n",
      "Compiled.\n",
      "Solved.\n",
      "Compiled.\n",
      "Solved.\n",
      "Compiled.\n",
      "Solved.\n"
     ]
    }
   ],
   "source": [
    "#Getting the ideal results\n",
    "from SimuQ.thesis.Experiment.utilities.hamiltonian_models import Ising\n",
    "from simuq.qutip import QuTiPProvider\n",
    "import numpy as np\n",
    "\n",
    "def get_ideal_result(N,T):\n",
    "    #Ising chain model creation\n",
    "    h = np.array([1 for j in range(N)])\n",
    "    J_chain = np.zeros((N, N))\n",
    "    for j in range(N - 1):\n",
    "        J_chain[j, j + 1] = 1\n",
    "\n",
    "    J_cycle = np.copy(J_chain)\n",
    "    J_cycle[0, N - 1] = 1\n",
    "    Ising_chain = Ising(N, T, J_chain, h)\n",
    "\n",
    "    #Classical simulation\n",
    "    qtpp = QuTiPProvider()\n",
    "    qtpp.compile(Ising_chain)\n",
    "    qtpp.run()\n",
    "\n",
    "    return qtpp.results()\n",
    "\n",
    "df['ideal_result'] = df.apply(lambda x: get_ideal_result(x['N'],x['T']), axis=1)"
   ],
   "metadata": {
    "collapsed": false
   }
  },
  {
   "cell_type": "code",
   "execution_count": 49,
   "outputs": [],
   "source": [
    "from qiskit.quantum_info import hellinger_fidelity\n",
    "from SimuQ.thesis.Experiment.utilities.evaluation_metrics import TV\n",
    "\n",
    "df['Hellinger fidelity'] = df.apply(lambda x: hellinger_fidelity(x['ideal_result'],x['processed_result']), axis=1)\n",
    "df['Total Variational Distance'] = df.apply(lambda x: TV(x['ideal_result'],x['processed_result']), axis=1)"
   ],
   "metadata": {
    "collapsed": false
   }
  },
  {
   "cell_type": "code",
   "execution_count": 50,
   "outputs": [
    {
     "name": "stdout",
     "output_type": "stream",
     "text": [
      "    N  T  Noise  Hellinger fidelity  Total Variational Distance\n",
      "0   4  1      1            0.928722                    0.186743\n",
      "1   4  1      3            0.769959                    0.351347\n",
      "2   4  1      5            0.776780                    0.375950\n",
      "3   4  1      7            0.695552                    0.439344\n",
      "4   4  1      9            0.675728                    0.442812\n",
      "5   4  1     11            0.764835                    0.342631\n",
      "6   4  2      1            0.860347                    0.291313\n",
      "7   4  2      3            0.736569                    0.419337\n",
      "8   4  2      5            0.725219                    0.422130\n",
      "9   4  2      7            0.700404                    0.457199\n",
      "10  4  2      9            0.689274                    0.470114\n",
      "11  4  2     11            0.692479                    0.465068\n",
      "12  4  3      1            0.663586                    0.496030\n",
      "13  4  3      3            0.655878                    0.518363\n",
      "14  4  3      5            0.664281                    0.477369\n",
      "15  4  3      7            0.680299                    0.452885\n",
      "16  4  3      9            0.721203                    0.410357\n",
      "17  4  3     11            0.743397                    0.405188\n",
      "18  5  1      1            0.384326                    0.547779\n",
      "19  5  1      3            0.329596                    0.616952\n",
      "20  5  1      5            0.284748                    0.692659\n",
      "21  5  1      7            0.275842                    0.692099\n",
      "22  5  1      9            0.255477                    0.721543\n",
      "23  5  1     11            0.275984                    0.665908\n",
      "24  5  2      1            0.449826                    0.510569\n",
      "25  5  2      3            0.392289                    0.554027\n",
      "26  5  2      5            0.384515                    0.538602\n",
      "27  5  2      7            0.355071                    0.556678\n",
      "28  5  2      9            0.363547                    0.569524\n",
      "29  5  2     11            0.379448                    0.569739\n",
      "30  5  3      1            0.093127                    0.893074\n",
      "31  5  3      3            0.121652                    0.860173\n",
      "32  5  3      5            0.131841                    0.859134\n",
      "33  5  3      7            0.144690                    0.852536\n",
      "34  5  3      9            0.134791                    0.860508\n",
      "35  5  3     11            0.130598                    0.865078\n",
      "36  6  1      1            0.524873                    0.431409\n",
      "37  6  1      3            0.456916                    0.534348\n",
      "38  6  1      5            0.408376                    0.612213\n",
      "39  6  1      7            0.361536                    0.652440\n",
      "40  6  1      9            0.333438                    0.675283\n",
      "41  6  1     11            0.382125                    0.629854\n",
      "42  6  2      1            0.241013                    0.737006\n",
      "43  6  2      3            0.259017                    0.693350\n",
      "44  6  2      5            0.233425                    0.719633\n",
      "45  6  2      7            0.243774                    0.717179\n",
      "46  6  2      9            0.242099                    0.735959\n",
      "47  6  2     11            0.252225                    0.717813\n",
      "48  6  3      1            0.244207                    0.717114\n",
      "49  6  3      3            0.238657                    0.749767\n",
      "50  6  3      5            0.213563                    0.749473\n",
      "51  6  3      7            0.222657                    0.746883\n",
      "52  6  3      9            0.234671                    0.725065\n",
      "53  6  3     11            0.233473                    0.731410\n"
     ]
    }
   ],
   "source": [
    "print(df[['N','T','Noise','Hellinger fidelity','Total Variational Distance']])"
   ],
   "metadata": {
    "collapsed": false
   }
  },
  {
   "cell_type": "code",
   "execution_count": 60,
   "outputs": [],
   "source": [
    "df['Top 10 ideal dist'] = df['ideal_result'].apply(lambda x: dict(sorted(x.items(), key= lambda y: y[1], reverse=True)[:10]))\n",
    "\n",
    "\n",
    "df['10 dist'] = df.apply(lambda x: )"
   ],
   "metadata": {
    "collapsed": false
   }
  },
  {
   "cell_type": "code",
   "execution_count": 61,
   "outputs": [
    {
     "name": "stdout",
     "output_type": "stream",
     "text": [
      "{'0000': 0.21072942962058566, '0001': 0.10991947097470432, '0010': 0.005167233144165657, '0011': 0.09997222549685236, '0100': 0.005167233144165663, '0101': 0.0007155727359123605, '0110': 0.012771790877538299, '0111': 0.03904677945542114, '1000': 0.10991947097470432, '1001': 0.0808798031602802, '1010': 0.0007155727359123619, '1011': 0.034285578346542826, '1100': 0.09997222549685239, '1101': 0.03428557834654281, '1110': 0.03904677945542116, '1111': 0.11740525603439873}\n"
     ]
    }
   ],
   "source": [
    "print(df['ideal_result'][0])"
   ],
   "metadata": {
    "collapsed": false
   }
  },
  {
   "cell_type": "code",
   "execution_count": 63,
   "outputs": [
    {
     "name": "stdout",
     "output_type": "stream",
     "text": [
      "{'0000': 0.21072942962058566, '1111': 0.11740525603439873, '0001': 0.10991947097470432, '1000': 0.10991947097470432, '1100': 0.09997222549685239, '0011': 0.09997222549685236, '1001': 0.0808798031602802, '1110': 0.03904677945542116, '0111': 0.03904677945542114, '1011': 0.034285578346542826}\n"
     ]
    }
   ],
   "source": [
    "print(df['Top 10 keys'][0])"
   ],
   "metadata": {
    "collapsed": false
   }
  },
  {
   "cell_type": "code",
   "execution_count": 148,
   "outputs": [
    {
     "data": {
      "text/plain": "'000000010000000000000001000'"
     },
     "execution_count": 148,
     "metadata": {},
     "output_type": "execute_result"
    }
   ],
   "source": [
    "key = list(top_75_dist_0_noise.keys())[15]\n",
    "\n",
    "data_points = []\n",
    "x = [1,32,5,7,9,11]\n",
    "\n",
    "for dist in average_results:\n",
    "    data_points.append(dist[key])\n",
    "\n",
    "key"
   ],
   "metadata": {
    "collapsed": false
   }
  },
  {
   "cell_type": "code",
   "execution_count": 149,
   "outputs": [
    {
     "data": {
      "text/plain": "<Figure size 640x480 with 1 Axes>",
      "image/png": "[encoded data removed]"
     },
     "metadata": {},
     "output_type": "display_data"
    }
   ],
   "source": [
    "import matplotlib.pyplot as plt\n",
    "\n",
    "plt.scatter(x,data_points)\n",
    "plt.show()"
   ],
   "metadata": {
    "collapsed": false
   }
  }
 ],
 "metadata": {
  "kernelspec": {
   "display_name": "Python 3",
   "language": "python",
   "name": "python3"
  },
  "language_info": {
   "codemirror_mode": {
    "name": "ipython",
    "version": 2
   },
   "file_extension": ".py",
   "mimetype": "text/x-python",
   "name": "python",
   "nbconvert_exporter": "python",
   "pygments_lexer": "ipython2",
   "version": "2.7.6"
  }
 },
 "nbformat": 4,
 "nbformat_minor": 0
}
