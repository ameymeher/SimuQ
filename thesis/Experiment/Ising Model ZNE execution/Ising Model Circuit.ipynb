{
 "cells": [
  {
   "cell_type": "code",
   "execution_count": 1,
   "outputs": [],
   "source": [
    "import numpy as np\n",
    "from SimuQ.thesis.Experiment.utilities.hamiltonian_models import Ising"
   ],
   "metadata": {
    "collapsed": false
   }
  },
  {
   "cell_type": "code",
   "execution_count": 2,
   "outputs": [],
   "source": [
    "N = 6\n",
    "T = 3"
   ],
   "metadata": {
    "collapsed": false
   }
  },
  {
   "cell_type": "markdown",
   "source": [
    "### Ising chain model creation"
   ],
   "metadata": {
    "collapsed": false
   }
  },
  {
   "cell_type": "code",
   "execution_count": 3,
   "metadata": {
    "collapsed": true
   },
   "outputs": [],
   "source": [
    "h = np.array([1 for j in range(N)])\n",
    "J_chain = np.zeros((N, N))\n",
    "for j in range(N - 1):\n",
    "    J_chain[j, j + 1] = 1\n",
    "\n",
    "J_cycle = np.copy(J_chain)\n",
    "J_cycle[0, N - 1] = 1\n",
    "\n",
    "Ising_chain = Ising(N, T, J_chain, h)"
   ]
  },
  {
   "cell_type": "markdown",
   "source": [
    "### Initialization step"
   ],
   "metadata": {
    "collapsed": false
   }
  },
  {
   "cell_type": "code",
   "execution_count": 4,
   "outputs": [],
   "source": [
    "from qiskit_ibm_provider import IBMProvider\n",
    "from simuq.provider import BaseProvider\n",
    "from simuq.solver import generate_as"
   ],
   "metadata": {
    "collapsed": false
   }
  },
  {
   "cell_type": "code",
   "execution_count": 5,
   "outputs": [],
   "source": [
    "#Init parameters of the IBMProvider\n",
    "qs = Ising_chain\n",
    "hub = \"ibm-q-ncsu\"\n",
    "group = \"nc-state\"\n",
    "project = \"quantum-compiler\"\n",
    "api_file = \"../ibm_API_key\"\n",
    "aais = 'heisenberg'\n",
    "backend = 'ibmq_mumbai'\n",
    "tol = 0.01\n",
    "trotter_num = 6\n",
    "verbose = 0\n",
    "use_pulse = True\n",
    "state_prep = None"
   ],
   "metadata": {
    "collapsed": false
   }
  },
  {
   "cell_type": "code",
   "execution_count": 6,
   "outputs": [
    {
     "name": "stderr",
     "output_type": "stream",
     "text": [
      "C:\\Users\\Admin\\AppData\\Local\\Temp\\ipykernel_324\\1520441117.py:6: DeprecationWarning: The package qiskit.providers.ibmq is being deprecated. Please see https://ibm.biz/provider_migration_guide to get instructions on how to migrate to qiskit-ibm-provider (https://github.com/Qiskit/qiskit-ibm-provider) and qiskit-ibm-runtime (https://github.com/Qiskit/qiskit-ibm-runtime).\n",
      "  provider = IBMQ.enable_account(api_key, hub='ibm-q-ncsu', group='nc-state', project='quantum-compiler')\n",
      "C:\\Users\\Admin\\AppData\\Local\\Temp\\ipykernel_324\\1520441117.py:6: DeprecationWarning: The qiskit.IBMQ entrypoint and the qiskit-ibmq-provider package (accessible from 'qiskit.providers.ibmq`) are deprecated and will be removed in a future release. Instead you should use the qiskit-ibm-provider package which is accessible from 'qiskit_ibm_provider'. You can install it with 'pip install qiskit_ibm_provider'. Just replace 'qiskit.IBMQ' with 'qiskit_ibm_provider.IBMProvider'\n",
      "  provider = IBMQ.enable_account(api_key, hub='ibm-q-ncsu', group='nc-state', project='quantum-compiler')\n"
     ]
    }
   ],
   "source": [
    "#Init functionality of the IBMProvider\n",
    "from qiskit import IBMQ\n",
    "with open(api_file, \"r\") as f:\n",
    "        api_key = f.readline().strip()\n",
    "\n",
    "provider = IBMQ.enable_account(api_key, hub='ibm-q-ncsu', group='nc-state', project='quantum-compiler')"
   ],
   "metadata": {
    "collapsed": false
   }
  },
  {
   "cell_type": "markdown",
   "source": [
    "### Compilation step"
   ],
   "metadata": {
    "collapsed": false
   }
  },
  {
   "cell_type": "code",
   "execution_count": 7,
   "outputs": [],
   "source": [
    "backend = provider.get_backend(backend)\n",
    "nsite = backend.configuration().n_qubits\n",
    "\n",
    "if qs.num_sites > nsite:\n",
    "    raise Exception(\"Device has less sites than the target quantum system.\")\n",
    "\n",
    "if aais == \"heisenberg\":\n",
    "    from simuq.aais import ibm\n",
    "    from qiskit_pulse_ibm import transpile\n",
    "\n",
    "    mach = ibm.generate_qmachine(backend)\n",
    "    comp = transpile"
   ],
   "metadata": {
    "collapsed": false
   }
  },
  {
   "cell_type": "code",
   "execution_count": 8,
   "outputs": [],
   "source": [
    "layout, sol_gvars, boxes, edges = generate_as(\n",
    "    qs,\n",
    "    mach,\n",
    "    trotter_num,\n",
    "    solver=\"least_squares\",\n",
    "    solver_args={\"tol\": tol},\n",
    "    override_layout=None,\n",
    "    verbose=verbose,\n",
    ")"
   ],
   "metadata": {
    "collapsed": false
   }
  },
  {
   "cell_type": "code",
   "execution_count": 9,
   "outputs": [],
   "source": [
    "circ = []\n",
    "\n",
    "for i in range(6):\n",
    "    circ.append(comp(\n",
    "        backend,\n",
    "        layout,\n",
    "        sol_gvars,\n",
    "        boxes,\n",
    "        edges,\n",
    "        use_pulse=True,\n",
    "        noise_factor=i\n",
    "    ))"
   ],
   "metadata": {
    "collapsed": false
   }
  },
  {
   "cell_type": "code",
   "execution_count": 10,
   "outputs": [],
   "source": [
    "from qiskit import transpile as transpile_qiskit\n",
    "transpiled_circ = []\n",
    "\n",
    "for i in range(len(circ)):\n",
    "    transpiled_circ.append(transpile_qiskit(circ[i],backend))"
   ],
   "metadata": {
    "collapsed": false
   }
  },
  {
   "cell_type": "code",
   "execution_count": 11,
   "outputs": [
    {
     "name": "stdout",
     "output_type": "stream",
     "text": [
      "cna1br7m2pvg008skvh0\n",
      "cna1bsf1m2c0008wyq80\n",
      "cna1btq8ff30008rjja0\n",
      "cna1bvz1m2c0008wyq90\n",
      "cna1bwz8ff30008rjjag\n",
      "cna1bxz8ff30008rjjb0\n"
     ]
    }
   ],
   "source": [
    "from qiskit import execute\n",
    "for i in range(len(transpiled_circ)):\n",
    "    job = execute([transpiled_circ[i]] * 5, shots=1024, backend=backend)\n",
    "    print(job.job_id())"
   ],
   "metadata": {
    "collapsed": false
   }
  },
  {
   "cell_type": "code",
   "execution_count": 11,
   "outputs": [],
   "source": [],
   "metadata": {
    "collapsed": false
   }
  }
 ],
 "metadata": {
  "kernelspec": {
   "display_name": "Python 3",
   "language": "python",
   "name": "python3"
  },
  "language_info": {
   "codemirror_mode": {
    "name": "ipython",
    "version": 2
   },
   "file_extension": ".py",
   "mimetype": "text/x-python",
   "name": "python",
   "nbconvert_exporter": "python",
   "pygments_lexer": "ipython2",
   "version": "2.7.6"
  }
 },
 "nbformat": 4,
 "nbformat_minor": 0
}
