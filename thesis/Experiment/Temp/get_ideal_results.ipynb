{
 "cells": [
  {
   "cell_type": "code",
   "execution_count": 1,
   "metadata": {},
   "outputs": [
    {
     "ename": "ImportError",
     "evalue": "dlopen(/Users/amey/anaconda3/envs/simuq/lib/python3.10/site-packages/qutip/cy/spmatfuncs.cpython-310-darwin.so, 0x0002): tried: '/Users/amey/anaconda3/envs/simuq/lib/python3.10/site-packages/qutip/cy/spmatfuncs.cpython-310-darwin.so' (mach-o file, but is an incompatible architecture (have 'x86_64', need 'arm64')), '/System/Volumes/Preboot/Cryptexes/OS/Users/amey/anaconda3/envs/simuq/lib/python3.10/site-packages/qutip/cy/spmatfuncs.cpython-310-darwin.so' (no such file), '/Users/amey/anaconda3/envs/simuq/lib/python3.10/site-packages/qutip/cy/spmatfuncs.cpython-310-darwin.so' (mach-o file, but is an incompatible architecture (have 'x86_64', need 'arm64'))",
     "output_type": "error",
     "traceback": [
      "\u001b[0;31m---------------------------------------------------------------------------\u001b[0m",
      "\u001b[0;31mImportError\u001b[0m                               Traceback (most recent call last)",
      "\u001b[1;32m/Users/amey/Desktop/Tasks/Thesis/SimuQ/thesis/Experiment/Temp/get_ideal_results.ipynb Cell 1\u001b[0m line \u001b[0;36m3\n\u001b[1;32m      <a href='vscode-notebook-cell:/Users/amey/Desktop/Tasks/Thesis/SimuQ/thesis/Experiment/Temp/get_ideal_results.ipynb#W0sZmlsZQ%3D%3D?line=0'>1</a>\u001b[0m \u001b[39m#Getting the ideal results\u001b[39;00m\n\u001b[1;32m      <a href='vscode-notebook-cell:/Users/amey/Desktop/Tasks/Thesis/SimuQ/thesis/Experiment/Temp/get_ideal_results.ipynb#W0sZmlsZQ%3D%3D?line=1'>2</a>\u001b[0m \u001b[39mfrom\u001b[39;00m \u001b[39mhamiltonian_models\u001b[39;00m \u001b[39mimport\u001b[39;00m Ising\n\u001b[0;32m----> <a href='vscode-notebook-cell:/Users/amey/Desktop/Tasks/Thesis/SimuQ/thesis/Experiment/Temp/get_ideal_results.ipynb#W0sZmlsZQ%3D%3D?line=2'>3</a>\u001b[0m \u001b[39mfrom\u001b[39;00m \u001b[39msimuq\u001b[39;00m\u001b[39m.\u001b[39;00m\u001b[39mqutip\u001b[39;00m \u001b[39mimport\u001b[39;00m QuTiPProvider\n\u001b[1;32m      <a href='vscode-notebook-cell:/Users/amey/Desktop/Tasks/Thesis/SimuQ/thesis/Experiment/Temp/get_ideal_results.ipynb#W0sZmlsZQ%3D%3D?line=3'>4</a>\u001b[0m \u001b[39mimport\u001b[39;00m \u001b[39mnumpy\u001b[39;00m \u001b[39mas\u001b[39;00m \u001b[39mnp\u001b[39;00m\n\u001b[1;32m      <a href='vscode-notebook-cell:/Users/amey/Desktop/Tasks/Thesis/SimuQ/thesis/Experiment/Temp/get_ideal_results.ipynb#W0sZmlsZQ%3D%3D?line=5'>6</a>\u001b[0m \u001b[39mdef\u001b[39;00m \u001b[39mget_ideal_result\u001b[39m(N,T):\n\u001b[1;32m      <a href='vscode-notebook-cell:/Users/amey/Desktop/Tasks/Thesis/SimuQ/thesis/Experiment/Temp/get_ideal_results.ipynb#W0sZmlsZQ%3D%3D?line=6'>7</a>\u001b[0m     \u001b[39m#Ising chain model creation\u001b[39;00m\n",
      "File \u001b[0;32m~/anaconda3/envs/simuq/lib/python3.10/site-packages/simuq/qutip/__init__.py:1\u001b[0m\n\u001b[0;32m----> 1\u001b[0m \u001b[39mfrom\u001b[39;00m \u001b[39msimuq\u001b[39;00m\u001b[39m.\u001b[39;00m\u001b[39mqutip\u001b[39;00m\u001b[39m.\u001b[39;00m\u001b[39mqutip_provider\u001b[39;00m \u001b[39mimport\u001b[39;00m QuTiPProvider\n",
      "File \u001b[0;32m~/anaconda3/envs/simuq/lib/python3.10/site-packages/simuq/qutip/qutip_provider.py:2\u001b[0m\n\u001b[1;32m      1\u001b[0m \u001b[39mimport\u001b[39;00m \u001b[39mnumpy\u001b[39;00m \u001b[39mas\u001b[39;00m \u001b[39mnp\u001b[39;00m\n\u001b[0;32m----> 2\u001b[0m \u001b[39mimport\u001b[39;00m \u001b[39mqutip\u001b[39;00m \u001b[39mas\u001b[39;00m \u001b[39mqp\u001b[39;00m\n\u001b[1;32m      4\u001b[0m \u001b[39mfrom\u001b[39;00m \u001b[39msimuq\u001b[39;00m\u001b[39m.\u001b[39;00m\u001b[39mprovider\u001b[39;00m \u001b[39mimport\u001b[39;00m BaseProvider\n\u001b[1;32m      7\u001b[0m \u001b[39mclass\u001b[39;00m \u001b[39mQuTiPProvider\u001b[39;00m(BaseProvider):\n",
      "File \u001b[0;32m~/anaconda3/envs/simuq/lib/python3.10/site-packages/qutip/__init__.py:114\u001b[0m\n\u001b[1;32m    106\u001b[0m     \u001b[39mdel\u001b[39;00m matplotlib\n\u001b[1;32m    109\u001b[0m \u001b[39m# -----------------------------------------------------------------------------\u001b[39;00m\n\u001b[1;32m    110\u001b[0m \u001b[39m# Load modules\u001b[39;00m\n\u001b[1;32m    111\u001b[0m \u001b[39m#\u001b[39;00m\n\u001b[1;32m    112\u001b[0m \n\u001b[1;32m    113\u001b[0m \u001b[39m# core\u001b[39;00m\n\u001b[0;32m--> 114\u001b[0m \u001b[39mfrom\u001b[39;00m \u001b[39mqutip\u001b[39;00m\u001b[39m.\u001b[39;00m\u001b[39mqobj\u001b[39;00m \u001b[39mimport\u001b[39;00m \u001b[39m*\u001b[39m\n\u001b[1;32m    115\u001b[0m \u001b[39mfrom\u001b[39;00m \u001b[39mqutip\u001b[39;00m\u001b[39m.\u001b[39;00m\u001b[39mqobjevo\u001b[39;00m \u001b[39mimport\u001b[39;00m \u001b[39m*\u001b[39m\n\u001b[1;32m    116\u001b[0m \u001b[39mfrom\u001b[39;00m \u001b[39mqutip\u001b[39;00m\u001b[39m.\u001b[39;00m\u001b[39mstates\u001b[39;00m \u001b[39mimport\u001b[39;00m \u001b[39m*\u001b[39m\n",
      "File \u001b[0;32m~/anaconda3/envs/simuq/lib/python3.10/site-packages/qutip/qobj.py:28\u001b[0m\n\u001b[1;32m     26\u001b[0m \u001b[39mimport\u001b[39;00m \u001b[39mqutip\u001b[39;00m\u001b[39m.\u001b[39;00m\u001b[39msettings\u001b[39;00m \u001b[39mas\u001b[39;00m \u001b[39msettings\u001b[39;00m\n\u001b[1;32m     27\u001b[0m \u001b[39mfrom\u001b[39;00m \u001b[39mqutip\u001b[39;00m \u001b[39mimport\u001b[39;00m __version__\n\u001b[0;32m---> 28\u001b[0m \u001b[39mfrom\u001b[39;00m \u001b[39mqutip\u001b[39;00m\u001b[39m.\u001b[39;00m\u001b[39mfastsparse\u001b[39;00m \u001b[39mimport\u001b[39;00m fast_csr_matrix, fast_identity\n\u001b[1;32m     29\u001b[0m \u001b[39mfrom\u001b[39;00m \u001b[39mqutip\u001b[39;00m\u001b[39m.\u001b[39;00m\u001b[39mcy\u001b[39;00m\u001b[39m.\u001b[39;00m\u001b[39mptrace\u001b[39;00m \u001b[39mimport\u001b[39;00m _ptrace\n\u001b[1;32m     30\u001b[0m \u001b[39mfrom\u001b[39;00m \u001b[39mqutip\u001b[39;00m\u001b[39m.\u001b[39;00m\u001b[39mpermute\u001b[39;00m \u001b[39mimport\u001b[39;00m _permute\n",
      "File \u001b[0;32m~/anaconda3/envs/simuq/lib/python3.10/site-packages/qutip/fastsparse.py:410\u001b[0m\n\u001b[1;32m    404\u001b[0m     \u001b[39mreturn\u001b[39;00m A\n\u001b[1;32m    408\u001b[0m \u001b[39m#Need to do some trailing imports here\u001b[39;00m\n\u001b[1;32m    409\u001b[0m \u001b[39m#-------------------------------------\u001b[39;00m\n\u001b[0;32m--> 410\u001b[0m \u001b[39mfrom\u001b[39;00m \u001b[39mqutip\u001b[39;00m\u001b[39m.\u001b[39;00m\u001b[39mcy\u001b[39;00m\u001b[39m.\u001b[39;00m\u001b[39mspmath\u001b[39;00m \u001b[39mimport\u001b[39;00m (zcsr_transpose, zcsr_adjoint, zcsr_mult)\n",
      "File \u001b[0;32m~/anaconda3/envs/simuq/lib/python3.10/site-packages/qutip/cy/__init__.py:1\u001b[0m\n\u001b[0;32m----> 1\u001b[0m \u001b[39mfrom\u001b[39;00m \u001b[39mqutip\u001b[39;00m\u001b[39m.\u001b[39;00m\u001b[39mcy\u001b[39;00m\u001b[39m.\u001b[39;00m\u001b[39mspmatfuncs\u001b[39;00m \u001b[39mimport\u001b[39;00m \u001b[39m*\u001b[39m\n",
      "\u001b[0;31mImportError\u001b[0m: dlopen(/Users/amey/anaconda3/envs/simuq/lib/python3.10/site-packages/qutip/cy/spmatfuncs.cpython-310-darwin.so, 0x0002): tried: '/Users/amey/anaconda3/envs/simuq/lib/python3.10/site-packages/qutip/cy/spmatfuncs.cpython-310-darwin.so' (mach-o file, but is an incompatible architecture (have 'x86_64', need 'arm64')), '/System/Volumes/Preboot/Cryptexes/OS/Users/amey/anaconda3/envs/simuq/lib/python3.10/site-packages/qutip/cy/spmatfuncs.cpython-310-darwin.so' (no such file), '/Users/amey/anaconda3/envs/simuq/lib/python3.10/site-packages/qutip/cy/spmatfuncs.cpython-310-darwin.so' (mach-o file, but is an incompatible architecture (have 'x86_64', need 'arm64'))"
     ]
    }
   ],
   "source": [
    "#Getting the ideal results\n",
    "from hamiltonian_models import Ising\n",
    "from simuq.qutip import QuTiPProvider\n",
    "import numpy as np\n",
    "\n",
    "def get_ideal_result(N,T):\n",
    "    #Ising chain model creation\n",
    "    h = np.array([1 for j in range(N)])\n",
    "    J_chain = np.zeros((N, N))\n",
    "    for j in range(N - 1):\n",
    "        J_chain[j, j + 1] = 1\n",
    "\n",
    "    J_cycle = np.copy(J_chain)\n",
    "    J_cycle[0, N - 1] = 1\n",
    "    Ising_chain = Ising(N, T, J_chain, h)\n",
    "\n",
    "    #Classical simulation\n",
    "    qtpp = QuTiPProvider()\n",
    "    qtpp.compile(Ising_chain)\n",
    "    qtpp.run()\n",
    "\n",
    "    return qtpp.results()\n",
    "\n",
    "ideal_result = get_ideal_result(4,1)"
   ]
  }
 ],
 "metadata": {
  "kernelspec": {
   "display_name": "simuq",
   "language": "python",
   "name": "python3"
  },
  "language_info": {
   "codemirror_mode": {
    "name": "ipython",
    "version": 3
   },
   "file_extension": ".py",
   "mimetype": "text/x-python",
   "name": "python",
   "nbconvert_exporter": "python",
   "pygments_lexer": "ipython3",
   "version": "3.10.13"
  }
 },
 "nbformat": 4,
 "nbformat_minor": 2
}
