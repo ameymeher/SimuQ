{
 "cells": [
  {
   "cell_type": "markdown",
   "id": "45466bdd",
   "metadata": {},
   "source": [
    "# Defining the Ising model"
   ]
  },
  {
   "cell_type": "code",
   "execution_count": 1,
   "id": "ba3b27d2",
   "metadata": {},
   "outputs": [],
   "source": [
    "from simuq.qsystem import QSystem\n",
    "from simuq.environment import Qubit\n",
    "\n",
    "def Ising(N, T, J, h):\n",
    "    qs = QSystem()\n",
    "    q = [Qubit(qs) for _ in range(N)]\n",
    "    H = 0\n",
    "    for j in range(N):\n",
    "        for k in range(N):\n",
    "            H += J[j, k] * q[j].Z * q[k].Z\n",
    "    for j in range(N):\n",
    "        H += h[j] * q[j].X\n",
    "    qs.add_evolution(H, T)\n",
    "    return qs"
   ]
  },
  {
   "cell_type": "code",
   "execution_count": 2,
   "id": "1ceb66bd",
   "metadata": {},
   "outputs": [],
   "source": [
    "import numpy as np\n",
    "\n",
    "N, T = 4, 1\n",
    "\n",
    "h = np.array([1 for j in range(N)])\n",
    "J_chain = np.zeros((N, N))\n",
    "for j in range(N - 1):\n",
    "    J_chain[j, j + 1] = 1\n",
    "Ising_chain = Ising(N, T, J_chain, h)\n",
    "\n",
    "J_cycle= np.copy(J_chain)\n",
    "J_cycle[0, N - 1] = 1\n",
    "Ising_cycle = Ising(N, T, J_cycle, h)"
   ]
  },
  {
   "cell_type": "markdown",
   "id": "34f19e55",
   "metadata": {},
   "source": [
    "# Function to determine the fidelity of the results"
   ]
  },
  {
   "cell_type": "markdown",
   "id": "af4d071e",
   "metadata": {},
   "source": [
    "In the following, we will use total variational distance to evaluate the simulation results, defined for two distribution $P_1, P_2$ as $$TV(P_1, P_2)=\\frac{1}{2}\\sum_x |P_1[x]-P_2[x]|.$$ We realize it as a function:"
   ]
  },
  {
   "cell_type": "code",
   "execution_count": 3,
   "id": "89f9fa40",
   "metadata": {},
   "outputs": [],
   "source": [
    "def TV(P1, P2):\n",
    "    keys = set(P1.keys()).union(P2.keys())\n",
    "    s = 0\n",
    "    for k in keys :\n",
    "        if k not in P1.keys():\n",
    "            s += P2[k]\n",
    "        elif k not in P2.keys():\n",
    "            s += P1[k]\n",
    "        else :\n",
    "            s += abs(P1[k] - P2[k])\n",
    "    return s / 2"
   ]
  },
  {
   "cell_type": "markdown",
   "id": "8cf6431e",
   "metadata": {},
   "source": [
    "# Classical simulation for comparison"
   ]
  },
  {
   "cell_type": "code",
   "execution_count": 4,
   "id": "b578cfbf",
   "metadata": {},
   "outputs": [],
   "source": [
    "from simuq.qutip import QuTiPProvider\n",
    "\n",
    "qtpp = QuTiPProvider()"
   ]
  },
  {
   "cell_type": "code",
   "execution_count": 5,
   "id": "b1e8f050",
   "metadata": {},
   "outputs": [
    {
     "name": "stdout",
     "output_type": "stream",
     "text": [
      "Compiled.\n"
     ]
    }
   ],
   "source": [
    "qtpp.compile(Ising_chain)"
   ]
  },
  {
   "cell_type": "code",
   "execution_count": 6,
   "id": "b29d46e2",
   "metadata": {},
   "outputs": [
    {
     "name": "stdout",
     "output_type": "stream",
     "text": [
      "Solved.\n"
     ]
    }
   ],
   "source": [
    "qtpp.run()"
   ]
  },
  {
   "cell_type": "code",
   "execution_count": 7,
   "id": "1092121f",
   "metadata": {},
   "outputs": [],
   "source": [
    "res_chain_gt = qtpp.results()"
   ]
  },
  {
   "cell_type": "markdown",
   "id": "9b82ad01",
   "metadata": {},
   "source": [
    "### IBM's Transmon Systems\n",
    "\n",
    "Here we access IBM’s devices via qiskit. Similarly, we create an IBMprovider. "
   ]
  },
  {
   "cell_type": "code",
   "execution_count": 8,
   "id": "324973eb",
   "metadata": {},
   "outputs": [],
   "source": [
    "from ibm_provider_custom import IBMProvider\n",
    "ibm = IBMProvider(from_file=\"../ibm_API_key\", hub=\"ibm-q-ncsu\", group=\"nc-state\", project=\"quantum-compiler\")"
   ]
  },
  {
   "cell_type": "code",
   "execution_count": 9,
   "id": "c7865db6",
   "metadata": {},
   "outputs": [
    {
     "name": "stdout",
     "output_type": "stream",
     "text": [
      "[0, 1, 2, 3]\n"
     ]
    }
   ],
   "source": [
    "ibm.compile(Ising_chain, backend=\"ibm_sherbrooke\", trotter_num=4,use_pulse=True)"
   ]
  },
  {
   "cell_type": "code",
   "execution_count": 10,
   "id": "d61d5ec6",
   "metadata": {},
   "outputs": [
    {
     "data": {
      "text/plain": [
       "4"
      ]
     },
     "execution_count": 10,
     "metadata": {},
     "output_type": "execute_result"
    }
   ],
   "source": [
    "ibm.prog.num_qubits"
   ]
  },
  {
   "cell_type": "code",
   "execution_count": 11,
   "id": "9f904d74",
   "metadata": {},
   "outputs": [
    {
     "name": "stdout",
     "output_type": "stream",
     "text": [
      "<IBMCircuitJob('cnh8b3n24o3ssknntie0')>\n"
     ]
    },
    {
     "ename": "AttributeError",
     "evalue": "'NoneType' object has no attribute 'job_id'",
     "output_type": "error",
     "traceback": [
      "\u001b[1;31m---------------------------------------------------------------------------\u001b[0m",
      "\u001b[1;31mAttributeError\u001b[0m                            Traceback (most recent call last)",
      "Cell \u001b[1;32mIn[11], line 2\u001b[0m\n\u001b[0;32m      1\u001b[0m job \u001b[38;5;241m=\u001b[39m ibm\u001b[38;5;241m.\u001b[39mrun(on_simulator\u001b[38;5;241m=\u001b[39m\u001b[38;5;28;01mTrue\u001b[39;00m)\n\u001b[1;32m----> 2\u001b[0m \u001b[38;5;28mprint\u001b[39m(\u001b[43mjob\u001b[49m\u001b[38;5;241;43m.\u001b[39;49m\u001b[43mjob_id\u001b[49m())\n",
      "\u001b[1;31mAttributeError\u001b[0m: 'NoneType' object has no attribute 'job_id'"
     ]
    }
   ],
   "source": [
    "job = ibm.run(on_simulator=True)"
   ]
  },
  {
   "cell_type": "code",
   "execution_count": 15,
   "id": "274f6738",
   "metadata": {},
   "outputs": [
    {
     "data": {
      "text/plain": [
       "'cnh8b3n24o3ssknntie0'"
      ]
     },
     "execution_count": 15,
     "metadata": {},
     "output_type": "execute_result"
    }
   ],
   "source": [
    "ibm.task.job_id()"
   ]
  },
  {
   "cell_type": "code",
   "execution_count": 11,
   "id": "10b299bf",
   "metadata": {},
   "outputs": [
    {
     "ename": "ImportError",
     "evalue": "cannot import name 'FakeSherbrookeV2' from 'qiskit.providers.fake_provider' (c:\\Users\\Admin\\.conda\\envs\\simuq\\lib\\site-packages\\qiskit\\providers\\fake_provider\\__init__.py)",
     "output_type": "error",
     "traceback": [
      "\u001b[1;31m---------------------------------------------------------------------------\u001b[0m",
      "\u001b[1;31mImportError\u001b[0m                               Traceback (most recent call last)",
      "Cell \u001b[1;32mIn[11], line 1\u001b[0m\n\u001b[1;32m----> 1\u001b[0m \u001b[43mibm\u001b[49m\u001b[38;5;241;43m.\u001b[39;49m\u001b[43mrun\u001b[49m\u001b[43m(\u001b[49m\u001b[43mon_simulator\u001b[49m\u001b[38;5;241;43m=\u001b[39;49m\u001b[38;5;28;43;01mTrue\u001b[39;49;00m\u001b[43m,\u001b[49m\u001b[43mwith_noise\u001b[49m\u001b[38;5;241;43m=\u001b[39;49m\u001b[38;5;28;43;01mTrue\u001b[39;49;00m\u001b[43m)\u001b[49m\n\u001b[0;32m      2\u001b[0m ibm\u001b[38;5;241m.\u001b[39mtask\u001b[38;5;241m.\u001b[39mjob_id()\n",
      "File \u001b[1;32mc:\\Users\\Admin\\Desktop\\Tasks\\NCSU\\3rd Sem courses\\Thesis\\SimuQ\\thesis\\Experiment\\Simulator execution\\ibm_provider_custom.py:78\u001b[0m, in \u001b[0;36mIBMProvider.run\u001b[1;34m(self, shots, on_simulator, with_noise, verbose)\u001b[0m\n\u001b[0;32m     76\u001b[0m \u001b[38;5;28;01mif\u001b[39;00m with_noise:\n\u001b[0;32m     77\u001b[0m     \u001b[38;5;28;01mfrom\u001b[39;00m \u001b[38;5;21;01mqiskit_aer\u001b[39;00m\u001b[38;5;21;01m.\u001b[39;00m\u001b[38;5;21;01mnoise\u001b[39;00m \u001b[38;5;28;01mimport\u001b[39;00m NoiseModel\n\u001b[1;32m---> 78\u001b[0m     \u001b[38;5;28;01mfrom\u001b[39;00m \u001b[38;5;21;01mqiskit\u001b[39;00m\u001b[38;5;21;01m.\u001b[39;00m\u001b[38;5;21;01mproviders\u001b[39;00m\u001b[38;5;21;01m.\u001b[39;00m\u001b[38;5;21;01mfake_provider\u001b[39;00m \u001b[38;5;28;01mimport\u001b[39;00m FakeSherbrookeV2\n\u001b[0;32m     80\u001b[0m     \u001b[38;5;28mself\u001b[39m\u001b[38;5;241m.\u001b[39msimulator \u001b[38;5;241m=\u001b[39m \u001b[38;5;28mself\u001b[39m\u001b[38;5;241m.\u001b[39mprovider\u001b[38;5;241m.\u001b[39mget_backend(\u001b[38;5;124m\"\u001b[39m\u001b[38;5;124mibmq_qasm_simulator\u001b[39m\u001b[38;5;124m\"\u001b[39m)\n\u001b[0;32m     81\u001b[0m     \u001b[38;5;66;03m# currently a bug in ibm's backend\u001b[39;00m\n\u001b[0;32m     82\u001b[0m     \u001b[38;5;66;03m#from qiskit.providers.fake_provider import FakeGuadalupe\u001b[39;00m\n",
      "\u001b[1;31mImportError\u001b[0m: cannot import name 'FakeSherbrookeV2' from 'qiskit.providers.fake_provider' (c:\\Users\\Admin\\.conda\\envs\\simuq\\lib\\site-packages\\qiskit\\providers\\fake_provider\\__init__.py)"
     ]
    }
   ],
   "source": [
    "ibm.run(on_simulator=True,with_noise=True)\n",
    "ibm.task.job_id()"
   ]
  },
  {
   "cell_type": "code",
   "execution_count": 11,
   "id": "425abd7d",
   "metadata": {},
   "outputs": [
    {
     "data": {
      "text/plain": [
       "0.14885611287558542"
      ]
     },
     "execution_count": 11,
     "metadata": {},
     "output_type": "execute_result"
    }
   ],
   "source": [
    "res_ibm_chain = ibm.results(job_id='cnh7dbn24o3ssknnq8v0',on_simulator=True)\n",
    "TV(res_chain_gt, res_ibm_chain)"
   ]
  },
  {
   "cell_type": "markdown",
   "id": "c8422174",
   "metadata": {},
   "source": [
    "A noisy simulation for IBM devices is also possible. We repeat the above procedure to see how noises will likely affect the results."
   ]
  },
  {
   "cell_type": "code",
   "execution_count": 12,
   "id": "0a43be69",
   "metadata": {},
   "outputs": [
    {
     "name": "stderr",
     "output_type": "stream",
     "text": [
      "C:\\Users\\Admin\\AppData\\Roaming\\Python\\Python39\\site-packages\\qiskit_aer\\noise\\device\\models.py:145: UserWarning: When `target` is supplied, `standard_gates` and `warnings` are ignored, and they are always set to true.\n",
      "  warn(\"When `target` is supplied, `standard_gates` and `warnings` are ignored,\"\n"
     ]
    },
    {
     "name": "stdout",
     "output_type": "stream",
     "text": [
      "<qiskit.providers.ibmq.job.ibmqjob.IBMQJob object at 0x000002FBBD92C400>\n"
     ]
    }
   ],
   "source": [
    "ibm.run(on_simulator=True, with_noise=True)"
   ]
  },
  {
   "cell_type": "code",
   "execution_count": 13,
   "id": "8ca34df2",
   "metadata": {},
   "outputs": [
    {
     "data": {
      "text/plain": [
       "0.15607175001152546"
      ]
     },
     "execution_count": 13,
     "metadata": {},
     "output_type": "execute_result"
    }
   ],
   "source": [
    "res_ibm_chain_noisy = ibm.results(on_simulator=True)\n",
    "TV(res_chain_gt, res_ibm_chain_noisy)"
   ]
  },
  {
   "cell_type": "code",
   "execution_count": 14,
   "id": "0b61d34a",
   "metadata": {},
   "outputs": [
    {
     "name": "stdout",
     "output_type": "stream",
     "text": [
      "<qiskit.providers.ibmq.job.ibmqjob.IBMQJob object at 0x000002FBBD93AAF0>\n"
     ]
    }
   ],
   "source": [
    "ibm.run()"
   ]
  },
  {
   "cell_type": "code",
   "execution_count": 21,
   "id": "87b66911",
   "metadata": {},
   "outputs": [
    {
     "data": {
      "text/plain": [
       "0.21295651563652543"
      ]
     },
     "execution_count": 21,
     "metadata": {},
     "output_type": "execute_result"
    }
   ],
   "source": [
    "res_ibm_chain_real = ibm.results(on_simulator=False)\n",
    "TV(res_chain_gt, res_ibm_chain_real)"
   ]
  },
  {
   "cell_type": "code",
   "execution_count": 22,
   "id": "b6611836",
   "metadata": {},
   "outputs": [],
   "source": [
    "ibm.compile(Ising_chain, backend=\"ibm_nairobi\", trotter_num=4,use_pulse=True)"
   ]
  },
  {
   "cell_type": "code",
   "execution_count": 23,
   "id": "ca38a228",
   "metadata": {},
   "outputs": [
    {
     "name": "stdout",
     "output_type": "stream",
     "text": [
      "<qiskit.providers.ibmq.job.ibmqjob.IBMQJob object at 0x000002FBBD934610>\n"
     ]
    }
   ],
   "source": [
    "ibm.run()"
   ]
  },
  {
   "cell_type": "code",
   "execution_count": 25,
   "id": "bffc1098",
   "metadata": {},
   "outputs": [
    {
     "data": {
      "text/plain": [
       "0.1734397149637851"
      ]
     },
     "execution_count": 25,
     "metadata": {},
     "output_type": "execute_result"
    }
   ],
   "source": [
    "res_ibm_chain_real = ibm.results(on_simulator=False)\n",
    "TV(res_chain_gt, res_ibm_chain_real)"
   ]
  },
  {
   "cell_type": "code",
   "execution_count": null,
   "id": "eba275ca",
   "metadata": {},
   "outputs": [
    {
     "name": "stdout",
     "output_type": "stream",
     "text": [
      "[<IBMQSimulator('ibmq_qasm_simulator') from IBMQ(hub='ibm-q', group='open', project='main')>, <IBMQSimulator('simulator_statevector') from IBMQ(hub='ibm-q', group='open', project='main')>, <IBMQSimulator('simulator_mps') from IBMQ(hub='ibm-q', group='open', project='main')>, <IBMQSimulator('simulator_extended_stabilizer') from IBMQ(hub='ibm-q', group='open', project='main')>, <IBMQSimulator('simulator_stabilizer') from IBMQ(hub='ibm-q', group='open', project='main')>, <IBMQBackend('ibm_lagos') from IBMQ(hub='ibm-q', group='open', project='main')>, <IBMQBackend('ibm_nairobi') from IBMQ(hub='ibm-q', group='open', project='main')>, <IBMQBackend('ibm_perth') from IBMQ(hub='ibm-q', group='open', project='main')>, <IBMQBackend('ibm_brisbane') from IBMQ(hub='ibm-q', group='open', project='main')>]\n"
     ]
    }
   ],
   "source": [
    "ibm.supported_backends()"
   ]
  },
  {
   "cell_type": "code",
   "execution_count": null,
   "id": "4506ef5a",
   "metadata": {},
   "outputs": [],
   "source": [
    "ibm.prog.draw('mpl')"
   ]
  },
  {
   "cell_type": "code",
   "execution_count": null,
   "id": "ab95bc12",
   "metadata": {},
   "outputs": [
    {
     "ename": "AccountAlreadyExistsError",
     "evalue": "'Named account (default-ibm-quantum) already exists. Set overwrite=True to overwrite.'",
     "output_type": "error",
     "traceback": [
      "\u001b[0;31m---------------------------------------------------------------------------\u001b[0m",
      "\u001b[0;31mAccountAlreadyExistsError\u001b[0m                 Traceback (most recent call last)",
      "\u001b[1;32m/workspaces/SimuQ/thesis/ibm_simulator_execution.ipynb Cell 22\u001b[0m line \u001b[0;36m6\n\u001b[1;32m      <a href='vscode-notebook-cell://codespaces%2Bscaling-pancake-vpr79qrg74g2wvv6/workspaces/SimuQ/thesis/ibm_simulator_execution.ipynb#X31sdnNjb2RlLXJlbW90ZQ%3D%3D?line=2'>3</a>\u001b[0m \u001b[39mwith\u001b[39;00m \u001b[39mopen\u001b[39m(\u001b[39m\"\u001b[39m\u001b[39mibm_API_key\u001b[39m\u001b[39m\"\u001b[39m, \u001b[39m\"\u001b[39m\u001b[39mr\u001b[39m\u001b[39m\"\u001b[39m) \u001b[39mas\u001b[39;00m f:\n\u001b[1;32m      <a href='vscode-notebook-cell://codespaces%2Bscaling-pancake-vpr79qrg74g2wvv6/workspaces/SimuQ/thesis/ibm_simulator_execution.ipynb#X31sdnNjb2RlLXJlbW90ZQ%3D%3D?line=3'>4</a>\u001b[0m     api_key \u001b[39m=\u001b[39m f\u001b[39m.\u001b[39mreadline()\u001b[39m.\u001b[39mstrip()\n\u001b[0;32m----> <a href='vscode-notebook-cell://codespaces%2Bscaling-pancake-vpr79qrg74g2wvv6/workspaces/SimuQ/thesis/ibm_simulator_execution.ipynb#X31sdnNjb2RlLXJlbW90ZQ%3D%3D?line=5'>6</a>\u001b[0m QiskitRuntimeService\u001b[39m.\u001b[39;49msave_account(channel\u001b[39m=\u001b[39;49m\u001b[39m\"\u001b[39;49m\u001b[39mibm_quantum\u001b[39;49m\u001b[39m\"\u001b[39;49m, token\u001b[39m=\u001b[39;49mapi_key)\n",
      "File \u001b[0;32m~/.python/current/lib/python3.10/site-packages/qiskit_ibm_runtime/qiskit_runtime_service.py:719\u001b[0m, in \u001b[0;36mQiskitRuntimeService.save_account\u001b[0;34m(token, url, instance, channel, filename, name, proxies, verify, overwrite, channel_strategy, set_as_default)\u001b[0m\n\u001b[1;32m    682\u001b[0m \u001b[39m@staticmethod\u001b[39m\n\u001b[1;32m    683\u001b[0m \u001b[39mdef\u001b[39;00m \u001b[39msave_account\u001b[39m(\n\u001b[1;32m    684\u001b[0m     token: Optional[\u001b[39mstr\u001b[39m] \u001b[39m=\u001b[39m \u001b[39mNone\u001b[39;00m,\n\u001b[0;32m   (...)\u001b[0m\n\u001b[1;32m    694\u001b[0m     set_as_default: Optional[\u001b[39mbool\u001b[39m] \u001b[39m=\u001b[39m \u001b[39mNone\u001b[39;00m,\n\u001b[1;32m    695\u001b[0m ) \u001b[39m-\u001b[39m\u001b[39m>\u001b[39m \u001b[39mNone\u001b[39;00m:\n\u001b[1;32m    696\u001b[0m \u001b[39m    \u001b[39m\u001b[39m\"\"\"Save the account to disk for future use.\u001b[39;00m\n\u001b[1;32m    697\u001b[0m \n\u001b[1;32m    698\u001b[0m \u001b[39m    Args:\u001b[39;00m\n\u001b[0;32m   (...)\u001b[0m\n\u001b[1;32m    716\u001b[0m \u001b[39m            as the default account.\u001b[39;00m\n\u001b[1;32m    717\u001b[0m \u001b[39m    \"\"\"\u001b[39;00m\n\u001b[0;32m--> 719\u001b[0m     AccountManager\u001b[39m.\u001b[39;49msave(\n\u001b[1;32m    720\u001b[0m         token\u001b[39m=\u001b[39;49mtoken,\n\u001b[1;32m    721\u001b[0m         url\u001b[39m=\u001b[39;49murl,\n\u001b[1;32m    722\u001b[0m         instance\u001b[39m=\u001b[39;49minstance,\n\u001b[1;32m    723\u001b[0m         channel\u001b[39m=\u001b[39;49mchannel,\n\u001b[1;32m    724\u001b[0m         filename\u001b[39m=\u001b[39;49mfilename,\n\u001b[1;32m    725\u001b[0m         name\u001b[39m=\u001b[39;49mname,\n\u001b[1;32m    726\u001b[0m         proxies\u001b[39m=\u001b[39;49mProxyConfiguration(\u001b[39m*\u001b[39;49m\u001b[39m*\u001b[39;49mproxies) \u001b[39mif\u001b[39;49;00m proxies \u001b[39melse\u001b[39;49;00m \u001b[39mNone\u001b[39;49;00m,\n\u001b[1;32m    727\u001b[0m         verify\u001b[39m=\u001b[39;49mverify,\n\u001b[1;32m    728\u001b[0m         overwrite\u001b[39m=\u001b[39;49moverwrite,\n\u001b[1;32m    729\u001b[0m         channel_strategy\u001b[39m=\u001b[39;49mchannel_strategy,\n\u001b[1;32m    730\u001b[0m         set_as_default\u001b[39m=\u001b[39;49mset_as_default,\n\u001b[1;32m    731\u001b[0m     )\n",
      "File \u001b[0;32m~/.python/current/lib/python3.10/site-packages/qiskit_ibm_runtime/accounts/management.py:67\u001b[0m, in \u001b[0;36mAccountManager.save\u001b[0;34m(cls, token, url, instance, channel, filename, name, proxies, verify, overwrite, channel_strategy, set_as_default)\u001b[0m\n\u001b[1;32m     57\u001b[0m filename \u001b[39m=\u001b[39m os\u001b[39m.\u001b[39mpath\u001b[39m.\u001b[39mexpanduser(filename)\n\u001b[1;32m     58\u001b[0m config \u001b[39m=\u001b[39m Account\u001b[39m.\u001b[39mcreate_account(\n\u001b[1;32m     59\u001b[0m     channel\u001b[39m=\u001b[39mchannel,\n\u001b[1;32m     60\u001b[0m     token\u001b[39m=\u001b[39mtoken,\n\u001b[0;32m   (...)\u001b[0m\n\u001b[1;32m     65\u001b[0m     channel_strategy\u001b[39m=\u001b[39mchannel_strategy,\n\u001b[1;32m     66\u001b[0m )\n\u001b[0;32m---> 67\u001b[0m \u001b[39mreturn\u001b[39;00m save_config(\n\u001b[1;32m     68\u001b[0m     filename\u001b[39m=\u001b[39;49mfilename,\n\u001b[1;32m     69\u001b[0m     name\u001b[39m=\u001b[39;49mname,\n\u001b[1;32m     70\u001b[0m     overwrite\u001b[39m=\u001b[39;49moverwrite,\n\u001b[1;32m     71\u001b[0m     config\u001b[39m=\u001b[39;49mconfig\n\u001b[1;32m     72\u001b[0m     \u001b[39m# avoid storing invalid accounts\u001b[39;49;00m\n\u001b[1;32m     73\u001b[0m     \u001b[39m.\u001b[39;49mvalidate()\u001b[39m.\u001b[39;49mto_saved_format(),\n\u001b[1;32m     74\u001b[0m     set_as_default\u001b[39m=\u001b[39;49mset_as_default,\n\u001b[1;32m     75\u001b[0m )\n",
      "File \u001b[0;32m~/.python/current/lib/python3.10/site-packages/qiskit_ibm_runtime/accounts/storage.py:36\u001b[0m, in \u001b[0;36msave_config\u001b[0;34m(filename, name, config, overwrite, set_as_default)\u001b[0m\n\u001b[1;32m     33\u001b[0m     data \u001b[39m=\u001b[39m json\u001b[39m.\u001b[39mload(json_in)\n\u001b[1;32m     35\u001b[0m \u001b[39mif\u001b[39;00m data\u001b[39m.\u001b[39mget(name) \u001b[39mand\u001b[39;00m \u001b[39mnot\u001b[39;00m overwrite:\n\u001b[0;32m---> 36\u001b[0m     \u001b[39mraise\u001b[39;00m AccountAlreadyExistsError(\n\u001b[1;32m     37\u001b[0m         \u001b[39mf\u001b[39m\u001b[39m\"\u001b[39m\u001b[39mNamed account (\u001b[39m\u001b[39m{\u001b[39;00mname\u001b[39m}\u001b[39;00m\u001b[39m) already exists. \u001b[39m\u001b[39m\"\u001b[39m \u001b[39mf\u001b[39m\u001b[39m\"\u001b[39m\u001b[39mSet overwrite=True to overwrite.\u001b[39m\u001b[39m\"\u001b[39m\n\u001b[1;32m     38\u001b[0m     )\n\u001b[1;32m     40\u001b[0m data[name] \u001b[39m=\u001b[39m config\n\u001b[1;32m     42\u001b[0m \u001b[39m# if set_as_default, but another account is defined as default, user must specify overwrite to change\u001b[39;00m\n\u001b[1;32m     43\u001b[0m \u001b[39m# the default account.\u001b[39;00m\n",
      "\u001b[0;31mAccountAlreadyExistsError\u001b[0m: 'Named account (default-ibm-quantum) already exists. Set overwrite=True to overwrite.'"
     ]
    }
   ],
   "source": [
    "from qiskit_ibm_runtime import QiskitRuntimeService\n",
    "\n",
    "with open(\"ibm_API_key\", \"r\") as f:\n",
    "    api_key = f.readline().strip()\n",
    "\n",
    "QiskitRuntimeService.save_account(channel=\"ibm_quantum\", token=api_key)"
   ]
  },
  {
   "cell_type": "code",
   "execution_count": null,
   "id": "01e8ef7e",
   "metadata": {},
   "outputs": [],
   "source": [
    "service = QiskitRuntimeService(channel=\"ibm_quantum\",instance=\"ibm-q/open/main\")\n",
    "backend = service.backend(\"ibmq_qasm_simulator\")"
   ]
  },
  {
   "cell_type": "code",
   "execution_count": null,
   "id": "29bda883",
   "metadata": {},
   "outputs": [],
   "source": [
    "from qiskit_ibm_runtime import Sampler\n",
    "sampler = Sampler(backend=backend)"
   ]
  },
  {
   "cell_type": "code",
   "execution_count": null,
   "id": "4e11df08",
   "metadata": {},
   "outputs": [
    {
     "ename": "QpyError",
     "evalue": "\"Object type '<class 'qiskit.pulse.schedule.Schedule'>' is not supported in Program namespace.\"",
     "output_type": "error",
     "traceback": [
      "\u001b[0;31m---------------------------------------------------------------------------\u001b[0m",
      "\u001b[0;31mQpyError\u001b[0m                                  Traceback (most recent call last)",
      "\u001b[1;32m/workspaces/SimuQ/thesis/ibm_simulator_execution.ipynb Cell 25\u001b[0m line \u001b[0;36m1\n\u001b[0;32m----> <a href='vscode-notebook-cell://codespaces%2Bscaling-pancake-vpr79qrg74g2wvv6/workspaces/SimuQ/thesis/ibm_simulator_execution.ipynb#X34sdnNjb2RlLXJlbW90ZQ%3D%3D?line=0'>1</a>\u001b[0m job \u001b[39m=\u001b[39m sampler\u001b[39m.\u001b[39;49mrun(ibm\u001b[39m.\u001b[39;49mprog)\n\u001b[1;32m      <a href='vscode-notebook-cell://codespaces%2Bscaling-pancake-vpr79qrg74g2wvv6/workspaces/SimuQ/thesis/ibm_simulator_execution.ipynb#X34sdnNjb2RlLXJlbW90ZQ%3D%3D?line=1'>2</a>\u001b[0m \u001b[39mprint\u001b[39m(\u001b[39mf\u001b[39m\u001b[39m\"\u001b[39m\u001b[39m>>> Job ID: \u001b[39m\u001b[39m{\u001b[39;00mjob\u001b[39m.\u001b[39mjob_id()\u001b[39m}\u001b[39;00m\u001b[39m\"\u001b[39m)\n\u001b[1;32m      <a href='vscode-notebook-cell://codespaces%2Bscaling-pancake-vpr79qrg74g2wvv6/workspaces/SimuQ/thesis/ibm_simulator_execution.ipynb#X34sdnNjb2RlLXJlbW90ZQ%3D%3D?line=2'>3</a>\u001b[0m \u001b[39mprint\u001b[39m(\u001b[39mf\u001b[39m\u001b[39m\"\u001b[39m\u001b[39m>>> Job Status: \u001b[39m\u001b[39m{\u001b[39;00mjob\u001b[39m.\u001b[39mstatus()\u001b[39m}\u001b[39;00m\u001b[39m\"\u001b[39m)\n",
      "File \u001b[0;32m~/.python/current/lib/python3.10/site-packages/qiskit_ibm_runtime/sampler.py:119\u001b[0m, in \u001b[0;36mSampler.run\u001b[0;34m(self, circuits, parameter_values, **kwargs)\u001b[0m\n\u001b[1;32m    117\u001b[0m \u001b[39m# To bypass base class merging of options.\u001b[39;00m\n\u001b[1;32m    118\u001b[0m user_kwargs \u001b[39m=\u001b[39m {\u001b[39m\"\u001b[39m\u001b[39m_user_kwargs\u001b[39m\u001b[39m\"\u001b[39m: kwargs}\n\u001b[0;32m--> 119\u001b[0m \u001b[39mreturn\u001b[39;00m \u001b[39msuper\u001b[39;49m()\u001b[39m.\u001b[39;49mrun(\n\u001b[1;32m    120\u001b[0m     circuits\u001b[39m=\u001b[39;49mcircuits,\n\u001b[1;32m    121\u001b[0m     parameter_values\u001b[39m=\u001b[39;49mparameter_values,\n\u001b[1;32m    122\u001b[0m     \u001b[39m*\u001b[39;49m\u001b[39m*\u001b[39;49muser_kwargs,\n\u001b[1;32m    123\u001b[0m )\n",
      "File \u001b[0;32m~/.python/current/lib/python3.10/site-packages/qiskit/primitives/base/base_sampler.py:147\u001b[0m, in \u001b[0;36mBaseSampler.run\u001b[0;34m(self, circuits, parameter_values, **run_options)\u001b[0m\n\u001b[1;32m    144\u001b[0m run_opts \u001b[39m=\u001b[39m copy(\u001b[39mself\u001b[39m\u001b[39m.\u001b[39moptions)\n\u001b[1;32m    145\u001b[0m run_opts\u001b[39m.\u001b[39mupdate_options(\u001b[39m*\u001b[39m\u001b[39m*\u001b[39mrun_options)\n\u001b[0;32m--> 147\u001b[0m \u001b[39mreturn\u001b[39;00m \u001b[39mself\u001b[39;49m\u001b[39m.\u001b[39;49m_run(\n\u001b[1;32m    148\u001b[0m     circuits,\n\u001b[1;32m    149\u001b[0m     parameter_values,\n\u001b[1;32m    150\u001b[0m     \u001b[39m*\u001b[39;49m\u001b[39m*\u001b[39;49mrun_opts\u001b[39m.\u001b[39;49m\u001b[39m__dict__\u001b[39;49m,\n\u001b[1;32m    151\u001b[0m )\n",
      "File \u001b[0;32m~/.python/current/lib/python3.10/site-packages/qiskit_ibm_runtime/sampler.py:149\u001b[0m, in \u001b[0;36mSampler._run\u001b[0;34m(self, circuits, parameter_values, **kwargs)\u001b[0m\n\u001b[1;32m    131\u001b[0m \u001b[39m\u001b[39m\u001b[39m\"\"\"Submit a request to the sampler primitive.\u001b[39;00m\n\u001b[1;32m    132\u001b[0m \n\u001b[1;32m    133\u001b[0m \u001b[39mArgs:\u001b[39;00m\n\u001b[0;32m   (...)\u001b[0m\n\u001b[1;32m    141\u001b[0m \u001b[39m    Submitted job.\u001b[39;00m\n\u001b[1;32m    142\u001b[0m \u001b[39m\"\"\"\u001b[39;00m\n\u001b[1;32m    143\u001b[0m inputs \u001b[39m=\u001b[39m {\n\u001b[1;32m    144\u001b[0m     \u001b[39m\"\u001b[39m\u001b[39mcircuits\u001b[39m\u001b[39m\"\u001b[39m: circuits,\n\u001b[1;32m    145\u001b[0m     \u001b[39m\"\u001b[39m\u001b[39mparameters\u001b[39m\u001b[39m\"\u001b[39m: [circ\u001b[39m.\u001b[39mparameters \u001b[39mfor\u001b[39;00m circ \u001b[39min\u001b[39;00m circuits],\n\u001b[1;32m    146\u001b[0m     \u001b[39m\"\u001b[39m\u001b[39mcircuit_indices\u001b[39m\u001b[39m\"\u001b[39m: \u001b[39mlist\u001b[39m(\u001b[39mrange\u001b[39m(\u001b[39mlen\u001b[39m(circuits))),\n\u001b[1;32m    147\u001b[0m     \u001b[39m\"\u001b[39m\u001b[39mparameter_values\u001b[39m\u001b[39m\"\u001b[39m: parameter_values,\n\u001b[1;32m    148\u001b[0m }\n\u001b[0;32m--> 149\u001b[0m \u001b[39mreturn\u001b[39;00m \u001b[39mself\u001b[39;49m\u001b[39m.\u001b[39;49m_run_primitive(\n\u001b[1;32m    150\u001b[0m     primitive_inputs\u001b[39m=\u001b[39;49minputs, user_kwargs\u001b[39m=\u001b[39;49mkwargs\u001b[39m.\u001b[39;49mget(\u001b[39m\"\u001b[39;49m\u001b[39m_user_kwargs\u001b[39;49m\u001b[39m\"\u001b[39;49m, {})\n\u001b[1;32m    151\u001b[0m )\n",
      "File \u001b[0;32m~/.python/current/lib/python3.10/site-packages/qiskit_ibm_runtime/base_primitive.py:173\u001b[0m, in \u001b[0;36mBasePrimitive._run_primitive\u001b[0;34m(self, primitive_inputs, user_kwargs)\u001b[0m\n\u001b[1;32m    170\u001b[0m     \u001b[39mif\u001b[39;00m \u001b[39m\"\u001b[39m\u001b[39minstance\u001b[39m\u001b[39m\"\u001b[39m \u001b[39mnot\u001b[39;00m \u001b[39min\u001b[39;00m runtime_options:\n\u001b[1;32m    171\u001b[0m         runtime_options[\u001b[39m\"\u001b[39m\u001b[39minstance\u001b[39m\u001b[39m\"\u001b[39m] \u001b[39m=\u001b[39m \u001b[39mself\u001b[39m\u001b[39m.\u001b[39m_backend\u001b[39m.\u001b[39m_instance\n\u001b[0;32m--> 173\u001b[0m \u001b[39mreturn\u001b[39;00m \u001b[39mself\u001b[39;49m\u001b[39m.\u001b[39;49m_service\u001b[39m.\u001b[39;49mrun(\n\u001b[1;32m    174\u001b[0m     program_id\u001b[39m=\u001b[39;49m\u001b[39mself\u001b[39;49m\u001b[39m.\u001b[39;49m_program_id(),\n\u001b[1;32m    175\u001b[0m     options\u001b[39m=\u001b[39;49mruntime_options,\n\u001b[1;32m    176\u001b[0m     inputs\u001b[39m=\u001b[39;49mprimitive_inputs,\n\u001b[1;32m    177\u001b[0m     callback\u001b[39m=\u001b[39;49mcombined\u001b[39m.\u001b[39;49mget(\u001b[39m\"\u001b[39;49m\u001b[39menvironment\u001b[39;49m\u001b[39m\"\u001b[39;49m, {})\u001b[39m.\u001b[39;49mget(\u001b[39m\"\u001b[39;49m\u001b[39mcallback\u001b[39;49m\u001b[39m\"\u001b[39;49m, \u001b[39mNone\u001b[39;49;00m),\n\u001b[1;32m    178\u001b[0m     result_decoder\u001b[39m=\u001b[39;49mDEFAULT_DECODERS\u001b[39m.\u001b[39;49mget(\u001b[39mself\u001b[39;49m\u001b[39m.\u001b[39;49m_program_id()),\n\u001b[1;32m    179\u001b[0m )\n",
      "File \u001b[0;32m~/.python/current/lib/python3.10/site-packages/qiskit_ibm_runtime/qiskit_runtime_service.py:1003\u001b[0m, in \u001b[0;36mQiskitRuntimeService.run\u001b[0;34m(self, program_id, inputs, options, callback, result_decoder, session_id, start_session)\u001b[0m\n\u001b[1;32m    998\u001b[0m     warnings\u001b[39m.\u001b[39mwarn(\n\u001b[1;32m    999\u001b[0m         \u001b[39mf\u001b[39m\u001b[39m\"\u001b[39m\u001b[39mThe backend \u001b[39m\u001b[39m{\u001b[39;00mbackend\u001b[39m.\u001b[39mname\u001b[39m}\u001b[39;00m\u001b[39m currently has a status of \u001b[39m\u001b[39m{\u001b[39;00mstatus\u001b[39m.\u001b[39mstatus_msg\u001b[39m}\u001b[39;00m\u001b[39m.\u001b[39m\u001b[39m\"\u001b[39m\n\u001b[1;32m   1000\u001b[0m     )\n\u001b[1;32m   1002\u001b[0m \u001b[39mtry\u001b[39;00m:\n\u001b[0;32m-> 1003\u001b[0m     response \u001b[39m=\u001b[39m \u001b[39mself\u001b[39;49m\u001b[39m.\u001b[39;49m_api_client\u001b[39m.\u001b[39;49mprogram_run(\n\u001b[1;32m   1004\u001b[0m         program_id\u001b[39m=\u001b[39;49mprogram_id,\n\u001b[1;32m   1005\u001b[0m         backend_name\u001b[39m=\u001b[39;49mqrt_options\u001b[39m.\u001b[39;49mbackend,\n\u001b[1;32m   1006\u001b[0m         params\u001b[39m=\u001b[39;49minputs,\n\u001b[1;32m   1007\u001b[0m         image\u001b[39m=\u001b[39;49mqrt_options\u001b[39m.\u001b[39;49mimage,\n\u001b[1;32m   1008\u001b[0m         hgp\u001b[39m=\u001b[39;49mhgp_name,\n\u001b[1;32m   1009\u001b[0m         log_level\u001b[39m=\u001b[39;49mqrt_options\u001b[39m.\u001b[39;49mlog_level,\n\u001b[1;32m   1010\u001b[0m         session_id\u001b[39m=\u001b[39;49msession_id,\n\u001b[1;32m   1011\u001b[0m         job_tags\u001b[39m=\u001b[39;49mqrt_options\u001b[39m.\u001b[39;49mjob_tags,\n\u001b[1;32m   1012\u001b[0m         max_execution_time\u001b[39m=\u001b[39;49mqrt_options\u001b[39m.\u001b[39;49mmax_execution_time,\n\u001b[1;32m   1013\u001b[0m         start_session\u001b[39m=\u001b[39;49mstart_session,\n\u001b[1;32m   1014\u001b[0m         session_time\u001b[39m=\u001b[39;49mqrt_options\u001b[39m.\u001b[39;49msession_time,\n\u001b[1;32m   1015\u001b[0m         channel_strategy\u001b[39m=\u001b[39;49m\u001b[39mNone\u001b[39;49;00m\n\u001b[1;32m   1016\u001b[0m         \u001b[39mif\u001b[39;49;00m \u001b[39mself\u001b[39;49m\u001b[39m.\u001b[39;49m_channel_strategy \u001b[39m==\u001b[39;49m \u001b[39m\"\u001b[39;49m\u001b[39mdefault\u001b[39;49m\u001b[39m\"\u001b[39;49m\n\u001b[1;32m   1017\u001b[0m         \u001b[39melse\u001b[39;49;00m \u001b[39mself\u001b[39;49m\u001b[39m.\u001b[39;49m_channel_strategy,\n\u001b[1;32m   1018\u001b[0m     )\n\u001b[1;32m   1019\u001b[0m     \u001b[39mif\u001b[39;00m \u001b[39mself\u001b[39m\u001b[39m.\u001b[39m_channel \u001b[39m==\u001b[39m \u001b[39m\"\u001b[39m\u001b[39mibm_quantum\u001b[39m\u001b[39m\"\u001b[39m:\n\u001b[1;32m   1020\u001b[0m         messages \u001b[39m=\u001b[39m response\u001b[39m.\u001b[39mget(\u001b[39m\"\u001b[39m\u001b[39mmessages\u001b[39m\u001b[39m\"\u001b[39m)\n",
      "File \u001b[0;32m~/.python/current/lib/python3.10/site-packages/qiskit_ibm_runtime/api/clients/runtime.py:156\u001b[0m, in \u001b[0;36mRuntimeClient.program_run\u001b[0;34m(self, program_id, backend_name, params, image, hgp, log_level, session_id, job_tags, max_execution_time, start_session, session_time, channel_strategy)\u001b[0m\n\u001b[1;32m    154\u001b[0m     hub, group, project \u001b[39m=\u001b[39m from_instance_format(hgp)\n\u001b[1;32m    155\u001b[0m     hgp_dict \u001b[39m=\u001b[39m {\u001b[39m\"\u001b[39m\u001b[39mhub\u001b[39m\u001b[39m\"\u001b[39m: hub, \u001b[39m\"\u001b[39m\u001b[39mgroup\u001b[39m\u001b[39m\"\u001b[39m: group, \u001b[39m\"\u001b[39m\u001b[39mproject\u001b[39m\u001b[39m\"\u001b[39m: project}\n\u001b[0;32m--> 156\u001b[0m \u001b[39mreturn\u001b[39;00m \u001b[39mself\u001b[39;49m\u001b[39m.\u001b[39;49m_api\u001b[39m.\u001b[39;49mprogram_run(\n\u001b[1;32m    157\u001b[0m     program_id\u001b[39m=\u001b[39;49mprogram_id,\n\u001b[1;32m    158\u001b[0m     backend_name\u001b[39m=\u001b[39;49mbackend_name,\n\u001b[1;32m    159\u001b[0m     params\u001b[39m=\u001b[39;49mparams,\n\u001b[1;32m    160\u001b[0m     image\u001b[39m=\u001b[39;49mimage,\n\u001b[1;32m    161\u001b[0m     log_level\u001b[39m=\u001b[39;49mlog_level,\n\u001b[1;32m    162\u001b[0m     session_id\u001b[39m=\u001b[39;49msession_id,\n\u001b[1;32m    163\u001b[0m     job_tags\u001b[39m=\u001b[39;49mjob_tags,\n\u001b[1;32m    164\u001b[0m     max_execution_time\u001b[39m=\u001b[39;49mmax_execution_time,\n\u001b[1;32m    165\u001b[0m     start_session\u001b[39m=\u001b[39;49mstart_session,\n\u001b[1;32m    166\u001b[0m     session_time\u001b[39m=\u001b[39;49msession_time,\n\u001b[1;32m    167\u001b[0m     channel_strategy\u001b[39m=\u001b[39;49mchannel_strategy,\n\u001b[1;32m    168\u001b[0m     \u001b[39m*\u001b[39;49m\u001b[39m*\u001b[39;49mhgp_dict,\n\u001b[1;32m    169\u001b[0m )\n",
      "File \u001b[0;32m~/.python/current/lib/python3.10/site-packages/qiskit_ibm_runtime/api/rest/runtime.py:191\u001b[0m, in \u001b[0;36mRuntime.program_run\u001b[0;34m(self, program_id, backend_name, params, image, hub, group, project, log_level, session_id, job_tags, max_execution_time, start_session, session_time, channel_strategy)\u001b[0m\n\u001b[1;32m    189\u001b[0m \u001b[39mif\u001b[39;00m channel_strategy:\n\u001b[1;32m    190\u001b[0m     payload[\u001b[39m\"\u001b[39m\u001b[39mchannel_strategy\u001b[39m\u001b[39m\"\u001b[39m] \u001b[39m=\u001b[39m channel_strategy\n\u001b[0;32m--> 191\u001b[0m data \u001b[39m=\u001b[39m json\u001b[39m.\u001b[39;49mdumps(payload, \u001b[39mcls\u001b[39;49m\u001b[39m=\u001b[39;49mRuntimeEncoder)\n\u001b[1;32m    192\u001b[0m \u001b[39mreturn\u001b[39;00m \u001b[39mself\u001b[39m\u001b[39m.\u001b[39msession\u001b[39m.\u001b[39mpost(url, data\u001b[39m=\u001b[39mdata, timeout\u001b[39m=\u001b[39m\u001b[39m900\u001b[39m)\u001b[39m.\u001b[39mjson()\n",
      "File \u001b[0;32m~/.python/current/lib/python3.10/json/__init__.py:238\u001b[0m, in \u001b[0;36mdumps\u001b[0;34m(obj, skipkeys, ensure_ascii, check_circular, allow_nan, cls, indent, separators, default, sort_keys, **kw)\u001b[0m\n\u001b[1;32m    232\u001b[0m \u001b[39mif\u001b[39;00m \u001b[39mcls\u001b[39m \u001b[39mis\u001b[39;00m \u001b[39mNone\u001b[39;00m:\n\u001b[1;32m    233\u001b[0m     \u001b[39mcls\u001b[39m \u001b[39m=\u001b[39m JSONEncoder\n\u001b[1;32m    234\u001b[0m \u001b[39mreturn\u001b[39;00m \u001b[39mcls\u001b[39;49m(\n\u001b[1;32m    235\u001b[0m     skipkeys\u001b[39m=\u001b[39;49mskipkeys, ensure_ascii\u001b[39m=\u001b[39;49mensure_ascii,\n\u001b[1;32m    236\u001b[0m     check_circular\u001b[39m=\u001b[39;49mcheck_circular, allow_nan\u001b[39m=\u001b[39;49mallow_nan, indent\u001b[39m=\u001b[39;49mindent,\n\u001b[1;32m    237\u001b[0m     separators\u001b[39m=\u001b[39;49mseparators, default\u001b[39m=\u001b[39;49mdefault, sort_keys\u001b[39m=\u001b[39;49msort_keys,\n\u001b[0;32m--> 238\u001b[0m     \u001b[39m*\u001b[39;49m\u001b[39m*\u001b[39;49mkw)\u001b[39m.\u001b[39;49mencode(obj)\n",
      "File \u001b[0;32m~/.python/current/lib/python3.10/json/encoder.py:199\u001b[0m, in \u001b[0;36mJSONEncoder.encode\u001b[0;34m(self, o)\u001b[0m\n\u001b[1;32m    195\u001b[0m         \u001b[39mreturn\u001b[39;00m encode_basestring(o)\n\u001b[1;32m    196\u001b[0m \u001b[39m# This doesn't pass the iterator directly to ''.join() because the\u001b[39;00m\n\u001b[1;32m    197\u001b[0m \u001b[39m# exceptions aren't as detailed.  The list call should be roughly\u001b[39;00m\n\u001b[1;32m    198\u001b[0m \u001b[39m# equivalent to the PySequence_Fast that ''.join() would do.\u001b[39;00m\n\u001b[0;32m--> 199\u001b[0m chunks \u001b[39m=\u001b[39m \u001b[39mself\u001b[39;49m\u001b[39m.\u001b[39;49miterencode(o, _one_shot\u001b[39m=\u001b[39;49m\u001b[39mTrue\u001b[39;49;00m)\n\u001b[1;32m    200\u001b[0m \u001b[39mif\u001b[39;00m \u001b[39mnot\u001b[39;00m \u001b[39misinstance\u001b[39m(chunks, (\u001b[39mlist\u001b[39m, \u001b[39mtuple\u001b[39m)):\n\u001b[1;32m    201\u001b[0m     chunks \u001b[39m=\u001b[39m \u001b[39mlist\u001b[39m(chunks)\n",
      "File \u001b[0;32m~/.python/current/lib/python3.10/json/encoder.py:257\u001b[0m, in \u001b[0;36mJSONEncoder.iterencode\u001b[0;34m(self, o, _one_shot)\u001b[0m\n\u001b[1;32m    252\u001b[0m \u001b[39melse\u001b[39;00m:\n\u001b[1;32m    253\u001b[0m     _iterencode \u001b[39m=\u001b[39m _make_iterencode(\n\u001b[1;32m    254\u001b[0m         markers, \u001b[39mself\u001b[39m\u001b[39m.\u001b[39mdefault, _encoder, \u001b[39mself\u001b[39m\u001b[39m.\u001b[39mindent, floatstr,\n\u001b[1;32m    255\u001b[0m         \u001b[39mself\u001b[39m\u001b[39m.\u001b[39mkey_separator, \u001b[39mself\u001b[39m\u001b[39m.\u001b[39mitem_separator, \u001b[39mself\u001b[39m\u001b[39m.\u001b[39msort_keys,\n\u001b[1;32m    256\u001b[0m         \u001b[39mself\u001b[39m\u001b[39m.\u001b[39mskipkeys, _one_shot)\n\u001b[0;32m--> 257\u001b[0m \u001b[39mreturn\u001b[39;00m _iterencode(o, \u001b[39m0\u001b[39;49m)\n",
      "File \u001b[0;32m~/.python/current/lib/python3.10/site-packages/qiskit_ibm_runtime/utils/json.py:219\u001b[0m, in \u001b[0;36mRuntimeEncoder.default\u001b[0;34m(self, obj)\u001b[0m\n\u001b[1;32m    217\u001b[0m     \u001b[39mreturn\u001b[39;00m {\u001b[39m\"\u001b[39m\u001b[39m__type__\u001b[39m\u001b[39m\"\u001b[39m: \u001b[39m\"\u001b[39m\u001b[39mto_json\u001b[39m\u001b[39m\"\u001b[39m, \u001b[39m\"\u001b[39m\u001b[39m__value__\u001b[39m\u001b[39m\"\u001b[39m: obj\u001b[39m.\u001b[39mto_json()}\n\u001b[1;32m    218\u001b[0m \u001b[39mif\u001b[39;00m \u001b[39misinstance\u001b[39m(obj, QuantumCircuit):\n\u001b[0;32m--> 219\u001b[0m     value \u001b[39m=\u001b[39m _serialize_and_encode(\n\u001b[1;32m    220\u001b[0m         data\u001b[39m=\u001b[39;49mobj,\n\u001b[1;32m    221\u001b[0m         serializer\u001b[39m=\u001b[39;49m\u001b[39mlambda\u001b[39;49;00m buff, data: dump(\n\u001b[1;32m    222\u001b[0m             data, buff, RuntimeEncoder\n\u001b[1;32m    223\u001b[0m         ),  \u001b[39m# type: ignore[no-untyped-call]\u001b[39;49;00m\n\u001b[1;32m    224\u001b[0m     )\n\u001b[1;32m    225\u001b[0m     \u001b[39mreturn\u001b[39;00m {\u001b[39m\"\u001b[39m\u001b[39m__type__\u001b[39m\u001b[39m\"\u001b[39m: \u001b[39m\"\u001b[39m\u001b[39mQuantumCircuit\u001b[39m\u001b[39m\"\u001b[39m, \u001b[39m\"\u001b[39m\u001b[39m__value__\u001b[39m\u001b[39m\"\u001b[39m: value}\n\u001b[1;32m    226\u001b[0m \u001b[39mif\u001b[39;00m \u001b[39misinstance\u001b[39m(obj, Parameter):\n",
      "File \u001b[0;32m~/.python/current/lib/python3.10/site-packages/qiskit_ibm_runtime/utils/json.py:101\u001b[0m, in \u001b[0;36m_serialize_and_encode\u001b[0;34m(data, serializer, compress, **kwargs)\u001b[0m\n\u001b[1;32m     89\u001b[0m \u001b[39m\u001b[39m\u001b[39m\"\"\"Serialize the input data and return the encoded string.\u001b[39;00m\n\u001b[1;32m     90\u001b[0m \n\u001b[1;32m     91\u001b[0m \u001b[39mArgs:\u001b[39;00m\n\u001b[0;32m   (...)\u001b[0m\n\u001b[1;32m     98\u001b[0m \u001b[39m    String representation.\u001b[39;00m\n\u001b[1;32m     99\u001b[0m \u001b[39m\"\"\"\u001b[39;00m\n\u001b[1;32m    100\u001b[0m \u001b[39mwith\u001b[39;00m io\u001b[39m.\u001b[39mBytesIO() \u001b[39mas\u001b[39;00m buff:\n\u001b[0;32m--> 101\u001b[0m     serializer(buff, data, \u001b[39m*\u001b[39;49m\u001b[39m*\u001b[39;49mkwargs)\n\u001b[1;32m    102\u001b[0m     buff\u001b[39m.\u001b[39mseek(\u001b[39m0\u001b[39m)\n\u001b[1;32m    103\u001b[0m     serialized_data \u001b[39m=\u001b[39m buff\u001b[39m.\u001b[39mread()\n",
      "File \u001b[0;32m~/.python/current/lib/python3.10/site-packages/qiskit_ibm_runtime/utils/json.py:221\u001b[0m, in \u001b[0;36mRuntimeEncoder.default.<locals>.<lambda>\u001b[0;34m(buff, data)\u001b[0m\n\u001b[1;32m    217\u001b[0m     \u001b[39mreturn\u001b[39;00m {\u001b[39m\"\u001b[39m\u001b[39m__type__\u001b[39m\u001b[39m\"\u001b[39m: \u001b[39m\"\u001b[39m\u001b[39mto_json\u001b[39m\u001b[39m\"\u001b[39m, \u001b[39m\"\u001b[39m\u001b[39m__value__\u001b[39m\u001b[39m\"\u001b[39m: obj\u001b[39m.\u001b[39mto_json()}\n\u001b[1;32m    218\u001b[0m \u001b[39mif\u001b[39;00m \u001b[39misinstance\u001b[39m(obj, QuantumCircuit):\n\u001b[1;32m    219\u001b[0m     value \u001b[39m=\u001b[39m _serialize_and_encode(\n\u001b[1;32m    220\u001b[0m         data\u001b[39m=\u001b[39mobj,\n\u001b[0;32m--> 221\u001b[0m         serializer\u001b[39m=\u001b[39m\u001b[39mlambda\u001b[39;00m buff, data: dump(\n\u001b[1;32m    222\u001b[0m             data, buff, RuntimeEncoder\n\u001b[1;32m    223\u001b[0m         ),  \u001b[39m# type: ignore[no-untyped-call]\u001b[39;00m\n\u001b[1;32m    224\u001b[0m     )\n\u001b[1;32m    225\u001b[0m     \u001b[39mreturn\u001b[39;00m {\u001b[39m\"\u001b[39m\u001b[39m__type__\u001b[39m\u001b[39m\"\u001b[39m: \u001b[39m\"\u001b[39m\u001b[39mQuantumCircuit\u001b[39m\u001b[39m\"\u001b[39m, \u001b[39m\"\u001b[39m\u001b[39m__value__\u001b[39m\u001b[39m\"\u001b[39m: value}\n\u001b[1;32m    226\u001b[0m \u001b[39mif\u001b[39;00m \u001b[39misinstance\u001b[39m(obj, Parameter):\n",
      "File \u001b[0;32m~/.python/current/lib/python3.10/site-packages/qiskit/utils/deprecation.py:182\u001b[0m, in \u001b[0;36mdeprecate_arg.<locals>.decorator.<locals>.wrapper\u001b[0;34m(*args, **kwargs)\u001b[0m\n\u001b[1;32m    169\u001b[0m \u001b[39m@functools\u001b[39m\u001b[39m.\u001b[39mwraps(func)\n\u001b[1;32m    170\u001b[0m \u001b[39mdef\u001b[39;00m \u001b[39mwrapper\u001b[39m(\u001b[39m*\u001b[39margs, \u001b[39m*\u001b[39m\u001b[39m*\u001b[39mkwargs):\n\u001b[1;32m    171\u001b[0m     _maybe_warn_and_rename_kwarg(\n\u001b[1;32m    172\u001b[0m         args,\n\u001b[1;32m    173\u001b[0m         kwargs,\n\u001b[0;32m   (...)\u001b[0m\n\u001b[1;32m    180\u001b[0m         predicate\u001b[39m=\u001b[39mpredicate,\n\u001b[1;32m    181\u001b[0m     )\n\u001b[0;32m--> 182\u001b[0m     \u001b[39mreturn\u001b[39;00m func(\u001b[39m*\u001b[39;49margs, \u001b[39m*\u001b[39;49m\u001b[39m*\u001b[39;49mkwargs)\n",
      "File \u001b[0;32m~/.python/current/lib/python3.10/site-packages/qiskit_ibm_provider/qpy/interface.py:169\u001b[0m, in \u001b[0;36mdump\u001b[0;34m(programs, file_obj, metadata_serializer)\u001b[0m\n\u001b[1;32m    166\u001b[0m common\u001b[39m.\u001b[39mwrite_type_key(file_obj, type_key)  \u001b[39m# type: ignore[no-untyped-call]\u001b[39;00m\n\u001b[1;32m    168\u001b[0m \u001b[39mfor\u001b[39;00m program \u001b[39min\u001b[39;00m programs:\n\u001b[0;32m--> 169\u001b[0m     writer(  \u001b[39m# type: ignore[no-untyped-call]\u001b[39;49;00m\n\u001b[1;32m    170\u001b[0m         file_obj, program, metadata_serializer\u001b[39m=\u001b[39;49mmetadata_serializer\n\u001b[1;32m    171\u001b[0m     )\n",
      "File \u001b[0;32m~/.python/current/lib/python3.10/site-packages/qiskit_ibm_provider/qpy/binary_io/circuits.py:1056\u001b[0m, in \u001b[0;36mwrite_circuit\u001b[0;34m(file_obj, circuit, metadata_serializer)\u001b[0m\n\u001b[1;32m   1053\u001b[0m instruction_buffer\u001b[39m.\u001b[39mclose()\n\u001b[1;32m   1055\u001b[0m \u001b[39m# Write calibrations\u001b[39;00m\n\u001b[0;32m-> 1056\u001b[0m _write_calibrations(file_obj, circuit\u001b[39m.\u001b[39;49mcalibrations, metadata_serializer)\n\u001b[1;32m   1057\u001b[0m _write_layout(file_obj, circuit)\n",
      "File \u001b[0;32m~/.python/current/lib/python3.10/site-packages/qiskit_ibm_provider/qpy/binary_io/circuits.py:795\u001b[0m, in \u001b[0;36m_write_calibrations\u001b[0;34m(file_obj, calibrations, metadata_serializer)\u001b[0m\n\u001b[1;32m    786\u001b[0m \u001b[39mfor\u001b[39;00m (name, qubits, params), schedule \u001b[39min\u001b[39;00m flatten_dict\u001b[39m.\u001b[39mitems():\n\u001b[1;32m    787\u001b[0m     \u001b[39m# In principle ScheduleBlock and Schedule can be supported.\u001b[39;00m\n\u001b[1;32m    788\u001b[0m     \u001b[39m# As of version 5 only ScheduleBlock is supported.\u001b[39;00m\n\u001b[1;32m    789\u001b[0m     name_bytes \u001b[39m=\u001b[39m name\u001b[39m.\u001b[39mencode(common\u001b[39m.\u001b[39mENCODE)\n\u001b[1;32m    790\u001b[0m     defheader \u001b[39m=\u001b[39m struct\u001b[39m.\u001b[39mpack(\n\u001b[1;32m    791\u001b[0m         formats\u001b[39m.\u001b[39mCALIBRATION_DEF_PACK,\n\u001b[1;32m    792\u001b[0m         \u001b[39mlen\u001b[39m(name_bytes),\n\u001b[1;32m    793\u001b[0m         \u001b[39mlen\u001b[39m(qubits),\n\u001b[1;32m    794\u001b[0m         \u001b[39mlen\u001b[39m(params),\n\u001b[0;32m--> 795\u001b[0m         type_keys\u001b[39m.\u001b[39;49mProgram\u001b[39m.\u001b[39;49massign(schedule),\n\u001b[1;32m    796\u001b[0m     )\n\u001b[1;32m    797\u001b[0m     file_obj\u001b[39m.\u001b[39mwrite(defheader)\n\u001b[1;32m    798\u001b[0m     file_obj\u001b[39m.\u001b[39mwrite(name_bytes)\n",
      "File \u001b[0;32m~/.python/current/lib/python3.10/site-packages/qiskit_ibm_provider/qpy/type_keys.py:431\u001b[0m, in \u001b[0;36mProgram.assign\u001b[0;34m(cls, obj)\u001b[0m\n\u001b[1;32m    428\u001b[0m \u001b[39mif\u001b[39;00m \u001b[39misinstance\u001b[39m(obj, ScheduleBlock):\n\u001b[1;32m    429\u001b[0m     \u001b[39mreturn\u001b[39;00m \u001b[39mcls\u001b[39m\u001b[39m.\u001b[39mSCHEDULE_BLOCK\n\u001b[0;32m--> 431\u001b[0m \u001b[39mraise\u001b[39;00m exceptions\u001b[39m.\u001b[39mQpyError(\n\u001b[1;32m    432\u001b[0m     \u001b[39mf\u001b[39m\u001b[39m\"\u001b[39m\u001b[39mObject type \u001b[39m\u001b[39m'\u001b[39m\u001b[39m{\u001b[39;00m\u001b[39mtype\u001b[39m(obj)\u001b[39m}\u001b[39;00m\u001b[39m'\u001b[39m\u001b[39m is not supported in \u001b[39m\u001b[39m{\u001b[39;00m\u001b[39mcls\u001b[39m\u001b[39m.\u001b[39m\u001b[39m__name__\u001b[39m\u001b[39m}\u001b[39;00m\u001b[39m namespace.\u001b[39m\u001b[39m\"\u001b[39m\n\u001b[1;32m    433\u001b[0m )\n",
      "\u001b[0;31mQpyError\u001b[0m: \"Object type '<class 'qiskit.pulse.schedule.Schedule'>' is not supported in Program namespace.\""
     ]
    }
   ],
   "source": [
    "job = sampler.run(ibm.prog)\n",
    "print(f\">>> Job ID: {job.job_id()}\")\n",
    "print(f\">>> Job Status: {job.status()}\")"
   ]
  }
 ],
 "metadata": {
  "kernelspec": {
   "display_name": "Python 3 (ipykernel)",
   "language": "python",
   "name": "python3"
  },
  "language_info": {
   "codemirror_mode": {
    "name": "ipython",
    "version": 3
   },
   "file_extension": ".py",
   "mimetype": "text/x-python",
   "name": "python",
   "nbconvert_exporter": "python",
   "pygments_lexer": "ipython3",
   "version": "3.10.13"
  }
 },
 "nbformat": 4,
 "nbformat_minor": 5
}
