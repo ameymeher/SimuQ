{
 "cells": [
  {
   "cell_type": "code",
   "execution_count": 1,
   "metadata": {},
   "outputs": [],
   "source": [
    "import pickle\n",
    "from qiskit_ibm_provider import IBMProvider\n",
    "from qiskit_ibm_provider import IBMProvider\n",
    "from qiskit_aer import AerSimulator\n",
    "from qiskit_aer.noise import NoiseModel\n",
    "import qiskit_aer.noise as noise"
   ]
  },
  {
   "cell_type": "code",
   "execution_count": 5,
   "metadata": {},
   "outputs": [],
   "source": [
    "api_file = \"../../ibm_API_key\"\n",
    "\n",
    "with open(api_file, \"r\") as f:\n",
    "    api_key = f.readline().strip()\n",
    "provider = IBMProvider(api_key, instance='ibm-q-ncsu/nc-state/quantum-compiler')\n",
    "\n",
    "# Get the errors\n",
    "with open('noise_models/error_rates.pkl', 'rb') as f:\n",
    "    error_rates = pickle.load(f)"
   ]
  },
  {
   "cell_type": "code",
   "execution_count": 6,
   "metadata": {},
   "outputs": [
    {
     "data": {
      "text/plain": [
       "[True, True, True, True]"
      ]
     },
     "execution_count": 6,
     "metadata": {},
     "output_type": "execute_result"
    }
   ],
   "source": [
    "system = ['ibm_brisbane','ibm_kyoto','ibm_nazca','ibm_sherbrooke']\n",
    "\n",
    "def create_noise_model(system):\n",
    "    backend = provider.get_backend(system)\n",
    "\n",
    "    noise_model = NoiseModel.from_backend(backend)\n",
    "\n",
    "    # Add rzx errors\n",
    "    for qubit, error in error_rates[system]['rzx'].items():\n",
    "        noise_model.add_quantum_error(noise.depolarizing_error(error,2),\"rzx\",list(qubit))\n",
    "\n",
    "    # Add rx errors\n",
    "    for qubit, error in error_rates[system]['rx'].items():\n",
    "        noise_model.add_quantum_error(noise.depolarizing_error(error,1),\"rx\",[qubit])\n",
    "\n",
    "    # Save the noise model\n",
    "    with open(f'noise_models/{system}_noise_model.pkl', 'wb') as f:\n",
    "        pickle.dump(noise_model, f)\n",
    "\n",
    "    return True\n",
    "\n",
    "list(map(create_noise_model, system))"
   ]
  }
 ],
 "metadata": {
  "kernelspec": {
   "display_name": "simuq2",
   "language": "python",
   "name": "python3"
  },
  "language_info": {
   "codemirror_mode": {
    "name": "ipython",
    "version": 3
   },
   "file_extension": ".py",
   "mimetype": "text/x-python",
   "name": "python",
   "nbconvert_exporter": "python",
   "pygments_lexer": "ipython3",
   "version": "3.12.2"
  }
 },
 "nbformat": 4,
 "nbformat_minor": 2
}
