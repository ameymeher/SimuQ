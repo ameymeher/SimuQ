{
 "cells": [
  {
   "cell_type": "code",
   "execution_count": 1,
   "metadata": {},
   "outputs": [],
   "source": [
    "import pickle\n",
    "with open(\"../circuit.pickle\", 'rb') as handle:\n",
    "    qc = pickle.load(handle)"
   ]
  },
  {
   "cell_type": "code",
   "execution_count": 2,
   "metadata": {},
   "outputs": [],
   "source": [
    "calibrations = qc.calibrations\n",
    "rzx_cal = calibrations['rzx']\n",
    "rx_cal = calibrations['rx']"
   ]
  },
  {
   "cell_type": "code",
   "execution_count": 3,
   "metadata": {},
   "outputs": [
    {
     "data": {
      "text/plain": [
       "dict_keys([((0,), (0.3333333328625214,)), ((3,), (0.3333333328625215,)), ((1,), (0.33333333507070523,)), ((2,), (0.33333333507070523,))])"
      ]
     },
     "execution_count": 3,
     "metadata": {},
     "output_type": "execute_result"
    }
   ],
   "source": [
    "rx_cal.keys()"
   ]
  },
  {
   "cell_type": "code",
   "execution_count": 4,
   "metadata": {},
   "outputs": [
    {
     "data": {
      "text/plain": [
       "qiskit.pulse.schedule.ScheduleBlock"
      ]
     },
     "execution_count": 4,
     "metadata": {},
     "output_type": "execute_result"
    }
   ],
   "source": [
    "type(list(rx_cal.values())[0])"
   ]
  },
  {
   "cell_type": "code",
   "execution_count": 5,
   "metadata": {},
   "outputs": [
    {
     "name": "stdout",
     "output_type": "stream",
     "text": [
      "ScheduleBlock(Play(Drag(duration=160, sigma=40, beta=-0.44959049003489476, amp=0.01726511975439483, angle=0), DriveChannel(0)), name=\"rx(0.333)\", transform=AlignLeft())\n"
     ]
    }
   ],
   "source": [
    "custom_rx_sched = list(rx_cal.values())[0]\n",
    "print(custom_rx_sched)"
   ]
  },
  {
   "cell_type": "code",
   "execution_count": 6,
   "metadata": {},
   "outputs": [],
   "source": [
    "from qiskit import QuantumCircuit\n",
    "import numpy as np\n",
    "\n",
    "circuit = QuantumCircuit(1, name='custom_rx')\n",
    "circuit.rx(0,0)\n",
    "custom_rx = circuit.to_gate()"
   ]
  },
  {
   "cell_type": "code",
   "execution_count": 7,
   "metadata": {},
   "outputs": [],
   "source": [
    "from qiskit_ibm_runtime import QiskitRuntimeService\n",
    "import numpy as np\n",
    "from qiskit import QuantumCircuit, transpile\n",
    "from qiskit.transpiler import InstructionProperties\n",
    "from qiskit_ibm_provider import IBMProvider\n",
    "from qiskit_experiments.library import InterleavedRB\n",
    "from qiskit_braket_provider import AWSBraketProvider"
   ]
  },
  {
   "cell_type": "code",
   "execution_count": 8,
   "metadata": {},
   "outputs": [],
   "source": [
    "provider = AWSBraketProvider()\n",
    "backend = provider.get_backend('Harmony')"
   ]
  },
  {
   "cell_type": "code",
   "execution_count": 9,
   "metadata": {},
   "outputs": [],
   "source": [
    "backend.target.add_instruction(custom_rx, {(0,): InstructionProperties(calibration=custom_rx_sched)})"
   ]
  },
  {
   "cell_type": "code",
   "execution_count": 10,
   "metadata": {},
   "outputs": [],
   "source": [
    "lengths = np.arange(1, 200, 30)\n",
    "num_samples = 10\n",
    "seed = 1010\n",
    "qubits = [0] # make sure it is the qubit added in the backend target\n",
    "\n",
    "int_exp = InterleavedRB(\n",
    "    custom_rx, qubits, lengths, num_samples=num_samples, seed=seed, backend=backend)"
   ]
  },
  {
   "cell_type": "code",
   "execution_count": 11,
   "metadata": {},
   "outputs": [
    {
     "name": "stderr",
     "output_type": "stream",
     "text": [
      "/Users/amey/anaconda3/envs/simuq/lib/python3.10/site-packages/qiskit_braket_provider/providers/adapter.py:425: UserWarning: Circuit transpilation resulted in global phase shift\n",
      "  warnings.warn(\"Circuit transpilation resulted in global phase shift\")\n"
     ]
    },
    {
     "ename": "KeyError",
     "evalue": "'custom_rx'",
     "output_type": "error",
     "traceback": [
      "\u001b[0;31m---------------------------------------------------------------------------\u001b[0m",
      "\u001b[0;31mKeyError\u001b[0m                                  Traceback (most recent call last)",
      "\u001b[1;32m/Users/amey/Desktop/Tasks/Thesis/SimuQ/thesis/Experiment/ZNE multiplatform device experiments/rb_experiments/rx_quera.ipynb Cell 11\u001b[0m line \u001b[0;36m1\n\u001b[0;32m----> <a href='vscode-notebook-cell:/Users/amey/Desktop/Tasks/Thesis/SimuQ/thesis/Experiment/ZNE%20multiplatform%20device%20experiments/rb_experiments/rx_quera.ipynb#X13sZmlsZQ%3D%3D?line=0'>1</a>\u001b[0m int_expdata \u001b[39m=\u001b[39m int_exp\u001b[39m.\u001b[39;49mrun(backend)\u001b[39m.\u001b[39mblock_for_results()\n\u001b[1;32m      <a href='vscode-notebook-cell:/Users/amey/Desktop/Tasks/Thesis/SimuQ/thesis/Experiment/ZNE%20multiplatform%20device%20experiments/rb_experiments/rx_quera.ipynb#X13sZmlsZQ%3D%3D?line=1'>2</a>\u001b[0m int_results \u001b[39m=\u001b[39m int_expdata\u001b[39m.\u001b[39manalysis_results()\n",
      "File \u001b[0;32m~/anaconda3/envs/simuq/lib/python3.10/site-packages/qiskit_experiments/framework/base_experiment.py:247\u001b[0m, in \u001b[0;36mBaseExperiment.run\u001b[0;34m(self, backend, analysis, timeout, **run_options)\u001b[0m\n\u001b[1;32m    244\u001b[0m run_opts \u001b[39m=\u001b[39m experiment\u001b[39m.\u001b[39mrun_options\u001b[39m.\u001b[39m\u001b[39m__dict__\u001b[39m\n\u001b[1;32m    246\u001b[0m \u001b[39m# Run jobs\u001b[39;00m\n\u001b[0;32m--> 247\u001b[0m jobs \u001b[39m=\u001b[39m experiment\u001b[39m.\u001b[39;49m_run_jobs(transpiled_circuits, \u001b[39m*\u001b[39;49m\u001b[39m*\u001b[39;49mrun_opts)\n\u001b[1;32m    248\u001b[0m experiment_data\u001b[39m.\u001b[39madd_jobs(jobs, timeout\u001b[39m=\u001b[39mtimeout)\n\u001b[1;32m    250\u001b[0m \u001b[39m# Optionally run analysis\u001b[39;00m\n",
      "File \u001b[0;32m~/anaconda3/envs/simuq/lib/python3.10/site-packages/qiskit_experiments/framework/base_experiment.py:292\u001b[0m, in \u001b[0;36mBaseExperiment._run_jobs\u001b[0;34m(self, circuits, **run_options)\u001b[0m\n\u001b[1;32m    289\u001b[0m     job_circuits \u001b[39m=\u001b[39m [circuits]\n\u001b[1;32m    291\u001b[0m \u001b[39m# Run jobs\u001b[39;00m\n\u001b[0;32m--> 292\u001b[0m jobs \u001b[39m=\u001b[39m [\u001b[39mself\u001b[39m\u001b[39m.\u001b[39mbackend\u001b[39m.\u001b[39mrun(circs, \u001b[39m*\u001b[39m\u001b[39m*\u001b[39mrun_options) \u001b[39mfor\u001b[39;00m circs \u001b[39min\u001b[39;00m job_circuits]\n\u001b[1;32m    294\u001b[0m \u001b[39mreturn\u001b[39;00m jobs\n",
      "File \u001b[0;32m~/anaconda3/envs/simuq/lib/python3.10/site-packages/qiskit_experiments/framework/base_experiment.py:292\u001b[0m, in \u001b[0;36m<listcomp>\u001b[0;34m(.0)\u001b[0m\n\u001b[1;32m    289\u001b[0m     job_circuits \u001b[39m=\u001b[39m [circuits]\n\u001b[1;32m    291\u001b[0m \u001b[39m# Run jobs\u001b[39;00m\n\u001b[0;32m--> 292\u001b[0m jobs \u001b[39m=\u001b[39m [\u001b[39mself\u001b[39;49m\u001b[39m.\u001b[39;49mbackend\u001b[39m.\u001b[39;49mrun(circs, \u001b[39m*\u001b[39;49m\u001b[39m*\u001b[39;49mrun_options) \u001b[39mfor\u001b[39;00m circs \u001b[39min\u001b[39;00m job_circuits]\n\u001b[1;32m    294\u001b[0m \u001b[39mreturn\u001b[39;00m jobs\n",
      "File \u001b[0;32m~/anaconda3/envs/simuq/lib/python3.10/site-packages/qiskit_braket_provider/providers/braket_backend.py:281\u001b[0m, in \u001b[0;36mAWSBraketBackend.run\u001b[0;34m(self, run_input, **options)\u001b[0m\n\u001b[1;32m    278\u001b[0m \u001b[39melse\u001b[39;00m:\n\u001b[1;32m    279\u001b[0m     \u001b[39mraise\u001b[39;00m QiskitBraketException(\u001b[39mf\u001b[39m\u001b[39m\"\u001b[39m\u001b[39mUnsupported input type: \u001b[39m\u001b[39m{\u001b[39;00m\u001b[39mtype\u001b[39m(run_input)\u001b[39m}\u001b[39;00m\u001b[39m\"\u001b[39m)\n\u001b[0;32m--> 281\u001b[0m braket_circuits \u001b[39m=\u001b[39m \u001b[39mlist\u001b[39;49m(convert_qiskit_to_braket_circuits(circuits))\n\u001b[1;32m    283\u001b[0m \u001b[39mif\u001b[39;00m options\u001b[39m.\u001b[39mpop(\u001b[39m\"\u001b[39m\u001b[39mverbatim\u001b[39m\u001b[39m\"\u001b[39m, \u001b[39mFalse\u001b[39;00m):\n\u001b[1;32m    284\u001b[0m     braket_circuits \u001b[39m=\u001b[39m wrap_circuits_in_verbatim_box(braket_circuits)\n",
      "File \u001b[0;32m~/anaconda3/envs/simuq/lib/python3.10/site-packages/qiskit_braket_provider/providers/adapter.py:479\u001b[0m, in \u001b[0;36mconvert_qiskit_to_braket_circuits\u001b[0;34m(circuits)\u001b[0m\n\u001b[1;32m    471\u001b[0m \u001b[39m\u001b[39m\u001b[39m\"\"\"Converts all Qiskit circuits to Braket circuits.\u001b[39;00m\n\u001b[1;32m    472\u001b[0m \u001b[39m Args:\u001b[39;00m\n\u001b[1;32m    473\u001b[0m \u001b[39m        circuits (List(QuantumCircuit)): Qiskit Quantum Cricuit\u001b[39;00m\n\u001b[0;32m   (...)\u001b[0m\n\u001b[1;32m    476\u001b[0m \u001b[39m    Circuit (Iterable[Circuit]): Braket circuit\u001b[39;00m\n\u001b[1;32m    477\u001b[0m \u001b[39m\"\"\"\u001b[39;00m\n\u001b[1;32m    478\u001b[0m \u001b[39mfor\u001b[39;00m circuit \u001b[39min\u001b[39;00m circuits:\n\u001b[0;32m--> 479\u001b[0m     \u001b[39myield\u001b[39;00m convert_qiskit_to_braket_circuit(circuit)\n",
      "File \u001b[0;32m~/anaconda3/envs/simuq/lib/python3.10/site-packages/qiskit_braket_provider/providers/adapter.py:458\u001b[0m, in \u001b[0;36mconvert_qiskit_to_braket_circuit\u001b[0;34m(circuit)\u001b[0m\n\u001b[1;32m    455\u001b[0m     \u001b[39mif\u001b[39;00m \u001b[39misinstance\u001b[39m(param, Parameter):\n\u001b[1;32m    456\u001b[0m         params[i] \u001b[39m=\u001b[39m FreeParameter(param\u001b[39m.\u001b[39mname)\n\u001b[0;32m--> 458\u001b[0m \u001b[39mfor\u001b[39;00m gate \u001b[39min\u001b[39;00m qiskit_gate_names_to_braket_gates[name](\u001b[39m*\u001b[39mparams):\n\u001b[1;32m    459\u001b[0m     instruction \u001b[39m=\u001b[39m Instruction(\n\u001b[1;32m    460\u001b[0m         \u001b[39m# Getting the index from the bit mapping\u001b[39;00m\n\u001b[1;32m    461\u001b[0m         operator\u001b[39m=\u001b[39mgate,\n\u001b[1;32m    462\u001b[0m         target\u001b[39m=\u001b[39m[circuit\u001b[39m.\u001b[39mfind_bit(i)\u001b[39m.\u001b[39mindex \u001b[39mfor\u001b[39;00m i \u001b[39min\u001b[39;00m qiskit_gates[\u001b[39m1\u001b[39m]],\n\u001b[1;32m    463\u001b[0m     )\n\u001b[1;32m    464\u001b[0m     quantum_circuit \u001b[39m+\u001b[39m\u001b[39m=\u001b[39m instruction\n",
      "\u001b[0;31mKeyError\u001b[0m: 'custom_rx'"
     ]
    }
   ],
   "source": [
    "int_expdata = int_exp.run(backend).block_for_results()\n",
    "int_results = int_expdata.analysis_results()"
   ]
  },
  {
   "cell_type": "code",
   "execution_count": null,
   "metadata": {},
   "outputs": [],
   "source": [
    "# View result data\n",
    "display(int_expdata.figure(0))\n",
    "for result in int_results:\n",
    "    print(result)"
   ]
  },
  {
   "cell_type": "code",
   "execution_count": 13,
   "metadata": {},
   "outputs": [
    {
     "data": {
      "image/png": "[encoded data removed]",
      "text/plain": [
       "<Figure size 1165.66x200.667 with 1 Axes>"
      ]
     },
     "execution_count": 13,
     "metadata": {},
     "output_type": "execute_result"
    }
   ],
   "source": [
    "int_exp.circuits()[1].draw(output='mpl')"
   ]
  },
  {
   "cell_type": "code",
   "execution_count": 14,
   "metadata": {},
   "outputs": [
    {
     "data": {
      "image/png": "[encoded data removed]",
      "text/plain": [
       "<Figure size 1082.05x200.667 with 1 Axes>"
      ]
     },
     "execution_count": 14,
     "metadata": {},
     "output_type": "execute_result"
    }
   ],
   "source": [
    "# you can see that the transpiled circuits contain the calibrations\n",
    "int_exp._transpiled_circuits()[1].draw(output='mpl')"
   ]
  }
 ],
 "metadata": {
  "kernelspec": {
   "display_name": "simuq",
   "language": "python",
   "name": "python3"
  },
  "language_info": {
   "codemirror_mode": {
    "name": "ipython",
    "version": 3
   },
   "file_extension": ".py",
   "mimetype": "text/x-python",
   "name": "python",
   "nbconvert_exporter": "python",
   "pygments_lexer": "ipython3",
   "version": "3.10.13"
  }
 },
 "nbformat": 4,
 "nbformat_minor": 2
}
