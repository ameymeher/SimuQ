{
 "cells": [
  {
   "cell_type": "markdown",
   "metadata": {},
   "source": [
    "Brisbane, Sherbrooke, Kyoto's layout is simple, consists of 0 to n-1 qubits arranged sequentially"
   ]
  },
  {
   "cell_type": "code",
   "execution_count": 1,
   "metadata": {},
   "outputs": [],
   "source": [
    "import pickle\n",
    "\n",
    "with open('../circuits/ibm_brisbane_4_1.pkl', 'rb') as f:\n",
    "    circuit = pickle.load(f)"
   ]
  },
  {
   "cell_type": "code",
   "execution_count": 65,
   "metadata": {},
   "outputs": [
    {
     "data": {
      "text/plain": [
       "[0, 1, 2, 3, 4, 5, 6, 7, 8, 9]"
      ]
     },
     "execution_count": 65,
     "metadata": {},
     "output_type": "execute_result"
    }
   ],
   "source": [
    "circuit['layout']"
   ]
  },
  {
   "cell_type": "code",
   "execution_count": 6,
   "metadata": {},
   "outputs": [
    {
     "data": {
      "text/plain": [
       "[CircuitInstruction(operation=Instruction(name='rzx', num_qubits=2, num_clbits=0, params=[0.3333333339384052]), qubits=(Qubit(QuantumRegister(127, 'q'), 2), Qubit(QuantumRegister(127, 'q'), 1)), clbits=()),\n",
       " CircuitInstruction(operation=Instruction(name='rzx', num_qubits=2, num_clbits=0, params=[0.33333333393840525]), qubits=(Qubit(QuantumRegister(127, 'q'), 1), Qubit(QuantumRegister(127, 'q'), 0)), clbits=()),\n",
       " CircuitInstruction(operation=Instruction(name='rzx', num_qubits=2, num_clbits=0, params=[0.33333333393840503]), qubits=(Qubit(QuantumRegister(127, 'q'), 3), Qubit(QuantumRegister(127, 'q'), 2)), clbits=()),\n",
       " CircuitInstruction(operation=Instruction(name='rzx', num_qubits=2, num_clbits=0, params=[0.3333333339384052]), qubits=(Qubit(QuantumRegister(127, 'q'), 2), Qubit(QuantumRegister(127, 'q'), 1)), clbits=()),\n",
       " CircuitInstruction(operation=Instruction(name='rzx', num_qubits=2, num_clbits=0, params=[0.33333333393840525]), qubits=(Qubit(QuantumRegister(127, 'q'), 1), Qubit(QuantumRegister(127, 'q'), 0)), clbits=()),\n",
       " CircuitInstruction(operation=Instruction(name='rzx', num_qubits=2, num_clbits=0, params=[0.33333333393840503]), qubits=(Qubit(QuantumRegister(127, 'q'), 3), Qubit(QuantumRegister(127, 'q'), 2)), clbits=()),\n",
       " CircuitInstruction(operation=Instruction(name='rzx', num_qubits=2, num_clbits=0, params=[0.3333333339384052]), qubits=(Qubit(QuantumRegister(127, 'q'), 2), Qubit(QuantumRegister(127, 'q'), 1)), clbits=()),\n",
       " CircuitInstruction(operation=Instruction(name='rzx', num_qubits=2, num_clbits=0, params=[0.33333333393840525]), qubits=(Qubit(QuantumRegister(127, 'q'), 1), Qubit(QuantumRegister(127, 'q'), 0)), clbits=()),\n",
       " CircuitInstruction(operation=Instruction(name='rzx', num_qubits=2, num_clbits=0, params=[0.33333333393840503]), qubits=(Qubit(QuantumRegister(127, 'q'), 3), Qubit(QuantumRegister(127, 'q'), 2)), clbits=()),\n",
       " CircuitInstruction(operation=Instruction(name='rzx', num_qubits=2, num_clbits=0, params=[0.3333333339384052]), qubits=(Qubit(QuantumRegister(127, 'q'), 2), Qubit(QuantumRegister(127, 'q'), 1)), clbits=()),\n",
       " CircuitInstruction(operation=Instruction(name='rzx', num_qubits=2, num_clbits=0, params=[0.33333333393840525]), qubits=(Qubit(QuantumRegister(127, 'q'), 1), Qubit(QuantumRegister(127, 'q'), 0)), clbits=()),\n",
       " CircuitInstruction(operation=Instruction(name='rzx', num_qubits=2, num_clbits=0, params=[0.33333333393840503]), qubits=(Qubit(QuantumRegister(127, 'q'), 3), Qubit(QuantumRegister(127, 'q'), 2)), clbits=()),\n",
       " CircuitInstruction(operation=Instruction(name='rzx', num_qubits=2, num_clbits=0, params=[0.3333333339384052]), qubits=(Qubit(QuantumRegister(127, 'q'), 2), Qubit(QuantumRegister(127, 'q'), 1)), clbits=()),\n",
       " CircuitInstruction(operation=Instruction(name='rzx', num_qubits=2, num_clbits=0, params=[0.33333333393840525]), qubits=(Qubit(QuantumRegister(127, 'q'), 1), Qubit(QuantumRegister(127, 'q'), 0)), clbits=()),\n",
       " CircuitInstruction(operation=Instruction(name='rzx', num_qubits=2, num_clbits=0, params=[0.33333333393840503]), qubits=(Qubit(QuantumRegister(127, 'q'), 3), Qubit(QuantumRegister(127, 'q'), 2)), clbits=()),\n",
       " CircuitInstruction(operation=Instruction(name='rzx', num_qubits=2, num_clbits=0, params=[0.3333333339384052]), qubits=(Qubit(QuantumRegister(127, 'q'), 2), Qubit(QuantumRegister(127, 'q'), 1)), clbits=()),\n",
       " CircuitInstruction(operation=Instruction(name='rzx', num_qubits=2, num_clbits=0, params=[0.33333333393840525]), qubits=(Qubit(QuantumRegister(127, 'q'), 1), Qubit(QuantumRegister(127, 'q'), 0)), clbits=()),\n",
       " CircuitInstruction(operation=Instruction(name='rzx', num_qubits=2, num_clbits=0, params=[0.33333333393840503]), qubits=(Qubit(QuantumRegister(127, 'q'), 3), Qubit(QuantumRegister(127, 'q'), 2)), clbits=())]"
      ]
     },
     "execution_count": 6,
     "metadata": {},
     "output_type": "execute_result"
    }
   ],
   "source": [
    "circuit['circuit'][0].get_instructions('rzx')"
   ]
  },
  {
   "cell_type": "code",
   "execution_count": null,
   "metadata": {},
   "outputs": [],
   "source": []
  }
 ],
 "metadata": {
  "kernelspec": {
   "display_name": "simuq",
   "language": "python",
   "name": "python3"
  },
  "language_info": {
   "codemirror_mode": {
    "name": "ipython",
    "version": 3
   },
   "file_extension": ".py",
   "mimetype": "text/x-python",
   "name": "python",
   "nbconvert_exporter": "python",
   "pygments_lexer": "ipython3",
   "version": "3.9.18"
  }
 },
 "nbformat": 4,
 "nbformat_minor": 2
}
