{
 "cells": [
  {
   "cell_type": "code",
   "execution_count": 2,
   "metadata": {},
   "outputs": [],
   "source": [
    "import pickle\n",
    "\n",
    "with open('../results/rb_experiments/rx_errors.pkl', 'rb') as f:\n",
    "    data = pickle.load(f)"
   ]
  },
  {
   "cell_type": "code",
   "execution_count": 3,
   "metadata": {},
   "outputs": [],
   "source": [
    "updated_data = list(map(lambda x: {'system' : x['system'], 'qubit' : x['qubit'], 'rx_error_rate' : x['error'].nominal_value + x['error'].std_dev}, data))"
   ]
  },
  {
   "cell_type": "code",
   "execution_count": 4,
   "metadata": {},
   "outputs": [
    {
     "name": "stderr",
     "output_type": "stream",
     "text": [
      "C:\\Users\\Admin\\AppData\\Local\\Temp\\ipykernel_12544\\2162262858.py:1: DeprecationWarning: \n",
      "Pyarrow will become a required dependency of pandas in the next major release of pandas (pandas 3.0),\n",
      "(to allow more performant data types, such as the Arrow string type, and better interoperability with other libraries)\n",
      "but was not found to be installed on your system.\n",
      "If this would cause problems for you,\n",
      "please provide us feedback at https://github.com/pandas-dev/pandas/issues/54466\n",
      "        \n",
      "  import pandas as pd\n"
     ]
    }
   ],
   "source": [
    "import pandas as pd\n",
    "\n",
    "df = pd.DataFrame(updated_data)\n",
    "brisbane_df = df[df['system'] == 'ibm_brisbane'][['qubit', 'rx_error_rate']]\n",
    "kyoto_df = df[df['system'] == 'ibm_kyoto'][['qubit', 'rx_error_rate']]\n",
    "sherbrooke_df = df[df['system'] == 'ibm_sherbrooke'][['qubit', 'rx_error_rate']]\n",
    "mumbai_df = df[df['system'] == 'ibmq_mumbai'][['qubit', 'rx_error_rate']]\n",
    "nazca_df = df[df['system'] == 'ibm_nazca'][['qubit', 'rx_error_rate']]"
   ]
  },
  {
   "cell_type": "code",
   "execution_count": 6,
   "metadata": {},
   "outputs": [],
   "source": [
    "#Write this to excel in different sheets\n",
    "with pd.ExcelWriter('../results/rb_experiments/rx_error_rates.xlsx') as writer:\n",
    "    brisbane_df.to_excel(writer, sheet_name='ibm_brisbane')\n",
    "    kyoto_df.to_excel(writer, sheet_name='ibm_kyoto')\n",
    "    sherbrooke_df.to_excel(writer, sheet_name='ibm_sherbrooke')\n",
    "    mumbai_df.to_excel(writer, sheet_name='ibmq_mumbai')\n",
    "    nazca_df.to_excel(writer, sheet_name='ibm_nazca')"
   ]
  },
  {
   "cell_type": "code",
   "execution_count": 7,
   "metadata": {},
   "outputs": [],
   "source": [
    "with open('../rb_experiments/Automated try/params/rzx_errors_brisbane.pkl', 'rb') as f:\n",
    "    brisbane_rzx = pickle.load(f)\n",
    "\n",
    "with open('../rb_experiments/Automated try/params/rzx_errors_kyoto.pkl', 'rb') as f:\n",
    "    kyoto_rzx = pickle.load(f)\n",
    "\n",
    "with open('../rb_experiments/Automated try/params/rzx_errors_sherbrooke.pkl', 'rb') as f:\n",
    "    sherbrooke_rzx = pickle.load(f)\n",
    "\n",
    "with open('../rb_experiments/Automated try/params/rzx_errors_mumbai.pkl', 'rb') as f:\n",
    "    mumbai_rzx = pickle.load(f)\n",
    "\n",
    "with open('../rb_experiments/Automated try/params/rzx_errors_nazca.pkl', 'rb') as f:\n",
    "    nazca_rzx = pickle.load(f)"
   ]
  },
  {
   "cell_type": "code",
   "execution_count": 8,
   "metadata": {},
   "outputs": [],
   "source": [
    "rzx_errors = brisbane_rzx + kyoto_rzx + sherbrooke_rzx + mumbai_rzx + nazca_rzx"
   ]
  },
  {
   "cell_type": "code",
   "execution_count": 9,
   "metadata": {},
   "outputs": [],
   "source": [
    "with open('../results/rb_experiments/rzx_errors.pkl', 'wb') as f:\n",
    "    pickle.dump(rzx_errors, f)"
   ]
  },
  {
   "cell_type": "code",
   "execution_count": 10,
   "metadata": {},
   "outputs": [],
   "source": [
    "brisbane_rzx_df = pd.DataFrame(list(map(lambda x: {'qubit' : x['qubit'], 'rzx_error_rate' : x['error'].nominal_value + x['error'].std_dev}, brisbane_rzx)))\n",
    "kyoto_rzx_df = pd.DataFrame(list(map(lambda x: {'qubit' : x['qubit'], 'rzx_error_rate' : x['error'].nominal_value + x['error'].std_dev}, kyoto_rzx)))\n",
    "sherbrooke_rzx_df = pd.DataFrame(list(map(lambda x: {'qubit' : x['qubit'], 'rzx_error_rate' : x['error'].nominal_value + x['error'].std_dev}, sherbrooke_rzx)))\n",
    "mumbai_rzx_df = pd.DataFrame(list(map(lambda x: {'qubit' : x['qubit'], 'rzx_error_rate' : x['error'].nominal_value + x['error'].std_dev}, mumbai_rzx)))\n",
    "nazca_rzx_df = pd.DataFrame(list(map(lambda x: {'qubit' : x['qubit'], 'rzx_error_rate' : x['error'].nominal_value + x['error'].std_dev}, nazca_rzx)))"
   ]
  },
  {
   "cell_type": "code",
   "execution_count": 11,
   "metadata": {},
   "outputs": [],
   "source": [
    "#Write this to excel in different sheets\n",
    "with pd.ExcelWriter('../results/rb_experiments/rzx_error_rates.xlsx') as writer:\n",
    "    brisbane_rzx_df.to_excel(writer, sheet_name='ibm_brisbane')\n",
    "    kyoto_rzx_df.to_excel(writer, sheet_name='ibm_kyoto')\n",
    "    sherbrooke_rzx_df.to_excel(writer, sheet_name='ibm_sherbrooke')\n",
    "    mumbai_rzx_df.to_excel(writer, sheet_name='ibmq_mumbai')\n",
    "    nazca_rzx_df.to_excel(writer, sheet_name='ibm_nazca')"
   ]
  }
 ],
 "metadata": {
  "kernelspec": {
   "display_name": "simuq",
   "language": "python",
   "name": "python3"
  },
  "language_info": {
   "codemirror_mode": {
    "name": "ipython",
    "version": 3
   },
   "file_extension": ".py",
   "mimetype": "text/x-python",
   "name": "python",
   "nbconvert_exporter": "python",
   "pygments_lexer": "ipython3",
   "version": "3.9.18"
  }
 },
 "nbformat": 4,
 "nbformat_minor": 2
}
