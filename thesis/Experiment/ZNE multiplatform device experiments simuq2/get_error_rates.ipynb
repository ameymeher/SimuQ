{
 "cells": [
  {
   "cell_type": "code",
   "execution_count": 1,
   "metadata": {},
   "outputs": [],
   "source": [
    "from qiskit_ibm_provider import IBMProvider\n",
    "import pickle"
   ]
  },
  {
   "cell_type": "code",
   "execution_count": 3,
   "metadata": {},
   "outputs": [],
   "source": [
    "with open('results/rb_experiments/rx_errors.pkl','rb') as f:\n",
    "    rx_error_rates = pickle.load(f)\n",
    "\n",
    "with open('results/rb_experiments/rzx_errors.pkl','rb') as f:\n",
    "    rzx_error_rates = pickle.load(f)\n",
    "\n",
    "error_rates = {}"
   ]
  },
  {
   "cell_type": "code",
   "execution_count": 4,
   "metadata": {},
   "outputs": [],
   "source": [
    "def get_system_error_rate(system):\n",
    "    provider = IBMProvider()\n",
    "    backend = provider.get_backend(system)\n",
    "    backend_props = backend.properties()\n",
    "\n",
    "    system_error_rates = {'sx' : {}, 'rz' : {}, 'x' : {}}\n",
    "\n",
    "    #Getting the default errors\n",
    "    for basis_gate in backend.configuration().basis_gates:\n",
    "        for gate_props in backend_props.gates:\n",
    "            data = gate_props.to_dict()\n",
    "            if data['gate'] == basis_gate:\n",
    "                for param in data['parameters']:\n",
    "                    if param['name'] == 'gate_error':\n",
    "                        if basis_gate in ['sx','rz','x']:\n",
    "                            system_error_rates[basis_gate][data['qubits'][0]] = param['value']\n",
    "\n",
    "    #Getting the custom errors\n",
    "    rx_system_error = list(filter(lambda x: x['system'] == system, rx_error_rates))\n",
    "    rzx_system_error = list(filter(lambda x: x['system'] == system, rzx_error_rates))\n",
    "\n",
    "    rx_system_error_mapped = dict(map(lambda x: (x['qubit'][0],x['error'].nominal_value + x['error'].std_dev), rx_system_error))\n",
    "    rzx_system_error_mapped = dict(map(lambda x: ((x['qubit'][0],x['qubit'][1]),x['error'].nominal_value + x['error'].std_dev), rzx_system_error))\n",
    "\n",
    "    system_error_rates['rx'] = rx_system_error_mapped\n",
    "    system_error_rates['rzx'] = rzx_system_error_mapped\n",
    "\n",
    "    return system_error_rates"
   ]
  },
  {
   "cell_type": "code",
   "execution_count": 5,
   "metadata": {},
   "outputs": [],
   "source": [
    "error_rates = dict(map(lambda x: (x, get_system_error_rate(x)), ['ibm_brisbane','ibm_kyoto','ibm_sherbrooke','ibmq_mumbai','ibm_nazca']))"
   ]
  },
  {
   "cell_type": "code",
   "execution_count": 6,
   "metadata": {},
   "outputs": [],
   "source": [
    "#Save the results\n",
    "with open('results/error_rates.pkl','wb') as f:\n",
    "    pickle.dump(error_rates, f)"
   ]
  },
  {
   "cell_type": "code",
   "execution_count": null,
   "metadata": {},
   "outputs": [],
   "source": []
  }
 ],
 "metadata": {
  "kernelspec": {
   "display_name": "simuq",
   "language": "python",
   "name": "python3"
  },
  "language_info": {
   "codemirror_mode": {
    "name": "ipython",
    "version": 3
   },
   "file_extension": ".py",
   "mimetype": "text/x-python",
   "name": "python",
   "nbconvert_exporter": "python",
   "pygments_lexer": "ipython3",
   "version": "3.9.18"
  }
 },
 "nbformat": 4,
 "nbformat_minor": 2
}
