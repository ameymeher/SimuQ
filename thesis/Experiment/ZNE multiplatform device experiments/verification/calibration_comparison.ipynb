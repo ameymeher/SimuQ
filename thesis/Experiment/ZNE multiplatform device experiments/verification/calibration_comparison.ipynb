{
 "cells": [
  {
   "cell_type": "code",
   "execution_count": 28,
   "metadata": {},
   "outputs": [],
   "source": [
    "#Get the pickled files\n",
    "import pickle\n",
    "\n",
    "circuits = {}\n",
    "calibrated_instructions = {}\n",
    "rx_calibrations = {}\n",
    "rzx_calibrations = {}\n",
    "\n",
    "for N in range(4,10):\n",
    "    for T in range(1,7):\n",
    "        for system in [\"ibmq_mumbai\",\"ibm_brisbane\",\"ibm_kyoto\"]:\n",
    "            filename = \"circuits/\" + system + \"_\" + str(N) + \"_\" + str(T) + \".pickle\"\n",
    "            with open(filename, 'rb') as f:\n",
    "                circuit = pickle.load(f)\n",
    "                calibrated_instructions[(N,T,system)] = list(circuit.calibrations.keys())\n",
    "                rx_calibrations[(N,T,system)] = circuit.calibrations.get('rx', None)\n",
    "                rzx_calibrations[(N,T,system)] = circuit.calibrations.get('rzx', None)\n",
    "                circuits[(N,T,system)] = circuit"
   ]
  },
  {
   "cell_type": "markdown",
   "metadata": {},
   "source": [
    "### Comparing with same N and different T on the same system"
   ]
  },
  {
   "cell_type": "markdown",
   "metadata": {},
   "source": [
    "#### Observation:\n",
    "\n",
    "It will require Interleaved RB experiment for each of the circuit"
   ]
  },
  {
   "cell_type": "markdown",
   "metadata": {},
   "source": [
    "#### Comparing RX calibrations"
   ]
  },
  {
   "cell_type": "markdown",
   "metadata": {},
   "source": [
    "##### Observation: \n",
    "Beta value varies, thus calibration is different for the same N, but varying T on the same machine.<br>\n",
    "Therefore would require Interleaved RB experiment for each of the circuit.\n"
   ]
  },
  {
   "cell_type": "code",
   "execution_count": 29,
   "metadata": {},
   "outputs": [
    {
     "data": {
      "text/plain": [
       "[ScheduleBlock(Play(Drag(duration=120, sigma=30, beta=-0.013297167318523633, amp=0.02114997701943755, angle=0), DriveChannel(0)), name=\"rx(0.333)\", transform=AlignLeft()),\n",
       " ScheduleBlock(Play(Drag(duration=120, sigma=30, beta=-0.43426496913391677, amp=0.016688348004781573, angle=0), DriveChannel(3)), name=\"rx(0.333)\", transform=AlignLeft()),\n",
       " ScheduleBlock(Play(Drag(duration=120, sigma=30, beta=0.09551132514729734, amp=0.0199640995591797, angle=0), DriveChannel(1)), name=\"rx(0.333)\", transform=AlignLeft()),\n",
       " ScheduleBlock(Play(Drag(duration=120, sigma=30, beta=1.228413823269732, amp=0.01724562234552355, angle=0), DriveChannel(2)), name=\"rx(0.333)\", transform=AlignLeft())]"
      ]
     },
     "execution_count": 29,
     "metadata": {},
     "output_type": "execute_result"
    }
   ],
   "source": [
    "list(rx_calibrations[(4,1,\"ibm_brisbane\")].values())"
   ]
  },
  {
   "cell_type": "code",
   "execution_count": 30,
   "metadata": {},
   "outputs": [
    {
     "data": {
      "text/plain": [
       "[ScheduleBlock(Play(Drag(duration=120, sigma=30, beta=-0.013297167318523633, amp=0.042299953758225504, angle=0), DriveChannel(0)), name=\"rx(0.667)\", transform=AlignLeft()),\n",
       " ScheduleBlock(Play(Drag(duration=120, sigma=30, beta=-0.43426496913391677, amp=0.03337669599630129, angle=0), DriveChannel(3)), name=\"rx(0.667)\", transform=AlignLeft()),\n",
       " ScheduleBlock(Play(Drag(duration=120, sigma=30, beta=0.09551132514729734, amp=0.03992819935150432, angle=0), DriveChannel(1)), name=\"rx(0.667)\", transform=AlignLeft()),\n",
       " ScheduleBlock(Play(Drag(duration=120, sigma=30, beta=1.228413823269732, amp=0.03449124467734239, angle=0), DriveChannel(2)), name=\"rx(0.667)\", transform=AlignLeft())]"
      ]
     },
     "execution_count": 30,
     "metadata": {},
     "output_type": "execute_result"
    }
   ],
   "source": [
    "list(rx_calibrations[(4,2,\"ibm_brisbane\")].values())"
   ]
  },
  {
   "cell_type": "code",
   "execution_count": 31,
   "metadata": {},
   "outputs": [
    {
     "data": {
      "text/plain": [
       "[ScheduleBlock(Play(Drag(duration=120, sigma=30, beta=-0.013297167318523633, amp=0.0634499311502234, angle=0), DriveChannel(0)), name=\"rx(1.000)\", transform=AlignLeft()),\n",
       " ScheduleBlock(Play(Drag(duration=120, sigma=30, beta=-0.43426496913391677, amp=0.05006504408686672, angle=0), DriveChannel(3)), name=\"rx(1.000)\", transform=AlignLeft()),\n",
       " ScheduleBlock(Play(Drag(duration=120, sigma=30, beta=0.09551132514729734, amp=0.05989229913781134, angle=0), DriveChannel(1)), name=\"rx(1.000)\", transform=AlignLeft()),\n",
       " ScheduleBlock(Play(Drag(duration=120, sigma=30, beta=1.228413823269732, amp=0.05173686711151438, angle=0), DriveChannel(2)), name=\"rx(1.000)\", transform=AlignLeft())]"
      ]
     },
     "execution_count": 31,
     "metadata": {},
     "output_type": "execute_result"
    }
   ],
   "source": [
    "list(rx_calibrations[(4,3,\"ibm_brisbane\")].values())"
   ]
  },
  {
   "cell_type": "code",
   "execution_count": 32,
   "metadata": {},
   "outputs": [
    {
     "data": {
      "text/plain": [
       "[ScheduleBlock(Play(Drag(duration=120, sigma=30, beta=-0.013297167318523633, amp=0.084599908197078, angle=0), DriveChannel(0)), name=\"rx(1.333)\", transform=AlignLeft()),\n",
       " ScheduleBlock(Play(Drag(duration=120, sigma=30, beta=-0.43426496913391677, amp=0.06675339161593594, angle=0), DriveChannel(3)), name=\"rx(1.333)\", transform=AlignLeft()),\n",
       " ScheduleBlock(Play(Drag(duration=120, sigma=30, beta=0.09551132514729734, amp=0.07985639884737582, angle=0), DriveChannel(1)), name=\"rx(1.333)\", transform=AlignLeft()),\n",
       " ScheduleBlock(Play(Drag(duration=120, sigma=30, beta=1.228413823269732, amp=0.0689824889654401, angle=0), DriveChannel(2)), name=\"rx(1.333)\", transform=AlignLeft())]"
      ]
     },
     "execution_count": 32,
     "metadata": {},
     "output_type": "execute_result"
    }
   ],
   "source": [
    "list(rx_calibrations[(4,4,\"ibm_brisbane\")].values())"
   ]
  },
  {
   "cell_type": "code",
   "execution_count": 33,
   "metadata": {},
   "outputs": [
    {
     "data": {
      "text/plain": [
       "[ScheduleBlock(Play(Drag(duration=120, sigma=30, beta=-0.013297167318523633, amp=0.1057498849866686, angle=0), DriveChannel(0)), name=\"rx(1.667)\", transform=AlignLeft()),\n",
       " ScheduleBlock(Play(Drag(duration=120, sigma=30, beta=-0.43426496913391677, amp=0.08344173993670301, angle=0), DriveChannel(3)), name=\"rx(1.667)\", transform=AlignLeft()),\n",
       " ScheduleBlock(Play(Drag(duration=120, sigma=30, beta=0.09551132514729734, amp=0.09982049875034191, angle=0), DriveChannel(1)), name=\"rx(1.667)\", transform=AlignLeft()),\n",
       " ScheduleBlock(Play(Drag(duration=120, sigma=30, beta=1.228413823269732, amp=0.08622811163750078, angle=0), DriveChannel(2)), name=\"rx(1.667)\", transform=AlignLeft())]"
      ]
     },
     "execution_count": 33,
     "metadata": {},
     "output_type": "execute_result"
    }
   ],
   "source": [
    "list(rx_calibrations[(4,5,\"ibm_brisbane\")].values())"
   ]
  },
  {
   "cell_type": "code",
   "execution_count": 34,
   "metadata": {},
   "outputs": [
    {
     "data": {
      "text/plain": [
       "[ScheduleBlock(Play(Drag(duration=120, sigma=30, beta=-0.013297167318523633, amp=0.12689986225124988, angle=0), DriveChannel(0)), name=\"rx(2.000)\", transform=AlignLeft()),\n",
       " ScheduleBlock(Play(Drag(duration=120, sigma=30, beta=-0.43426496913391677, amp=0.10013008813491486, angle=0), DriveChannel(3)), name=\"rx(2.000)\", transform=AlignLeft()),\n",
       " ScheduleBlock(Play(Drag(duration=120, sigma=30, beta=0.09551132514729734, amp=0.11978459822918441, angle=0), DriveChannel(1)), name=\"rx(2.000)\", transform=AlignLeft()),\n",
       " ScheduleBlock(Play(Drag(duration=120, sigma=30, beta=1.228413823269732, amp=0.10347373315107714, angle=0), DriveChannel(2)), name=\"rx(2.000)\", transform=AlignLeft())]"
      ]
     },
     "execution_count": 34,
     "metadata": {},
     "output_type": "execute_result"
    }
   ],
   "source": [
    "list(rx_calibrations[(4,6,\"ibm_brisbane\")].values())"
   ]
  },
  {
   "cell_type": "markdown",
   "metadata": {},
   "source": [
    "#### Comparing RZX calibrations"
   ]
  },
  {
   "cell_type": "markdown",
   "metadata": {},
   "source": [
    "##### Observation:\n",
    "Duration varies for some of the ScheduleBlock.<br>\n",
    "Thus it will require Interleaved RB experiment for each of the circuit"
   ]
  },
  {
   "cell_type": "code",
   "execution_count": 35,
   "metadata": {},
   "outputs": [
    {
     "data": {
      "text/plain": [
       "[ScheduleBlock(ScheduleBlock(ScheduleBlock(Play(GaussianSquare(duration=160, sigma=32, width=36.970944548372955, amp=0.11232581120473191, angle=1.7087153351382276), ControlChannel(2)), name=\"rescale_cr_inst\", transform=AlignLeft()), ScheduleBlock(Play(GaussianSquare(duration=160, sigma=32, width=36.970944548372955, amp=0.0363447706333618, angle=-0.05667672366931879), DriveChannel(2)), name=\"rescale_cr_inst\", transform=AlignLeft()), name=\"block26\", transform=AlignLeft()), ScheduleBlock(Play(Drag(duration=120, sigma=30, beta=-0.5528309710105347, amp=0.1577336659362731, angle=0.0, name='Xp_d3'), DriveChannel(3), name='Xp_d3'), name=\"x\", transform=AlignLeft()), ScheduleBlock(ScheduleBlock(Play(GaussianSquare(duration=160, sigma=32, width=36.970944548372955, amp=0.11232581120473188, angle=-1.4328773184515657), ControlChannel(2)), name=\"rescale_cr_inst\", transform=AlignLeft()), ScheduleBlock(Play(GaussianSquare(duration=160, sigma=32, width=36.970944548372955, amp=0.0363447706333618, angle=3.0849159299204745), DriveChannel(2)), name=\"rescale_cr_inst\", transform=AlignLeft()), name=\"block29\", transform=AlignLeft()), ScheduleBlock(Play(Drag(duration=120, sigma=30, beta=-0.5528309710105347, amp=0.1577336659362731, angle=0.0, name='Xp_d3'), DriveChannel(3), name='Xp_d3'), name=\"x\", transform=AlignLeft()), name=\"rzx(0.333)\", transform=AlignSequential()),\n",
       " ScheduleBlock(ScheduleBlock(ScheduleBlock(Play(GaussianSquare(duration=160, sigma=32, width=36.97094454837304, amp=0.1697276979220393, angle=2.6682780421176497), ControlChannel(0)), name=\"rescale_cr_inst\", transform=AlignLeft()), ScheduleBlock(Play(GaussianSquare(duration=160, sigma=32, width=36.97094454837304, amp=0.03834986227101661, angle=0.01698864164867218), DriveChannel(0)), name=\"rescale_cr_inst\", transform=AlignLeft()), name=\"block33\", transform=AlignLeft()), ScheduleBlock(Play(Drag(duration=120, sigma=30, beta=0.08880087935552768, amp=0.18809820468295432, angle=0.0, name='Xp_d1'), DriveChannel(1), name='Xp_d1'), name=\"x\", transform=AlignLeft()), ScheduleBlock(ScheduleBlock(Play(GaussianSquare(duration=160, sigma=32, width=36.97094454837304, amp=0.1697276979220393, angle=-0.4733146114721436), ControlChannel(0)), name=\"rescale_cr_inst\", transform=AlignLeft()), ScheduleBlock(Play(GaussianSquare(duration=160, sigma=32, width=36.97094454837304, amp=0.03834986227101661, angle=-3.124604011941121), DriveChannel(0)), name=\"rescale_cr_inst\", transform=AlignLeft()), name=\"block36\", transform=AlignLeft()), ScheduleBlock(Play(Drag(duration=120, sigma=30, beta=0.08880087935552768, amp=0.18809820468295432, angle=0.0, name='Xp_d1'), DriveChannel(1), name='Xp_d1'), name=\"x\", transform=AlignLeft()), name=\"rzx(0.333)\", transform=AlignSequential()),\n",
       " ScheduleBlock(ScheduleBlock(ScheduleBlock(Play(GaussianSquare(duration=160, sigma=32, width=36.970944548373026, amp=0.5050543775672326, angle=-2.403321368633537), ControlChannel(1)), name=\"rescale_cr_inst\", transform=AlignLeft()), ScheduleBlock(Play(GaussianSquare(duration=160, sigma=32, width=36.970944548373026, amp=0.031214340238550117, angle=0.0471160362416144), DriveChannel(1)), name=\"rescale_cr_inst\", transform=AlignLeft()), name=\"block40\", transform=AlignLeft()), ScheduleBlock(Play(Drag(duration=120, sigma=30, beta=1.2595509330701782, amp=0.16288922916539814, angle=0.0, name='Xp_d2'), DriveChannel(2), name='Xp_d2'), name=\"x\", transform=AlignLeft()), ScheduleBlock(ScheduleBlock(Play(GaussianSquare(duration=160, sigma=32, width=36.970944548373026, amp=0.5050543775672326, angle=0.738271284956256), ControlChannel(1)), name=\"rescale_cr_inst\", transform=AlignLeft()), ScheduleBlock(Play(GaussianSquare(duration=160, sigma=32, width=36.970944548373026, amp=0.031214340238550117, angle=-3.094476617348179), DriveChannel(1)), name=\"rescale_cr_inst\", transform=AlignLeft()), name=\"block43\", transform=AlignLeft()), ScheduleBlock(Play(Drag(duration=120, sigma=30, beta=1.2595509330701782, amp=0.16288922916539814, angle=0.0, name='Xp_d2'), DriveChannel(2), name='Xp_d2'), name=\"x\", transform=AlignLeft()), name=\"rzx(0.333)\", transform=AlignSequential())]"
      ]
     },
     "execution_count": 35,
     "metadata": {},
     "output_type": "execute_result"
    }
   ],
   "source": [
    "list(rzx_calibrations[(4,1,\"ibm_brisbane\")].values())"
   ]
  },
  {
   "cell_type": "code",
   "execution_count": 36,
   "metadata": {},
   "outputs": [
    {
     "data": {
      "text/plain": [
       "[ScheduleBlock(ScheduleBlock(ScheduleBlock(Play(GaussianSquare(duration=288, sigma=32, width=154.1539925551646, amp=0.11232581120473191, angle=1.7087153351382276), ControlChannel(2)), name=\"rescale_cr_inst\", transform=AlignLeft()), ScheduleBlock(Play(GaussianSquare(duration=288, sigma=32, width=154.1539925551646, amp=0.0363447706333618, angle=-0.05667672366931879), DriveChannel(2)), name=\"rescale_cr_inst\", transform=AlignLeft()), name=\"block101\", transform=AlignLeft()), ScheduleBlock(Play(Drag(duration=120, sigma=30, beta=-0.5528309710105347, amp=0.1577336659362731, angle=0.0, name='Xp_d3'), DriveChannel(3), name='Xp_d3'), name=\"x\", transform=AlignLeft()), ScheduleBlock(ScheduleBlock(Play(GaussianSquare(duration=288, sigma=32, width=154.1539925551646, amp=0.11232581120473188, angle=-1.4328773184515657), ControlChannel(2)), name=\"rescale_cr_inst\", transform=AlignLeft()), ScheduleBlock(Play(GaussianSquare(duration=288, sigma=32, width=154.1539925551646, amp=0.0363447706333618, angle=3.0849159299204745), DriveChannel(2)), name=\"rescale_cr_inst\", transform=AlignLeft()), name=\"block104\", transform=AlignLeft()), ScheduleBlock(Play(Drag(duration=120, sigma=30, beta=-0.5528309710105347, amp=0.1577336659362731, angle=0.0, name='Xp_d3'), DriveChannel(3), name='Xp_d3'), name=\"x\", transform=AlignLeft()), name=\"rzx(0.667)\", transform=AlignSequential()),\n",
       " ScheduleBlock(ScheduleBlock(ScheduleBlock(Play(GaussianSquare(duration=288, sigma=32, width=154.1539925551646, amp=0.1697276979220393, angle=2.6682780421176497), ControlChannel(0)), name=\"rescale_cr_inst\", transform=AlignLeft()), ScheduleBlock(Play(GaussianSquare(duration=288, sigma=32, width=154.1539925551646, amp=0.03834986227101661, angle=0.01698864164867218), DriveChannel(0)), name=\"rescale_cr_inst\", transform=AlignLeft()), name=\"block108\", transform=AlignLeft()), ScheduleBlock(Play(Drag(duration=120, sigma=30, beta=0.08880087935552768, amp=0.18809820468295432, angle=0.0, name='Xp_d1'), DriveChannel(1), name='Xp_d1'), name=\"x\", transform=AlignLeft()), ScheduleBlock(ScheduleBlock(Play(GaussianSquare(duration=288, sigma=32, width=154.1539925551646, amp=0.1697276979220393, angle=-0.4733146114721436), ControlChannel(0)), name=\"rescale_cr_inst\", transform=AlignLeft()), ScheduleBlock(Play(GaussianSquare(duration=288, sigma=32, width=154.1539925551646, amp=0.03834986227101661, angle=-3.124604011941121), DriveChannel(0)), name=\"rescale_cr_inst\", transform=AlignLeft()), name=\"block111\", transform=AlignLeft()), ScheduleBlock(Play(Drag(duration=120, sigma=30, beta=0.08880087935552768, amp=0.18809820468295432, angle=0.0, name='Xp_d1'), DriveChannel(1), name='Xp_d1'), name=\"x\", transform=AlignLeft()), name=\"rzx(0.667)\", transform=AlignSequential()),\n",
       " ScheduleBlock(ScheduleBlock(ScheduleBlock(Play(GaussianSquare(duration=288, sigma=32, width=154.15399255516456, amp=0.5050543775672326, angle=-2.403321368633537), ControlChannel(1)), name=\"rescale_cr_inst\", transform=AlignLeft()), ScheduleBlock(Play(GaussianSquare(duration=288, sigma=32, width=154.15399255516456, amp=0.031214340238550117, angle=0.0471160362416144), DriveChannel(1)), name=\"rescale_cr_inst\", transform=AlignLeft()), name=\"block115\", transform=AlignLeft()), ScheduleBlock(Play(Drag(duration=120, sigma=30, beta=1.2595509330701782, amp=0.16288922916539814, angle=0.0, name='Xp_d2'), DriveChannel(2), name='Xp_d2'), name=\"x\", transform=AlignLeft()), ScheduleBlock(ScheduleBlock(Play(GaussianSquare(duration=288, sigma=32, width=154.15399255516456, amp=0.5050543775672326, angle=0.738271284956256), ControlChannel(1)), name=\"rescale_cr_inst\", transform=AlignLeft()), ScheduleBlock(Play(GaussianSquare(duration=288, sigma=32, width=154.15399255516456, amp=0.031214340238550117, angle=-3.094476617348179), DriveChannel(1)), name=\"rescale_cr_inst\", transform=AlignLeft()), name=\"block118\", transform=AlignLeft()), ScheduleBlock(Play(Drag(duration=120, sigma=30, beta=1.2595509330701782, amp=0.16288922916539814, angle=0.0, name='Xp_d2'), DriveChannel(2), name='Xp_d2'), name=\"x\", transform=AlignLeft()), name=\"rzx(0.667)\", transform=AlignSequential())]"
      ]
     },
     "execution_count": 36,
     "metadata": {},
     "output_type": "execute_result"
    }
   ],
   "source": [
    "list(rzx_calibrations[(4,2,\"ibm_brisbane\")].values())"
   ]
  },
  {
   "cell_type": "code",
   "execution_count": 37,
   "metadata": {},
   "outputs": [
    {
     "data": {
      "text/plain": [
       "[ScheduleBlock(ScheduleBlock(ScheduleBlock(Play(GaussianSquare(duration=400, sigma=32, width=271.3370412574401, amp=0.11232581120473191, angle=1.7087153351382276), ControlChannel(2)), name=\"rescale_cr_inst\", transform=AlignLeft()), ScheduleBlock(Play(GaussianSquare(duration=400, sigma=32, width=271.3370412574401, amp=0.0363447706333618, angle=-0.05667672366931879), DriveChannel(2)), name=\"rescale_cr_inst\", transform=AlignLeft()), name=\"block176\", transform=AlignLeft()), ScheduleBlock(Play(Drag(duration=120, sigma=30, beta=-0.5528309710105347, amp=0.1577336659362731, angle=0.0, name='Xp_d3'), DriveChannel(3), name='Xp_d3'), name=\"x\", transform=AlignLeft()), ScheduleBlock(ScheduleBlock(Play(GaussianSquare(duration=400, sigma=32, width=271.3370412574401, amp=0.11232581120473188, angle=-1.4328773184515657), ControlChannel(2)), name=\"rescale_cr_inst\", transform=AlignLeft()), ScheduleBlock(Play(GaussianSquare(duration=400, sigma=32, width=271.3370412574401, amp=0.0363447706333618, angle=3.0849159299204745), DriveChannel(2)), name=\"rescale_cr_inst\", transform=AlignLeft()), name=\"block179\", transform=AlignLeft()), ScheduleBlock(Play(Drag(duration=120, sigma=30, beta=-0.5528309710105347, amp=0.1577336659362731, angle=0.0, name='Xp_d3'), DriveChannel(3), name='Xp_d3'), name=\"x\", transform=AlignLeft()), name=\"rzx(1.000)\", transform=AlignSequential()),\n",
       " ScheduleBlock(ScheduleBlock(ScheduleBlock(Play(GaussianSquare(duration=400, sigma=32, width=271.33704125744003, amp=0.1697276979220393, angle=2.6682780421176497), ControlChannel(0)), name=\"rescale_cr_inst\", transform=AlignLeft()), ScheduleBlock(Play(GaussianSquare(duration=400, sigma=32, width=271.33704125744003, amp=0.03834986227101661, angle=0.01698864164867218), DriveChannel(0)), name=\"rescale_cr_inst\", transform=AlignLeft()), name=\"block183\", transform=AlignLeft()), ScheduleBlock(Play(Drag(duration=120, sigma=30, beta=0.08880087935552768, amp=0.18809820468295432, angle=0.0, name='Xp_d1'), DriveChannel(1), name='Xp_d1'), name=\"x\", transform=AlignLeft()), ScheduleBlock(ScheduleBlock(Play(GaussianSquare(duration=400, sigma=32, width=271.33704125744003, amp=0.1697276979220393, angle=-0.4733146114721436), ControlChannel(0)), name=\"rescale_cr_inst\", transform=AlignLeft()), ScheduleBlock(Play(GaussianSquare(duration=400, sigma=32, width=271.33704125744003, amp=0.03834986227101661, angle=-3.124604011941121), DriveChannel(0)), name=\"rescale_cr_inst\", transform=AlignLeft()), name=\"block186\", transform=AlignLeft()), ScheduleBlock(Play(Drag(duration=120, sigma=30, beta=0.08880087935552768, amp=0.18809820468295432, angle=0.0, name='Xp_d1'), DriveChannel(1), name='Xp_d1'), name=\"x\", transform=AlignLeft()), name=\"rzx(1.000)\", transform=AlignSequential()),\n",
       " ScheduleBlock(ScheduleBlock(ScheduleBlock(Play(GaussianSquare(duration=400, sigma=32, width=271.33704125744003, amp=0.5050543775672326, angle=-2.403321368633537), ControlChannel(1)), name=\"rescale_cr_inst\", transform=AlignLeft()), ScheduleBlock(Play(GaussianSquare(duration=400, sigma=32, width=271.33704125744003, amp=0.031214340238550117, angle=0.0471160362416144), DriveChannel(1)), name=\"rescale_cr_inst\", transform=AlignLeft()), name=\"block190\", transform=AlignLeft()), ScheduleBlock(Play(Drag(duration=120, sigma=30, beta=1.2595509330701782, amp=0.16288922916539814, angle=0.0, name='Xp_d2'), DriveChannel(2), name='Xp_d2'), name=\"x\", transform=AlignLeft()), ScheduleBlock(ScheduleBlock(Play(GaussianSquare(duration=400, sigma=32, width=271.33704125744003, amp=0.5050543775672326, angle=0.738271284956256), ControlChannel(1)), name=\"rescale_cr_inst\", transform=AlignLeft()), ScheduleBlock(Play(GaussianSquare(duration=400, sigma=32, width=271.33704125744003, amp=0.031214340238550117, angle=-3.094476617348179), DriveChannel(1)), name=\"rescale_cr_inst\", transform=AlignLeft()), name=\"block193\", transform=AlignLeft()), ScheduleBlock(Play(Drag(duration=120, sigma=30, beta=1.2595509330701782, amp=0.16288922916539814, angle=0.0, name='Xp_d2'), DriveChannel(2), name='Xp_d2'), name=\"x\", transform=AlignLeft()), name=\"rzx(1.000)\", transform=AlignSequential())]"
      ]
     },
     "execution_count": 37,
     "metadata": {},
     "output_type": "execute_result"
    }
   ],
   "source": [
    "list(rzx_calibrations[(4,3,\"ibm_brisbane\")].values())"
   ]
  },
  {
   "cell_type": "code",
   "execution_count": 38,
   "metadata": {},
   "outputs": [
    {
     "data": {
      "text/plain": [
       "[ScheduleBlock(ScheduleBlock(ScheduleBlock(Play(GaussianSquare(duration=512, sigma=32, width=388.52008950926063, amp=0.11232581120473191, angle=1.7087153351382276), ControlChannel(2)), name=\"rescale_cr_inst\", transform=AlignLeft()), ScheduleBlock(Play(GaussianSquare(duration=512, sigma=32, width=388.52008950926063, amp=0.0363447706333618, angle=-0.05667672366931879), DriveChannel(2)), name=\"rescale_cr_inst\", transform=AlignLeft()), name=\"block251\", transform=AlignLeft()), ScheduleBlock(Play(Drag(duration=120, sigma=30, beta=-0.5528309710105347, amp=0.1577336659362731, angle=0.0, name='Xp_d3'), DriveChannel(3), name='Xp_d3'), name=\"x\", transform=AlignLeft()), ScheduleBlock(ScheduleBlock(Play(GaussianSquare(duration=512, sigma=32, width=388.52008950926063, amp=0.11232581120473188, angle=-1.4328773184515657), ControlChannel(2)), name=\"rescale_cr_inst\", transform=AlignLeft()), ScheduleBlock(Play(GaussianSquare(duration=512, sigma=32, width=388.52008950926063, amp=0.0363447706333618, angle=3.0849159299204745), DriveChannel(2)), name=\"rescale_cr_inst\", transform=AlignLeft()), name=\"block254\", transform=AlignLeft()), ScheduleBlock(Play(Drag(duration=120, sigma=30, beta=-0.5528309710105347, amp=0.1577336659362731, angle=0.0, name='Xp_d3'), DriveChannel(3), name='Xp_d3'), name=\"x\", transform=AlignLeft()), name=\"rzx(1.333)\", transform=AlignSequential()),\n",
       " ScheduleBlock(ScheduleBlock(ScheduleBlock(Play(GaussianSquare(duration=512, sigma=32, width=388.52008601697423, amp=0.1697276979220393, angle=2.6682780421176497), ControlChannel(0)), name=\"rescale_cr_inst\", transform=AlignLeft()), ScheduleBlock(Play(GaussianSquare(duration=512, sigma=32, width=388.52008601697423, amp=0.03834986227101661, angle=0.01698864164867218), DriveChannel(0)), name=\"rescale_cr_inst\", transform=AlignLeft()), name=\"block258\", transform=AlignLeft()), ScheduleBlock(Play(Drag(duration=120, sigma=30, beta=0.08880087935552768, amp=0.18809820468295432, angle=0.0, name='Xp_d1'), DriveChannel(1), name='Xp_d1'), name=\"x\", transform=AlignLeft()), ScheduleBlock(ScheduleBlock(Play(GaussianSquare(duration=512, sigma=32, width=388.52008601697423, amp=0.1697276979220393, angle=-0.4733146114721436), ControlChannel(0)), name=\"rescale_cr_inst\", transform=AlignLeft()), ScheduleBlock(Play(GaussianSquare(duration=512, sigma=32, width=388.52008601697423, amp=0.03834986227101661, angle=-3.124604011941121), DriveChannel(0)), name=\"rescale_cr_inst\", transform=AlignLeft()), name=\"block261\", transform=AlignLeft()), ScheduleBlock(Play(Drag(duration=120, sigma=30, beta=0.08880087935552768, amp=0.18809820468295432, angle=0.0, name='Xp_d1'), DriveChannel(1), name='Xp_d1'), name=\"x\", transform=AlignLeft()), name=\"rzx(1.333)\", transform=AlignSequential()),\n",
       " ScheduleBlock(ScheduleBlock(ScheduleBlock(Play(GaussianSquare(duration=512, sigma=32, width=388.52008950926074, amp=0.5050543775672326, angle=-2.403321368633537), ControlChannel(1)), name=\"rescale_cr_inst\", transform=AlignLeft()), ScheduleBlock(Play(GaussianSquare(duration=512, sigma=32, width=388.52008950926074, amp=0.031214340238550117, angle=0.0471160362416144), DriveChannel(1)), name=\"rescale_cr_inst\", transform=AlignLeft()), name=\"block265\", transform=AlignLeft()), ScheduleBlock(Play(Drag(duration=120, sigma=30, beta=1.2595509330701782, amp=0.16288922916539814, angle=0.0, name='Xp_d2'), DriveChannel(2), name='Xp_d2'), name=\"x\", transform=AlignLeft()), ScheduleBlock(ScheduleBlock(Play(GaussianSquare(duration=512, sigma=32, width=388.52008950926074, amp=0.5050543775672326, angle=0.738271284956256), ControlChannel(1)), name=\"rescale_cr_inst\", transform=AlignLeft()), ScheduleBlock(Play(GaussianSquare(duration=512, sigma=32, width=388.52008950926074, amp=0.031214340238550117, angle=-3.094476617348179), DriveChannel(1)), name=\"rescale_cr_inst\", transform=AlignLeft()), name=\"block268\", transform=AlignLeft()), ScheduleBlock(Play(Drag(duration=120, sigma=30, beta=1.2595509330701782, amp=0.16288922916539814, angle=0.0, name='Xp_d2'), DriveChannel(2), name='Xp_d2'), name=\"x\", transform=AlignLeft()), name=\"rzx(1.333)\", transform=AlignSequential())]"
      ]
     },
     "execution_count": 38,
     "metadata": {},
     "output_type": "execute_result"
    }
   ],
   "source": [
    "list(rzx_calibrations[(4,4,\"ibm_brisbane\")].values())"
   ]
  },
  {
   "cell_type": "code",
   "execution_count": 39,
   "metadata": {},
   "outputs": [
    {
     "data": {
      "text/plain": [
       "[ScheduleBlock(ScheduleBlock(ScheduleBlock(Play(GaussianSquare(duration=640, sigma=32, width=505.70313377509297, amp=0.11232581120473191, angle=1.7087153351382276), ControlChannel(2)), name=\"rescale_cr_inst\", transform=AlignLeft()), ScheduleBlock(Play(GaussianSquare(duration=640, sigma=32, width=505.70313377509297, amp=0.0363447706333618, angle=-0.05667672366931879), DriveChannel(2)), name=\"rescale_cr_inst\", transform=AlignLeft()), name=\"block326\", transform=AlignLeft()), ScheduleBlock(Play(Drag(duration=120, sigma=30, beta=-0.5528309710105347, amp=0.1577336659362731, angle=0.0, name='Xp_d3'), DriveChannel(3), name='Xp_d3'), name=\"x\", transform=AlignLeft()), ScheduleBlock(ScheduleBlock(Play(GaussianSquare(duration=640, sigma=32, width=505.70313377509297, amp=0.11232581120473188, angle=-1.4328773184515657), ControlChannel(2)), name=\"rescale_cr_inst\", transform=AlignLeft()), ScheduleBlock(Play(GaussianSquare(duration=640, sigma=32, width=505.70313377509297, amp=0.0363447706333618, angle=3.0849159299204745), DriveChannel(2)), name=\"rescale_cr_inst\", transform=AlignLeft()), name=\"block329\", transform=AlignLeft()), ScheduleBlock(Play(Drag(duration=120, sigma=30, beta=-0.5528309710105347, amp=0.1577336659362731, angle=0.0, name='Xp_d3'), DriveChannel(3), name='Xp_d3'), name=\"x\", transform=AlignLeft()), name=\"rzx(1.667)\", transform=AlignSequential()),\n",
       " ScheduleBlock(ScheduleBlock(ScheduleBlock(Play(GaussianSquare(duration=640, sigma=32, width=505.7031363356906, amp=0.1697276979220393, angle=2.6682780421176497), ControlChannel(0)), name=\"rescale_cr_inst\", transform=AlignLeft()), ScheduleBlock(Play(GaussianSquare(duration=640, sigma=32, width=505.7031363356906, amp=0.03834986227101661, angle=0.01698864164867218), DriveChannel(0)), name=\"rescale_cr_inst\", transform=AlignLeft()), name=\"block333\", transform=AlignLeft()), ScheduleBlock(Play(Drag(duration=120, sigma=30, beta=0.08880087935552768, amp=0.18809820468295432, angle=0.0, name='Xp_d1'), DriveChannel(1), name='Xp_d1'), name=\"x\", transform=AlignLeft()), ScheduleBlock(ScheduleBlock(Play(GaussianSquare(duration=640, sigma=32, width=505.7031363356906, amp=0.1697276979220393, angle=-0.4733146114721436), ControlChannel(0)), name=\"rescale_cr_inst\", transform=AlignLeft()), ScheduleBlock(Play(GaussianSquare(duration=640, sigma=32, width=505.7031363356906, amp=0.03834986227101661, angle=-3.124604011941121), DriveChannel(0)), name=\"rescale_cr_inst\", transform=AlignLeft()), name=\"block336\", transform=AlignLeft()), ScheduleBlock(Play(Drag(duration=120, sigma=30, beta=0.08880087935552768, amp=0.18809820468295432, angle=0.0, name='Xp_d1'), DriveChannel(1), name='Xp_d1'), name=\"x\", transform=AlignLeft()), name=\"rzx(1.667)\", transform=AlignSequential()),\n",
       " ScheduleBlock(ScheduleBlock(ScheduleBlock(Play(GaussianSquare(duration=640, sigma=32, width=505.70313633569083, amp=0.5050543775672326, angle=-2.403321368633537), ControlChannel(1)), name=\"rescale_cr_inst\", transform=AlignLeft()), ScheduleBlock(Play(GaussianSquare(duration=640, sigma=32, width=505.70313633569083, amp=0.031214340238550117, angle=0.0471160362416144), DriveChannel(1)), name=\"rescale_cr_inst\", transform=AlignLeft()), name=\"block340\", transform=AlignLeft()), ScheduleBlock(Play(Drag(duration=120, sigma=30, beta=1.2595509330701782, amp=0.16288922916539814, angle=0.0, name='Xp_d2'), DriveChannel(2), name='Xp_d2'), name=\"x\", transform=AlignLeft()), ScheduleBlock(ScheduleBlock(Play(GaussianSquare(duration=640, sigma=32, width=505.70313633569083, amp=0.5050543775672326, angle=0.738271284956256), ControlChannel(1)), name=\"rescale_cr_inst\", transform=AlignLeft()), ScheduleBlock(Play(GaussianSquare(duration=640, sigma=32, width=505.70313633569083, amp=0.031214340238550117, angle=-3.094476617348179), DriveChannel(1)), name=\"rescale_cr_inst\", transform=AlignLeft()), name=\"block343\", transform=AlignLeft()), ScheduleBlock(Play(Drag(duration=120, sigma=30, beta=1.2595509330701782, amp=0.16288922916539814, angle=0.0, name='Xp_d2'), DriveChannel(2), name='Xp_d2'), name=\"x\", transform=AlignLeft()), name=\"rzx(1.667)\", transform=AlignSequential())]"
      ]
     },
     "execution_count": 39,
     "metadata": {},
     "output_type": "execute_result"
    }
   ],
   "source": [
    "list(rzx_calibrations[(4,5,\"ibm_brisbane\")].values())"
   ]
  },
  {
   "cell_type": "code",
   "execution_count": 40,
   "metadata": {},
   "outputs": [
    {
     "data": {
      "text/plain": [
       "[ScheduleBlock(ScheduleBlock(ScheduleBlock(Play(GaussianSquare(duration=752, sigma=32, width=622.8861787825697, amp=0.11232581120473191, angle=1.7087153351382276), ControlChannel(2)), name=\"rescale_cr_inst\", transform=AlignLeft()), ScheduleBlock(Play(GaussianSquare(duration=752, sigma=32, width=622.8861787825697, amp=0.0363447706333618, angle=-0.05667672366931879), DriveChannel(2)), name=\"rescale_cr_inst\", transform=AlignLeft()), name=\"block401\", transform=AlignLeft()), ScheduleBlock(Play(Drag(duration=120, sigma=30, beta=-0.5528309710105347, amp=0.1577336659362731, angle=0.0, name='Xp_d3'), DriveChannel(3), name='Xp_d3'), name=\"x\", transform=AlignLeft()), ScheduleBlock(ScheduleBlock(Play(GaussianSquare(duration=752, sigma=32, width=622.8861787825697, amp=0.11232581120473188, angle=-1.4328773184515657), ControlChannel(2)), name=\"rescale_cr_inst\", transform=AlignLeft()), ScheduleBlock(Play(GaussianSquare(duration=752, sigma=32, width=622.8861787825697, amp=0.0363447706333618, angle=3.0849159299204745), DriveChannel(2)), name=\"rescale_cr_inst\", transform=AlignLeft()), name=\"block404\", transform=AlignLeft()), ScheduleBlock(Play(Drag(duration=120, sigma=30, beta=-0.5528309710105347, amp=0.1577336659362731, angle=0.0, name='Xp_d3'), DriveChannel(3), name='Xp_d3'), name=\"x\", transform=AlignLeft()), name=\"rzx(2.000)\", transform=AlignSequential()),\n",
       " ScheduleBlock(ScheduleBlock(ScheduleBlock(Play(GaussianSquare(duration=752, sigma=32, width=622.8861857938429, amp=0.1697276979220393, angle=2.6682780421176497), ControlChannel(0)), name=\"rescale_cr_inst\", transform=AlignLeft()), ScheduleBlock(Play(GaussianSquare(duration=752, sigma=32, width=622.8861857938429, amp=0.03834986227101661, angle=0.01698864164867218), DriveChannel(0)), name=\"rescale_cr_inst\", transform=AlignLeft()), name=\"block408\", transform=AlignLeft()), ScheduleBlock(Play(Drag(duration=120, sigma=30, beta=0.08880087935552768, amp=0.18809820468295432, angle=0.0, name='Xp_d1'), DriveChannel(1), name='Xp_d1'), name=\"x\", transform=AlignLeft()), ScheduleBlock(ScheduleBlock(Play(GaussianSquare(duration=752, sigma=32, width=622.8861857938429, amp=0.1697276979220393, angle=-0.4733146114721436), ControlChannel(0)), name=\"rescale_cr_inst\", transform=AlignLeft()), ScheduleBlock(Play(GaussianSquare(duration=752, sigma=32, width=622.8861857938429, amp=0.03834986227101661, angle=-3.124604011941121), DriveChannel(0)), name=\"rescale_cr_inst\", transform=AlignLeft()), name=\"block411\", transform=AlignLeft()), ScheduleBlock(Play(Drag(duration=120, sigma=30, beta=0.08880087935552768, amp=0.18809820468295432, angle=0.0, name='Xp_d1'), DriveChannel(1), name='Xp_d1'), name=\"x\", transform=AlignLeft()), name=\"rzx(2.000)\", transform=AlignSequential()),\n",
       " ScheduleBlock(ScheduleBlock(ScheduleBlock(Play(GaussianSquare(duration=752, sigma=32, width=622.8861857938429, amp=0.5050543775672326, angle=-2.403321368633537), ControlChannel(1)), name=\"rescale_cr_inst\", transform=AlignLeft()), ScheduleBlock(Play(GaussianSquare(duration=752, sigma=32, width=622.8861857938429, amp=0.031214340238550117, angle=0.0471160362416144), DriveChannel(1)), name=\"rescale_cr_inst\", transform=AlignLeft()), name=\"block415\", transform=AlignLeft()), ScheduleBlock(Play(Drag(duration=120, sigma=30, beta=1.2595509330701782, amp=0.16288922916539814, angle=0.0, name='Xp_d2'), DriveChannel(2), name='Xp_d2'), name=\"x\", transform=AlignLeft()), ScheduleBlock(ScheduleBlock(Play(GaussianSquare(duration=752, sigma=32, width=622.8861857938429, amp=0.5050543775672326, angle=0.738271284956256), ControlChannel(1)), name=\"rescale_cr_inst\", transform=AlignLeft()), ScheduleBlock(Play(GaussianSquare(duration=752, sigma=32, width=622.8861857938429, amp=0.031214340238550117, angle=-3.094476617348179), DriveChannel(1)), name=\"rescale_cr_inst\", transform=AlignLeft()), name=\"block418\", transform=AlignLeft()), ScheduleBlock(Play(Drag(duration=120, sigma=30, beta=1.2595509330701782, amp=0.16288922916539814, angle=0.0, name='Xp_d2'), DriveChannel(2), name='Xp_d2'), name=\"x\", transform=AlignLeft()), name=\"rzx(2.000)\", transform=AlignSequential())]"
      ]
     },
     "execution_count": 40,
     "metadata": {},
     "output_type": "execute_result"
    }
   ],
   "source": [
    "list(rzx_calibrations[(4,6,\"ibm_brisbane\")].values())"
   ]
  },
  {
   "cell_type": "markdown",
   "metadata": {},
   "source": [
    "### Comparing with same system and T for different N"
   ]
  },
  {
   "cell_type": "markdown",
   "metadata": {},
   "source": [
    "#### Observation:\n",
    "We can conduct Interleaved RB experiment for the max number of N in one time, and then can use the result of it for the different circuits.<br>\n",
    "Need not do experiment for each of the circuit"
   ]
  },
  {
   "cell_type": "markdown",
   "metadata": {},
   "source": [
    "#### RX comparison"
   ]
  },
  {
   "cell_type": "markdown",
   "metadata": {},
   "source": [
    "##### Observation:\n",
    "We can conduct Interleaved RB experiment for the max number of N in one time, and then can use the result of it for the different circuits.<br>\n",
    "Need not do experiment for each of the circuit"
   ]
  },
  {
   "cell_type": "code",
   "execution_count": 41,
   "metadata": {},
   "outputs": [
    {
     "data": {
      "text/plain": [
       "[ScheduleBlock(Play(Drag(duration=120, sigma=30, beta=-0.013297167318523633, amp=0.02114997701943755, angle=0), DriveChannel(0)), name=\"rx(0.333)\", transform=AlignLeft()),\n",
       " ScheduleBlock(Play(Drag(duration=120, sigma=30, beta=-0.43426496913391677, amp=0.016688348004781573, angle=0), DriveChannel(3)), name=\"rx(0.333)\", transform=AlignLeft()),\n",
       " ScheduleBlock(Play(Drag(duration=120, sigma=30, beta=0.09551132514729734, amp=0.0199640995591797, angle=0), DriveChannel(1)), name=\"rx(0.333)\", transform=AlignLeft()),\n",
       " ScheduleBlock(Play(Drag(duration=120, sigma=30, beta=1.228413823269732, amp=0.01724562234552355, angle=0), DriveChannel(2)), name=\"rx(0.333)\", transform=AlignLeft())]"
      ]
     },
     "execution_count": 41,
     "metadata": {},
     "output_type": "execute_result"
    }
   ],
   "source": [
    "list(rx_calibrations[(4,1,\"ibm_brisbane\")].values())"
   ]
  },
  {
   "cell_type": "code",
   "execution_count": 42,
   "metadata": {},
   "outputs": [
    {
     "data": {
      "text/plain": [
       "[ScheduleBlock(Play(Drag(duration=120, sigma=30, beta=-0.013297167318523633, amp=0.021149976954500462, angle=0), DriveChannel(0)), name=\"rx(0.333)\", transform=AlignLeft()),\n",
       " ScheduleBlock(Play(Drag(duration=120, sigma=30, beta=0.04948900607635009, amp=0.019437752996739045, angle=0), DriveChannel(4)), name=\"rx(0.333)\", transform=AlignLeft()),\n",
       " ScheduleBlock(Play(Drag(duration=120, sigma=30, beta=0.09551132514729734, amp=0.019964099622388598, angle=0), DriveChannel(1)), name=\"rx(0.333)\", transform=AlignLeft()),\n",
       " ScheduleBlock(Play(Drag(duration=120, sigma=30, beta=1.228413823269732, amp=0.017245622292574057, angle=0), DriveChannel(2)), name=\"rx(0.333)\", transform=AlignLeft()),\n",
       " ScheduleBlock(Play(Drag(duration=120, sigma=30, beta=-0.43426496913391677, amp=0.016688348056921373, angle=0), DriveChannel(3)), name=\"rx(0.333)\", transform=AlignLeft())]"
      ]
     },
     "execution_count": 42,
     "metadata": {},
     "output_type": "execute_result"
    }
   ],
   "source": [
    "list(rx_calibrations[(5,1,\"ibm_brisbane\")].values())"
   ]
  },
  {
   "cell_type": "code",
   "execution_count": 43,
   "metadata": {},
   "outputs": [
    {
     "data": {
      "text/plain": [
       "[ScheduleBlock(Play(Drag(duration=120, sigma=30, beta=-0.013297167318523633, amp=0.021149977004694297, angle=0), DriveChannel(0)), name=\"rx(0.333)\", transform=AlignLeft()),\n",
       " ScheduleBlock(Play(Drag(duration=120, sigma=30, beta=0.40473113071258526, amp=0.02076680432394523, angle=0), DriveChannel(5)), name=\"rx(0.333)\", transform=AlignLeft()),\n",
       " ScheduleBlock(Play(Drag(duration=120, sigma=30, beta=0.09551132514729734, amp=0.01996409966976803, angle=0), DriveChannel(1)), name=\"rx(0.333)\", transform=AlignLeft()),\n",
       " ScheduleBlock(Play(Drag(duration=120, sigma=30, beta=1.228413823269732, amp=0.017245622333501947, angle=0), DriveChannel(2)), name=\"rx(0.333)\", transform=AlignLeft()),\n",
       " ScheduleBlock(Play(Drag(duration=120, sigma=30, beta=-0.43426496913391677, amp=0.016688347993148438, angle=0), DriveChannel(3)), name=\"rx(0.333)\", transform=AlignLeft()),\n",
       " ScheduleBlock(Play(Drag(duration=120, sigma=30, beta=0.04948900607635009, amp=0.019437753042869373, angle=0), DriveChannel(4)), name=\"rx(0.333)\", transform=AlignLeft())]"
      ]
     },
     "execution_count": 43,
     "metadata": {},
     "output_type": "execute_result"
    }
   ],
   "source": [
    "list(rx_calibrations[(6,1,\"ibm_brisbane\")].values())"
   ]
  },
  {
   "cell_type": "code",
   "execution_count": 44,
   "metadata": {},
   "outputs": [
    {
     "data": {
      "text/plain": [
       "[ScheduleBlock(Play(Drag(duration=120, sigma=30, beta=-0.013297167318523633, amp=0.0211499768908573, angle=0), DriveChannel(0)), name=\"rx(0.333)\", transform=AlignLeft()),\n",
       " ScheduleBlock(Play(Drag(duration=120, sigma=30, beta=0.4746082407757475, amp=0.019830866363913707, angle=0), DriveChannel(6)), name=\"rx(0.333)\", transform=AlignLeft()),\n",
       " ScheduleBlock(Play(Drag(duration=120, sigma=30, beta=0.09551132514729734, amp=0.019964099562313944, angle=0), DriveChannel(1)), name=\"rx(0.333)\", transform=AlignLeft()),\n",
       " ScheduleBlock(Play(Drag(duration=120, sigma=30, beta=1.228413823269732, amp=0.01724562236269346, angle=0), DriveChannel(2)), name=\"rx(0.333)\", transform=AlignLeft()),\n",
       " ScheduleBlock(Play(Drag(duration=120, sigma=30, beta=-0.43426496913391677, amp=0.016688348021396657, angle=0), DriveChannel(3)), name=\"rx(0.333)\", transform=AlignLeft()),\n",
       " ScheduleBlock(Play(Drag(duration=120, sigma=30, beta=0.04948900607635009, amp=0.01943775307577149, angle=0), DriveChannel(4)), name=\"rx(0.333)\", transform=AlignLeft()),\n",
       " ScheduleBlock(Play(Drag(duration=120, sigma=30, beta=0.40473113071258526, amp=0.020766804212170652, angle=0), DriveChannel(5)), name=\"rx(0.333)\", transform=AlignLeft())]"
      ]
     },
     "execution_count": 44,
     "metadata": {},
     "output_type": "execute_result"
    }
   ],
   "source": [
    "list(rx_calibrations[(7,1,\"ibm_brisbane\")].values())"
   ]
  },
  {
   "cell_type": "code",
   "execution_count": 45,
   "metadata": {},
   "outputs": [
    {
     "data": {
      "text/plain": [
       "[ScheduleBlock(Play(Drag(duration=120, sigma=30, beta=-0.013297167318523633, amp=0.021149976943992104, angle=0), DriveChannel(0)), name=\"rx(0.333)\", transform=AlignLeft()),\n",
       " ScheduleBlock(Play(Drag(duration=120, sigma=30, beta=-1.362822939804322, amp=0.019159117524374335, angle=0), DriveChannel(7)), name=\"rx(0.333)\", transform=AlignLeft()),\n",
       " ScheduleBlock(Play(Drag(duration=120, sigma=30, beta=0.09551132514729734, amp=0.0199640996124694, angle=0), DriveChannel(1)), name=\"rx(0.333)\", transform=AlignLeft()),\n",
       " ScheduleBlock(Play(Drag(duration=120, sigma=30, beta=1.228413823269732, amp=0.01724562228400554, angle=0), DriveChannel(2)), name=\"rx(0.333)\", transform=AlignLeft()),\n",
       " ScheduleBlock(Play(Drag(duration=120, sigma=30, beta=-0.43426496913391677, amp=0.016688347945251453, angle=0), DriveChannel(3)), name=\"rx(0.333)\", transform=AlignLeft()),\n",
       " ScheduleBlock(Play(Drag(duration=120, sigma=30, beta=0.04948900607635009, amp=0.019437752987081405, angle=0), DriveChannel(4)), name=\"rx(0.333)\", transform=AlignLeft()),\n",
       " ScheduleBlock(Play(Drag(duration=120, sigma=30, beta=0.40473113071258526, amp=0.020766804264342773, angle=0), DriveChannel(5)), name=\"rx(0.333)\", transform=AlignLeft()),\n",
       " ScheduleBlock(Play(Drag(duration=120, sigma=30, beta=0.4746082407757475, amp=0.019830866273429896, angle=0), DriveChannel(6)), name=\"rx(0.333)\", transform=AlignLeft())]"
      ]
     },
     "execution_count": 45,
     "metadata": {},
     "output_type": "execute_result"
    }
   ],
   "source": [
    "list(rx_calibrations[(8,1,\"ibm_brisbane\")].values())"
   ]
  },
  {
   "cell_type": "code",
   "execution_count": 46,
   "metadata": {},
   "outputs": [
    {
     "data": {
      "text/plain": [
       "[ScheduleBlock(Play(Drag(duration=120, sigma=30, beta=-0.013297167318523633, amp=0.021149976908573075, angle=0), DriveChannel(0)), name=\"rx(0.333)\", transform=AlignLeft()),\n",
       " ScheduleBlock(Play(Drag(duration=120, sigma=30, beta=0.3264674821225616, amp=0.018537514992406856, angle=0), DriveChannel(8)), name=\"rx(0.333)\", transform=AlignLeft()),\n",
       " ScheduleBlock(Play(Drag(duration=120, sigma=30, beta=0.09551132514729734, amp=0.019964099679194606, angle=0), DriveChannel(1)), name=\"rx(0.333)\", transform=AlignLeft()),\n",
       " ScheduleBlock(Play(Drag(duration=120, sigma=30, beta=1.228413823269732, amp=0.017245622341644888, angle=0), DriveChannel(2)), name=\"rx(0.333)\", transform=AlignLeft()),\n",
       " ScheduleBlock(Play(Drag(duration=120, sigma=30, beta=-0.43426496913391677, amp=0.01668834800102825, angle=0), DriveChannel(3)), name=\"rx(0.333)\", transform=AlignLeft()),\n",
       " ScheduleBlock(Play(Drag(duration=120, sigma=30, beta=0.04948900607635009, amp=0.019437753052047382, angle=0), DriveChannel(4)), name=\"rx(0.333)\", transform=AlignLeft()),\n",
       " ScheduleBlock(Play(Drag(duration=120, sigma=30, beta=0.40473113071258526, amp=0.020766804229565474, angle=0), DriveChannel(5)), name=\"rx(0.333)\", transform=AlignLeft()),\n",
       " ScheduleBlock(Play(Drag(duration=120, sigma=30, beta=0.4746082407757475, amp=0.019830866339709805, angle=0), DriveChannel(6)), name=\"rx(0.333)\", transform=AlignLeft()),\n",
       " ScheduleBlock(Play(Drag(duration=120, sigma=30, beta=-1.362822939804322, amp=0.019159117451748538, angle=0), DriveChannel(7)), name=\"rx(0.333)\", transform=AlignLeft())]"
      ]
     },
     "execution_count": 46,
     "metadata": {},
     "output_type": "execute_result"
    }
   ],
   "source": [
    "list(rx_calibrations[(9,1,\"ibm_brisbane\")].values())"
   ]
  },
  {
   "cell_type": "markdown",
   "metadata": {},
   "source": [
    "#### RZX comparison"
   ]
  },
  {
   "cell_type": "markdown",
   "metadata": {},
   "source": [
    "##### Observation:\n",
    "We can conduct Interleaved RB experiment for the max number of N in one time, and then can use the result of it for the different circuits.<br>\n",
    "Need not do experiment for each of the circuit"
   ]
  },
  {
   "cell_type": "code",
   "execution_count": 47,
   "metadata": {},
   "outputs": [
    {
     "data": {
      "text/plain": [
       "[ScheduleBlock(ScheduleBlock(ScheduleBlock(Play(GaussianSquare(duration=160, sigma=32, width=36.970944548372955, amp=0.11232581120473191, angle=1.7087153351382276), ControlChannel(2)), name=\"rescale_cr_inst\", transform=AlignLeft()), ScheduleBlock(Play(GaussianSquare(duration=160, sigma=32, width=36.970944548372955, amp=0.0363447706333618, angle=-0.05667672366931879), DriveChannel(2)), name=\"rescale_cr_inst\", transform=AlignLeft()), name=\"block26\", transform=AlignLeft()), ScheduleBlock(Play(Drag(duration=120, sigma=30, beta=-0.5528309710105347, amp=0.1577336659362731, angle=0.0, name='Xp_d3'), DriveChannel(3), name='Xp_d3'), name=\"x\", transform=AlignLeft()), ScheduleBlock(ScheduleBlock(Play(GaussianSquare(duration=160, sigma=32, width=36.970944548372955, amp=0.11232581120473188, angle=-1.4328773184515657), ControlChannel(2)), name=\"rescale_cr_inst\", transform=AlignLeft()), ScheduleBlock(Play(GaussianSquare(duration=160, sigma=32, width=36.970944548372955, amp=0.0363447706333618, angle=3.0849159299204745), DriveChannel(2)), name=\"rescale_cr_inst\", transform=AlignLeft()), name=\"block29\", transform=AlignLeft()), ScheduleBlock(Play(Drag(duration=120, sigma=30, beta=-0.5528309710105347, amp=0.1577336659362731, angle=0.0, name='Xp_d3'), DriveChannel(3), name='Xp_d3'), name=\"x\", transform=AlignLeft()), name=\"rzx(0.333)\", transform=AlignSequential()),\n",
       " ScheduleBlock(ScheduleBlock(ScheduleBlock(Play(GaussianSquare(duration=160, sigma=32, width=36.97094454837304, amp=0.1697276979220393, angle=2.6682780421176497), ControlChannel(0)), name=\"rescale_cr_inst\", transform=AlignLeft()), ScheduleBlock(Play(GaussianSquare(duration=160, sigma=32, width=36.97094454837304, amp=0.03834986227101661, angle=0.01698864164867218), DriveChannel(0)), name=\"rescale_cr_inst\", transform=AlignLeft()), name=\"block33\", transform=AlignLeft()), ScheduleBlock(Play(Drag(duration=120, sigma=30, beta=0.08880087935552768, amp=0.18809820468295432, angle=0.0, name='Xp_d1'), DriveChannel(1), name='Xp_d1'), name=\"x\", transform=AlignLeft()), ScheduleBlock(ScheduleBlock(Play(GaussianSquare(duration=160, sigma=32, width=36.97094454837304, amp=0.1697276979220393, angle=-0.4733146114721436), ControlChannel(0)), name=\"rescale_cr_inst\", transform=AlignLeft()), ScheduleBlock(Play(GaussianSquare(duration=160, sigma=32, width=36.97094454837304, amp=0.03834986227101661, angle=-3.124604011941121), DriveChannel(0)), name=\"rescale_cr_inst\", transform=AlignLeft()), name=\"block36\", transform=AlignLeft()), ScheduleBlock(Play(Drag(duration=120, sigma=30, beta=0.08880087935552768, amp=0.18809820468295432, angle=0.0, name='Xp_d1'), DriveChannel(1), name='Xp_d1'), name=\"x\", transform=AlignLeft()), name=\"rzx(0.333)\", transform=AlignSequential()),\n",
       " ScheduleBlock(ScheduleBlock(ScheduleBlock(Play(GaussianSquare(duration=160, sigma=32, width=36.970944548373026, amp=0.5050543775672326, angle=-2.403321368633537), ControlChannel(1)), name=\"rescale_cr_inst\", transform=AlignLeft()), ScheduleBlock(Play(GaussianSquare(duration=160, sigma=32, width=36.970944548373026, amp=0.031214340238550117, angle=0.0471160362416144), DriveChannel(1)), name=\"rescale_cr_inst\", transform=AlignLeft()), name=\"block40\", transform=AlignLeft()), ScheduleBlock(Play(Drag(duration=120, sigma=30, beta=1.2595509330701782, amp=0.16288922916539814, angle=0.0, name='Xp_d2'), DriveChannel(2), name='Xp_d2'), name=\"x\", transform=AlignLeft()), ScheduleBlock(ScheduleBlock(Play(GaussianSquare(duration=160, sigma=32, width=36.970944548373026, amp=0.5050543775672326, angle=0.738271284956256), ControlChannel(1)), name=\"rescale_cr_inst\", transform=AlignLeft()), ScheduleBlock(Play(GaussianSquare(duration=160, sigma=32, width=36.970944548373026, amp=0.031214340238550117, angle=-3.094476617348179), DriveChannel(1)), name=\"rescale_cr_inst\", transform=AlignLeft()), name=\"block43\", transform=AlignLeft()), ScheduleBlock(Play(Drag(duration=120, sigma=30, beta=1.2595509330701782, amp=0.16288922916539814, angle=0.0, name='Xp_d2'), DriveChannel(2), name='Xp_d2'), name=\"x\", transform=AlignLeft()), name=\"rzx(0.333)\", transform=AlignSequential())]"
      ]
     },
     "execution_count": 47,
     "metadata": {},
     "output_type": "execute_result"
    }
   ],
   "source": [
    "list(rzx_calibrations[(4,1,\"ibm_brisbane\")].values())"
   ]
  },
  {
   "cell_type": "code",
   "execution_count": 49,
   "metadata": {},
   "outputs": [
    {
     "data": {
      "text/plain": [
       "[ScheduleBlock(ScheduleBlock(ScheduleBlock(Play(GaussianSquare(duration=160, sigma=32, width=36.97094418858411, amp=0.11232581120473191, angle=1.7087153351382276), ControlChannel(2)), name=\"rescale_cr_inst\", transform=AlignLeft()), ScheduleBlock(Play(GaussianSquare(duration=160, sigma=32, width=36.97094418858411, amp=0.0363447706333618, angle=-0.05667672366931879), DriveChannel(2)), name=\"rescale_cr_inst\", transform=AlignLeft()), name=\"block484\", transform=AlignLeft()), ScheduleBlock(Play(Drag(duration=120, sigma=30, beta=-0.5528309710105347, amp=0.1577336659362731, angle=0.0, name='Xp_d3'), DriveChannel(3), name='Xp_d3'), name=\"x\", transform=AlignLeft()), ScheduleBlock(ScheduleBlock(Play(GaussianSquare(duration=160, sigma=32, width=36.97094418858411, amp=0.11232581120473188, angle=-1.4328773184515657), ControlChannel(2)), name=\"rescale_cr_inst\", transform=AlignLeft()), ScheduleBlock(Play(GaussianSquare(duration=160, sigma=32, width=36.97094418858411, amp=0.0363447706333618, angle=3.0849159299204745), DriveChannel(2)), name=\"rescale_cr_inst\", transform=AlignLeft()), name=\"block487\", transform=AlignLeft()), ScheduleBlock(Play(Drag(duration=120, sigma=30, beta=-0.5528309710105347, amp=0.1577336659362731, angle=0.0, name='Xp_d3'), DriveChannel(3), name='Xp_d3'), name=\"x\", transform=AlignLeft()), name=\"rzx(0.333)\", transform=AlignSequential()),\n",
       " ScheduleBlock(ScheduleBlock(ScheduleBlock(Play(GaussianSquare(duration=160, sigma=32, width=36.970944188584085, amp=0.1697276979220393, angle=2.6682780421176497), ControlChannel(0)), name=\"rescale_cr_inst\", transform=AlignLeft()), ScheduleBlock(Play(GaussianSquare(duration=160, sigma=32, width=36.970944188584085, amp=0.03834986227101661, angle=0.01698864164867218), DriveChannel(0)), name=\"rescale_cr_inst\", transform=AlignLeft()), name=\"block491\", transform=AlignLeft()), ScheduleBlock(Play(Drag(duration=120, sigma=30, beta=0.08880087935552768, amp=0.18809820468295432, angle=0.0, name='Xp_d1'), DriveChannel(1), name='Xp_d1'), name=\"x\", transform=AlignLeft()), ScheduleBlock(ScheduleBlock(Play(GaussianSquare(duration=160, sigma=32, width=36.970944188584085, amp=0.1697276979220393, angle=-0.4733146114721436), ControlChannel(0)), name=\"rescale_cr_inst\", transform=AlignLeft()), ScheduleBlock(Play(GaussianSquare(duration=160, sigma=32, width=36.970944188584085, amp=0.03834986227101661, angle=-3.124604011941121), DriveChannel(0)), name=\"rescale_cr_inst\", transform=AlignLeft()), name=\"block494\", transform=AlignLeft()), ScheduleBlock(Play(Drag(duration=120, sigma=30, beta=0.08880087935552768, amp=0.18809820468295432, angle=0.0, name='Xp_d1'), DriveChannel(1), name='Xp_d1'), name=\"x\", transform=AlignLeft()), name=\"rzx(0.333)\", transform=AlignSequential()),\n",
       " ScheduleBlock(ScheduleBlock(ScheduleBlock(Play(GaussianSquare(duration=160, sigma=32, width=36.97094418858411, amp=0.1517762740600449, angle=-2.6425333818657584), ControlChannel(3)), name=\"rescale_cr_inst\", transform=AlignLeft()), ScheduleBlock(Play(GaussianSquare(duration=160, sigma=32, width=36.97094418858411, amp=0.032976532724914936, angle=0.0034537401291361725), DriveChannel(3)), name=\"rescale_cr_inst\", transform=AlignLeft()), name=\"block498\", transform=AlignLeft()), ScheduleBlock(Play(Drag(duration=120, sigma=30, beta=0.007576080027293046, amp=0.1834747281598561, angle=0.0, name='Xp_d4'), DriveChannel(4), name='Xp_d4'), name=\"x\", transform=AlignLeft()), ScheduleBlock(ScheduleBlock(Play(GaussianSquare(duration=160, sigma=32, width=36.97094418858411, amp=0.1517762740600449, angle=0.49905927172403486), ControlChannel(3)), name=\"rescale_cr_inst\", transform=AlignLeft()), ScheduleBlock(Play(GaussianSquare(duration=160, sigma=32, width=36.97094418858411, amp=0.032976532724914936, angle=-3.138138913460657), DriveChannel(3)), name=\"rescale_cr_inst\", transform=AlignLeft()), name=\"block501\", transform=AlignLeft()), ScheduleBlock(Play(Drag(duration=120, sigma=30, beta=0.007576080027293046, amp=0.1834747281598561, angle=0.0, name='Xp_d4'), DriveChannel(4), name='Xp_d4'), name=\"x\", transform=AlignLeft()), name=\"rzx(0.333)\", transform=AlignSequential()),\n",
       " ScheduleBlock(ScheduleBlock(ScheduleBlock(Play(GaussianSquare(duration=160, sigma=32, width=36.97094418858411, amp=0.5050543775672326, angle=-2.403321368633537), ControlChannel(1)), name=\"rescale_cr_inst\", transform=AlignLeft()), ScheduleBlock(Play(GaussianSquare(duration=160, sigma=32, width=36.97094418858411, amp=0.031214340238550117, angle=0.0471160362416144), DriveChannel(1)), name=\"rescale_cr_inst\", transform=AlignLeft()), name=\"block505\", transform=AlignLeft()), ScheduleBlock(Play(Drag(duration=120, sigma=30, beta=1.2595509330701782, amp=0.16288922916539814, angle=0.0, name='Xp_d2'), DriveChannel(2), name='Xp_d2'), name=\"x\", transform=AlignLeft()), ScheduleBlock(ScheduleBlock(Play(GaussianSquare(duration=160, sigma=32, width=36.97094418858411, amp=0.5050543775672326, angle=0.738271284956256), ControlChannel(1)), name=\"rescale_cr_inst\", transform=AlignLeft()), ScheduleBlock(Play(GaussianSquare(duration=160, sigma=32, width=36.97094418858411, amp=0.031214340238550117, angle=-3.094476617348179), DriveChannel(1)), name=\"rescale_cr_inst\", transform=AlignLeft()), name=\"block508\", transform=AlignLeft()), ScheduleBlock(Play(Drag(duration=120, sigma=30, beta=1.2595509330701782, amp=0.16288922916539814, angle=0.0, name='Xp_d2'), DriveChannel(2), name='Xp_d2'), name=\"x\", transform=AlignLeft()), name=\"rzx(0.333)\", transform=AlignSequential())]"
      ]
     },
     "execution_count": 49,
     "metadata": {},
     "output_type": "execute_result"
    }
   ],
   "source": [
    "list(rzx_calibrations[(5,1,\"ibm_brisbane\")].values())"
   ]
  },
  {
   "cell_type": "code",
   "execution_count": 50,
   "metadata": {},
   "outputs": [
    {
     "data": {
      "text/plain": [
       "[ScheduleBlock(ScheduleBlock(ScheduleBlock(Play(GaussianSquare(duration=160, sigma=32, width=36.97094369534223, amp=0.19715506103593897, angle=1.949532665755227), ControlChannel(4)), name=\"rescale_cr_inst\", transform=AlignLeft()), ScheduleBlock(Play(GaussianSquare(duration=160, sigma=32, width=36.97094369534223, amp=0.037390828089503864, angle=-0.00249392491400393), DriveChannel(5)), name=\"rescale_cr_inst\", transform=AlignLeft()), name=\"block1086\", transform=AlignLeft()), ScheduleBlock(Play(Drag(duration=120, sigma=30, beta=0.007576080027293046, amp=0.1834747281598561, angle=0.0, name='Xp_d4'), DriveChannel(4), name='Xp_d4'), name=\"x\", transform=AlignLeft()), ScheduleBlock(ScheduleBlock(Play(GaussianSquare(duration=160, sigma=32, width=36.97094369534223, amp=0.19715506103593897, angle=-1.1920599878345663), ControlChannel(4)), name=\"rescale_cr_inst\", transform=AlignLeft()), ScheduleBlock(Play(GaussianSquare(duration=160, sigma=32, width=36.97094369534223, amp=0.037390828089503864, angle=3.139098728675789), DriveChannel(5)), name=\"rescale_cr_inst\", transform=AlignLeft()), name=\"block1089\", transform=AlignLeft()), ScheduleBlock(Play(Drag(duration=120, sigma=30, beta=0.007576080027293046, amp=0.1834747281598561, angle=0.0, name='Xp_d4'), DriveChannel(4), name='Xp_d4'), name=\"x\", transform=AlignLeft()), name=\"rzx(0.333)\", transform=AlignSequential()),\n",
       " ScheduleBlock(ScheduleBlock(ScheduleBlock(Play(GaussianSquare(duration=160, sigma=32, width=36.97094369534207, amp=0.11232581120473191, angle=1.7087153351382276), ControlChannel(2)), name=\"rescale_cr_inst\", transform=AlignLeft()), ScheduleBlock(Play(GaussianSquare(duration=160, sigma=32, width=36.97094369534207, amp=0.0363447706333618, angle=-0.05667672366931879), DriveChannel(2)), name=\"rescale_cr_inst\", transform=AlignLeft()), name=\"block1093\", transform=AlignLeft()), ScheduleBlock(Play(Drag(duration=120, sigma=30, beta=-0.5528309710105347, amp=0.1577336659362731, angle=0.0, name='Xp_d3'), DriveChannel(3), name='Xp_d3'), name=\"x\", transform=AlignLeft()), ScheduleBlock(ScheduleBlock(Play(GaussianSquare(duration=160, sigma=32, width=36.97094369534207, amp=0.11232581120473188, angle=-1.4328773184515657), ControlChannel(2)), name=\"rescale_cr_inst\", transform=AlignLeft()), ScheduleBlock(Play(GaussianSquare(duration=160, sigma=32, width=36.97094369534207, amp=0.0363447706333618, angle=3.0849159299204745), DriveChannel(2)), name=\"rescale_cr_inst\", transform=AlignLeft()), name=\"block1096\", transform=AlignLeft()), ScheduleBlock(Play(Drag(duration=120, sigma=30, beta=-0.5528309710105347, amp=0.1577336659362731, angle=0.0, name='Xp_d3'), DriveChannel(3), name='Xp_d3'), name=\"x\", transform=AlignLeft()), name=\"rzx(0.333)\", transform=AlignSequential()),\n",
       " ScheduleBlock(ScheduleBlock(ScheduleBlock(Play(GaussianSquare(duration=160, sigma=32, width=36.9709444666868, amp=0.1697276979220393, angle=2.6682780421176497), ControlChannel(0)), name=\"rescale_cr_inst\", transform=AlignLeft()), ScheduleBlock(Play(GaussianSquare(duration=160, sigma=32, width=36.9709444666868, amp=0.03834986227101661, angle=0.01698864164867218), DriveChannel(0)), name=\"rescale_cr_inst\", transform=AlignLeft()), name=\"block1100\", transform=AlignLeft()), ScheduleBlock(Play(Drag(duration=120, sigma=30, beta=0.08880087935552768, amp=0.18809820468295432, angle=0.0, name='Xp_d1'), DriveChannel(1), name='Xp_d1'), name=\"x\", transform=AlignLeft()), ScheduleBlock(ScheduleBlock(Play(GaussianSquare(duration=160, sigma=32, width=36.9709444666868, amp=0.1697276979220393, angle=-0.4733146114721436), ControlChannel(0)), name=\"rescale_cr_inst\", transform=AlignLeft()), ScheduleBlock(Play(GaussianSquare(duration=160, sigma=32, width=36.9709444666868, amp=0.03834986227101661, angle=-3.124604011941121), DriveChannel(0)), name=\"rescale_cr_inst\", transform=AlignLeft()), name=\"block1103\", transform=AlignLeft()), ScheduleBlock(Play(Drag(duration=120, sigma=30, beta=0.08880087935552768, amp=0.18809820468295432, angle=0.0, name='Xp_d1'), DriveChannel(1), name='Xp_d1'), name=\"x\", transform=AlignLeft()), name=\"rzx(0.333)\", transform=AlignSequential()),\n",
       " ScheduleBlock(ScheduleBlock(ScheduleBlock(Play(GaussianSquare(duration=160, sigma=32, width=36.9709444666868, amp=0.1517762740600449, angle=-2.6425333818657584), ControlChannel(3)), name=\"rescale_cr_inst\", transform=AlignLeft()), ScheduleBlock(Play(GaussianSquare(duration=160, sigma=32, width=36.9709444666868, amp=0.032976532724914936, angle=0.0034537401291361725), DriveChannel(3)), name=\"rescale_cr_inst\", transform=AlignLeft()), name=\"block1107\", transform=AlignLeft()), ScheduleBlock(Play(Drag(duration=120, sigma=30, beta=0.007576080027293046, amp=0.1834747281598561, angle=0.0, name='Xp_d4'), DriveChannel(4), name='Xp_d4'), name=\"x\", transform=AlignLeft()), ScheduleBlock(ScheduleBlock(Play(GaussianSquare(duration=160, sigma=32, width=36.9709444666868, amp=0.1517762740600449, angle=0.49905927172403486), ControlChannel(3)), name=\"rescale_cr_inst\", transform=AlignLeft()), ScheduleBlock(Play(GaussianSquare(duration=160, sigma=32, width=36.9709444666868, amp=0.032976532724914936, angle=-3.138138913460657), DriveChannel(3)), name=\"rescale_cr_inst\", transform=AlignLeft()), name=\"block1110\", transform=AlignLeft()), ScheduleBlock(Play(Drag(duration=120, sigma=30, beta=0.007576080027293046, amp=0.1834747281598561, angle=0.0, name='Xp_d4'), DriveChannel(4), name='Xp_d4'), name=\"x\", transform=AlignLeft()), name=\"rzx(0.333)\", transform=AlignSequential()),\n",
       " ScheduleBlock(ScheduleBlock(ScheduleBlock(Play(GaussianSquare(duration=160, sigma=32, width=36.97094446668683, amp=0.5050543775672326, angle=-2.403321368633537), ControlChannel(1)), name=\"rescale_cr_inst\", transform=AlignLeft()), ScheduleBlock(Play(GaussianSquare(duration=160, sigma=32, width=36.97094446668683, amp=0.031214340238550117, angle=0.0471160362416144), DriveChannel(1)), name=\"rescale_cr_inst\", transform=AlignLeft()), name=\"block1114\", transform=AlignLeft()), ScheduleBlock(Play(Drag(duration=120, sigma=30, beta=1.2595509330701782, amp=0.16288922916539814, angle=0.0, name='Xp_d2'), DriveChannel(2), name='Xp_d2'), name=\"x\", transform=AlignLeft()), ScheduleBlock(ScheduleBlock(Play(GaussianSquare(duration=160, sigma=32, width=36.97094446668683, amp=0.5050543775672326, angle=0.738271284956256), ControlChannel(1)), name=\"rescale_cr_inst\", transform=AlignLeft()), ScheduleBlock(Play(GaussianSquare(duration=160, sigma=32, width=36.97094446668683, amp=0.031214340238550117, angle=-3.094476617348179), DriveChannel(1)), name=\"rescale_cr_inst\", transform=AlignLeft()), name=\"block1117\", transform=AlignLeft()), ScheduleBlock(Play(Drag(duration=120, sigma=30, beta=1.2595509330701782, amp=0.16288922916539814, angle=0.0, name='Xp_d2'), DriveChannel(2), name='Xp_d2'), name=\"x\", transform=AlignLeft()), name=\"rzx(0.333)\", transform=AlignSequential())]"
      ]
     },
     "execution_count": 50,
     "metadata": {},
     "output_type": "execute_result"
    }
   ],
   "source": [
    "list(rzx_calibrations[(6,1,\"ibm_brisbane\")].values())"
   ]
  },
  {
   "cell_type": "markdown",
   "metadata": {},
   "source": [
    "### Comparing keeping N and T same, but system different"
   ]
  },
  {
   "cell_type": "markdown",
   "metadata": {},
   "source": [
    "#### Observation:\n",
    "\n",
    "Need to do different experiments on different systems"
   ]
  },
  {
   "cell_type": "markdown",
   "metadata": {},
   "source": [
    "#### Comparing RX calibrations"
   ]
  },
  {
   "cell_type": "code",
   "execution_count": 51,
   "metadata": {},
   "outputs": [
    {
     "data": {
      "text/plain": [
       "[ScheduleBlock(Play(Drag(duration=120, sigma=30, beta=-0.013297167318523633, amp=0.02114997701943755, angle=0), DriveChannel(0)), name=\"rx(0.333)\", transform=AlignLeft()),\n",
       " ScheduleBlock(Play(Drag(duration=120, sigma=30, beta=-0.43426496913391677, amp=0.016688348004781573, angle=0), DriveChannel(3)), name=\"rx(0.333)\", transform=AlignLeft()),\n",
       " ScheduleBlock(Play(Drag(duration=120, sigma=30, beta=0.09551132514729734, amp=0.0199640995591797, angle=0), DriveChannel(1)), name=\"rx(0.333)\", transform=AlignLeft()),\n",
       " ScheduleBlock(Play(Drag(duration=120, sigma=30, beta=1.228413823269732, amp=0.01724562234552355, angle=0), DriveChannel(2)), name=\"rx(0.333)\", transform=AlignLeft())]"
      ]
     },
     "execution_count": 51,
     "metadata": {},
     "output_type": "execute_result"
    }
   ],
   "source": [
    "list(rx_calibrations[(4,1,\"ibm_brisbane\")].values())"
   ]
  },
  {
   "cell_type": "code",
   "execution_count": 52,
   "metadata": {},
   "outputs": [
    {
     "data": {
      "text/plain": [
       "[ScheduleBlock(Play(Drag(duration=160, sigma=40, beta=-0.23726960898675092, amp=0.017264661223818343, angle=0), DriveChannel(0)), name=\"rx(0.333)\", transform=AlignLeft()),\n",
       " ScheduleBlock(Play(Drag(duration=160, sigma=40, beta=-0.9678997557761785, amp=0.01724522251367518, angle=0), DriveChannel(3)), name=\"rx(0.333)\", transform=AlignLeft()),\n",
       " ScheduleBlock(Play(Drag(duration=160, sigma=40, beta=-0.8893316382916914, amp=0.0187561617933378, angle=0), DriveChannel(1)), name=\"rx(0.333)\", transform=AlignLeft()),\n",
       " ScheduleBlock(Play(Drag(duration=160, sigma=40, beta=0.8250278087783199, amp=0.01733906055563123, angle=0), DriveChannel(2)), name=\"rx(0.333)\", transform=AlignLeft())]"
      ]
     },
     "execution_count": 52,
     "metadata": {},
     "output_type": "execute_result"
    }
   ],
   "source": [
    "list(rx_calibrations[(4,1,\"ibmq_mumbai\")].values())"
   ]
  },
  {
   "cell_type": "code",
   "execution_count": 53,
   "metadata": {},
   "outputs": [
    {
     "data": {
      "text/plain": [
       "[ScheduleBlock(Play(Drag(duration=120, sigma=30, beta=0.05979835085591124, amp=0.021000178395684327, angle=0), DriveChannel(0)), name=\"rx(0.333)\", transform=AlignLeft()),\n",
       " ScheduleBlock(Play(Drag(duration=120, sigma=30, beta=0.1624237666732814, amp=0.012450559550087576, angle=0), DriveChannel(3)), name=\"rx(0.333)\", transform=AlignLeft()),\n",
       " ScheduleBlock(Play(Drag(duration=120, sigma=30, beta=-0.1938530109895148, amp=0.052097872801389764, angle=0), DriveChannel(1)), name=\"rx(0.333)\", transform=AlignLeft()),\n",
       " ScheduleBlock(Play(Drag(duration=120, sigma=30, beta=-0.40112848340265067, amp=0.021164948774235335, angle=0), DriveChannel(2)), name=\"rx(0.333)\", transform=AlignLeft())]"
      ]
     },
     "execution_count": 53,
     "metadata": {},
     "output_type": "execute_result"
    }
   ],
   "source": [
    "list(rx_calibrations[(4,1,\"ibm_kyoto\")].values())"
   ]
  }
 ],
 "metadata": {
  "kernelspec": {
   "display_name": "simuq",
   "language": "python",
   "name": "python3"
  },
  "language_info": {
   "codemirror_mode": {
    "name": "ipython",
    "version": 3
   },
   "file_extension": ".py",
   "mimetype": "text/x-python",
   "name": "python",
   "nbconvert_exporter": "python",
   "pygments_lexer": "ipython3",
   "version": "3.9.18"
  }
 },
 "nbformat": 4,
 "nbformat_minor": 2
}
