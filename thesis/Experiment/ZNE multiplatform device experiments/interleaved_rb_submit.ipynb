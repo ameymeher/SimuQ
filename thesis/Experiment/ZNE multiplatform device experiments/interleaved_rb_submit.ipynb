{
 "cells": [
  {
   "cell_type": "code",
   "execution_count": 66,
   "metadata": {},
   "outputs": [],
   "source": [
    "import pickle\n",
    "\n",
    "system = 'ibmq_mumbai'\n",
    "N = 10\n",
    "T = 1\n",
    "filename = 'circuits/{}_{}_{}.pickle'.format(system,N,T)\n",
    "\n",
    "with open(filename,'rb') as f:\n",
    "    circuits = pickle.load(f)\n",
    "\n",
    "qc = circuits[0]"
   ]
  },
  {
   "cell_type": "code",
   "execution_count": 67,
   "metadata": {},
   "outputs": [],
   "source": [
    "rx_calibrations = []\n",
    "rzx_calibrations = []\n",
    "\n",
    "for a,b in qc.calibrations['rx'].items():\n",
    "    rx_calibrations.append({\"qubit\" : [a[0][0]], \"calibration\": b, \"backend\" : system})\n",
    "\n",
    "for a,b in qc.calibrations['rzx'].items():\n",
    "    rzx_calibrations.append({'qubit':[a[0][0],a[0][1]],\"calibration\":b, \"backend\" : system})"
   ]
  },
  {
   "cell_type": "code",
   "execution_count": 68,
   "metadata": {},
   "outputs": [
    {
     "data": {
      "text/plain": [
       "[{'qubit': [0],\n",
       "  'calibration': ScheduleBlock(Play(Drag(duration=160, sigma=40, beta=-0.30079591624152224, amp=0.017325763338610325, angle=0), DriveChannel(0)), name=\"rx(0.333)\", transform=AlignLeft()),\n",
       "  'backend': 'ibmq_mumbai'},\n",
       " {'qubit': [12],\n",
       "  'calibration': ScheduleBlock(Play(Drag(duration=160, sigma=40, beta=-1.010916880598726, amp=0.011200636048367447, angle=0), DriveChannel(12)), name=\"rx(0.333)\", transform=AlignLeft()),\n",
       "  'backend': 'ibmq_mumbai'},\n",
       " {'qubit': [1],\n",
       "  'calibration': ScheduleBlock(Play(Drag(duration=160, sigma=40, beta=-1.0747699978090437, amp=0.018747212463171153, angle=0), DriveChannel(1)), name=\"rx(0.333)\", transform=AlignLeft()),\n",
       "  'backend': 'ibmq_mumbai'},\n",
       " {'qubit': [2],\n",
       "  'calibration': ScheduleBlock(Play(Drag(duration=160, sigma=40, beta=0.7771137782506223, amp=0.017381941418124207, angle=0), DriveChannel(2)), name=\"rx(0.333)\", transform=AlignLeft()),\n",
       "  'backend': 'ibmq_mumbai'},\n",
       " {'qubit': [3],\n",
       "  'calibration': ScheduleBlock(Play(Drag(duration=160, sigma=40, beta=-0.9576445636702487, amp=0.017257286660609033, angle=0), DriveChannel(3)), name=\"rx(0.333)\", transform=AlignLeft()),\n",
       "  'backend': 'ibmq_mumbai'},\n",
       " {'qubit': [5],\n",
       "  'calibration': ScheduleBlock(Play(Drag(duration=160, sigma=40, beta=1.3340912758866508, amp=0.012819748370466674, angle=0), DriveChannel(5)), name=\"rx(0.333)\", transform=AlignLeft()),\n",
       "  'backend': 'ibmq_mumbai'},\n",
       " {'qubit': [8],\n",
       "  'calibration': ScheduleBlock(Play(Drag(duration=160, sigma=40, beta=-0.5473186996130192, amp=0.016661463472194556, angle=0), DriveChannel(8)), name=\"rx(0.333)\", transform=AlignLeft()),\n",
       "  'backend': 'ibmq_mumbai'},\n",
       " {'qubit': [11],\n",
       "  'calibration': ScheduleBlock(Play(Drag(duration=160, sigma=40, beta=0.656307488724036, amp=0.020141483767022645, angle=0), DriveChannel(11)), name=\"rx(0.333)\", transform=AlignLeft()),\n",
       "  'backend': 'ibmq_mumbai'},\n",
       " {'qubit': [13],\n",
       "  'calibration': ScheduleBlock(Play(Drag(duration=160, sigma=40, beta=-1.9504587045047204, amp=0.019119271065481124, angle=0), DriveChannel(13)), name=\"rx(0.333)\", transform=AlignLeft()),\n",
       "  'backend': 'ibmq_mumbai'},\n",
       " {'qubit': [14],\n",
       "  'calibration': ScheduleBlock(Play(Drag(duration=160, sigma=40, beta=-0.862038904362553, amp=0.0194788308149618, angle=0), DriveChannel(14)), name=\"rx(0.333)\", transform=AlignLeft()),\n",
       "  'backend': 'ibmq_mumbai'}]"
      ]
     },
     "execution_count": 68,
     "metadata": {},
     "output_type": "execute_result"
    }
   ],
   "source": [
    "rx_calibrations"
   ]
  },
  {
   "cell_type": "code",
   "execution_count": 69,
   "metadata": {},
   "outputs": [
    {
     "data": {
      "text/plain": [
       "[{'qubit': [14, 11],\n",
       "  'calibration': ScheduleBlock(ScheduleBlock(ScheduleBlock(Play(GaussianSquare(duration=256, sigma=64, width=0, amp=0.21986057016508842, angle=0.4082948506000275), ControlChannel(29)), name=\"rescale_cr_inst\", transform=AlignLeft()), ScheduleBlock(Play(GaussianSquare(duration=256, sigma=64, width=0, amp=0.022013024482376076, angle=-0.0058549652746592955), DriveChannel(11)), name=\"rescale_cr_inst\", transform=AlignLeft()), name=\"block14581\", transform=AlignLeft()), ScheduleBlock(Play(Drag(duration=160, sigma=40, beta=-0.8150518151804168, amp=0.1833364757739792, angle=0.0, name='Xp_d14'), DriveChannel(14), name='Xp_d14'), name=\"x\", transform=AlignLeft()), ScheduleBlock(ScheduleBlock(Play(GaussianSquare(duration=256, sigma=64, width=0, amp=0.21986057016508836, angle=-2.7332978029897657), ControlChannel(29)), name=\"rescale_cr_inst\", transform=AlignLeft()), ScheduleBlock(Play(GaussianSquare(duration=256, sigma=64, width=0, amp=0.022013024482376076, angle=3.135737688315134), DriveChannel(11)), name=\"rescale_cr_inst\", transform=AlignLeft()), name=\"block14584\", transform=AlignLeft()), ScheduleBlock(Play(Drag(duration=160, sigma=40, beta=-0.8150518151804168, amp=0.1833364757739792, angle=0.0, name='Xp_d14'), DriveChannel(14), name='Xp_d14'), name=\"x\", transform=AlignLeft()), name=\"rzx(0.333)\", transform=AlignSequential()),\n",
       "  'backend': 'ibmq_mumbai'},\n",
       " {'qubit': [13, 12],\n",
       "  'calibration': ScheduleBlock(ScheduleBlock(ScheduleBlock(Play(GaussianSquare(duration=336, sigma=64, width=73.94188826655616, amp=0.1437578261123418, angle=-2.233474531419084), ControlChannel(27)), name=\"rescale_cr_inst\", transform=AlignLeft()), ScheduleBlock(Play(GaussianSquare(duration=336, sigma=64, width=73.94188826655616, amp=0.013879413291111729, angle=0.006698231646311039), DriveChannel(12)), name=\"rescale_cr_inst\", transform=AlignLeft()), name=\"block14588\", transform=AlignLeft()), ScheduleBlock(Play(Drag(duration=160, sigma=40, beta=-1.92062405826357, amp=0.17938681387337393, angle=0.0, name='Xp_d13'), DriveChannel(13), name='Xp_d13'), name=\"x\", transform=AlignLeft()), ScheduleBlock(ScheduleBlock(Play(GaussianSquare(duration=336, sigma=64, width=73.94188826655616, amp=0.1437578261123418, angle=0.9081181221707091), ControlChannel(27)), name=\"rescale_cr_inst\", transform=AlignLeft()), ScheduleBlock(Play(GaussianSquare(duration=336, sigma=64, width=73.94188826655616, amp=0.013879413291111729, angle=-3.1348944219434824), DriveChannel(12)), name=\"rescale_cr_inst\", transform=AlignLeft()), name=\"block14591\", transform=AlignLeft()), ScheduleBlock(Play(Drag(duration=160, sigma=40, beta=-1.92062405826357, amp=0.17938681387337393, angle=0.0, name='Xp_d13'), DriveChannel(13), name='Xp_d13'), name=\"x\", transform=AlignLeft()), name=\"rzx(0.333)\", transform=AlignSequential()),\n",
       "  'backend': 'ibmq_mumbai'},\n",
       " {'qubit': [5, 8],\n",
       "  'calibration': ScheduleBlock(ScheduleBlock(ScheduleBlock(Play(GaussianSquare(duration=256, sigma=64, width=0, amp=0.15198797276294032, angle=0.12715017626729952), ControlChannel(11)), name=\"rescale_cr_inst\", transform=AlignLeft()), ScheduleBlock(Play(GaussianSquare(duration=256, sigma=64, width=0, amp=0.013762335982402226, angle=0.024722855605382163), DriveChannel(8)), name=\"rescale_cr_inst\", transform=AlignLeft()), name=\"block14595\", transform=AlignLeft()), ScheduleBlock(Play(Drag(duration=160, sigma=40, beta=1.2716207650301816, amp=0.12053628428201062, angle=0.0, name='Xp_d5'), DriveChannel(5), name='Xp_d5'), name=\"x\", transform=AlignLeft()), ScheduleBlock(ScheduleBlock(Play(GaussianSquare(duration=256, sigma=64, width=0, amp=0.15198797276294032, angle=-3.014442477322494), ControlChannel(11)), name=\"rescale_cr_inst\", transform=AlignLeft()), ScheduleBlock(Play(GaussianSquare(duration=256, sigma=64, width=0, amp=0.013762335982402226, angle=-3.1168697979844113), DriveChannel(8)), name=\"rescale_cr_inst\", transform=AlignLeft()), name=\"block14598\", transform=AlignLeft()), ScheduleBlock(Play(Drag(duration=160, sigma=40, beta=1.2716207650301816, amp=0.12053628428201062, angle=0.0, name='Xp_d5'), DriveChannel(5), name='Xp_d5'), name=\"x\", transform=AlignLeft()), name=\"rzx(0.333)\", transform=AlignSequential()),\n",
       "  'backend': 'ibmq_mumbai'},\n",
       " {'qubit': [3, 2],\n",
       "  'calibration': ScheduleBlock(ScheduleBlock(ScheduleBlock(Play(GaussianSquare(duration=256, sigma=64, width=0, amp=0.1962230267841015, angle=-1.9544697125140549), ControlChannel(6)), name=\"rescale_cr_inst\", transform=AlignLeft()), ScheduleBlock(Play(GaussianSquare(duration=256, sigma=64, width=0, amp=0.033952943427808434, angle=-0.033645972852721674), DriveChannel(2)), name=\"rescale_cr_inst\", transform=AlignLeft()), name=\"block14602\", transform=AlignLeft()), ScheduleBlock(Play(Drag(duration=160, sigma=40, beta=-0.8114002109599107, amp=0.16162836659417384, angle=0.0, name='Xp_d3'), DriveChannel(3), name='Xp_d3'), name=\"x\", transform=AlignLeft()), ScheduleBlock(ScheduleBlock(Play(GaussianSquare(duration=256, sigma=64, width=0, amp=0.1962230267841015, angle=1.1871229410757382), ControlChannel(6)), name=\"rescale_cr_inst\", transform=AlignLeft()), ScheduleBlock(Play(GaussianSquare(duration=256, sigma=64, width=0, amp=0.033952943427808434, angle=3.1079466807370713), DriveChannel(2)), name=\"rescale_cr_inst\", transform=AlignLeft()), name=\"block14605\", transform=AlignLeft()), ScheduleBlock(Play(Drag(duration=160, sigma=40, beta=-0.8114002109599107, amp=0.16162836659417384, angle=0.0, name='Xp_d3'), DriveChannel(3), name='Xp_d3'), name=\"x\", transform=AlignLeft()), name=\"rzx(0.333)\", transform=AlignSequential()),\n",
       "  'backend': 'ibmq_mumbai'},\n",
       " {'qubit': [0, 1],\n",
       "  'calibration': ScheduleBlock(ScheduleBlock(ScheduleBlock(Play(GaussianSquare(duration=256, sigma=64, width=0, amp=0.19759471776327517, angle=1.7117864554856275), ControlChannel(0)), name=\"rescale_cr_inst\", transform=AlignLeft()), ScheduleBlock(Play(GaussianSquare(duration=256, sigma=64, width=0, amp=0.03402957500974536, angle=-0.018241838745515257), DriveChannel(1)), name=\"rescale_cr_inst\", transform=AlignLeft()), name=\"block14609\", transform=AlignLeft()), ScheduleBlock(Play(Drag(duration=160, sigma=40, beta=-0.4468303219023277, amp=0.1623006100398598, angle=0.0, name='Xp_d0'), DriveChannel(0), name='Xp_d0'), name=\"x\", transform=AlignLeft()), ScheduleBlock(ScheduleBlock(Play(GaussianSquare(duration=256, sigma=64, width=0, amp=0.19759471776327514, angle=-1.4298061981041659), ControlChannel(0)), name=\"rescale_cr_inst\", transform=AlignLeft()), ScheduleBlock(Play(GaussianSquare(duration=256, sigma=64, width=0, amp=0.03402957500974536, angle=3.1233508148442777), DriveChannel(1)), name=\"rescale_cr_inst\", transform=AlignLeft()), name=\"block14612\", transform=AlignLeft()), ScheduleBlock(Play(Drag(duration=160, sigma=40, beta=-0.4468303219023277, amp=0.1623006100398598, angle=0.0, name='Xp_d0'), DriveChannel(0), name='Xp_d0'), name=\"x\", transform=AlignLeft()), name=\"rzx(0.333)\", transform=AlignSequential()),\n",
       "  'backend': 'ibmq_mumbai'},\n",
       " {'qubit': [13, 14],\n",
       "  'calibration': ScheduleBlock(ScheduleBlock(ScheduleBlock(Play(GaussianSquare(duration=336, sigma=64, width=73.94188593087304, amp=0.12402676447228786, angle=-2.1717097149467204), ControlChannel(28)), name=\"rescale_cr_inst\", transform=AlignLeft()), ScheduleBlock(Play(GaussianSquare(duration=336, sigma=64, width=73.94188593087304, amp=0.02279257365903453, angle=0.009331872046260447), DriveChannel(14)), name=\"rescale_cr_inst\", transform=AlignLeft()), name=\"block14616\", transform=AlignLeft()), ScheduleBlock(Play(Drag(duration=160, sigma=40, beta=-1.92062405826357, amp=0.17938681387337393, angle=0.0, name='Xp_d13'), DriveChannel(13), name='Xp_d13'), name=\"x\", transform=AlignLeft()), ScheduleBlock(ScheduleBlock(Play(GaussianSquare(duration=336, sigma=64, width=73.94188593087304, amp=0.12402676447228785, angle=0.9698829386430727), ControlChannel(28)), name=\"rescale_cr_inst\", transform=AlignLeft()), ScheduleBlock(Play(GaussianSquare(duration=336, sigma=64, width=73.94188593087304, amp=0.02279257365903453, angle=-3.132260781543533), DriveChannel(14)), name=\"rescale_cr_inst\", transform=AlignLeft()), name=\"block14619\", transform=AlignLeft()), ScheduleBlock(Play(Drag(duration=160, sigma=40, beta=-1.92062405826357, amp=0.17938681387337393, angle=0.0, name='Xp_d13'), DriveChannel(13), name='Xp_d13'), name=\"x\", transform=AlignLeft()), name=\"rzx(0.333)\", transform=AlignSequential()),\n",
       "  'backend': 'ibmq_mumbai'},\n",
       " {'qubit': [8, 11],\n",
       "  'calibration': ScheduleBlock(ScheduleBlock(ScheduleBlock(Play(GaussianSquare(duration=336, sigma=64, width=73.94188709871466, amp=0.1389484250302212, angle=1.466180120377549), ControlChannel(18)), name=\"rescale_cr_inst\", transform=AlignLeft()), ScheduleBlock(Play(GaussianSquare(duration=336, sigma=64, width=73.94188709871466, amp=0.024745253274380333, angle=-0.018505887465275123), DriveChannel(11)), name=\"rescale_cr_inst\", transform=AlignLeft()), name=\"block14623\", transform=AlignLeft()), ScheduleBlock(Play(Drag(duration=160, sigma=40, beta=-0.6326684191626463, amp=0.15708552067764853, angle=0.0, name='Xp_d8'), DriveChannel(8), name='Xp_d8'), name=\"x\", transform=AlignLeft()), ScheduleBlock(ScheduleBlock(Play(GaussianSquare(duration=336, sigma=64, width=73.94188709871466, amp=0.1389484250302212, angle=-1.6754125332122443), ControlChannel(18)), name=\"rescale_cr_inst\", transform=AlignLeft()), ScheduleBlock(Play(GaussianSquare(duration=336, sigma=64, width=73.94188709871466, amp=0.024745253274380333, angle=3.123086766124518), DriveChannel(11)), name=\"rescale_cr_inst\", transform=AlignLeft()), name=\"block14626\", transform=AlignLeft()), ScheduleBlock(Play(Drag(duration=160, sigma=40, beta=-0.6326684191626463, amp=0.15708552067764853, angle=0.0, name='Xp_d8'), DriveChannel(8), name='Xp_d8'), name=\"x\", transform=AlignLeft()), name=\"rzx(0.333)\", transform=AlignSequential()),\n",
       "  'backend': 'ibmq_mumbai'},\n",
       " {'qubit': [3, 5],\n",
       "  'calibration': ScheduleBlock(ScheduleBlock(ScheduleBlock(Play(GaussianSquare(duration=256, sigma=64, width=0, amp=0.20458450525823346, angle=-0.6760587248157258), ControlChannel(7)), name=\"rescale_cr_inst\", transform=AlignLeft()), ScheduleBlock(Play(GaussianSquare(duration=256, sigma=64, width=0, amp=0.022884184575315866, angle=-0.040067264685488595), DriveChannel(5)), name=\"rescale_cr_inst\", transform=AlignLeft()), name=\"block14630\", transform=AlignLeft()), ScheduleBlock(Play(Drag(duration=160, sigma=40, beta=-0.8114002109599107, amp=0.16162836659417384, angle=0.0, name='Xp_d3'), DriveChannel(3), name='Xp_d3'), name=\"x\", transform=AlignLeft()), ScheduleBlock(ScheduleBlock(Play(GaussianSquare(duration=256, sigma=64, width=0, amp=0.20458450525823343, angle=2.465533928774067), ControlChannel(7)), name=\"rescale_cr_inst\", transform=AlignLeft()), ScheduleBlock(Play(GaussianSquare(duration=256, sigma=64, width=0, amp=0.022884184575315866, angle=3.1015253889043044), DriveChannel(5)), name=\"rescale_cr_inst\", transform=AlignLeft()), name=\"block14633\", transform=AlignLeft()), ScheduleBlock(Play(Drag(duration=160, sigma=40, beta=-0.8114002109599107, amp=0.16162836659417384, angle=0.0, name='Xp_d3'), DriveChannel(3), name='Xp_d3'), name=\"x\", transform=AlignLeft()), name=\"rzx(0.333)\", transform=AlignSequential()),\n",
       "  'backend': 'ibmq_mumbai'},\n",
       " {'qubit': [2, 1],\n",
       "  'calibration': ScheduleBlock(ScheduleBlock(ScheduleBlock(Play(GaussianSquare(duration=384, sigma=64, width=121.47616602581331, amp=0.5384268855939612, angle=2.6405791888399435), ControlChannel(4)), name=\"rescale_cr_inst\", transform=AlignLeft()), ScheduleBlock(Play(GaussianSquare(duration=384, sigma=64, width=121.47616602581331, amp=0.019260568367836652, angle=0.011478389379704327), DriveChannel(1)), name=\"rescale_cr_inst\", transform=AlignLeft()), name=\"block14637\", transform=AlignLeft()), ScheduleBlock(Play(Drag(duration=160, sigma=40, beta=0.7137975214268026, amp=0.16326172599104144, angle=0.0, name='Xp_d2'), DriveChannel(2), name='Xp_d2'), name=\"x\", transform=AlignLeft()), ScheduleBlock(ScheduleBlock(Play(GaussianSquare(duration=384, sigma=64, width=121.47616602581331, amp=0.5384268855939612, angle=-0.5010134647498499), ControlChannel(4)), name=\"rescale_cr_inst\", transform=AlignLeft()), ScheduleBlock(Play(GaussianSquare(duration=384, sigma=64, width=121.47616602581331, amp=0.019260568367836652, angle=-3.130114264210089), DriveChannel(1)), name=\"rescale_cr_inst\", transform=AlignLeft()), name=\"block14640\", transform=AlignLeft()), ScheduleBlock(Play(Drag(duration=160, sigma=40, beta=0.7137975214268026, amp=0.16326172599104144, angle=0.0, name='Xp_d2'), DriveChannel(2), name='Xp_d2'), name=\"x\", transform=AlignLeft()), name=\"rzx(0.333)\", transform=AlignSequential()),\n",
       "  'backend': 'ibmq_mumbai'}]"
      ]
     },
     "execution_count": 69,
     "metadata": {},
     "output_type": "execute_result"
    }
   ],
   "source": [
    "rzx_calibrations"
   ]
  },
  {
   "cell_type": "code",
   "execution_count": 70,
   "metadata": {},
   "outputs": [],
   "source": [
    "import numpy as np\n",
    "from qiskit import QuantumCircuit\n",
    "from qiskit.transpiler import InstructionProperties\n",
    "from qiskit_ibm_provider import IBMProvider\n",
    "from qiskit_experiments.library import InterleavedRB\n",
    "from qiskit import QuantumCircuit"
   ]
  },
  {
   "cell_type": "code",
   "execution_count": 71,
   "metadata": {},
   "outputs": [],
   "source": [
    "provider = IBMProvider()"
   ]
  },
  {
   "cell_type": "code",
   "execution_count": 72,
   "metadata": {},
   "outputs": [],
   "source": [
    "def conduct_rx_interleaved_rb_experiment(config):\n",
    "\n",
    "    #Circuit to only pass as a gate\n",
    "    gate_circuit = QuantumCircuit(1, name='custom_rx')\n",
    "    gate_circuit.rx(np.pi/2,0)\n",
    "    custom_rx = gate_circuit.to_gate()\n",
    "\n",
    "    #Adding calibration\n",
    "    backend = provider.get_backend(config['backend'])\n",
    "    backend.target.add_instruction(custom_rx, {(config['qubit'][0],): InstructionProperties(calibration=config['calibration'])})\n",
    "    \n",
    "    #Experiment parameters\n",
    "    lengths = np.arange(1, 200, 30)\n",
    "    num_samples = 10\n",
    "    seed = 1010\n",
    "    qubits = config['qubit'] # make sure it is the qubit added in the backend target\n",
    "\n",
    "    int_exp = InterleavedRB(\n",
    "        custom_rx, qubits, lengths, num_samples=num_samples, seed=seed, backend=backend)\n",
    "    \n",
    "    int_expdata = int_exp.run(backend)\n",
    "    config['job_id'] = int_expdata.job_ids[0]\n",
    "\n",
    "    return config\n",
    "\n",
    "def conduct_rzx_interleaved_rb_experiment(config):\n",
    "\n",
    "    #Circuit to only pass as a gate\n",
    "    gate_circuit = QuantumCircuit(2, name='custom_rzx')\n",
    "    gate_circuit.rzx(np.pi/2,0,1)\n",
    "    custom_rzx = gate_circuit.to_gate()\n",
    "\n",
    "    #Adding calibration\n",
    "    backend = provider.get_backend(config['backend'])\n",
    "    backend.target.add_instruction(custom_rzx, {(config['qubit'][0],config['qubit'][1]): InstructionProperties(calibration=config['calibration'])})\n",
    "\n",
    "    #Experiment parameters\n",
    "    lengths = np.arange(1, 200, 30)\n",
    "    num_samples = 10\n",
    "    seed = 1010\n",
    "    qubits = config['qubit'] # make sure it is the qubit added in the backend target\n",
    "\n",
    "    int_exp = InterleavedRB(\n",
    "        custom_rzx, qubits, lengths, num_samples=num_samples, seed=seed, backend=backend)\n",
    "    \n",
    "    int_expdata = int_exp.run(backend)\n",
    "    config['job_id'] = int_expdata.job_ids[0]\n",
    "\n",
    "    return config"
   ]
  },
  {
   "cell_type": "code",
   "execution_count": 73,
   "metadata": {},
   "outputs": [],
   "source": [
    "job_id = conduct_rx_interleaved_rb_experiment(rx_calibrations[0])"
   ]
  },
  {
   "cell_type": "code",
   "execution_count": 74,
   "metadata": {},
   "outputs": [
    {
     "data": {
      "text/plain": [
       "{'qubit': [0],\n",
       " 'calibration': ScheduleBlock(Play(Drag(duration=160, sigma=40, beta=-0.30079591624152224, amp=0.017325763338610325, angle=0), DriveChannel(0)), name=\"rx(0.333)\", transform=AlignLeft()),\n",
       " 'backend': 'ibmq_mumbai',\n",
       " 'job_id': 'cq0psd528rp0008a5590'}"
      ]
     },
     "execution_count": 74,
     "metadata": {},
     "output_type": "execute_result"
    }
   ],
   "source": [
    "job_id"
   ]
  },
  {
   "cell_type": "code",
   "execution_count": 76,
   "metadata": {},
   "outputs": [],
   "source": [
    "job_id = conduct_rzx_interleaved_rb_experiment(rzx_calibrations[0])"
   ]
  },
  {
   "cell_type": "code",
   "execution_count": 77,
   "metadata": {},
   "outputs": [
    {
     "data": {
      "text/plain": [
       "{'qubit': [14, 11],\n",
       " 'calibration': ScheduleBlock(ScheduleBlock(ScheduleBlock(Play(GaussianSquare(duration=256, sigma=64, width=0, amp=0.21986057016508842, angle=0.4082948506000275), ControlChannel(29)), name=\"rescale_cr_inst\", transform=AlignLeft()), ScheduleBlock(Play(GaussianSquare(duration=256, sigma=64, width=0, amp=0.022013024482376076, angle=-0.0058549652746592955), DriveChannel(11)), name=\"rescale_cr_inst\", transform=AlignLeft()), name=\"block14581\", transform=AlignLeft()), ScheduleBlock(Play(Drag(duration=160, sigma=40, beta=-0.8150518151804168, amp=0.1833364757739792, angle=0.0, name='Xp_d14'), DriveChannel(14), name='Xp_d14'), name=\"x\", transform=AlignLeft()), ScheduleBlock(ScheduleBlock(Play(GaussianSquare(duration=256, sigma=64, width=0, amp=0.21986057016508836, angle=-2.7332978029897657), ControlChannel(29)), name=\"rescale_cr_inst\", transform=AlignLeft()), ScheduleBlock(Play(GaussianSquare(duration=256, sigma=64, width=0, amp=0.022013024482376076, angle=3.135737688315134), DriveChannel(11)), name=\"rescale_cr_inst\", transform=AlignLeft()), name=\"block14584\", transform=AlignLeft()), ScheduleBlock(Play(Drag(duration=160, sigma=40, beta=-0.8150518151804168, amp=0.1833364757739792, angle=0.0, name='Xp_d14'), DriveChannel(14), name='Xp_d14'), name=\"x\", transform=AlignLeft()), name=\"rzx(0.333)\", transform=AlignSequential()),\n",
       " 'backend': 'ibmq_mumbai',\n",
       " 'job_id': 'cq0psmyhbttg008j7wqg'}"
      ]
     },
     "execution_count": 77,
     "metadata": {},
     "output_type": "execute_result"
    }
   ],
   "source": [
    "job_id"
   ]
  },
  {
   "cell_type": "code",
   "execution_count": 80,
   "metadata": {},
   "outputs": [],
   "source": [
    "rx_filename = 'error_rates/{}_{}_rx_config.pkl'.format(system,T)\n",
    "rzx_filename = 'error_rates/{}_{}_rzx_config.pkl'.format(system,T)\n",
    "\n",
    "with open(rx_filename,'wb+') as f:\n",
    "    pickle.dump(rx_calibrations,f)\n",
    "\n",
    "with open(rzx_filename,'wb+') as f:\n",
    "    pickle.dump(rzx_calibrations,f)"
   ]
  },
  {
   "cell_type": "code",
   "execution_count": null,
   "metadata": {},
   "outputs": [],
   "source": []
  }
 ],
 "metadata": {
  "kernelspec": {
   "display_name": "simuq",
   "language": "python",
   "name": "python3"
  },
  "language_info": {
   "codemirror_mode": {
    "name": "ipython",
    "version": 3
   },
   "file_extension": ".py",
   "mimetype": "text/x-python",
   "name": "python",
   "nbconvert_exporter": "python",
   "pygments_lexer": "ipython3",
   "version": "3.10.13"
  }
 },
 "nbformat": 4,
 "nbformat_minor": 2
}
