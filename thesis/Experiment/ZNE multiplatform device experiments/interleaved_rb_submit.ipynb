{
 "cells": [
  {
   "cell_type": "code",
   "execution_count": 1,
   "metadata": {},
   "outputs": [],
   "source": [
    "import pickle\n",
    "\n",
    "system = 'ibmq_mumbai'\n",
    "N = 4\n",
    "T = 1\n",
    "filename = 'circuits/{}_{}_{}.pkl'.format(system,N,T)\n",
    "\n",
    "with open(filename,'rb') as f:\n",
    "    circuits = pickle.load(f)\n",
    "\n",
    "qc = circuits[0]"
   ]
  },
  {
   "cell_type": "code",
   "execution_count": 2,
   "metadata": {},
   "outputs": [],
   "source": [
    "rx_calibrations = []\n",
    "rzx_calibrations = []\n",
    "\n",
    "for a,b in qc.calibrations['rx'].items():\n",
    "    rx_calibrations.append({\"qubit\" : [a[0][0]], \"calibration\": b, \"backend\" : system})\n",
    "\n",
    "for a,b in qc.calibrations['rzx'].items():\n",
    "    rzx_calibrations.append({'qubit':[a[0][0],a[0][1]],\"calibration\":b, \"backend\" : system})"
   ]
  },
  {
   "cell_type": "code",
   "execution_count": 3,
   "metadata": {},
   "outputs": [
    {
     "data": {
      "text/plain": [
       "[{'qubit': [0],\n",
       "  'calibration': ScheduleBlock(Play(Drag(duration=160, sigma=40, beta=-0.3255700421749741, amp=0.017304260967199902, angle=0), DriveChannel(0)), name=\"rx(0.333)\", transform=AlignLeft()),\n",
       "  'backend': 'ibmq_mumbai'},\n",
       " {'qubit': [3],\n",
       "  'calibration': ScheduleBlock(Play(Drag(duration=160, sigma=40, beta=-0.8819919706275321, amp=0.01728112981405072, angle=0), DriveChannel(3)), name=\"rx(0.333)\", transform=AlignLeft()),\n",
       "  'backend': 'ibmq_mumbai'},\n",
       " {'qubit': [1],\n",
       "  'calibration': ScheduleBlock(Play(Drag(duration=160, sigma=40, beta=-1.006015825011755, amp=0.01879108024949618, angle=0), DriveChannel(1)), name=\"rx(0.333)\", transform=AlignLeft()),\n",
       "  'backend': 'ibmq_mumbai'},\n",
       " {'qubit': [2],\n",
       "  'calibration': ScheduleBlock(Play(Drag(duration=160, sigma=40, beta=0.712123099062549, amp=0.01741184793101846, angle=0), DriveChannel(2)), name=\"rx(0.333)\", transform=AlignLeft()),\n",
       "  'backend': 'ibmq_mumbai'}]"
      ]
     },
     "execution_count": 3,
     "metadata": {},
     "output_type": "execute_result"
    }
   ],
   "source": [
    "rx_calibrations"
   ]
  },
  {
   "cell_type": "code",
   "execution_count": 4,
   "metadata": {},
   "outputs": [
    {
     "data": {
      "text/plain": [
       "[{'qubit': [3, 2],\n",
       "  'calibration': ScheduleBlock(ScheduleBlock(ScheduleBlock(Play(GaussianSquare(duration=256, sigma=64, width=0, amp=0.19520114753852078, angle=-1.9544697125140549), ControlChannel(6)), name=\"rescale_cr_inst\", transform=AlignLeft()), ScheduleBlock(Play(GaussianSquare(duration=256, sigma=64, width=0, amp=0.03395294325727564, angle=-0.033645972852721674), DriveChannel(2)), name=\"rescale_cr_inst\", transform=AlignLeft()), name=\"block1\", transform=AlignLeft()), ScheduleBlock(Play(Drag(duration=160, sigma=40, beta=-0.7877311941319368, amp=0.1617184918363154, angle=0.0, name='Xp_d3'), DriveChannel(3), name='Xp_d3'), name=\"x\", transform=AlignLeft()), ScheduleBlock(ScheduleBlock(Play(GaussianSquare(duration=256, sigma=64, width=0, amp=0.19520114753852078, angle=1.1871229410757382), ControlChannel(6)), name=\"rescale_cr_inst\", transform=AlignLeft()), ScheduleBlock(Play(GaussianSquare(duration=256, sigma=64, width=0, amp=0.03395294325727564, angle=3.1079466807370713), DriveChannel(2)), name=\"rescale_cr_inst\", transform=AlignLeft()), name=\"block4\", transform=AlignLeft()), ScheduleBlock(Play(Drag(duration=160, sigma=40, beta=-0.7877311941319368, amp=0.1617184918363154, angle=0.0, name='Xp_d3'), DriveChannel(3), name='Xp_d3'), name=\"x\", transform=AlignLeft()), name=\"rzx(0.333)\", transform=AlignSequential()),\n",
       "  'backend': 'ibmq_mumbai'},\n",
       " {'qubit': [0, 1],\n",
       "  'calibration': ScheduleBlock(ScheduleBlock(ScheduleBlock(Play(GaussianSquare(duration=256, sigma=64, width=0, amp=0.19713969852633728, angle=1.7117864554856275), ControlChannel(0)), name=\"rescale_cr_inst\", transform=AlignLeft()), ScheduleBlock(Play(GaussianSquare(duration=256, sigma=64, width=0, amp=0.03402957519002066, angle=-0.018241838745515257), DriveChannel(1)), name=\"rescale_cr_inst\", transform=AlignLeft()), name=\"block8\", transform=AlignLeft()), ScheduleBlock(Play(Drag(duration=160, sigma=40, beta=-0.4464028875490909, amp=0.16240720019098273, angle=0.0, name='Xp_d0'), DriveChannel(0), name='Xp_d0'), name=\"x\", transform=AlignLeft()), ScheduleBlock(ScheduleBlock(Play(GaussianSquare(duration=256, sigma=64, width=0, amp=0.19713969852633728, angle=-1.4298061981041659), ControlChannel(0)), name=\"rescale_cr_inst\", transform=AlignLeft()), ScheduleBlock(Play(GaussianSquare(duration=256, sigma=64, width=0, amp=0.03402957519002066, angle=3.1233508148442777), DriveChannel(1)), name=\"rescale_cr_inst\", transform=AlignLeft()), name=\"block11\", transform=AlignLeft()), ScheduleBlock(Play(Drag(duration=160, sigma=40, beta=-0.4464028875490909, amp=0.16240720019098273, angle=0.0, name='Xp_d0'), DriveChannel(0), name='Xp_d0'), name=\"x\", transform=AlignLeft()), name=\"rzx(0.333)\", transform=AlignSequential()),\n",
       "  'backend': 'ibmq_mumbai'},\n",
       " {'qubit': [2, 1],\n",
       "  'calibration': ScheduleBlock(ScheduleBlock(ScheduleBlock(Play(GaussianSquare(duration=384, sigma=64, width=121.47616460993436, amp=0.5394426229797104, angle=2.6405791888399435), ControlChannel(4)), name=\"rescale_cr_inst\", transform=AlignLeft()), ScheduleBlock(Play(GaussianSquare(duration=384, sigma=64, width=121.47616460993436, amp=0.019260568367836652, angle=0.011478389379704327), DriveChannel(1)), name=\"rescale_cr_inst\", transform=AlignLeft()), name=\"block15\", transform=AlignLeft()), ScheduleBlock(Play(Drag(duration=160, sigma=40, beta=0.7110317486330787, amp=0.16347953964078693, angle=0.0, name='Xp_d2'), DriveChannel(2), name='Xp_d2'), name=\"x\", transform=AlignLeft()), ScheduleBlock(ScheduleBlock(Play(GaussianSquare(duration=384, sigma=64, width=121.47616460993436, amp=0.5394426229797104, angle=-0.50101346474985), ControlChannel(4)), name=\"rescale_cr_inst\", transform=AlignLeft()), ScheduleBlock(Play(GaussianSquare(duration=384, sigma=64, width=121.47616460993436, amp=0.019260568367836652, angle=-3.130114264210089), DriveChannel(1)), name=\"rescale_cr_inst\", transform=AlignLeft()), name=\"block18\", transform=AlignLeft()), ScheduleBlock(Play(Drag(duration=160, sigma=40, beta=0.7110317486330787, amp=0.16347953964078693, angle=0.0, name='Xp_d2'), DriveChannel(2), name='Xp_d2'), name=\"x\", transform=AlignLeft()), name=\"rzx(0.333)\", transform=AlignSequential()),\n",
       "  'backend': 'ibmq_mumbai'}]"
      ]
     },
     "execution_count": 4,
     "metadata": {},
     "output_type": "execute_result"
    }
   ],
   "source": [
    "rzx_calibrations"
   ]
  },
  {
   "cell_type": "code",
   "execution_count": 5,
   "metadata": {},
   "outputs": [],
   "source": [
    "import numpy as np\n",
    "from qiskit import QuantumCircuit\n",
    "from qiskit.transpiler import InstructionProperties\n",
    "from qiskit_ibm_provider import IBMProvider\n",
    "from qiskit_experiments.library import InterleavedRB\n",
    "from qiskit import QuantumCircuit"
   ]
  },
  {
   "cell_type": "code",
   "execution_count": 6,
   "metadata": {},
   "outputs": [],
   "source": [
    "provider = IBMProvider()"
   ]
  },
  {
   "cell_type": "code",
   "execution_count": 7,
   "metadata": {},
   "outputs": [],
   "source": [
    "#Circuit to only pass as a gate\n",
    "gate_circuit = QuantumCircuit(1, name='custom_rx')\n",
    "gate_circuit.rx(np.pi/2,0)\n",
    "custom_rx = gate_circuit.to_gate()\n",
    "\n",
    "gate_circuit = QuantumCircuit(2, name='custom_rzx')\n",
    "gate_circuit.rzx(np.pi/2,0,1)\n",
    "custom_rzx = gate_circuit.to_gate()\n",
    "\n",
    "backend = provider.get_backend(system)"
   ]
  },
  {
   "cell_type": "code",
   "execution_count": 8,
   "metadata": {},
   "outputs": [],
   "source": [
    "def add_calibrations(gate,calibrations,backend):\n",
    "\n",
    "    backend_calibration = {}\n",
    "\n",
    "    #Create a dictionary like {(config['qubit'][0],): InstructionProperties(calibration=config['calibration'])} from rx_calibrations\n",
    "    for i in calibrations:\n",
    "        qubit = i['qubit']\n",
    "        calibration = i['calibration']\n",
    "        \n",
    "        if len(qubit) == 1:\n",
    "            backend_calibration[(qubit[0],)] = InstructionProperties(calibration=calibration)\n",
    "        else:\n",
    "            backend_calibration[(qubit[0],qubit[1])] = InstructionProperties(calibration=calibration)\n",
    "\n",
    "    #Add the calibration to the backend\n",
    "    backend.target.add_instruction(gate, backend_calibration)\n",
    "    return backend\n",
    "\n",
    "def conduct_interleaved_rb_experiment(gate,qubit,backend):\n",
    "    \n",
    "    #Experiment parameters\n",
    "    lengths = np.arange(1, 200, 30)\n",
    "    num_samples = 10\n",
    "    seed = 1010\n",
    "\n",
    "    if len(qubit) == 1:\n",
    "        qubits = qubit\n",
    "    else:\n",
    "        qubits = (qubit[0],qubit[1])\n",
    "\n",
    "    int_exp = InterleavedRB(\n",
    "        gate, qubits, lengths, num_samples=num_samples, seed=seed, backend=backend)\n",
    "    \n",
    "    int_expdata = int_exp.run(backend).block_for_results()\n",
    "\n",
    "    return int_expdata\n",
    "    #return {\"qubit\": qubits, \"backend\": backend.name, \"job_id\": int_expdata.job_ids[0]}"
   ]
  },
  {
   "cell_type": "code",
   "execution_count": 9,
   "metadata": {},
   "outputs": [],
   "source": [
    "backend.target.add_instruction(custom_rx,{(rx_calibrations[0]['qubit'][0],) : InstructionProperties(calibration=rx_calibrations[0]['calibration'])})"
   ]
  },
  {
   "cell_type": "code",
   "execution_count": 9,
   "metadata": {},
   "outputs": [],
   "source": [
    "backend = add_calibrations(custom_rx,rx_calibrations,backend)\n",
    "backend = add_calibrations(custom_rzx,rzx_calibrations,backend)"
   ]
  },
  {
   "cell_type": "code",
   "execution_count": 10,
   "metadata": {},
   "outputs": [],
   "source": [
    "result = conduct_interleaved_rb_experiment(custom_rx,rx_calibrations[0]['qubit'],backend)"
   ]
  },
  {
   "cell_type": "code",
   "execution_count": 11,
   "metadata": {},
   "outputs": [
    {
     "data": {
      "image/png": "[encoded data removed]",
      "text/plain": [
       "<qiskit_experiments.framework.experiment_data.FigureData at 0x236f1263a00>"
      ]
     },
     "execution_count": 11,
     "metadata": {},
     "output_type": "execute_result"
    }
   ],
   "source": [
    "result.figure(0)"
   ]
  },
  {
   "cell_type": "code",
   "execution_count": null,
   "metadata": {},
   "outputs": [],
   "source": [
    "rx_results = list(map(lambda x: conduct_interleaved_rb_experiment(custom_rx,x['qubit'],backend),rx_calibrations))"
   ]
  },
  {
   "cell_type": "code",
   "execution_count": null,
   "metadata": {},
   "outputs": [],
   "source": [
    "rx_results"
   ]
  },
  {
   "cell_type": "code",
   "execution_count": null,
   "metadata": {},
   "outputs": [
    {
     "name": "stderr",
     "output_type": "stream",
     "text": [
      "Adding data from job failed [Job ID: cq0pc10hbttg008j7tgg]\n",
      "jobs and analysis raised exceptions [Experiment ID: c178179c-8531-43c8-8ba8-9eedd71eae24]:Traceback (most recent call last):\n",
      "\n",
      "  File \"/Users/amey/anaconda3/envs/simuq/lib/python3.10/site-packages/urllib3/connection.py\", line 203, in _new_conn\n",
      "    sock = connection.create_connection(\n",
      "\n",
      "  File \"/Users/amey/anaconda3/envs/simuq/lib/python3.10/site-packages/urllib3/util/connection.py\", line 60, in create_connection\n",
      "    for res in socket.getaddrinfo(host, port, family, socket.SOCK_STREAM):\n",
      "\n",
      "  File \"/Users/amey/anaconda3/envs/simuq/lib/python3.10/socket.py\", line 955, in getaddrinfo\n",
      "    for res in _socket.getaddrinfo(host, port, family, type, proto, flags):\n",
      "\n",
      "socket.gaierror: [Errno 8] nodename nor servname provided, or not known\n",
      "\n",
      "\n",
      "The above exception was the direct cause of the following exception:\n",
      "\n",
      "\n",
      "Traceback (most recent call last):\n",
      "\n",
      "  File \"/Users/amey/anaconda3/envs/simuq/lib/python3.10/site-packages/urllib3/connectionpool.py\", line 791, in urlopen\n",
      "    response = self._make_request(\n",
      "\n",
      "  File \"/Users/amey/anaconda3/envs/simuq/lib/python3.10/site-packages/urllib3/connectionpool.py\", line 492, in _make_request\n",
      "    raise new_e\n",
      "\n",
      "  File \"/Users/amey/anaconda3/envs/simuq/lib/python3.10/site-packages/urllib3/connectionpool.py\", line 468, in _make_request\n",
      "    self._validate_conn(conn)\n",
      "\n",
      "  File \"/Users/amey/anaconda3/envs/simuq/lib/python3.10/site-packages/urllib3/connectionpool.py\", line 1097, in _validate_conn\n",
      "    conn.connect()\n",
      "\n",
      "  File \"/Users/amey/anaconda3/envs/simuq/lib/python3.10/site-packages/urllib3/connection.py\", line 611, in connect\n",
      "    self.sock = sock = self._new_conn()\n",
      "\n",
      "  File \"/Users/amey/anaconda3/envs/simuq/lib/python3.10/site-packages/urllib3/connection.py\", line 210, in _new_conn\n",
      "    raise NameResolutionError(self.host, self, e) from e\n",
      "\n",
      "urllib3.exceptions.NameResolutionError: <urllib3.connection.HTTPSConnection object at 0x288924c40>: Failed to resolve 'api.quantum.ibm.com' ([Errno 8] nodename nor servname provided, or not known)\n",
      "\n",
      "\n",
      "The above exception was the direct cause of the following exception:\n",
      "\n",
      "\n",
      "Traceback (most recent call last):\n",
      "\n",
      "  File \"/Users/amey/anaconda3/envs/simuq/lib/python3.10/site-packages/requests/adapters.py\", line 486, in send\n",
      "    resp = conn.urlopen(\n",
      "\n",
      "  File \"/Users/amey/anaconda3/envs/simuq/lib/python3.10/site-packages/urllib3/connectionpool.py\", line 875, in urlopen\n",
      "    return self.urlopen(\n",
      "\n",
      "  File \"/Users/amey/anaconda3/envs/simuq/lib/python3.10/site-packages/urllib3/connectionpool.py\", line 875, in urlopen\n",
      "    return self.urlopen(\n",
      "\n",
      "  File \"/Users/amey/anaconda3/envs/simuq/lib/python3.10/site-packages/urllib3/connectionpool.py\", line 875, in urlopen\n",
      "    return self.urlopen(\n",
      "\n",
      "  [Previous line repeated 1 more time]\n",
      "\n",
      "  File \"/Users/amey/anaconda3/envs/simuq/lib/python3.10/site-packages/urllib3/connectionpool.py\", line 845, in urlopen\n",
      "    retries = retries.increment(\n",
      "\n",
      "  File \"/Users/amey/anaconda3/envs/simuq/lib/python3.10/site-packages/qiskit_ibm_provider/api/session.py\", line 104, in increment\n",
      "    return super().increment(\n",
      "\n",
      "  File \"/Users/amey/anaconda3/envs/simuq/lib/python3.10/site-packages/urllib3/util/retry.py\", line 515, in increment\n",
      "    raise MaxRetryError(_pool, url, reason) from reason  # type: ignore[arg-type]\n",
      "\n",
      "urllib3.exceptions.MaxRetryError: HTTPSConnectionPool(host='api.quantum.ibm.com', port=443): Max retries exceeded with url: /runtime/jobs/cq0pc10hbttg008j7tgg (Caused by NameResolutionError(\"<urllib3.connection.HTTPSConnection object at 0x288924c40>: Failed to resolve 'api.quantum.ibm.com' ([Errno 8] nodename nor servname provided, or not known)\"))\n",
      "\n",
      "\n",
      "During handling of the above exception, another exception occurred:\n",
      "\n",
      "\n",
      "Traceback (most recent call last):\n",
      "\n",
      "  File \"/Users/amey/anaconda3/envs/simuq/lib/python3.10/site-packages/qiskit_ibm_provider/api/session.py\", line 263, in request\n",
      "    response = super().request(method, final_url, headers=headers, **kwargs)\n",
      "\n",
      "  File \"/Users/amey/anaconda3/envs/simuq/lib/python3.10/site-packages/requests/sessions.py\", line 589, in request\n",
      "    resp = self.send(prep, **send_kwargs)\n",
      "\n",
      "  File \"/Users/amey/anaconda3/envs/simuq/lib/python3.10/site-packages/requests/sessions.py\", line 703, in send\n",
      "    r = adapter.send(request, **kwargs)\n",
      "\n",
      "  File \"/Users/amey/anaconda3/envs/simuq/lib/python3.10/site-packages/requests/adapters.py\", line 519, in send\n",
      "    raise ConnectionError(e, request=request)\n",
      "\n",
      "requests.exceptions.ConnectionError: HTTPSConnectionPool(host='api.quantum.ibm.com', port=443): Max retries exceeded with url: /runtime/jobs/cq0pc10hbttg008j7tgg (Caused by NameResolutionError(\"<urllib3.connection.HTTPSConnection object at 0x288924c40>: Failed to resolve 'api.quantum.ibm.com' ([Errno 8] nodename nor servname provided, or not known)\"))\n",
      "\n",
      "\n",
      "The above exception was the direct cause of the following exception:\n",
      "\n",
      "\n",
      "Traceback (most recent call last):\n",
      "\n",
      "  File \"/Users/amey/anaconda3/envs/simuq/lib/python3.10/site-packages/qiskit_ibm_provider/job/utils.py\", line 70, in api_to_job_error\n",
      "    yield\n",
      "\n",
      "  File \"/Users/amey/anaconda3/envs/simuq/lib/python3.10/site-packages/qiskit_ibm_provider/job/ibm_circuit_job.py\", line 356, in status\n",
      "    api_response = self._runtime_client.job_get(self.job_id())[\"state\"]\n",
      "\n",
      "  File \"/Users/amey/anaconda3/envs/simuq/lib/python3.10/site-packages/qiskit_ibm_provider/api/clients/runtime.py\", line 159, in job_get\n",
      "    response = self._api.program_job(job_id).get(exclude_params=exclude_params)\n",
      "\n",
      "  File \"/Users/amey/anaconda3/envs/simuq/lib/python3.10/site-packages/qiskit_ibm_provider/api/rest/program_job.py\", line 62, in get\n",
      "    return self.session.get(self.get_url(\"self\"), params=payload).json(\n",
      "\n",
      "  File \"/Users/amey/anaconda3/envs/simuq/lib/python3.10/site-packages/requests/sessions.py\", line 602, in get\n",
      "    return self.request(\"GET\", url, **kwargs)\n",
      "\n",
      "  File \"/Users/amey/anaconda3/envs/simuq/lib/python3.10/site-packages/qiskit_ibm_provider/api/session.py\", line 285, in request\n",
      "    raise RequestsApiError(message, status_code) from ex\n",
      "\n",
      "qiskit_ibm_provider.api.exceptions.RequestsApiError: 'HTTPSConnectionPool(host=\\'api.quantum.ibm.com\\', port=443): Max retries exceeded with url: /runtime/jobs/cq0pc10hbttg008j7tgg (Caused by NameResolutionError(\"<urllib3.connection.HTTPSConnection object at 0x288924c40>: Failed to resolve \\'api.quantum.ibm.com\\' ([Errno 8] nodename nor servname provided, or not known)\"))'\n",
      "\n",
      "\n",
      "The above exception was the direct cause of the following exception:\n",
      "\n",
      "\n",
      "Traceback (most recent call last):\n",
      "\n",
      "  File \"/Users/amey/anaconda3/envs/simuq/lib/python3.10/concurrent/futures/thread.py\", line 58, in run\n",
      "    result = self.fn(*self.args, **self.kwargs)\n",
      "\n",
      "  File \"/Users/amey/anaconda3/envs/simuq/lib/python3.10/site-packages/qiskit_experiments/framework/experiment_data.py\", line 812, in _add_job_data\n",
      "    raise ex\n",
      "\n",
      "  File \"/Users/amey/anaconda3/envs/simuq/lib/python3.10/site-packages/qiskit_experiments/framework/experiment_data.py\", line 794, in _add_job_data\n",
      "    job_result = job.result()\n",
      "\n",
      "  File \"/Users/amey/anaconda3/envs/simuq/lib/python3.10/site-packages/qiskit_ibm_provider/job/ibm_circuit_job.py\", line 248, in result\n",
      "    self.wait_for_final_state(timeout=timeout)\n",
      "\n",
      "  File \"/Users/amey/anaconda3/envs/simuq/lib/python3.10/site-packages/qiskit_ibm_provider/job/ibm_circuit_job.py\", line 669, in wait_for_final_state\n",
      "    status = self.status()\n",
      "\n",
      "  File \"/Users/amey/anaconda3/envs/simuq/lib/python3.10/site-packages/qiskit_ibm_provider/job/ibm_circuit_job.py\", line 355, in status\n",
      "    with api_to_job_error():\n",
      "\n",
      "  File \"/Users/amey/anaconda3/envs/simuq/lib/python3.10/contextlib.py\", line 153, in __exit__\n",
      "    self.gen.throw(typ, value, traceback)\n",
      "\n",
      "  File \"/Users/amey/anaconda3/envs/simuq/lib/python3.10/site-packages/qiskit_ibm_provider/job/utils.py\", line 72, in api_to_job_error\n",
      "    raise IBMJobApiError(str(api_err)) from api_err\n",
      "\n",
      "qiskit_ibm_provider.job.exceptions.IBMJobApiError: '\\'HTTPSConnectionPool(host=\\\\\\'api.quantum.ibm.com\\\\\\', port=443): Max retries exceeded with url: /runtime/jobs/cq0pc10hbttg008j7tgg (Caused by NameResolutionError(\"<urllib3.connection.HTTPSConnection object at 0x288924c40>: Failed to resolve \\\\\\'api.quantum.ibm.com\\\\\\' ([Errno 8] nodename nor servname provided, or not known)\"))\\''\n",
      "\n",
      "Job data not added for errorred job [Job ID: cq0psmyhbttg008j7wqg]\n",
      "Error message: Failed to start program in HAL component\n"
     ]
    }
   ],
   "source": [
    "rx_filename = 'error_rates/{}_{}_rx_config.pkl'.format(system,T)\n",
    "rzx_filename = 'error_rates/{}_{}_rzx_config.pkl'.format(system,T)\n",
    "\n",
    "with open(rx_filename,'wb+') as f:\n",
    "    pickle.dump(rx_calibrations,f)\n",
    "\n",
    "with open(rzx_filename,'wb+') as f:\n",
    "    pickle.dump(rzx_calibrations,f)"
   ]
  },
  {
   "cell_type": "code",
   "execution_count": null,
   "metadata": {},
   "outputs": [],
   "source": []
  }
 ],
 "metadata": {
  "kernelspec": {
   "display_name": "simuq",
   "language": "python",
   "name": "python3"
  },
  "language_info": {
   "codemirror_mode": {
    "name": "ipython",
    "version": 3
   },
   "file_extension": ".py",
   "mimetype": "text/x-python",
   "name": "python",
   "nbconvert_exporter": "python",
   "pygments_lexer": "ipython3",
   "version": "3.9.18"
  }
 },
 "nbformat": 4,
 "nbformat_minor": 2
}
