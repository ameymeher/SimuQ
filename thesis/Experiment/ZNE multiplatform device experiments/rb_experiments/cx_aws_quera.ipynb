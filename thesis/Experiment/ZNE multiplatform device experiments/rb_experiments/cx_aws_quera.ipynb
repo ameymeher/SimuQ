{
 "cells": [
  {
   "cell_type": "code",
   "execution_count": 1,
   "metadata": {},
   "outputs": [],
   "source": [
    "from qiskit_braket_provider import AWSBraketProvider"
   ]
  },
  {
   "cell_type": "code",
   "execution_count": 4,
   "metadata": {},
   "outputs": [
    {
     "ename": "QiskitBackendNotFoundError",
     "evalue": "'No backend matches the criteria'",
     "output_type": "error",
     "traceback": [
      "\u001b[0;31m---------------------------------------------------------------------------\u001b[0m",
      "\u001b[0;31mQiskitBackendNotFoundError\u001b[0m                Traceback (most recent call last)",
      "\u001b[1;32m/Users/amey/Desktop/Tasks/Thesis/SimuQ/thesis/Experiment/ZNE multiplatform device experiments/rb_experiments/cx_aws_quera.ipynb Cell 2\u001b[0m line \u001b[0;36m2\n\u001b[1;32m      <a href='vscode-notebook-cell:/Users/amey/Desktop/Tasks/Thesis/SimuQ/thesis/Experiment/ZNE%20multiplatform%20device%20experiments/rb_experiments/cx_aws_quera.ipynb#W1sZmlsZQ%3D%3D?line=0'>1</a>\u001b[0m provider \u001b[39m=\u001b[39m AWSBraketProvider()\n\u001b[0;32m----> <a href='vscode-notebook-cell:/Users/amey/Desktop/Tasks/Thesis/SimuQ/thesis/Experiment/ZNE%20multiplatform%20device%20experiments/rb_experiments/cx_aws_quera.ipynb#W1sZmlsZQ%3D%3D?line=1'>2</a>\u001b[0m backend \u001b[39m=\u001b[39m provider\u001b[39m.\u001b[39;49mget_backend(\u001b[39m'\u001b[39;49m\u001b[39mAquila\u001b[39;49m\u001b[39m'\u001b[39;49m)\n",
      "File \u001b[0;32m~/anaconda3/envs/simuq/lib/python3.10/site-packages/qiskit/providers/provider.py:55\u001b[0m, in \u001b[0;36mProviderV1.get_backend\u001b[0;34m(self, name, **kwargs)\u001b[0m\n\u001b[1;32m     53\u001b[0m     \u001b[39mraise\u001b[39;00m QiskitBackendNotFoundError(\u001b[39m\"\u001b[39m\u001b[39mMore than one backend matches the criteria\u001b[39m\u001b[39m\"\u001b[39m)\n\u001b[1;32m     54\u001b[0m \u001b[39mif\u001b[39;00m \u001b[39mnot\u001b[39;00m backends:\n\u001b[0;32m---> 55\u001b[0m     \u001b[39mraise\u001b[39;00m QiskitBackendNotFoundError(\u001b[39m\"\u001b[39m\u001b[39mNo backend matches the criteria\u001b[39m\u001b[39m\"\u001b[39m)\n\u001b[1;32m     57\u001b[0m \u001b[39mreturn\u001b[39;00m backends[\u001b[39m0\u001b[39m]\n",
      "\u001b[0;31mQiskitBackendNotFoundError\u001b[0m: 'No backend matches the criteria'"
     ]
    }
   ],
   "source": [
    "provider = AWSBraketProvider()\n",
    "backend = provider.get_backend('Aquila')"
   ]
  },
  {
   "cell_type": "code",
   "execution_count": 3,
   "metadata": {},
   "outputs": [
    {
     "data": {
      "text/plain": [
       "[BraketBackend[Aria 1],\n",
       " BraketBackend[Aria 2],\n",
       " BraketBackend[Aspen-M-3],\n",
       " BraketBackend[Forte 1],\n",
       " BraketBackend[Harmony],\n",
       " BraketBackend[Lucy],\n",
       " BraketBackend[SV1],\n",
       " BraketBackend[TN1],\n",
       " BraketBackend[dm1]]"
      ]
     },
     "execution_count": 3,
     "metadata": {},
     "output_type": "execute_result"
    }
   ],
   "source": [
    "provider.backends()"
   ]
  },
  {
   "cell_type": "code",
   "execution_count": 4,
   "metadata": {},
   "outputs": [],
   "source": [
    "from qiskit_ibm_runtime import QiskitRuntimeService\n",
    "import numpy as np\n",
    "from qiskit import QuantumCircuit, transpile\n",
    "from qiskit.transpiler import InstructionProperties\n",
    "from qiskit_ibm_provider import IBMProvider\n",
    "from qiskit_experiments.library import InterleavedRB\n",
    "import qiskit.circuit.library as circuits"
   ]
  },
  {
   "cell_type": "code",
   "execution_count": 5,
   "metadata": {},
   "outputs": [
    {
     "name": "stderr",
     "output_type": "stream",
     "text": [
      "/Users/amey/anaconda3/envs/simuq/lib/python3.10/site-packages/qiskit_braket_provider/providers/adapter.py:372: UserWarning: The Qiskit circuit contains barrier instructions that are ignored.\n",
      "  warnings.warn(\n"
     ]
    }
   ],
   "source": [
    "lengths = np.arange(1, 200, 30)\n",
    "num_samples = 10\n",
    "seed = 1010\n",
    "qubits = [0]\n",
    "\n",
    "# The interleaved gate is the CX gate\n",
    "int_exp2 = InterleavedRB(\n",
    "    circuits.RXGate(np.pi/2), qubits, lengths, num_samples=num_samples, seed=seed)\n",
    "\n",
    "int_expdata2 = int_exp2.run(backend).block_for_results()\n",
    "int_results2 = int_expdata2.analysis_results()"
   ]
  },
  {
   "cell_type": "code",
   "execution_count": null,
   "metadata": {},
   "outputs": [],
   "source": [
    "# View result data\n",
    "display(int_expdata2.figure(0))\n",
    "for result in int_results2:\n",
    "    print(result)"
   ]
  }
 ],
 "metadata": {
  "kernelspec": {
   "display_name": "simuq",
   "language": "python",
   "name": "python3"
  },
  "language_info": {
   "codemirror_mode": {
    "name": "ipython",
    "version": 3
   },
   "file_extension": ".py",
   "mimetype": "text/x-python",
   "name": "python",
   "nbconvert_exporter": "python",
   "pygments_lexer": "ipython3",
   "version": "3.10.13"
  }
 },
 "nbformat": 4,
 "nbformat_minor": 2
}
