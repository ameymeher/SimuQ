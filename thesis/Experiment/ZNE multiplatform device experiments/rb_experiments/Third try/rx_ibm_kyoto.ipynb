{
 "cells": [
  {
   "cell_type": "markdown",
   "metadata": {},
   "source": [
    "#### Setup"
   ]
  },
  {
   "cell_type": "code",
   "execution_count": 1,
   "metadata": {},
   "outputs": [],
   "source": [
    "from qiskit_transpiler import get_pm\n",
    "from qiskit_ibm_runtime import QiskitRuntimeService\n",
    "import numpy as np\n",
    "from qiskit import QuantumCircuit, transpile\n",
    "from qiskit.transpiler import InstructionProperties\n",
    "from qiskit_ibm_provider import IBMProvider\n",
    "from qiskit_experiments.library import InterleavedRB\n",
    "import qiskit.circuit.library as circuits\n",
    "from qiskit import QuantumCircuit"
   ]
  },
  {
   "cell_type": "code",
   "execution_count": 2,
   "metadata": {},
   "outputs": [],
   "source": [
    "#Setting the IBM provider\n",
    "api_file = \"../../../ibm_API_key\"\n",
    "with open(api_file, \"r\") as f:\n",
    "        api_key = f.readline().strip()\n",
    "provider = IBMProvider(api_key, instance='ibm-q-ncsu/nc-state/quantum-compiler')\n",
    "backend = provider.get_backend('ibm_kyoto')"
   ]
  },
  {
   "cell_type": "markdown",
   "metadata": {},
   "source": [
    "#### Circuit to only pass as a gate"
   ]
  },
  {
   "cell_type": "code",
   "execution_count": 3,
   "metadata": {},
   "outputs": [],
   "source": [
    "gate_circuit = QuantumCircuit(1, name='custom_rx')\n",
    "gate_circuit.rx(np.pi/2,0)\n",
    "custom_rx = gate_circuit.to_gate()"
   ]
  },
  {
   "cell_type": "markdown",
   "metadata": {},
   "source": [
    "#### Circuit to pass for getting the calibration specific to the qubit"
   ]
  },
  {
   "cell_type": "code",
   "execution_count": 4,
   "metadata": {},
   "outputs": [
    {
     "data": {
      "image/png": "[encoded data removed]",
      "text/plain": [
       "<Figure size 185.453x117.056 with 1 Axes>"
      ]
     },
     "execution_count": 4,
     "metadata": {},
     "output_type": "execute_result"
    }
   ],
   "source": [
    "calibration_circuit = QuantumCircuit(1)\n",
    "calibration_circuit.rx(np.pi/2,0)\n",
    "calibration_circuit.draw('mpl')"
   ]
  },
  {
   "cell_type": "code",
   "execution_count": 5,
   "metadata": {},
   "outputs": [
    {
     "data": {
      "image/png": "[encoded data removed]",
      "text/plain": [
       "<Figure size 269.064x117.056 with 1 Axes>"
      ]
     },
     "execution_count": 5,
     "metadata": {},
     "output_type": "execute_result"
    }
   ],
   "source": [
    "pm = get_pm(backend)\n",
    "calibrated_circuit = pm.run(calibration_circuit)\n",
    "calibrated_circuit.draw('mpl')"
   ]
  },
  {
   "cell_type": "code",
   "execution_count": 6,
   "metadata": {},
   "outputs": [
    {
     "data": {
      "text/plain": [
       "{'rx': {((0,),\n",
       "   (1.5707963267948966,)): ScheduleBlock(Play(Drag(duration=120, sigma=30, beta=0.2155373364611679, amp=0.09941018780096071, angle=0), DriveChannel(0)), name=\"rx(1.571)\", transform=AlignLeft())}}"
      ]
     },
     "execution_count": 6,
     "metadata": {},
     "output_type": "execute_result"
    }
   ],
   "source": [
    "calibrated_circuit.calibrations"
   ]
  },
  {
   "cell_type": "code",
   "execution_count": 7,
   "metadata": {},
   "outputs": [],
   "source": [
    "calibration = list(calibrated_circuit.calibrations['rx'].values())[0]"
   ]
  },
  {
   "cell_type": "code",
   "execution_count": 8,
   "metadata": {},
   "outputs": [],
   "source": [
    "backend.target.add_instruction(custom_rx, {(0,): InstructionProperties(calibration=calibration)})"
   ]
  },
  {
   "cell_type": "code",
   "execution_count": 9,
   "metadata": {},
   "outputs": [],
   "source": [
    "lengths = np.arange(1, 200, 30)\n",
    "num_samples = 10\n",
    "seed = 1010\n",
    "qubits = [0] # make sure it is the qubit added in the backend target\n",
    "\n",
    "int_exp = InterleavedRB(\n",
    "    custom_rx, qubits, lengths, num_samples=num_samples, seed=seed, backend=backend)"
   ]
  },
  {
   "cell_type": "code",
   "execution_count": 10,
   "metadata": {},
   "outputs": [],
   "source": [
    "int_expdata = int_exp.run(backend).block_for_results()\n",
    "int_results = int_expdata.analysis_results()"
   ]
  },
  {
   "cell_type": "code",
   "execution_count": null,
   "metadata": {},
   "outputs": [],
   "source": [
    "# View result data\n",
    "display(int_expdata.figure(0))\n",
    "for result in int_results:\n",
    "    print(result)"
   ]
  },
  {
   "cell_type": "code",
   "execution_count": null,
   "metadata": {},
   "outputs": [],
   "source": [
    "int_exp.circuits()[1].draw(output='mpl')"
   ]
  },
  {
   "cell_type": "code",
   "execution_count": null,
   "metadata": {},
   "outputs": [],
   "source": [
    "# you can see that the transpiled circuits contain the calibrations\n",
    "int_exp._transpiled_circuits()[1].draw(output='mpl')"
   ]
  }
 ],
 "metadata": {
  "kernelspec": {
   "display_name": "simuq",
   "language": "python",
   "name": "python3"
  },
  "language_info": {
   "codemirror_mode": {
    "name": "ipython",
    "version": 3
   },
   "file_extension": ".py",
   "mimetype": "text/x-python",
   "name": "python",
   "nbconvert_exporter": "python",
   "pygments_lexer": "ipython3",
   "version": "3.10.13"
  }
 },
 "nbformat": 4,
 "nbformat_minor": 2
}
