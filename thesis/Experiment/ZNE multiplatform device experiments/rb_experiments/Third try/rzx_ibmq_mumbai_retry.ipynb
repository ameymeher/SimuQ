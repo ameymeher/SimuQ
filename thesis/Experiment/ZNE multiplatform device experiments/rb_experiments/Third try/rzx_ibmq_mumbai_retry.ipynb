{
 "cells": [
  {
   "cell_type": "markdown",
   "metadata": {},
   "source": [
    "#### Setup"
   ]
  },
  {
   "cell_type": "code",
   "execution_count": 1,
   "metadata": {},
   "outputs": [],
   "source": [
    "from qiskit_transpiler import get_pm\n",
    "from qiskit_ibm_runtime import QiskitRuntimeService\n",
    "import numpy as np\n",
    "from qiskit import QuantumCircuit, transpile\n",
    "from qiskit.transpiler import InstructionProperties\n",
    "from qiskit_ibm_provider import IBMProvider\n",
    "from qiskit_experiments.library import InterleavedRB\n",
    "import qiskit.circuit.library as circuits\n",
    "from qiskit import QuantumCircuit"
   ]
  },
  {
   "cell_type": "code",
   "execution_count": 2,
   "metadata": {},
   "outputs": [],
   "source": [
    "#Setting the IBM provider\n",
    "api_file = \"../../../ibm_API_key\"\n",
    "with open(api_file, \"r\") as f:\n",
    "        api_key = f.readline().strip()\n",
    "provider = IBMProvider(api_key, instance='ibm-q-ncsu/nc-state/quantum-compiler')\n",
    "backend = provider.get_backend('ibmq_mumbai')"
   ]
  },
  {
   "cell_type": "markdown",
   "metadata": {},
   "source": [
    "#### Circuit to only pass as a gate"
   ]
  },
  {
   "cell_type": "code",
   "execution_count": 3,
   "metadata": {},
   "outputs": [],
   "source": [
    "gate_circuit = QuantumCircuit(2, name='custom_rzx')\n",
    "gate_circuit.rzx(np.pi/2,0,1)\n",
    "custom_rzx = gate_circuit.to_gate()"
   ]
  },
  {
   "cell_type": "markdown",
   "metadata": {},
   "source": [
    "#### Circuit to pass for getting the calibration specific to the qubit"
   ]
  },
  {
   "cell_type": "code",
   "execution_count": 4,
   "metadata": {},
   "outputs": [
    {
     "data": {
      "image/png": "[encoded data removed]",
      "text/plain": [
       "<Figure size 203.885x367.889 with 1 Axes>"
      ]
     },
     "execution_count": 4,
     "metadata": {},
     "output_type": "execute_result"
    }
   ],
   "source": [
    "calibration_circuit = QuantumCircuit(4)\n",
    "calibration_circuit.rzx(np.pi/2,3,2)\n",
    "calibration_circuit.draw('mpl')"
   ]
  },
  {
   "cell_type": "code",
   "execution_count": 5,
   "metadata": {},
   "outputs": [
    {
     "data": {
      "image/png": "[encoded data removed]",
      "text/plain": [
       "<Figure size 287.496x367.889 with 1 Axes>"
      ]
     },
     "execution_count": 5,
     "metadata": {},
     "output_type": "execute_result"
    }
   ],
   "source": [
    "pm = get_pm(backend)\n",
    "calibrated_circuit = pm.run(calibration_circuit)\n",
    "calibrated_circuit.draw('mpl')"
   ]
  },
  {
   "cell_type": "code",
   "execution_count": 6,
   "metadata": {},
   "outputs": [
    {
     "data": {
      "text/plain": [
       "{'rzx': {((3, 2),\n",
       "   (1.5707963267948966,)): ScheduleBlock(ScheduleBlock(ScheduleBlock(Play(GaussianSquare(duration=688, sigma=64, width=432.0, amp=0.24852273944723735, angle=-1.9544697125140549), ControlChannel(6)), name=\"rescale_cr_inst\", transform=AlignLeft()), ScheduleBlock(Play(GaussianSquare(duration=688, sigma=64, width=432.0, amp=0.04332670533667969, angle=-0.033645972852721674), DriveChannel(2)), name=\"rescale_cr_inst\", transform=AlignLeft()), name=\"block1\", transform=AlignLeft()), ScheduleBlock(Play(Drag(duration=160, sigma=40, beta=-0.80342292001501, amp=0.16154381850291183, angle=0.0, name='Xp_d3'), DriveChannel(3), name='Xp_d3'), name=\"x\", transform=AlignLeft()), ScheduleBlock(ScheduleBlock(Play(GaussianSquare(duration=688, sigma=64, width=432.0, amp=0.24852273944723738, angle=1.1871229410757382), ControlChannel(6)), name=\"rescale_cr_inst\", transform=AlignLeft()), ScheduleBlock(Play(GaussianSquare(duration=688, sigma=64, width=432.0, amp=0.04332670533667969, angle=3.1079466807370713), DriveChannel(2)), name=\"rescale_cr_inst\", transform=AlignLeft()), name=\"block4\", transform=AlignLeft()), ScheduleBlock(Play(Drag(duration=160, sigma=40, beta=-0.80342292001501, amp=0.16154381850291183, angle=0.0, name='Xp_d3'), DriveChannel(3), name='Xp_d3'), name=\"x\", transform=AlignLeft()), name=\"rzx(1.571)\", transform=AlignSequential())}}"
      ]
     },
     "execution_count": 6,
     "metadata": {},
     "output_type": "execute_result"
    }
   ],
   "source": [
    "calibrated_circuit.calibrations"
   ]
  },
  {
   "cell_type": "code",
   "execution_count": 7,
   "metadata": {},
   "outputs": [
    {
     "data": {
      "text/plain": [
       "ScheduleBlock(ScheduleBlock(ScheduleBlock(Play(GaussianSquare(duration=688, sigma=64, width=432.0, amp=0.24852273944723735, angle=-1.9544697125140549), ControlChannel(6)), name=\"rescale_cr_inst\", transform=AlignLeft()), ScheduleBlock(Play(GaussianSquare(duration=688, sigma=64, width=432.0, amp=0.04332670533667969, angle=-0.033645972852721674), DriveChannel(2)), name=\"rescale_cr_inst\", transform=AlignLeft()), name=\"block1\", transform=AlignLeft()), ScheduleBlock(Play(Drag(duration=160, sigma=40, beta=-0.80342292001501, amp=0.16154381850291183, angle=0.0, name='Xp_d3'), DriveChannel(3), name='Xp_d3'), name=\"x\", transform=AlignLeft()), ScheduleBlock(ScheduleBlock(Play(GaussianSquare(duration=688, sigma=64, width=432.0, amp=0.24852273944723738, angle=1.1871229410757382), ControlChannel(6)), name=\"rescale_cr_inst\", transform=AlignLeft()), ScheduleBlock(Play(GaussianSquare(duration=688, sigma=64, width=432.0, amp=0.04332670533667969, angle=3.1079466807370713), DriveChannel(2)), name=\"rescale_cr_inst\", transform=AlignLeft()), name=\"block4\", transform=AlignLeft()), ScheduleBlock(Play(Drag(duration=160, sigma=40, beta=-0.80342292001501, amp=0.16154381850291183, angle=0.0, name='Xp_d3'), DriveChannel(3), name='Xp_d3'), name=\"x\", transform=AlignLeft()), name=\"rzx(1.571)\", transform=AlignSequential())"
      ]
     },
     "execution_count": 7,
     "metadata": {},
     "output_type": "execute_result"
    }
   ],
   "source": [
    "calibration = list(calibrated_circuit.calibrations['rzx'].values())[0]\n",
    "calibration"
   ]
  },
  {
   "cell_type": "code",
   "execution_count": 8,
   "metadata": {},
   "outputs": [],
   "source": [
    "backend.target.add_instruction(custom_rzx, {(3,2): InstructionProperties(calibration=calibration)})"
   ]
  },
  {
   "cell_type": "code",
   "execution_count": 9,
   "metadata": {},
   "outputs": [],
   "source": [
    "lengths = np.arange(1, 200, 30)\n",
    "num_samples = 10\n",
    "seed = 1010\n",
    "qubits = (3,2) # make sure it is the qubit added in the backend target\n",
    "\n",
    "int_exp = InterleavedRB(\n",
    "    custom_rzx, qubits, lengths, num_samples=num_samples, seed=seed, backend=backend)"
   ]
  },
  {
   "cell_type": "code",
   "execution_count": 10,
   "metadata": {},
   "outputs": [
    {
     "name": "stderr",
     "output_type": "stream",
     "text": [
      "Job data not added for errorred job [Job ID: cq2rfhpd7we0008sjhsg]\n",
      "Error message: Failed to start program in HAL component\n"
     ]
    }
   ],
   "source": [
    "int_expdata = int_exp.run(backend).block_for_results()\n",
    "int_results = int_expdata.analysis_results()"
   ]
  },
  {
   "cell_type": "code",
   "execution_count": 11,
   "metadata": {},
   "outputs": [
    {
     "ename": "ExperimentEntryNotFound",
     "evalue": "'Figure 0 not found.'",
     "output_type": "error",
     "traceback": [
      "\u001b[0;31m---------------------------------------------------------------------------\u001b[0m",
      "\u001b[0;31mExperimentEntryNotFound\u001b[0m                   Traceback (most recent call last)",
      "\u001b[1;32m/Users/amey/Desktop/Tasks/Thesis/SimuQ/thesis/Experiment/ZNE multiplatform device experiments/rb_experiments/Third try/rzx_ibmq_mumbai_retry.ipynb Cell 14\u001b[0m line \u001b[0;36m2\n\u001b[1;32m      <a href='vscode-notebook-cell:/Users/amey/Desktop/Tasks/Thesis/SimuQ/thesis/Experiment/ZNE%20multiplatform%20device%20experiments/rb_experiments/Third%20try/rzx_ibmq_mumbai_retry.ipynb#X16sZmlsZQ%3D%3D?line=0'>1</a>\u001b[0m \u001b[39m# View result data\u001b[39;00m\n\u001b[0;32m----> <a href='vscode-notebook-cell:/Users/amey/Desktop/Tasks/Thesis/SimuQ/thesis/Experiment/ZNE%20multiplatform%20device%20experiments/rb_experiments/Third%20try/rzx_ibmq_mumbai_retry.ipynb#X16sZmlsZQ%3D%3D?line=1'>2</a>\u001b[0m display(int_expdata\u001b[39m.\u001b[39;49mfigure(\u001b[39m0\u001b[39;49m))\n\u001b[1;32m      <a href='vscode-notebook-cell:/Users/amey/Desktop/Tasks/Thesis/SimuQ/thesis/Experiment/ZNE%20multiplatform%20device%20experiments/rb_experiments/Third%20try/rzx_ibmq_mumbai_retry.ipynb#X16sZmlsZQ%3D%3D?line=2'>3</a>\u001b[0m \u001b[39mfor\u001b[39;00m result \u001b[39min\u001b[39;00m int_results:\n\u001b[1;32m      <a href='vscode-notebook-cell:/Users/amey/Desktop/Tasks/Thesis/SimuQ/thesis/Experiment/ZNE%20multiplatform%20device%20experiments/rb_experiments/Third%20try/rzx_ibmq_mumbai_retry.ipynb#X16sZmlsZQ%3D%3D?line=3'>4</a>\u001b[0m     \u001b[39mprint\u001b[39m(result)\n",
      "File \u001b[0;32m~/anaconda3/envs/simuq/lib/python3.10/site-packages/qiskit_experiments/framework/experiment_data.py:1147\u001b[0m, in \u001b[0;36mExperimentData.figure\u001b[0;34m(self, figure_key, file_name)\u001b[0m\n\u001b[1;32m   1145\u001b[0m \u001b[39mif\u001b[39;00m \u001b[39misinstance\u001b[39m(figure_key, \u001b[39mint\u001b[39m):\n\u001b[1;32m   1146\u001b[0m     \u001b[39mif\u001b[39;00m figure_key \u001b[39m<\u001b[39m \u001b[39m0\u001b[39m \u001b[39mor\u001b[39;00m figure_key \u001b[39m>\u001b[39m\u001b[39m=\u001b[39m \u001b[39mlen\u001b[39m(\u001b[39mself\u001b[39m\u001b[39m.\u001b[39m_figures\u001b[39m.\u001b[39mkeys()):\n\u001b[0;32m-> 1147\u001b[0m         \u001b[39mraise\u001b[39;00m ExperimentEntryNotFound(\u001b[39mf\u001b[39m\u001b[39m\"\u001b[39m\u001b[39mFigure \u001b[39m\u001b[39m{\u001b[39;00mfigure_key\u001b[39m}\u001b[39;00m\u001b[39m not found.\u001b[39m\u001b[39m\"\u001b[39m)\n\u001b[1;32m   1148\u001b[0m     figure_key \u001b[39m=\u001b[39m \u001b[39mself\u001b[39m\u001b[39m.\u001b[39m_figures\u001b[39m.\u001b[39mkeys()[figure_key]\n\u001b[1;32m   1150\u001b[0m figure_data \u001b[39m=\u001b[39m \u001b[39mself\u001b[39m\u001b[39m.\u001b[39m_figures\u001b[39m.\u001b[39mget(figure_key, \u001b[39mNone\u001b[39;00m)\n",
      "\u001b[0;31mExperimentEntryNotFound\u001b[0m: 'Figure 0 not found.'"
     ]
    }
   ],
   "source": [
    "# View result data\n",
    "display(int_expdata.figure(0))\n",
    "for result in int_results:\n",
    "    print(result)"
   ]
  },
  {
   "cell_type": "code",
   "execution_count": null,
   "metadata": {},
   "outputs": [],
   "source": [
    "int_exp.circuits()[1].draw(output='mpl')"
   ]
  },
  {
   "cell_type": "code",
   "execution_count": null,
   "metadata": {},
   "outputs": [],
   "source": [
    "# you can see that the transpiled circuits contain the calibrations\n",
    "int_exp._transpiled_circuits()[1].draw(output='mpl')"
   ]
  }
 ],
 "metadata": {
  "kernelspec": {
   "display_name": "simuq",
   "language": "python",
   "name": "python3"
  },
  "language_info": {
   "codemirror_mode": {
    "name": "ipython",
    "version": 3
   },
   "file_extension": ".py",
   "mimetype": "text/x-python",
   "name": "python",
   "nbconvert_exporter": "python",
   "pygments_lexer": "ipython3",
   "version": "3.1.0"
  }
 },
 "nbformat": 4,
 "nbformat_minor": 2
}
