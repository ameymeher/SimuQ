{
 "cells": [
  {
   "cell_type": "code",
   "execution_count": 1,
   "metadata": {},
   "outputs": [],
   "source": [
    "from qiskit_ibm_runtime import QiskitRuntimeService\n",
    "import numpy as np\n",
    "from qiskit import QuantumCircuit, transpile\n",
    "from qiskit.transpiler import InstructionProperties\n",
    "from qiskit_ibm_provider import IBMProvider\n",
    "from qiskit_experiments.library import InterleavedRB\n",
    "import qiskit.circuit.library as circuits"
   ]
  },
  {
   "cell_type": "code",
   "execution_count": 2,
   "metadata": {},
   "outputs": [],
   "source": [
    "#Setting the IBM provider\n",
    "api_file = \"../../../ibm_API_key\"\n",
    "with open(api_file, \"r\") as f:\n",
    "        api_key = f.readline().strip()\n",
    "provider = IBMProvider(api_key, instance='ibm-q-ncsu/nc-state/quantum-compiler')\n",
    "backend = provider.get_backend('ibmq_mumbai')"
   ]
  },
  {
   "cell_type": "code",
   "execution_count": 3,
   "metadata": {},
   "outputs": [
    {
     "name": "stderr",
     "output_type": "stream",
     "text": [
      "/Users/amey/anaconda3/envs/simuq/lib/python3.10/site-packages/qiskit_ibm_provider/ibm_backend.py:447: UserWarning: The backend ibmq_mumbai is currently paused.\n",
      "  warnings.warn(f\"The backend {self.name} is currently paused.\")\n"
     ]
    }
   ],
   "source": [
    "lengths = np.arange(1, 200, 30)\n",
    "num_samples = 10\n",
    "seed = 1010\n",
    "qubits = (1, 2)\n",
    "\n",
    "# The interleaved gate is the CX gate\n",
    "int_exp2 = InterleavedRB(\n",
    "    circuits.CXGate(), qubits, lengths, num_samples=num_samples, seed=seed)\n",
    "\n",
    "int_expdata2 = int_exp2.run(backend).block_for_results()\n",
    "int_results2 = int_expdata2.analysis_results()"
   ]
  },
  {
   "cell_type": "code",
   "execution_count": null,
   "metadata": {},
   "outputs": [],
   "source": [
    "# View result data\n",
    "display(int_expdata2.figure(0))\n",
    "for result in int_results2:\n",
    "    print(result)"
   ]
  }
 ],
 "metadata": {
  "kernelspec": {
   "display_name": "simuq",
   "language": "python",
   "name": "python3"
  },
  "language_info": {
   "codemirror_mode": {
    "name": "ipython",
    "version": 3
   },
   "file_extension": ".py",
   "mimetype": "text/x-python",
   "name": "python",
   "nbconvert_exporter": "python",
   "pygments_lexer": "ipython3",
   "version": "3.10.13"
  }
 },
 "nbformat": 4,
 "nbformat_minor": 2
}
