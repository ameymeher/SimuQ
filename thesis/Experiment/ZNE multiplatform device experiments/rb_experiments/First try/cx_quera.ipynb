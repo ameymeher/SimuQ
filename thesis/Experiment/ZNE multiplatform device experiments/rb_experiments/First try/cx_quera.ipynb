{
 "cells": [
  {
   "cell_type": "code",
   "execution_count": 2,
   "metadata": {},
   "outputs": [],
   "source": [
    "from qiskit_braket_provider import AWSBraketProvider"
   ]
  },
  {
   "cell_type": "code",
   "execution_count": 7,
   "metadata": {},
   "outputs": [],
   "source": [
    "provider = AWSBraketProvider()\n",
    "backend = provider.get_backend('Harmony')"
   ]
  },
  {
   "cell_type": "code",
   "execution_count": 1,
   "metadata": {},
   "outputs": [],
   "source": [
    "from qiskit_ibm_runtime import QiskitRuntimeService\n",
    "import numpy as np\n",
    "from qiskit import QuantumCircuit, transpile\n",
    "from qiskit.transpiler import InstructionProperties\n",
    "from qiskit_ibm_provider import IBMProvider\n",
    "from qiskit_experiments.library import InterleavedRB\n",
    "import qiskit.circuit.library as circuits"
   ]
  },
  {
   "cell_type": "code",
   "execution_count": 10,
   "metadata": {},
   "outputs": [
    {
     "name": "stderr",
     "output_type": "stream",
     "text": [
      "/Users/amey/anaconda3/envs/simuq/lib/python3.10/site-packages/qiskit_braket_provider/providers/adapter.py:425: UserWarning: Circuit transpilation resulted in global phase shift\n",
      "  warnings.warn(\"Circuit transpilation resulted in global phase shift\")\n"
     ]
    },
    {
     "ename": "TypeError",
     "evalue": "AwsQuantumTask.__init__() got an unexpected keyword argument 'meas_level'",
     "output_type": "error",
     "traceback": [
      "\u001b[0;31m---------------------------------------------------------------------------\u001b[0m",
      "\u001b[0;31mTypeError\u001b[0m                                 Traceback (most recent call last)",
      "\u001b[1;32m/Users/amey/Desktop/Tasks/Thesis/SimuQ/thesis/Experiment/ZNE multiplatform device experiments/rb_experiments/cx_quera.ipynb Cell 4\u001b[0m line \u001b[0;36m1\n\u001b[1;32m      <a href='vscode-notebook-cell:/Users/amey/Desktop/Tasks/Thesis/SimuQ/thesis/Experiment/ZNE%20multiplatform%20device%20experiments/rb_experiments/cx_quera.ipynb#W3sZmlsZQ%3D%3D?line=5'>6</a>\u001b[0m \u001b[39m# The interleaved gate is the CX gate\u001b[39;00m\n\u001b[1;32m      <a href='vscode-notebook-cell:/Users/amey/Desktop/Tasks/Thesis/SimuQ/thesis/Experiment/ZNE%20multiplatform%20device%20experiments/rb_experiments/cx_quera.ipynb#W3sZmlsZQ%3D%3D?line=6'>7</a>\u001b[0m int_exp2 \u001b[39m=\u001b[39m InterleavedRB(\n\u001b[1;32m      <a href='vscode-notebook-cell:/Users/amey/Desktop/Tasks/Thesis/SimuQ/thesis/Experiment/ZNE%20multiplatform%20device%20experiments/rb_experiments/cx_quera.ipynb#W3sZmlsZQ%3D%3D?line=7'>8</a>\u001b[0m     circuits\u001b[39m.\u001b[39mRXGate(np\u001b[39m.\u001b[39mpi\u001b[39m/\u001b[39m\u001b[39m2\u001b[39m), qubits, lengths, num_samples\u001b[39m=\u001b[39mnum_samples, seed\u001b[39m=\u001b[39mseed)\n\u001b[0;32m---> <a href='vscode-notebook-cell:/Users/amey/Desktop/Tasks/Thesis/SimuQ/thesis/Experiment/ZNE%20multiplatform%20device%20experiments/rb_experiments/cx_quera.ipynb#W3sZmlsZQ%3D%3D?line=9'>10</a>\u001b[0m int_expdata2 \u001b[39m=\u001b[39m int_exp2\u001b[39m.\u001b[39;49mrun(backend)\u001b[39m.\u001b[39mblock_for_results()\n\u001b[1;32m     <a href='vscode-notebook-cell:/Users/amey/Desktop/Tasks/Thesis/SimuQ/thesis/Experiment/ZNE%20multiplatform%20device%20experiments/rb_experiments/cx_quera.ipynb#W3sZmlsZQ%3D%3D?line=10'>11</a>\u001b[0m int_results2 \u001b[39m=\u001b[39m int_expdata2\u001b[39m.\u001b[39manalysis_results()\n",
      "File \u001b[0;32m~/anaconda3/envs/simuq/lib/python3.10/site-packages/qiskit_experiments/framework/base_experiment.py:247\u001b[0m, in \u001b[0;36mBaseExperiment.run\u001b[0;34m(self, backend, analysis, timeout, **run_options)\u001b[0m\n\u001b[1;32m    244\u001b[0m run_opts \u001b[39m=\u001b[39m experiment\u001b[39m.\u001b[39mrun_options\u001b[39m.\u001b[39m\u001b[39m__dict__\u001b[39m\n\u001b[1;32m    246\u001b[0m \u001b[39m# Run jobs\u001b[39;00m\n\u001b[0;32m--> 247\u001b[0m jobs \u001b[39m=\u001b[39m experiment\u001b[39m.\u001b[39;49m_run_jobs(transpiled_circuits, \u001b[39m*\u001b[39;49m\u001b[39m*\u001b[39;49mrun_opts)\n\u001b[1;32m    248\u001b[0m experiment_data\u001b[39m.\u001b[39madd_jobs(jobs, timeout\u001b[39m=\u001b[39mtimeout)\n\u001b[1;32m    250\u001b[0m \u001b[39m# Optionally run analysis\u001b[39;00m\n",
      "File \u001b[0;32m~/anaconda3/envs/simuq/lib/python3.10/site-packages/qiskit_experiments/framework/base_experiment.py:292\u001b[0m, in \u001b[0;36mBaseExperiment._run_jobs\u001b[0;34m(self, circuits, **run_options)\u001b[0m\n\u001b[1;32m    289\u001b[0m     job_circuits \u001b[39m=\u001b[39m [circuits]\n\u001b[1;32m    291\u001b[0m \u001b[39m# Run jobs\u001b[39;00m\n\u001b[0;32m--> 292\u001b[0m jobs \u001b[39m=\u001b[39m [\u001b[39mself\u001b[39m\u001b[39m.\u001b[39mbackend\u001b[39m.\u001b[39mrun(circs, \u001b[39m*\u001b[39m\u001b[39m*\u001b[39mrun_options) \u001b[39mfor\u001b[39;00m circs \u001b[39min\u001b[39;00m job_circuits]\n\u001b[1;32m    294\u001b[0m \u001b[39mreturn\u001b[39;00m jobs\n",
      "File \u001b[0;32m~/anaconda3/envs/simuq/lib/python3.10/site-packages/qiskit_experiments/framework/base_experiment.py:292\u001b[0m, in \u001b[0;36m<listcomp>\u001b[0;34m(.0)\u001b[0m\n\u001b[1;32m    289\u001b[0m     job_circuits \u001b[39m=\u001b[39m [circuits]\n\u001b[1;32m    291\u001b[0m \u001b[39m# Run jobs\u001b[39;00m\n\u001b[0;32m--> 292\u001b[0m jobs \u001b[39m=\u001b[39m [\u001b[39mself\u001b[39;49m\u001b[39m.\u001b[39;49mbackend\u001b[39m.\u001b[39;49mrun(circs, \u001b[39m*\u001b[39;49m\u001b[39m*\u001b[39;49mrun_options) \u001b[39mfor\u001b[39;00m circs \u001b[39min\u001b[39;00m job_circuits]\n\u001b[1;32m    294\u001b[0m \u001b[39mreturn\u001b[39;00m jobs\n",
      "File \u001b[0;32m~/anaconda3/envs/simuq/lib/python3.10/site-packages/qiskit_braket_provider/providers/braket_backend.py:286\u001b[0m, in \u001b[0;36mAWSBraketBackend.run\u001b[0;34m(self, run_input, **options)\u001b[0m\n\u001b[1;32m    283\u001b[0m \u001b[39mif\u001b[39;00m options\u001b[39m.\u001b[39mpop(\u001b[39m\"\u001b[39m\u001b[39mverbatim\u001b[39m\u001b[39m\"\u001b[39m, \u001b[39mFalse\u001b[39;00m):\n\u001b[1;32m    284\u001b[0m     braket_circuits \u001b[39m=\u001b[39m wrap_circuits_in_verbatim_box(braket_circuits)\n\u001b[0;32m--> 286\u001b[0m batch_task: AwsQuantumTaskBatch \u001b[39m=\u001b[39m \u001b[39mself\u001b[39;49m\u001b[39m.\u001b[39;49m_device\u001b[39m.\u001b[39;49mrun_batch(\n\u001b[1;32m    287\u001b[0m     braket_circuits, \u001b[39m*\u001b[39;49m\u001b[39m*\u001b[39;49moptions\n\u001b[1;32m    288\u001b[0m )\n\u001b[1;32m    289\u001b[0m tasks: List[AwsQuantumTask] \u001b[39m=\u001b[39m batch_task\u001b[39m.\u001b[39mtasks\n\u001b[1;32m    290\u001b[0m task_id \u001b[39m=\u001b[39m TASK_ID_DIVIDER\u001b[39m.\u001b[39mjoin(task\u001b[39m.\u001b[39mid \u001b[39mfor\u001b[39;00m task \u001b[39min\u001b[39;00m tasks)\n",
      "File \u001b[0;32m~/anaconda3/envs/simuq/lib/python3.10/site-packages/braket/aws/aws_device.py:287\u001b[0m, in \u001b[0;36mAwsDevice.run_batch\u001b[0;34m(self, task_specifications, s3_destination_folder, shots, max_parallel, max_connections, poll_timeout_seconds, poll_interval_seconds, inputs, gate_definitions, reservation_arn, *aws_quantum_task_args, **aws_quantum_task_kwargs)\u001b[0m\n\u001b[1;32m    213\u001b[0m \u001b[39mdef\u001b[39;00m \u001b[39mrun_batch\u001b[39m(\n\u001b[1;32m    214\u001b[0m     \u001b[39mself\u001b[39m,\n\u001b[1;32m    215\u001b[0m     task_specifications: Union[\n\u001b[0;32m   (...)\u001b[0m\n\u001b[1;32m    245\u001b[0m     \u001b[39m*\u001b[39m\u001b[39m*\u001b[39maws_quantum_task_kwargs,\n\u001b[1;32m    246\u001b[0m ) \u001b[39m-\u001b[39m\u001b[39m>\u001b[39m AwsQuantumTaskBatch:\n\u001b[1;32m    247\u001b[0m \u001b[39m    \u001b[39m\u001b[39m\"\"\"Executes a batch of quantum tasks in parallel\u001b[39;00m\n\u001b[1;32m    248\u001b[0m \n\u001b[1;32m    249\u001b[0m \u001b[39m    Args:\u001b[39;00m\n\u001b[0;32m   (...)\u001b[0m\n\u001b[1;32m    285\u001b[0m \u001b[39m        `braket.aws.aws_quantum_task_batch.AwsQuantumTaskBatch`\u001b[39;00m\n\u001b[1;32m    286\u001b[0m \u001b[39m    \"\"\"\u001b[39;00m\n\u001b[0;32m--> 287\u001b[0m     \u001b[39mreturn\u001b[39;00m AwsQuantumTaskBatch(\n\u001b[1;32m    288\u001b[0m         AwsSession\u001b[39m.\u001b[39;49mcopy_session(\u001b[39mself\u001b[39;49m\u001b[39m.\u001b[39;49m_aws_session, max_connections\u001b[39m=\u001b[39;49mmax_connections),\n\u001b[1;32m    289\u001b[0m         \u001b[39mself\u001b[39;49m\u001b[39m.\u001b[39;49m_arn,\n\u001b[1;32m    290\u001b[0m         task_specifications,\n\u001b[1;32m    291\u001b[0m         s3_destination_folder\n\u001b[1;32m    292\u001b[0m         \u001b[39mor\u001b[39;49;00m (\n\u001b[1;32m    293\u001b[0m             AwsSession\u001b[39m.\u001b[39;49mparse_s3_uri(os\u001b[39m.\u001b[39;49menviron\u001b[39m.\u001b[39;49mget(\u001b[39m\"\u001b[39;49m\u001b[39mAMZN_BRAKET_TASK_RESULTS_S3_URI\u001b[39;49m\u001b[39m\"\u001b[39;49m))\n\u001b[1;32m    294\u001b[0m             \u001b[39mif\u001b[39;49;00m \u001b[39m\"\u001b[39;49m\u001b[39mAMZN_BRAKET_TASK_RESULTS_S3_URI\u001b[39;49m\u001b[39m\"\u001b[39;49m \u001b[39min\u001b[39;49;00m os\u001b[39m.\u001b[39;49menviron\n\u001b[1;32m    295\u001b[0m             \u001b[39melse\u001b[39;49;00m \u001b[39mNone\u001b[39;49;00m\n\u001b[1;32m    296\u001b[0m         )\n\u001b[1;32m    297\u001b[0m         \u001b[39mor\u001b[39;49;00m (\u001b[39mself\u001b[39;49m\u001b[39m.\u001b[39;49m_aws_session\u001b[39m.\u001b[39;49mdefault_bucket(), \u001b[39m\"\u001b[39;49m\u001b[39mtasks\u001b[39;49m\u001b[39m\"\u001b[39;49m),\n\u001b[1;32m    298\u001b[0m         shots \u001b[39mif\u001b[39;49;00m shots \u001b[39mis\u001b[39;49;00m \u001b[39mnot\u001b[39;49;00m \u001b[39mNone\u001b[39;49;00m \u001b[39melse\u001b[39;49;00m \u001b[39mself\u001b[39;49m\u001b[39m.\u001b[39;49m_default_shots,\n\u001b[1;32m    299\u001b[0m         max_parallel\u001b[39m=\u001b[39;49mmax_parallel \u001b[39mif\u001b[39;49;00m max_parallel \u001b[39mis\u001b[39;49;00m \u001b[39mnot\u001b[39;49;00m \u001b[39mNone\u001b[39;49;00m \u001b[39melse\u001b[39;49;00m \u001b[39mself\u001b[39;49m\u001b[39m.\u001b[39;49m_default_max_parallel,\n\u001b[1;32m    300\u001b[0m         max_workers\u001b[39m=\u001b[39;49mmax_connections,\n\u001b[1;32m    301\u001b[0m         poll_timeout_seconds\u001b[39m=\u001b[39;49mpoll_timeout_seconds,\n\u001b[1;32m    302\u001b[0m         poll_interval_seconds\u001b[39m=\u001b[39;49mpoll_interval_seconds \u001b[39mor\u001b[39;49;00m \u001b[39mself\u001b[39;49m\u001b[39m.\u001b[39;49m_poll_interval_seconds,\n\u001b[1;32m    303\u001b[0m         inputs\u001b[39m=\u001b[39;49minputs,\n\u001b[1;32m    304\u001b[0m         gate_definitions\u001b[39m=\u001b[39;49mgate_definitions,\n\u001b[1;32m    305\u001b[0m         reservation_arn\u001b[39m=\u001b[39;49mreservation_arn,\n\u001b[1;32m    306\u001b[0m         \u001b[39m*\u001b[39;49maws_quantum_task_args,\n\u001b[1;32m    307\u001b[0m         \u001b[39m*\u001b[39;49m\u001b[39m*\u001b[39;49maws_quantum_task_kwargs,\n\u001b[1;32m    308\u001b[0m     )\n",
      "File \u001b[0;32m~/anaconda3/envs/simuq/lib/python3.10/site-packages/braket/aws/aws_quantum_task_batch.py:101\u001b[0m, in \u001b[0;36mAwsQuantumTaskBatch.__init__\u001b[0;34m(self, aws_session, device_arn, task_specifications, s3_destination_folder, shots, max_parallel, max_workers, poll_timeout_seconds, poll_interval_seconds, inputs, reservation_arn, *aws_quantum_task_args, **aws_quantum_task_kwargs)\u001b[0m\n\u001b[1;32m     45\u001b[0m \u001b[39mdef\u001b[39;00m \u001b[39m__init__\u001b[39m(\n\u001b[1;32m     46\u001b[0m     \u001b[39mself\u001b[39m,\n\u001b[1;32m     47\u001b[0m     aws_session: AwsSession,\n\u001b[0;32m   (...)\u001b[0m\n\u001b[1;32m     66\u001b[0m     \u001b[39m*\u001b[39m\u001b[39m*\u001b[39maws_quantum_task_kwargs,\n\u001b[1;32m     67\u001b[0m ):\n\u001b[1;32m     68\u001b[0m \u001b[39m    \u001b[39m\u001b[39m\"\"\"Creates a batch of quantum tasks.\u001b[39;00m\n\u001b[1;32m     69\u001b[0m \n\u001b[1;32m     70\u001b[0m \u001b[39m    Args:\u001b[39;00m\n\u001b[0;32m   (...)\u001b[0m\n\u001b[1;32m     99\u001b[0m \u001b[39m            Default: None.\u001b[39;00m\n\u001b[1;32m    100\u001b[0m \u001b[39m    \"\"\"\u001b[39;00m\n\u001b[0;32m--> 101\u001b[0m     \u001b[39mself\u001b[39m\u001b[39m.\u001b[39m_tasks \u001b[39m=\u001b[39m AwsQuantumTaskBatch\u001b[39m.\u001b[39;49m_execute(\n\u001b[1;32m    102\u001b[0m         aws_session,\n\u001b[1;32m    103\u001b[0m         device_arn,\n\u001b[1;32m    104\u001b[0m         task_specifications,\n\u001b[1;32m    105\u001b[0m         s3_destination_folder,\n\u001b[1;32m    106\u001b[0m         shots,\n\u001b[1;32m    107\u001b[0m         max_parallel,\n\u001b[1;32m    108\u001b[0m         max_workers,\n\u001b[1;32m    109\u001b[0m         poll_timeout_seconds,\n\u001b[1;32m    110\u001b[0m         poll_interval_seconds,\n\u001b[1;32m    111\u001b[0m         inputs,\n\u001b[1;32m    112\u001b[0m         reservation_arn,\n\u001b[1;32m    113\u001b[0m         \u001b[39m*\u001b[39;49maws_quantum_task_args,\n\u001b[1;32m    114\u001b[0m         \u001b[39m*\u001b[39;49m\u001b[39m*\u001b[39;49maws_quantum_task_kwargs,\n\u001b[1;32m    115\u001b[0m     )\n\u001b[1;32m    116\u001b[0m     \u001b[39mself\u001b[39m\u001b[39m.\u001b[39m_aws_session \u001b[39m=\u001b[39m aws_session\n\u001b[1;32m    117\u001b[0m     \u001b[39mself\u001b[39m\u001b[39m.\u001b[39m_results \u001b[39m=\u001b[39m \u001b[39mNone\u001b[39;00m\n",
      "File \u001b[0;32m~/anaconda3/envs/simuq/lib/python3.10/site-packages/braket/aws/aws_quantum_task_batch.py:255\u001b[0m, in \u001b[0;36mAwsQuantumTaskBatch._execute\u001b[0;34m(aws_session, device_arn, task_specifications, s3_destination_folder, shots, max_parallel, max_workers, poll_timeout_seconds, poll_interval_seconds, inputs, reservation_arn, *args, **kwargs)\u001b[0m\n\u001b[1;32m    252\u001b[0m     remaining\u001b[39m.\u001b[39mclear()\n\u001b[1;32m    254\u001b[0m     \u001b[39mraise\u001b[39;00m\n\u001b[0;32m--> 255\u001b[0m tasks \u001b[39m=\u001b[39m [future\u001b[39m.\u001b[39mresult() \u001b[39mfor\u001b[39;00m future \u001b[39min\u001b[39;00m task_futures]\n\u001b[1;32m    256\u001b[0m \u001b[39mreturn\u001b[39;00m tasks\n",
      "File \u001b[0;32m~/anaconda3/envs/simuq/lib/python3.10/site-packages/braket/aws/aws_quantum_task_batch.py:255\u001b[0m, in \u001b[0;36m<listcomp>\u001b[0;34m(.0)\u001b[0m\n\u001b[1;32m    252\u001b[0m     remaining\u001b[39m.\u001b[39mclear()\n\u001b[1;32m    254\u001b[0m     \u001b[39mraise\u001b[39;00m\n\u001b[0;32m--> 255\u001b[0m tasks \u001b[39m=\u001b[39m [future\u001b[39m.\u001b[39;49mresult() \u001b[39mfor\u001b[39;00m future \u001b[39min\u001b[39;00m task_futures]\n\u001b[1;32m    256\u001b[0m \u001b[39mreturn\u001b[39;00m tasks\n",
      "File \u001b[0;32m~/anaconda3/envs/simuq/lib/python3.10/concurrent/futures/_base.py:451\u001b[0m, in \u001b[0;36mFuture.result\u001b[0;34m(self, timeout)\u001b[0m\n\u001b[1;32m    449\u001b[0m     \u001b[39mraise\u001b[39;00m CancelledError()\n\u001b[1;32m    450\u001b[0m \u001b[39melif\u001b[39;00m \u001b[39mself\u001b[39m\u001b[39m.\u001b[39m_state \u001b[39m==\u001b[39m FINISHED:\n\u001b[0;32m--> 451\u001b[0m     \u001b[39mreturn\u001b[39;00m \u001b[39mself\u001b[39;49m\u001b[39m.\u001b[39;49m__get_result()\n\u001b[1;32m    453\u001b[0m \u001b[39mself\u001b[39m\u001b[39m.\u001b[39m_condition\u001b[39m.\u001b[39mwait(timeout)\n\u001b[1;32m    455\u001b[0m \u001b[39mif\u001b[39;00m \u001b[39mself\u001b[39m\u001b[39m.\u001b[39m_state \u001b[39min\u001b[39;00m [CANCELLED, CANCELLED_AND_NOTIFIED]:\n",
      "File \u001b[0;32m~/anaconda3/envs/simuq/lib/python3.10/concurrent/futures/_base.py:403\u001b[0m, in \u001b[0;36mFuture.__get_result\u001b[0;34m(self)\u001b[0m\n\u001b[1;32m    401\u001b[0m \u001b[39mif\u001b[39;00m \u001b[39mself\u001b[39m\u001b[39m.\u001b[39m_exception:\n\u001b[1;32m    402\u001b[0m     \u001b[39mtry\u001b[39;00m:\n\u001b[0;32m--> 403\u001b[0m         \u001b[39mraise\u001b[39;00m \u001b[39mself\u001b[39m\u001b[39m.\u001b[39m_exception\n\u001b[1;32m    404\u001b[0m     \u001b[39mfinally\u001b[39;00m:\n\u001b[1;32m    405\u001b[0m         \u001b[39m# Break a reference cycle with the exception in self._exception\u001b[39;00m\n\u001b[1;32m    406\u001b[0m         \u001b[39mself\u001b[39m \u001b[39m=\u001b[39m \u001b[39mNone\u001b[39;00m\n",
      "File \u001b[0;32m~/anaconda3/envs/simuq/lib/python3.10/concurrent/futures/thread.py:58\u001b[0m, in \u001b[0;36m_WorkItem.run\u001b[0;34m(self)\u001b[0m\n\u001b[1;32m     55\u001b[0m     \u001b[39mreturn\u001b[39;00m\n\u001b[1;32m     57\u001b[0m \u001b[39mtry\u001b[39;00m:\n\u001b[0;32m---> 58\u001b[0m     result \u001b[39m=\u001b[39m \u001b[39mself\u001b[39;49m\u001b[39m.\u001b[39;49mfn(\u001b[39m*\u001b[39;49m\u001b[39mself\u001b[39;49m\u001b[39m.\u001b[39;49margs, \u001b[39m*\u001b[39;49m\u001b[39m*\u001b[39;49m\u001b[39mself\u001b[39;49m\u001b[39m.\u001b[39;49mkwargs)\n\u001b[1;32m     59\u001b[0m \u001b[39mexcept\u001b[39;00m \u001b[39mBaseException\u001b[39;00m \u001b[39mas\u001b[39;00m exc:\n\u001b[1;32m     60\u001b[0m     \u001b[39mself\u001b[39m\u001b[39m.\u001b[39mfuture\u001b[39m.\u001b[39mset_exception(exc)\n",
      "File \u001b[0;32m~/anaconda3/envs/simuq/lib/python3.10/site-packages/braket/aws/aws_quantum_task_batch.py:274\u001b[0m, in \u001b[0;36mAwsQuantumTaskBatch._create_task\u001b[0;34m(remaining, aws_session, device_arn, task_specification, s3_destination_folder, shots, poll_interval_seconds, inputs, reservation_arn, *args, **kwargs)\u001b[0m\n\u001b[1;32m    258\u001b[0m \u001b[39m@staticmethod\u001b[39m\n\u001b[1;32m    259\u001b[0m \u001b[39mdef\u001b[39;00m \u001b[39m_create_task\u001b[39m(\n\u001b[1;32m    260\u001b[0m     remaining: \u001b[39mlist\u001b[39m[\u001b[39mint\u001b[39m],\n\u001b[0;32m   (...)\u001b[0m\n\u001b[1;32m    272\u001b[0m     \u001b[39m*\u001b[39m\u001b[39m*\u001b[39mkwargs,\n\u001b[1;32m    273\u001b[0m ) \u001b[39m-\u001b[39m\u001b[39m>\u001b[39m AwsQuantumTask:\n\u001b[0;32m--> 274\u001b[0m     task \u001b[39m=\u001b[39m AwsQuantumTask\u001b[39m.\u001b[39;49mcreate(\n\u001b[1;32m    275\u001b[0m         aws_session,\n\u001b[1;32m    276\u001b[0m         device_arn,\n\u001b[1;32m    277\u001b[0m         task_specification,\n\u001b[1;32m    278\u001b[0m         s3_destination_folder,\n\u001b[1;32m    279\u001b[0m         shots,\n\u001b[1;32m    280\u001b[0m         poll_interval_seconds\u001b[39m=\u001b[39;49mpoll_interval_seconds,\n\u001b[1;32m    281\u001b[0m         inputs\u001b[39m=\u001b[39;49minputs,\n\u001b[1;32m    282\u001b[0m         reservation_arn\u001b[39m=\u001b[39;49mreservation_arn,\n\u001b[1;32m    283\u001b[0m         \u001b[39m*\u001b[39;49margs,\n\u001b[1;32m    284\u001b[0m         \u001b[39m*\u001b[39;49m\u001b[39m*\u001b[39;49mkwargs,\n\u001b[1;32m    285\u001b[0m     )\n\u001b[1;32m    287\u001b[0m     remaining\u001b[39m.\u001b[39mpop()\n\u001b[1;32m    289\u001b[0m     \u001b[39m# If the quantum task hits a terminal state before all quantum tasks have been created,\u001b[39;00m\n\u001b[1;32m    290\u001b[0m     \u001b[39m# it can be returned immediately\u001b[39;00m\n",
      "File \u001b[0;32m~/anaconda3/envs/simuq/lib/python3.10/site-packages/braket/aws/aws_quantum_task.py:213\u001b[0m, in \u001b[0;36mAwsQuantumTask.create\u001b[0;34m(aws_session, device_arn, task_specification, s3_destination_folder, shots, device_parameters, disable_qubit_rewiring, tags, inputs, gate_definitions, quiet, reservation_arn, *args, **kwargs)\u001b[0m\n\u001b[1;32m    208\u001b[0m     \u001b[39mif\u001b[39;00m unbounded_parameters:\n\u001b[1;32m    209\u001b[0m         \u001b[39mraise\u001b[39;00m \u001b[39mValueError\u001b[39;00m(\n\u001b[1;32m    210\u001b[0m             \u001b[39mf\u001b[39m\u001b[39m\"\u001b[39m\u001b[39mCannot execute circuit with unbound parameters: \u001b[39m\u001b[39m\"\u001b[39m \u001b[39mf\u001b[39m\u001b[39m\"\u001b[39m\u001b[39m{\u001b[39;00munbounded_parameters\u001b[39m}\u001b[39;00m\u001b[39m\"\u001b[39m\n\u001b[1;32m    211\u001b[0m         )\n\u001b[0;32m--> 213\u001b[0m \u001b[39mreturn\u001b[39;00m _create_internal(\n\u001b[1;32m    214\u001b[0m     task_specification,\n\u001b[1;32m    215\u001b[0m     aws_session,\n\u001b[1;32m    216\u001b[0m     create_task_kwargs,\n\u001b[1;32m    217\u001b[0m     device_arn,\n\u001b[1;32m    218\u001b[0m     device_parameters \u001b[39mor\u001b[39;49;00m {},\n\u001b[1;32m    219\u001b[0m     disable_qubit_rewiring,\n\u001b[1;32m    220\u001b[0m     inputs,\n\u001b[1;32m    221\u001b[0m     gate_definitions\u001b[39m=\u001b[39;49mgate_definitions,\n\u001b[1;32m    222\u001b[0m     quiet\u001b[39m=\u001b[39;49mquiet,\n\u001b[1;32m    223\u001b[0m     \u001b[39m*\u001b[39;49margs,\n\u001b[1;32m    224\u001b[0m     \u001b[39m*\u001b[39;49m\u001b[39m*\u001b[39;49mkwargs,\n\u001b[1;32m    225\u001b[0m )\n",
      "File \u001b[0;32m~/anaconda3/envs/simuq/lib/python3.10/functools.py:889\u001b[0m, in \u001b[0;36msingledispatch.<locals>.wrapper\u001b[0;34m(*args, **kw)\u001b[0m\n\u001b[1;32m    885\u001b[0m \u001b[39mif\u001b[39;00m \u001b[39mnot\u001b[39;00m args:\n\u001b[1;32m    886\u001b[0m     \u001b[39mraise\u001b[39;00m \u001b[39mTypeError\u001b[39;00m(\u001b[39mf\u001b[39m\u001b[39m'\u001b[39m\u001b[39m{\u001b[39;00mfuncname\u001b[39m}\u001b[39;00m\u001b[39m requires at least \u001b[39m\u001b[39m'\u001b[39m\n\u001b[1;32m    887\u001b[0m                     \u001b[39m'\u001b[39m\u001b[39m1 positional argument\u001b[39m\u001b[39m'\u001b[39m)\n\u001b[0;32m--> 889\u001b[0m \u001b[39mreturn\u001b[39;00m dispatch(args[\u001b[39m0\u001b[39;49m]\u001b[39m.\u001b[39;49m\u001b[39m__class__\u001b[39;49m)(\u001b[39m*\u001b[39;49margs, \u001b[39m*\u001b[39;49m\u001b[39m*\u001b[39;49mkw)\n",
      "File \u001b[0;32m~/anaconda3/envs/simuq/lib/python3.10/site-packages/braket/aws/aws_quantum_task.py:708\u001b[0m, in \u001b[0;36m_\u001b[0;34m(circuit, aws_session, create_task_kwargs, device_arn, device_parameters, disable_qubit_rewiring, inputs, gate_definitions, *args, **kwargs)\u001b[0m\n\u001b[1;32m    701\u001b[0m create_task_kwargs\u001b[39m.\u001b[39mupdate(\n\u001b[1;32m    702\u001b[0m     {\n\u001b[1;32m    703\u001b[0m         \u001b[39m\"\u001b[39m\u001b[39maction\u001b[39m\u001b[39m\"\u001b[39m: openqasm_program\u001b[39m.\u001b[39mjson(),\n\u001b[1;32m    704\u001b[0m         \u001b[39m\"\u001b[39m\u001b[39mdeviceParameters\u001b[39m\u001b[39m\"\u001b[39m: final_device_parameters\u001b[39m.\u001b[39mjson(exclude_none\u001b[39m=\u001b[39m\u001b[39mTrue\u001b[39;00m),\n\u001b[1;32m    705\u001b[0m     }\n\u001b[1;32m    706\u001b[0m )\n\u001b[1;32m    707\u001b[0m task_arn \u001b[39m=\u001b[39m aws_session\u001b[39m.\u001b[39mcreate_quantum_task(\u001b[39m*\u001b[39m\u001b[39m*\u001b[39mcreate_task_kwargs)\n\u001b[0;32m--> 708\u001b[0m \u001b[39mreturn\u001b[39;00m AwsQuantumTask(task_arn, aws_session, \u001b[39m*\u001b[39;49margs, \u001b[39m*\u001b[39;49m\u001b[39m*\u001b[39;49mkwargs)\n",
      "\u001b[0;31mTypeError\u001b[0m: AwsQuantumTask.__init__() got an unexpected keyword argument 'meas_level'"
     ]
    }
   ],
   "source": [
    "lengths = np.arange(1, 200, 30)\n",
    "num_samples = 10\n",
    "seed = 1010\n",
    "qubits = [0]\n",
    "\n",
    "# The interleaved gate is the CX gate\n",
    "int_exp2 = InterleavedRB(\n",
    "    circuits.RXGate(np.pi/2), qubits, lengths, num_samples=num_samples, seed=seed)\n",
    "\n",
    "int_expdata2 = int_exp2.run(backend).block_for_results()\n",
    "int_results2 = int_expdata2.analysis_results()"
   ]
  },
  {
   "cell_type": "code",
   "execution_count": null,
   "metadata": {},
   "outputs": [],
   "source": [
    "# View result data\n",
    "display(int_expdata2.figure(0))\n",
    "for result in int_results2:\n",
    "    print(result)"
   ]
  }
 ],
 "metadata": {
  "kernelspec": {
   "display_name": "simuq",
   "language": "python",
   "name": "python3"
  },
  "language_info": {
   "codemirror_mode": {
    "name": "ipython",
    "version": 3
   },
   "file_extension": ".py",
   "mimetype": "text/x-python",
   "name": "python",
   "nbconvert_exporter": "python",
   "pygments_lexer": "ipython3",
   "version": "3.10.13"
  }
 },
 "nbformat": 4,
 "nbformat_minor": 2
}
