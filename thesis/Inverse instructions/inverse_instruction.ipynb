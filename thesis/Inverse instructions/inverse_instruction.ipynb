{
 "cells": [
  {
   "cell_type": "code",
   "execution_count": 1,
   "outputs": [],
   "source": [
    "from qiskit import QuantumCircuit, Aer, execute\n",
    "from qiskit.visualization import array_to_latex\n",
    "from qiskit_transpiler import get_pm\n",
    "from qiskit_ibm_provider import IBMProvider"
   ],
   "metadata": {
    "collapsed": false,
    "ExecuteTime": {
     "end_time": "2023-11-06T16:30:57.633634Z",
     "start_time": "2023-11-06T16:30:57.345647Z"
    }
   },
   "id": "affb45fac08e8932"
  },
  {
   "cell_type": "code",
   "execution_count": 2,
   "id": "initial_id",
   "metadata": {
    "collapsed": true,
    "ExecuteTime": {
     "end_time": "2023-11-06T16:30:58.689259Z",
     "start_time": "2023-11-06T16:30:58.675056Z"
    }
   },
   "outputs": [],
   "source": [
    "def make_circuit(noise_factor):\n",
    "    q = 0\n",
    "    t = 0.8765\n",
    "    params = [0.0343,0.73443]\n",
    "    circ = QuantumCircuit(1)\n",
    "    circ.h(q)\n",
    "    for _ in range(noise_factor):\n",
    "        circ.rz(-params[1], q)\n",
    "        circ.rx(2 * params[0] * t, q)\n",
    "        circ.rz(params[1], q)\n",
    "        circ.rz(-params[1], q)\n",
    "        circ.rx(-2 * params[0] * t, q)\n",
    "        circ.rz(params[1], q)\n",
    "    circ.rz(-params[1], q)\n",
    "    circ.rx(2 * params[0] * t, q)\n",
    "    circ.rz(params[1], q)\n",
    "    circ.h(q)\n",
    "    return circ\n",
    "\n",
    "def execute_and_get_statevector(circ):\n",
    "    backend = Aer.get_backend('statevector_simulator')\n",
    "    return execute(circ,backend).result().get_statevector()"
   ]
  },
  {
   "cell_type": "code",
   "execution_count": 3,
   "outputs": [],
   "source": [
    "results = []"
   ],
   "metadata": {
    "collapsed": false,
    "ExecuteTime": {
     "end_time": "2023-11-06T16:31:00.246603Z",
     "start_time": "2023-11-06T16:31:00.236923Z"
    }
   },
   "id": "52d408b2fef51f59"
  },
  {
   "cell_type": "code",
   "execution_count": 4,
   "outputs": [
    {
     "name": "stderr",
     "output_type": "stream",
     "text": [
      "C:\\Users\\Admin\\.conda\\envs\\simuq\\lib\\site-packages\\qiskit\\visualization\\circuit\\matplotlib.py:266: FutureWarning: The default matplotlib drawer scheme will be changed to \"iqp\" in a following release. To silence this warning, specify the current default explicitly as style=\"clifford\", or the new default as style=\"iqp\".\n",
      "  self._style, def_font_ratio = load_style(self._style)\n"
     ]
    },
    {
     "data": {
      "text/plain": "<Figure size 519.897x117.056 with 1 Axes>",
      "image/png": "[encoded data removed]"
     },
     "execution_count": 4,
     "metadata": {},
     "output_type": "execute_result"
    }
   ],
   "source": [
    "circ = make_circuit(0)\n",
    "circ.draw('mpl')"
   ],
   "metadata": {
    "collapsed": false,
    "ExecuteTime": {
     "end_time": "2023-11-06T16:31:01.342789Z",
     "start_time": "2023-11-06T16:31:01.042507Z"
    }
   },
   "id": "ae08b59d030e5f93"
  },
  {
   "cell_type": "code",
   "execution_count": 5,
   "outputs": [
    {
     "data": {
      "text/plain": "<IPython.core.display.Latex object>",
      "text/latex": "$$\n\n\\begin{bmatrix}\n0.9995481135 - 0.0223104893 i & -0.0201447482  \\\\\n \\end{bmatrix}\n$$"
     },
     "execution_count": 5,
     "metadata": {},
     "output_type": "execute_result"
    }
   ],
   "source": [
    "array_to_latex(execute_and_get_statevector(circ))"
   ],
   "metadata": {
    "collapsed": false,
    "ExecuteTime": {
     "end_time": "2023-11-06T16:31:04.030210Z",
     "start_time": "2023-11-06T16:31:03.778225Z"
    }
   },
   "id": "5ab7462465f2632d"
  },
  {
   "cell_type": "code",
   "execution_count": 6,
   "outputs": [
    {
     "name": "stderr",
     "output_type": "stream",
     "text": [
      "C:\\Users\\Admin\\.conda\\envs\\simuq\\lib\\site-packages\\qiskit\\visualization\\circuit\\matplotlib.py:266: FutureWarning: The default matplotlib drawer scheme will be changed to \"iqp\" in a following release. To silence this warning, specify the current default explicitly as style=\"clifford\", or the new default as style=\"iqp\".\n",
      "  self._style, def_font_ratio = load_style(self._style)\n"
     ]
    },
    {
     "data": {
      "text/plain": "<Figure size 1021.56x117.056 with 1 Axes>",
      "image/png": "[encoded data removed]"
     },
     "execution_count": 6,
     "metadata": {},
     "output_type": "execute_result"
    }
   ],
   "source": [
    "circ = make_circuit(1)\n",
    "circ.draw('mpl')"
   ],
   "metadata": {
    "collapsed": false,
    "ExecuteTime": {
     "end_time": "2023-11-06T16:31:14.724706Z",
     "start_time": "2023-11-06T16:31:14.685341Z"
    }
   },
   "id": "a562dd8465ceaacf"
  },
  {
   "cell_type": "code",
   "execution_count": 7,
   "outputs": [
    {
     "data": {
      "text/plain": "<IPython.core.display.Latex object>",
      "text/latex": "$$\n\n\\begin{bmatrix}\n0.9995481135 - 0.0223104893 i & -0.0201447482  \\\\\n \\end{bmatrix}\n$$"
     },
     "execution_count": 7,
     "metadata": {},
     "output_type": "execute_result"
    }
   ],
   "source": [
    "array_to_latex(execute_and_get_statevector(circ))"
   ],
   "metadata": {
    "collapsed": false,
    "ExecuteTime": {
     "end_time": "2023-11-06T16:31:18.922610Z",
     "start_time": "2023-11-06T16:31:18.879049Z"
    }
   },
   "id": "f4db0d6d902ba1c5"
  },
  {
   "cell_type": "code",
   "execution_count": 8,
   "outputs": [
    {
     "data": {
      "text/plain": "<Figure size 1523.23x117.056 with 1 Axes>",
      "image/png": "[encoded data removed]"
     },
     "execution_count": 8,
     "metadata": {},
     "output_type": "execute_result"
    }
   ],
   "source": [
    "circ = make_circuit(2)\n",
    "circ.draw('mpl')"
   ],
   "metadata": {
    "collapsed": false,
    "ExecuteTime": {
     "end_time": "2023-11-06T16:31:27.469160Z",
     "start_time": "2023-11-06T16:31:27.392103Z"
    }
   },
   "id": "25316772314a1814"
  },
  {
   "cell_type": "code",
   "execution_count": 9,
   "outputs": [
    {
     "data": {
      "text/plain": "<IPython.core.display.Latex object>",
      "text/latex": "$$\n\n\\begin{bmatrix}\n0.9995481135 - 0.0223104893 i & -0.0201447482  \\\\\n \\end{bmatrix}\n$$"
     },
     "execution_count": 9,
     "metadata": {},
     "output_type": "execute_result"
    }
   ],
   "source": [
    "array_to_latex(execute_and_get_statevector(circ))\n"
   ],
   "metadata": {
    "collapsed": false,
    "ExecuteTime": {
     "end_time": "2023-11-06T16:31:30.633460Z",
     "start_time": "2023-11-06T16:31:30.590688Z"
    }
   },
   "id": "a0159088753d1070"
  },
  {
   "cell_type": "code",
   "execution_count": 20,
   "outputs": [
    {
     "data": {
      "text/plain": "<IPython.core.display.Latex object>",
      "text/latex": "$$\n\n\\begin{bmatrix}\n1 & 0  \\\\\n \\end{bmatrix}\n$$"
     },
     "execution_count": 20,
     "metadata": {},
     "output_type": "execute_result"
    }
   ],
   "source": [
    "test = QuantumCircuit(1)\n",
    "\n",
    "test.h(0)\n",
    "test.rz(0.5,0)\n",
    "test.rx(0.3,0)\n",
    "test.rx(-0.3,0)\n",
    "test.rz(-0.5,0)\n",
    "test.h(0)\n",
    "\n",
    "array_to_latex(execute_and_get_statevector(test))\n"
   ],
   "metadata": {
    "collapsed": false,
    "ExecuteTime": {
     "end_time": "2023-11-06T16:29:28.934201Z",
     "start_time": "2023-11-06T16:29:28.919950Z"
    }
   },
   "id": "b46cf1f6fb7e232f"
  },
  {
   "cell_type": "code",
   "execution_count": 10,
   "outputs": [],
   "source": [
    "with open('../ibm_API_key','r') as file:\n",
    "    token = file.readline()\n",
    "IBMProvider.save_account(token,instance='ibm-q-ncsu/nc-state/quantum-compiler',overwrite=True)\n",
    "provider = IBMProvider()"
   ],
   "metadata": {
    "collapsed": false,
    "ExecuteTime": {
     "end_time": "2023-11-06T16:39:33.483765Z",
     "start_time": "2023-11-06T16:39:32.286677Z"
    }
   },
   "id": "5c9ce95ae49afaa9"
  },
  {
   "cell_type": "code",
   "execution_count": 11,
   "outputs": [
    {
     "data": {
      "text/plain": "<IBMBackend('ibmq_kolkata')>"
     },
     "execution_count": 11,
     "metadata": {},
     "output_type": "execute_result"
    }
   ],
   "source": [
    "backend = provider.get_backend('ibmq_kolkata')\n",
    "backend"
   ],
   "metadata": {
    "collapsed": false,
    "ExecuteTime": {
     "end_time": "2023-11-06T16:33:27.590109Z",
     "start_time": "2023-11-06T16:33:27.550593Z"
    }
   },
   "id": "adb276d7044ad3ef"
  },
  {
   "cell_type": "code",
   "execution_count": 12,
   "outputs": [],
   "source": [
    "pm = get_pm(backend)"
   ],
   "metadata": {
    "collapsed": false
   }
  },
  {
   "cell_type": "code",
   "execution_count": 13,
   "outputs": [],
   "source": [
    "circ_pm = pm.run(circ)\n"
   ],
   "metadata": {
    "collapsed": false
   },
   "id": "5f76d8a7c68b5dd3"
  },
  {
   "cell_type": "code",
   "execution_count": 15,
   "outputs": [
    {
     "data": {
      "text/plain": "<IPython.core.display.Latex object>",
      "text/latex": "$$\n\n\\begin{bmatrix}\n0.9995481135 - 0.0223104893 i & -0.0201447482  \\\\\n \\end{bmatrix}\n$$"
     },
     "execution_count": 15,
     "metadata": {},
     "output_type": "execute_result"
    }
   ],
   "source": [
    "array_to_latex(execute_and_get_statevector(circ_pm))"
   ],
   "metadata": {
    "collapsed": false
   }
  }
 ],
 "metadata": {
  "kernelspec": {
   "display_name": "Python 3",
   "language": "python",
   "name": "python3"
  },
  "language_info": {
   "codemirror_mode": {
    "name": "ipython",
    "version": 2
   },
   "file_extension": ".py",
   "mimetype": "text/x-python",
   "name": "python",
   "nbconvert_exporter": "python",
   "pygments_lexer": "ipython2",
   "version": "2.7.6"
  }
 },
 "nbformat": 4,
 "nbformat_minor": 5
}
