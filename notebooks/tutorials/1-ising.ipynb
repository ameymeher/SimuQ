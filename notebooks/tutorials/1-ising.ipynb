{
 "cells": [
  {
   "attachments": {},
   "cell_type": "markdown",
   "id": "5a5028b2",
   "metadata": {},
   "source": [
    "# Simulation of Ising models on multiple devices\n",
    "\n",
    "In this notebook, we investigate the simulation of Ising model using SimuQ. \n",
    "\n",
    "## Ising model\n",
    "\n",
    "An Ising model is a statistical model to study the magnetism of materials. \n",
    "\n",
    "<div> <img src=\"imgs/ising.png\" width=\"300\"/> </div> \n",
    "\n",
    "It contains $N$ qubit sites forming a lattice represented by a graph $G=(V, E)$. The Hamiltonian in our consideration is $$H=\\sum_{(j, k)\\in E}J_{jk} Z_jZ_k+\\sum_{j=1}^{N} h_jX_j.$$ Here $J_{jk}Z_jZ_k$ represents the interaction between sites $j$ and $k$ and $J_{jk}$ is the interaction strength. For $J_{jk}>0$, it represents ferromagnetic material, and $J_{jk}<0 $ represents anti-ferromagnetic material. We also consider an external magnetic field acting $h_j X_j$ on site $j$ in an orthogonal direction. \n",
    "\n",
    "We program the Ising model in SimuQ with Hamiltonian Modeling Language."
   ]
  },
  {
   "cell_type": "code",
   "execution_count": 1,
   "id": "ba3b27d2",
   "metadata": {},
   "outputs": [],
   "source": [
    "from simuq import QSystem\n",
    "from simuq import Qubit\n",
    "\n",
    "\n",
    "def ising(N, T, J, h):\n",
    "    qs = QSystem()\n",
    "    q = [Qubit(qs) for _ in range(N)]\n",
    "    H = 0\n",
    "    for j in range(N):\n",
    "        for k in range(N):\n",
    "            H += J[j, k] * q[j].Z * q[k].Z\n",
    "    for j in range(N):\n",
    "        H += h[j] * q[j].X\n",
    "    qs.add_evolution(H, T)\n",
    "    return qs"
   ]
  },
  {
   "cell_type": "markdown",
   "id": "3d00f41b",
   "metadata": {},
   "source": [
    "We consider two types of Ising models in this notebook, with chain or cycle topologies, and let $N=6$ and $T=1$.\n",
    "\n",
    "For simplicity, we set the interaction strength and external field strength to be $1$."
   ]
  },
  {
   "cell_type": "code",
   "execution_count": 2,
   "id": "1ceb66bd",
   "metadata": {},
   "outputs": [],
   "source": [
    "import numpy as np\n",
    "\n",
    "N, T = 6, 1\n",
    "\n",
    "h = np.ones(N)\n",
    "J_chain = np.zeros((N, N))\n",
    "for j in range(N - 1):\n",
    "    J_chain[j, j + 1] = 1\n",
    "ising_chain = ising(N, T, J_chain, h)\n",
    "\n",
    "J_cycle = np.copy(J_chain)\n",
    "J_cycle[0, N - 1] = 1\n",
    "ising_cycle = ising(N, T, J_cycle, h)"
   ]
  },
  {
   "cell_type": "markdown",
   "id": "d9e2d129",
   "metadata": {},
   "source": [
    "We can classically simulate the evolution of Ising models via SimuQ's QuTiP backend, which translates the above systems and simulate them by QuTiP. To do so, we declare a QuTiP provider first."
   ]
  },
  {
   "cell_type": "code",
   "execution_count": 3,
   "id": "94dfe794",
   "metadata": {},
   "outputs": [],
   "source": [
    "from simuq.qutip import QuTiPProvider\n",
    "\n",
    "qtpp = QuTiPProvider()"
   ]
  },
  {
   "cell_type": "markdown",
   "id": "02a5225f",
   "metadata": {},
   "source": [
    "We first simulate ``Ising_cycle``. The following command asks the QuTiP provider to translate the system into QuTiP and store the results internally."
   ]
  },
  {
   "cell_type": "code",
   "execution_count": 4,
   "id": "364d15d5",
   "metadata": {},
   "outputs": [
    {
     "name": "stdout",
     "output_type": "stream",
     "text": [
      "Compiled.\n"
     ]
    }
   ],
   "source": [
    "qtpp.compile(ising_cycle)"
   ]
  },
  {
   "cell_type": "markdown",
   "id": "c1ebb04e",
   "metadata": {},
   "source": [
    "Then we execute the simulation and retrieve the results as the ground truth data. The results are stored in a dictionary. To extract the probability of obtaining the ground state, we access the dictionary with key ``'000000'``."
   ]
  },
  {
   "cell_type": "code",
   "execution_count": 5,
   "id": "54bb6664",
   "metadata": {},
   "outputs": [
    {
     "name": "stdout",
     "output_type": "stream",
     "text": [
      "Solved.\n"
     ]
    }
   ],
   "source": [
    "qtpp.run()"
   ]
  },
  {
   "cell_type": "code",
   "execution_count": 6,
   "id": "2bef008c",
   "metadata": {},
   "outputs": [
    {
     "name": "stdout",
     "output_type": "stream",
     "text": [
      "0.30216309739834746\n"
     ]
    }
   ],
   "source": [
    "res_cycle_gt = qtpp.results()\n",
    "print(res_cycle_gt[\"000000\"])"
   ]
  },
  {
   "cell_type": "markdown",
   "id": "e5770350",
   "metadata": {},
   "source": [
    "We do the same for ``Ising_chain``."
   ]
  },
  {
   "cell_type": "code",
   "execution_count": 7,
   "id": "99326ef8",
   "metadata": {},
   "outputs": [
    {
     "name": "stdout",
     "output_type": "stream",
     "text": [
      "Compiled.\n",
      "Solved.\n"
     ]
    }
   ],
   "source": [
    "qtpp.compile(ising_chain)\n",
    "qtpp.run()\n",
    "res_chain_gt = qtpp.results()"
   ]
  },
  {
   "cell_type": "markdown",
   "id": "af4d071e",
   "metadata": {},
   "source": [
    "In the following, we will use total variational distance to evaluate the simulation results, defined for two distribution $P_1, P_2$ as $$TV(P_1, P_2)=\\frac{1}{2}\\sum_x |P_1[x]-P_2[x]|.$$ We realize it as a function:"
   ]
  },
  {
   "cell_type": "code",
<<<<<<< HEAD
   "execution_count": 8,
=======
   "execution_count": 7,
>>>>>>> 42f16c8 (thesis folder created)
   "id": "89f9fa40",
   "metadata": {},
   "outputs": [],
   "source": [
    "def tv(P1, P2):\n",
    "    keys = set(P1.keys()).union(P2.keys())\n",
    "    s = 0\n",
    "    for k in keys:\n",
    "        if k not in P1.keys():\n",
    "            s += P2[k]\n",
    "        elif k not in P2.keys():\n",
    "            s += P1[k]\n",
    "        else:\n",
    "            s += abs(P1[k] - P2[k])\n",
    "    return s / 2"
   ]
  },
  {
   "cell_type": "markdown",
<<<<<<< HEAD
=======
   "id": "e1a4e4ae",
   "metadata": {},
   "source": [
    "Similarly, we can classically simulate the chain Ising model. We repeat the above procedures for it."
   ]
  },
  {
   "cell_type": "code",
   "execution_count": 8,
   "id": "736705ba",
   "metadata": {},
   "outputs": [
    {
     "name": "stdout",
     "output_type": "stream",
     "text": [
      "Compiled.\n",
      "Solved.\n",
      "0.13909131418319828\n"
     ]
    }
   ],
   "source": [
    "qtpp.compile(Ising_chain)\n",
    "qtpp.run()\n",
    "res_chain_gt = qtpp.results()\n",
    "print(res_chain_gt[\"000000\"])"
   ]
  },
  {
   "cell_type": "markdown",
>>>>>>> 42f16c8 (thesis folder created)
   "id": "918df311",
   "metadata": {},
   "source": [
    "## Deploy on multiple platforms"
   ]
  },
  {
   "cell_type": "markdown",
   "id": "7181d9bb",
   "metadata": {},
   "source": [
    "**CAVEAT: quantum computers are expensive, quera/ionq through braket is $(0.3+0.01*shots)）**"
   ]
  },
  {
   "cell_type": "markdown",
   "id": "e55ed3c5",
   "metadata": {},
   "source": [
    "### QuEra's Neutral Atom Arrays\n",
    "\n",
    "We can access QuEra's devices via Amazon Braket. To install and configure Amazon Braket, please refer to [SimuQ README](https://github.com/PicksPeng/SimuQ/blob/main/README.md).\n",
    "\n",
    "We first create a Braket provider to manage the interactions with SimuQ compiler. "
   ]
  },
  {
   "cell_type": "code",
   "execution_count": 9,
   "id": "6ee0d7ed",
   "metadata": {},
   "outputs": [],
   "source": [
    "from simuq.braket import BraketProvider\n",
    "\n",
    "bp = BraketProvider()"
   ]
  },
  {
   "cell_type": "markdown",
   "id": "640045d0",
   "metadata": {},
   "source": [
    "You can check the supported devices and corresponding AAIS in the Braket provider. "
   ]
  },
  {
   "cell_type": "code",
   "execution_count": 10,
   "id": "419f8bf7",
   "metadata": {},
   "outputs": [
    {
     "name": "stdout",
     "output_type": "stream",
     "text": [
      "Hardware provider: ionq  -  Device name: Harmony  -  AAIS supports: ['heisenberg']\n",
      "Hardware provider: ionq  -  Device name: Aria-1  -  AAIS supports: ['heisenberg']\n",
      "Hardware provider: ionq  -  Device name: Aria-2  -  AAIS supports: ['heisenberg']\n",
      "Hardware provider: quera  -  Device name: Aquila  -  AAIS supports: ['rydberg1d_global', 'rydberg2d_global']\n"
     ]
    }
   ],
   "source": [
    "bp.supported_backends()"
   ]
  },
  {
   "cell_type": "markdown",
   "id": "f841b474",
   "metadata": {},
   "source": [
    "Here we will use QuEra's device named Aquila, with the 2D Rydberg AAIS with global laser control. To compile ``Ising_cycle`` to it, we execute"
   ]
  },
  {
   "cell_type": "code",
   "execution_count": 11,
   "id": "43ef260e",
   "metadata": {},
   "outputs": [],
   "source": [
    "bp.compile(ising_cycle, provider=\"quera\", device=\"Aquila\", aais=\"rydberg2d_global\", tol=1)"
   ]
  },
  {
   "cell_type": "markdown",
   "id": "a72d9465",
   "metadata": {},
   "source": [
    "We can visualize the compilation results that configure QuEra devices by executing"
   ]
  },
  {
   "cell_type": "code",
   "execution_count": 12,
   "id": "81a4cbaa",
   "metadata": {},
   "outputs": [
    {
     "data": {
<<<<<<< HEAD
      "image/png": "iVBORw0KGgoAAAANSUhEUgAAAYoAAAGBCAYAAAB4ufbTAAAAOXRFWHRTb2Z0d2FyZQBNYXRwbG90bGliIHZlcnNpb24zLjguMCwgaHR0cHM6Ly9tYXRwbG90bGliLm9yZy81sbWrAAAACXBIWXMAAA9hAAAPYQGoP6dpAAAuXElEQVR4nO3dfVRTZ54H8G8IEkQlSEFeZhBEC1orSLWk9NRRt1FgXY5Mz7bKuIoc1I7bztbFWmXcik5f0I5aO5Uts1ZFZ2d9O604u7aoQ2UYW9QVZH2peoChIkrwrSQEK7TJs39QY1PgkUBCYvh+zrlHc+9zn/zu5XK/3JfcKIQQAkRERF3wcHYBRETk2hgUREQkxaAgIiIpBgUREUkxKIiISIpBQUREUgwKIiKSYlAQEZEUg4KIiKQYFEREJOV2QVFaWoqUlBSEhoZCoVCgsLDQoe+3evVqKBQKq2H06NEOfU8ior7kdkHR0tKC2NhY5OXl9dl7jh07Fg0NDZbh2LFjffbeRESO5unsAuwtOTkZycnJXU5vbW3FypUrsWvXLjQ1NeHxxx/HunXrMGXKlB6/p6enJ4KDg3s8PxGRK3O7I4oHefnll1FWVobdu3fjzJkzeP7555GUlISqqqoe91lVVYXQ0FBERkZizpw5qKurs2PFRETOpXDnx4wrFArs378fqampAIC6ujpERkairq4OoaGhlnZarRbx8fF4++23bX6PTz/9FEajEdHR0WhoaMCaNWtw9epVnDt3DkOGDLHXohAROY3bnXqSOXv2LEwmE6KioqzGt7a24pFHHgEAXLx4EWPGjJH2s3z5cqxduxYArE5zxcTEQKPRIDw8HHv37kVmZqadl4CIAMBkMuHbb791dhkPNaVSCU9PTygUige27VdBYTQaoVQqUV5eDqVSaTVt8ODBAIDIyEhcuHBB2s+9UOmMn58foqKiUF1d3fuCiagDo9GI+vp6uPHJkD7j4+ODkJAQeHl5Sdv1q6CIi4uDyWTC9evXMWnSpE7beHl59er2VqPRiJqaGsydO7fHfRBR50wmE+rr6+Hj44PAwMBu/TVMHQkh0NbWhhs3bqC2thaPPvooPDy6vmTtdkFhNBqt/pqvra1FZWUl/P39ERUVhTlz5mDevHnYsGED4uLicOPGDRQXFyMmJgYzZsyw+f1effVVpKSkIDw8HNeuXUNOTg6USiXS0tLsuVhEBODbb7+FEAKBgYEYOHCgs8t5qA0cOBADBgzA5cuX0dbWBm9v7y7bul1QnDp1ClOnTrW8zsrKAgCkp6ejoKAA27dvx5tvvomlS5fi6tWrCAgIwFNPPYV/+Id/6NH71dfXIy0tDbdu3UJgYCCeeeYZHD9+HIGBgXZZHiLqiEcS9iE7ivght77riYjcy927d1FbW4sRI0ZI/wKm7unu+ux3n6MgIkJzM/Dxx8CHH7b/29zs0LcTQmDRokXw9/eHQqGAn58flixZYpkeERGBTZs2WV7b4/FD8+fPt3w0oLfc7tQTEVGXWlqAlSuBLVuAO3fuj/fxARYuBN56Cxg0yO5vW1RUhIKCApSUlCAyMhIeHh4P1TUWtwgKs9mMa9euYciQITx3SeTG2traYDabYTKZYDKZbJu5pQUezz4LVFRAYTZbT7tzB+L994HPP4e5uNjuYVFVVYWQkBBoNBqr8T9chnvL9cNpbW1tGDBggNP3a24RFNeuXUNYWJizyyAiBwsPD0d+fj6++eYbm+cN27ABwzoLie8pzGaIigrcfPFFXFm6tLelWqxevRoHDx4E0P5cuJCQEISEhCAqKgpLv3+ftrY21NfX4/Tp05b5amtrcebMGcTExKCxsRFLly7F4cOH4eHhgUmTJuG9995DREQEgPZQWbZsGbZt2walUonMzEy7fs7ELYLi3qMyrly5Al9fXydXQ0SO0tbWhsbGRkRERNh2Mbu5GR5/+lOXIXGPwmzGsD/9CQH5+cD3H8LtrZ07d+L999/Hhx9+iOPHj0OpVGLWrFkYNmwY4uLiALR/fuunP/2p5TXQHopAewgkJiYiISEBf/3rX+Hp6Yk333wTSUlJOHPmDLy8vLBhwwYUFBRg27ZtGDNmDDZs2ID9+/fj7/7u7+yyDG4RFPcOy3x9fRkURG7s7t27uHHjBpRKZYenK0h99pn1NQkJxZ07UBYXA88918Mqrfn7+0OtVkOpVOInP/lJ+3t8/901P1wGDw8Pq9f3/r9v3z6YzWZ8+OGHln3d9u3b4efnh5KSEkyfPh2bNm1CdnY2nvu+5vz8fBw6dMgu9QNuEhRERFK3bzu2vQP93//9H6qrqzs8ZPTu3buoqamBXq9HQ0OD1fUPT09PTJw40W6nnxgUROT+/P0d296BWlpaMGHCBPzxj3/sMK2vPtjLz1EQkfubNq39Ftju8PEBpk93bD02iIuLQ1VVFYYNG4ZRo0ZZDWq1Gmq1GiEhIThx4oRlnu+++w7l5eV2q4FBQUTub8iQ9s9JPOi6hlLZ3s5OF7Lt4Re/+AUCAgIwc+ZM/PWvf0VtbS1KSkrwL//yL6ivrwcAvPLKK1i7di0KCwtx8eJF/PM//zOamprsVgODgoj6h7feAp54ouuwUCrbp7/1Vt/W9QA+Pj4oLS3F8OHD8dxzz2HMmDHIzMzE3bt3LTfvLF26FHPnzkV6ejoSEhIwZMgQ/PznP7dbDW7xrCeDwQC1Wg29Xs+7nuyhuRk4cqT9gp6/f/thO7+tj7rSh9tLr5/15KRPZveEyWTC6dOnERcXZ9sdXjbo7vrkxWy67yH6JSIX8DBuL4MGAZs2AW++CRw+fD/cpk93qdNNroZBQe1aWoCpU4GKCuDHj0a4cwfYvBn44gvg6FHX++Wnvvewby+DB9vtcxL9Aa9RULuVKzv/pb/HZGqfvnJl39ZFronbS7/CoKD2c8xbtnT9S3+PydTezmjsm7rINXF76XcYFNR+IbKbjzfAnTvt53ap/+L20u8wKOihfrwBOYELbC9ucLOmS+juemRQ0EP9eANyAiduL/duE21ra7Nbn/3Zne+PDAcMGCBtx7ue6P7jDbpzOsHFHm9ATuDE7cXT0xM+Pj64ceMGBgwYAA8P9/1b996XGN29e9fun6MQQuDOnTu4fv06/Pz8Htg/g4LuP95g82b5BUoXfLwBOYETtxeFQoGQkBDU1tbi8uXLduvXFZnNZty8eRNfffWVwwLRz88PwcHBD2zHT2ZTO9l98cD9xxu46n3x1LecvL2YzWa3P/1kNBoxceJEnDp1CoMd8MfZgAEDun2kwqCg+x7GT9qS83B7cShX2q8xKKgjo5GPN6Du4/biEK60X7P5xFdpaSlSUlIQGhoKhUKBwsJCafv58+dbvvbvh8PYsWMtbVavXt1h+ujRo21eGLKTe483WLCg/V/+0pMMtxe3Z3NQtLS0IDY2Fnl5ed1q/95776GhocEyXLlyBf7+/nj++eet2o0dO9aq3bFjx2wtjYiIHMDmu56Sk5ORnJzc7fb3voHpnsLCQnz99dfIyMiwLsTTs1tX34mIqG/1+U3IW7duhVarRXh4uNX4qqoqhIaGIjIyEnPmzEFdXV2XfbS2tsJgMFgNRETkGH0aFNeuXcOnn36KBQsWWI3XaDQoKChAUVERPvjgA9TW1mLSpElobm7utJ/c3FzLkYparUZYWFhflE9E1C/16q4nhUKB/fv3IzU1tVvtc3NzsWHDBly7dg1eXl5dtmtqakJ4eDg2btyIzMzMDtNbW1vR2tpqeW0wGBAWFuYSdwcQEdmDK9311GefzBZCYNu2bZg7d640JID2TwtGRUWhurq60+kqlQoqlcoRZRIR0Y/02amnv/zlL6iuru70COHHjEYjampqEBIS0geVERGRjM1BYTQaUVlZicrKSgBAbW0tKisrLRefs7OzMW/evA7zbd26FRqNBo8//niHaa+++ir+8pe/4KuvvsIXX3yBn//851AqlUhLS7O1PCIisjObTz2dOnUKU6dOtbzOysoCAKSnp6OgoAANDQ0d7ljS6/X46KOP8N5773XaZ319PdLS0nDr1i0EBgbimWeewfHjxxEYGGhreUREZGd8hAcRkQtypf2a+z7MnYiI7IJBQUREUgwKIiKSYlAQEZEUg4KIiKQYFEREJMWgICIiKQYFERFJMSiIiEiKQUFERFIMCiIikmJQEBGRFIOCiIikGBRERCTFoCAiIikGBRERSTEoiIhIikFBRERSDAoiIpJiUBARkRSDgoiIpBgUREQkxaAgIiIpBgUREUkxKIiISIpBQUREUgwKIiKSsjkoSktLkZKSgtDQUCgUChQWFkrbl5SUQKFQdBh0Op1Vu7y8PERERMDb2xsajQYnT560tTQiInIAm4OipaUFsbGxyMvLs2m+S5cuoaGhwTIMGzbMMm3Pnj3IyspCTk4OKioqEBsbi8TERFy/ft3W8oiIyM48bZ0hOTkZycnJNr/RsGHD4Ofn1+m0jRs3YuHChcjIyAAA5Ofn4+DBg9i2bRtWrFhh83sREZH99Nk1ivHjxyMkJATTpk3D559/bhnf1taG8vJyaLXa+0V5eECr1aKsrKyvyiMioi44PChCQkKQn5+Pjz76CB999BHCwsIwZcoUVFRUAABu3rwJk8mEoKAgq/mCgoI6XMe4p7W1FQaDwWogIiLHsPnUk62io6MRHR1tef3000+jpqYG7777Lv7whz/0qM/c3FysWbPGXiUSEZGEU26PjY+PR3V1NQAgICAASqUSjY2NVm0aGxsRHBzc6fzZ2dnQ6/WW4cqVKw6vmYiov3JKUFRWViIkJAQA4OXlhQkTJqC4uNgy3Ww2o7i4GAkJCZ3Or1Kp4OvrazUQEZFj2HzqyWg0Wo4GAKC2thaVlZXw9/fH8OHDkZ2djatXr2Lnzp0AgE2bNmHEiBEYO3Ys7t69iw8//BCfffYZDh8+bOkjKysL6enpmDhxIuLj47Fp0ya0tLRY7oIiIiLnsTkoTp06halTp1peZ2VlAQDS09NRUFCAhoYG1NXVWaa3tbVh6dKluHr1Knx8fBATE4M///nPVn3MmjULN27cwKpVq6DT6TB+/HgUFRV1uMBNRER9TyGEEM4uorcMBgPUajX0ej1PQxGRW3Cl/Rqf9URERFIMCiIikmJQEBGRFIOCiIikGBRERCTFoCAiIikGBRERSTEoiIhIikFBRERSDAoiIpJiUBARkRSDgoiIpBgUREQkxaAgIiIpBgUREUkxKIiISIpBQUREUgwKIiKSYlAQEZEUg4KIiKQYFEREJMWgICIiKQYFERFJMSiIiEiKQUFERFIMCiIikmJQEBGRFIOCiIikbA6K0tJSpKSkIDQ0FAqFAoWFhdL2H3/8MaZNm4bAwED4+voiISEBhw4dsmqzevVqKBQKq2H06NG2lkZERA5gc1C0tLQgNjYWeXl53WpfWlqKadOm4ZNPPkF5eTmmTp2KlJQUnD592qrd2LFj0dDQYBmOHTtma2lEROQAnrbOkJycjOTk5G6337Rpk9Xrt99+GwcOHMB///d/Iy4u7n4hnp4IDg62tRwiInKwPr9GYTab0dzcDH9/f6vxVVVVCA0NRWRkJObMmYO6urou+2htbYXBYLAaiIjIMfo8KNavXw+j0YgXXnjBMk6j0aCgoABFRUX44IMPUFtbi0mTJqG5ubnTPnJzc6FWqy1DWFhYX5VPRNTvKIQQosczKxTYv38/UlNTu9X+v/7rv7Bw4UIcOHAAWq22y3ZNTU0IDw/Hxo0bkZmZ2WF6a2srWltbLa8NBgPCwsKg1+vh6+tr83IQEbkag8EAtVrtEvs1m69R9NTu3buxYMEC7Nu3TxoSAODn54eoqChUV1d3Ol2lUkGlUjmiTCIi+pE+OfW0a9cuZGRkYNeuXZgxY8YD2xuNRtTU1CAkJKQPqiMiIhmbjyiMRqPVX/q1tbWorKyEv78/hg8fjuzsbFy9ehU7d+4E0H66KT09He+99x40Gg10Oh0AYODAgVCr1QCAV199FSkpKQgPD8e1a9eQk5MDpVKJtLQ0eywjERH1gs1HFKdOnUJcXJzl1tasrCzExcVh1apVAICGhgarO5b+4z/+A9999x1eeuklhISEWIZXXnnF0qa+vh5paWmIjo7GCy+8gEceeQTHjx9HYGBgb5ePiIh6qVcXs12FK130ISKyB1far/FZT0REJMWgICIiKQYFERFJMSiIiEiKQUFERFIMCiIikmJQEBGRFIOCiIikGBRERCTFoCAiIikGBRERSTEoiIhIikFBRERSDAoiIpJiUBARkRSDgoiIpBgUREQkxaAgIiIpBgUREUkxKIiISIpBQUREUgwKIiKSYlAQEZEUg4KIiKQYFEREJMWgICIiKQYFERFJ2RwUpaWlSElJQWhoKBQKBQoLCx84T0lJCZ544gmoVCqMGjUKBQUFHdrk5eUhIiIC3t7e0Gg0OHnypK2lERGRA9gcFC0tLYiNjUVeXl632tfW1mLGjBmYOnUqKisrsWTJEixYsACHDh2ytNmzZw+ysrKQk5ODiooKxMbGIjExEdevX7e1PCIisjOFEEL0eGaFAvv370dqamqXbZYvX46DBw/i3LlzlnGzZ89GU1MTioqKAAAajQZPPvkkNm/eDAAwm80ICwvDr371K6xYseKBdRgMBqjVauj1evj6+vZ0cYiIXIYr7dccfo2irKwMWq3WalxiYiLKysoAAG1tbSgvL7dq4+HhAa1Wa2nzY62trTAYDFYDERE5hsODQqfTISgoyGpcUFAQDAYDvvnmG9y8eRMmk6nTNjqdrtM+c3NzoVarLUNYWJjD6ici6u8eyruesrOzodfrLcOVK1ecXRIRkdvydPQbBAcHo7Gx0WpcY2MjfH19MXDgQCiVSiiVyk7bBAcHd9qnSqWCSqVyWM1ERHSfw48oEhISUFxcbDXuyJEjSEhIAAB4eXlhwoQJVm3MZjOKi4stbYiIyHlsDgqj0YjKykpUVlYCaL/9tbKyEnV1dQDaTwvNmzfP0v6Xv/wl/va3v+G1117DxYsX8e///u/Yu3cv/vVf/9XSJisrC1u2bMGOHTtw4cIFLF68GC0tLcjIyOjl4hERUa8JGx09elQA6DCkp6cLIYRIT08XkydP7jDP+PHjhZeXl4iMjBTbt2/v0O/7778vhg8fLry8vER8fLw4fvx4t2vS6/UCgNDr9bYuDhGRS3Kl/VqvPkfhKlzpfmMiIntwpf3aQ3nXExER9R2H3/Xk0pqbgSNHgNu3AX9/YNo0YMgQZ1dFRO7CTfYx/TMoWlqAlSuBLVuAO3fuj/fxARYuBN56Cxg0yHn1EdHDzc32Mf3vGkVLCzB1KlBRAZhMHacrlcATTwBHjz5UP0gichF22sfwGoUzrVzZ9Q8QaB9fUdHejojIVm64j+lfRxTNzUBwsPWhYFd8fIDGRmDwYPsVSkTuzY77GB5ROMuRI937AQLt7Q4fdmw9RORe3HQf07+C4vZtx7Ynov7NTfcx/Sso/P0d256I+jc33cf0r6CYNq39vGB3+PgA06c7th4ici9uuo/pX0ExZEj7PcxKpbydUtnejheyicgWbrqP6V93PQH8HAURORY/R+EGBg1q/wG9/HLHQ0Qfn/bxDAki6ik33Mf0vyOKHzIa229Pu/cclunTH5pDQSJ6CPRiH+NKRxT9OyiIiFyUK+3X+t+pJyIisgmDgoiIpBgUREQkxaAgIiIpBgUREUkxKIiISIpBQUREUgwKIiKSYlAQEZEUg4KIiKQYFEREJMWgICIiqR4FRV5eHiIiIuDt7Q2NRoOTJ0922XbKlClQKBQdhhkzZljazJ8/v8P0pKSknpRGRER25mnrDHv27EFWVhby8/Oh0WiwadMmJCYm4tKlSxg2bFiH9h9//DHa2tosr2/duoXY2Fg8//zzVu2SkpKwfft2y2uVSmVraURE5AA2H1Fs3LgRCxcuREZGBh577DHk5+fDx8cH27Zt67S9v78/goODLcORI0fg4+PTIShUKpVVu6FDh/ZsiYiIyK5sCoq2tjaUl5dDq9Xe78DDA1qtFmVlZd3qY+vWrZg9ezYG/ejbnUpKSjBs2DBER0dj8eLFuHXrli2lERGRg9h06unmzZswmUwICgqyGh8UFISLFy8+cP6TJ0/i3Llz2Lp1q9X4pKQkPPfccxgxYgRqamrw61//GsnJySgrK4Oyky8pb21tRWtrq+W1wWCwZTGIiMgGNl+j6I2tW7di3LhxiI+Ptxo/e/Zsy//HjRuHmJgYjBw5EiUlJXj22Wc79JObm4s1a9Y4vF4iIrLx1FNAQACUSiUaGxutxjc2NiI4OFg6b0tLC3bv3o3MzMwHvk9kZCQCAgJQXV3d6fTs7Gzo9XrLcOXKle4vBBER2cSmoPDy8sKECRNQXFxsGWc2m1FcXIyEhATpvPv27UNrayv+6Z/+6YHvU19fj1u3biEkJKTT6SqVCr6+vlYDERE5hs13PWVlZWHLli3YsWMHLly4gMWLF6OlpQUZGRkAgHnz5iE7O7vDfFu3bkVqaioeeeQRq/FGoxHLli3D8ePH8dVXX6G4uBgzZ87EqFGjkJiY2MPFIiIie7H5GsWsWbNw48YNrFq1CjqdDuPHj0dRUZHlAnddXR08PKzz59KlSzh27BgOHz7coT+lUokzZ85gx44daGpqQmhoKKZPn4433niDn6UgInIBCiGEcHYRvWUwGKBWq6HX63kaiojcgivt1/isJyIikmJQEBGRFIOCiIikGBRERCTFoCAiIikGBRERSTEoiIhIikFBRERSDAoiIpJiUBARkRSDgoiIpBgUREQkxaAgIiIpBgUREUkxKIiISIpBQUREUgwKIiKSYlAQEZEUg4KIiKQYFEREJMWgICIiKQYFERFJMSiIiEiKQUFERFIMCiIikmJQEBGRFIOCiIikGBRERCTVo6DIy8tDREQEvL29odFocPLkyS7bFhQUQKFQWA3e3t5WbYQQWLVqFUJCQjBw4EBotVpUVVX1pDQiIrIzm4Niz549yMrKQk5ODioqKhAbG4vExERcv369y3l8fX3R0NBgGS5fvmw1/Z133sHvfvc75Ofn48SJExg0aBASExNx9+5d25eIiIjsyuag2LhxIxYuXIiMjAw89thjyM/Ph4+PD7Zt29blPAqFAsHBwZYhKCjIMk0IgU2bNuHf/u3fMHPmTMTExGDnzp24du0aCgsLe7RQRERkPzYFRVtbG8rLy6HVau934OEBrVaLsrKyLuczGo0IDw9HWFgYZs6cifPnz1um1dbWQqfTWfWpVquh0Wi67LO1tRUGg8FqICIix7ApKG7evAmTyWR1RAAAQUFB0Ol0nc4THR2Nbdu24cCBA/jP//xPmM1mPP3006ivrwcAy3y29Jmbmwu1Wm0ZwsLCbFkMIiKygcPvekpISMC8efMwfvx4TJ48GR9//DECAwPx+9//vsd9ZmdnQ6/XW4YrV67YsWIiIvohm4IiICAASqUSjY2NVuMbGxsRHBzcrT4GDBiAuLg4VFdXA4BlPlv6VKlU8PX1tRqIiMgxbAoKLy8vTJgwAcXFxZZxZrMZxcXFSEhI6FYfJpMJZ8+eRUhICABgxIgRCA4OturTYDDgxIkT3e6TiIgcx9PWGbKyspCeno6JEyciPj4emzZtQktLCzIyMgAA8+bNw09+8hPk5uYCAH7zm9/gqaeewqhRo9DU1ITf/va3uHz5MhYsWACg/Y6oJUuW4M0338Sjjz6KESNG4PXXX0doaChSU1Ptt6RERNQjNgfFrFmzcOPGDaxatQo6nQ7jx49HUVGR5WJ0XV0dPDzuH6h8/fXXWLhwIXQ6HYYOHYoJEybgiy++wGOPPWZp89prr6GlpQWLFi1CU1MTnnnmGRQVFXX4YB4REfU9hRBCOLuI3jIYDFCr1dDr9bxeQURuwZX2a3zWExERSTEoiIhIikFBRERSDAoiIpJiUBARkRSDgoiIpBgUREQkxaAgIiIpBgUREUkxKIiISIpBQUREUgwKIiKSYlAQEZEUg4KIiKQYFEREJMWgICIiKQYFERFJMSiIiEiKQUFERFIMCiIikmJQEBGRFIOCiIikGBRERCTFoCAiIikGBRERSTEoiIhIikFBRERSPQqKvLw8REREwNvbGxqNBidPnuyy7ZYtWzBp0iQMHToUQ4cOhVar7dB+/vz5UCgUVkNSUlJPSiMiIjuzOSj27NmDrKws5OTkoKKiArGxsUhMTMT169c7bV9SUoK0tDQcPXoUZWVlCAsLw/Tp03H16lWrdklJSWhoaLAMu3bt6tkSERGRXSmEEMKWGTQaDZ588kls3rwZAGA2mxEWFoZf/epXWLFixQPnN5lMGDp0KDZv3ox58+YBaD+iaGpqQmFhoe1LAMBgMECtVkOv18PX17dHfRARuRJX2q/ZdETR1taG8vJyaLXa+x14eECr1aKsrKxbfdy5cwfffvst/P39rcaXlJRg2LBhiI6OxuLFi3Hr1i1bSiMiIgfxtKXxzZs3YTKZEBQUZDU+KCgIFy9e7FYfy5cvR2hoqFXYJCUl4bnnnsOIESNQU1ODX//610hOTkZZWRmUSmWHPlpbW9Ha2mp5bTAYbFkMIiKygU1B0Vtr167F7t27UVJSAm9vb8v42bNnW/4/btw4xMTEYOTIkSgpKcGzzz7boZ/c3FysWbOmT2omIurvbDr1FBAQAKVSicbGRqvxjY2NCA4Ols67fv16rF27FocPH0ZMTIy0bWRkJAICAlBdXd3p9OzsbOj1estw5coVWxaDiIhsYFNQeHl5YcKECSguLraMM5vNKC4uRkJCQpfzvfPOO3jjjTdQVFSEiRMnPvB96uvrcevWLYSEhHQ6XaVSwdfX12ogIiLHsPn22KysLGzZsgU7duzAhQsXsHjxYrS0tCAjIwMAMG/ePGRnZ1var1u3Dq+//jq2bduGiIgI6HQ66HQ6GI1GAIDRaMSyZctw/PhxfPXVVyguLsbMmTMxatQoJCYm2mkxiYiop2y+RjFr1izcuHEDq1atgk6nw/jx41FUVGS5wF1XVwcPj/v588EHH6CtrQ3/+I//aNVPTk4OVq9eDaVSiTNnzmDHjh1oampCaGgopk+fjjfeeAMqlaqXi0dERL1l8+coXJEr3W9MRGQPrrRf47OeiIhIikFBRERSDAoiIpJiUBARkRSDgoiIpBgUREQkxaAgIiIpBgUREUkxKIiISIpBQUREUgwKIiKSYlAQEZEUg4KIiKQYFEREJMWgICIiKQYFERFJMSiIiEiKQUFERFIMCiIikmJQEBGRFIOCiIikGBRERCTFoCAiIikGBRERSTEoiIhIikFBRERSns4ugFxQczNw5Ahw+zbg7w9MmwYMGeLsqsiVcZtxawwKuq+lBVi5EtiyBbhz5/54Hx9g4ULgrbeAQYOcVx+5Hm4z/UKPTj3l5eUhIiIC3t7e0Gg0OHnypLT9vn37MHr0aHh7e2PcuHH45JNPrKYLIbBq1SqEhIRg4MCB0Gq1qKqq6klp1FMtLcDUqcDmzda/8ED7682b26e3tDinPnI93Gb6DZuDYs+ePcjKykJOTg4qKioQGxuLxMREXL9+vdP2X3zxBdLS0pCZmYnTp08jNTUVqampOHfunKXNO++8g9/97nfIz8/HiRMnMGjQICQmJuLu3bs9XzKyzcqVQEUFYDJ1Pt1kap++cmXf1kWui9tM/yFsFB8fL1566SXLa5PJJEJDQ0Vubm6n7V944QUxY8YMq3EajUa8+OKLQgghzGazCA4OFr/97W8t05uamoRKpRK7du3qVk16vV4AEHq93tbFISGEMBiE8PERAnjw4OMjRHOzsysmZ+M243CutF+z6Yiira0N5eXl0Gq1lnEeHh7QarUoKyvrdJ6ysjKr9gCQmJhoaV9bWwudTmfVRq1WQ6PRdNlna2srDAaD1UC9cORIx1MHXblzBzh82LH1kOvjNtOv2BQUN2/ehMlkQlBQkNX4oKAg6HS6TufR6XTS9vf+taXP3NxcqNVqyxAWFmbLYtCP3b7t2PbkfrjN9CsP5ecosrOzodfrLcOVK1ecXdLDzd/fse3J/XCb6VdsCoqAgAAolUo0NjZajW9sbERwcHCn8wQHB0vb3/vXlj5VKhV8fX2tBuqFadPab2fsDh8fYPp0x9ZDro/bTL9iU1B4eXlhwoQJKC4utowzm80oLi5GQkJCp/MkJCRYtQeAI0eOWNqPGDECwcHBVm0MBgNOnDjRZZ9kZ0OGtN/zrlTK2ymV7e0GD+6bush1cZvpX2y9+r17926hUqlEQUGB+PLLL8WiRYuEn5+f0Ol0Qggh5s6dK1asWGFp//nnnwtPT0+xfv16ceHCBZGTkyMGDBggzp49a2mzdu1a4efnJw4cOCDOnDkjZs6cKUaMGCG++eabbtXkSncHPLSMRiGefFIIpbLzO1eUyvbpRqOzKyVXwW3GoVxpv2ZzUAghxPvvvy+GDx8uvLy8RHx8vDh+/Lhl2uTJk0V6erpV+71794qoqCjh5eUlxo4dKw4ePGg13Ww2i9dff10EBQUJlUolnn32WXHp0qVu1+NKK/ShZjQK8corHW979PFpH89fePoxbjMO40r7NYUQQjj3mKb3DAYD1Go19Ho9r1fYg9HYfjvjvef2TJ/OUwckx23G7lxpv8agICJyQa60X3sob48lIqK+w6AgIiIpBgUREUkxKIiISIpBQUREUm7xDXf3btziU2SJyF3c25+5wo2pbhEUzc3NAMCnyBKR22luboZarXZqDW7xOQqz2Yxr165hyJAhUCgUverLYDAgLCwMV65ccfq9y87E9XAf18V9XBf3OXpdCCHQ3NyM0NBQeHg49yqBWxxReHh44Kc//ald++RTadtxPdzHdXEf18V9jlwXzj6SuIcXs4mISIpBQUREUgyKH1GpVMjJyYFKpXJ2KU7F9XAf18V9XBf39ad14RYXs4mIyHF4REFERFIMCiIikmJQEBGRFIOCiIik+n1Q3L59G3PmzIGvry/8/PyQmZkJo9EonWfKlClQKBRWwy9/+cs+qth+8vLyEBERAW9vb2g0Gpw8eVLaft++fRg9ejS8vb0xbtw4fPLJJ31UqePZsi4KCgo6/Py9vb37sFrHKS0tRUpKCkJDQ6FQKFBYWPjAeUpKSvDEE09ApVJh1KhRKCgocHidfcHWdVFSUtJhu1AoFNDpdH1TsAP1+6CYM2cOzp8/jyNHjuB//ud/UFpaikWLFj1wvoULF6KhocEyvPPOO31Qrf3s2bMHWVlZyMnJQUVFBWJjY5GYmIjr16932v6LL75AWloaMjMzcfr0aaSmpiI1NRXnzp3r48rtz9Z1AbR/GveHP//Lly/3YcWO09LSgtjYWOTl5XWrfW1tLWbMmIGpU6eisrISS5YswYIFC3Do0CEHV+p4tq6Ley5dumS1bQwbNsxBFfYh0Y99+eWXAoD43//9X8u4Tz/9VCgUCnH16tUu55s8ebJ45ZVX+qBCx4mPjxcvvfSS5bXJZBKhoaEiNze30/YvvPCCmDFjhtU4jUYjXnzxRYfW2RdsXRfbt28XarW6j6pzHgBi//790javvfaaGDt2rNW4WbNmicTERAdW1ve6sy6OHj0qAIivv/66T2rqS/36iKKsrAx+fn6YOHGiZZxWq4WHhwdOnDghnfePf/wjAgIC8PjjjyM7Oxt37txxdLl209bWhvLycmi1Wss4Dw8PaLValJWVdTpPWVmZVXsASExM7LL9w6In6wIAjEYjwsPDERYWhpkzZ+L8+fN9Ua7LcdftojfGjx+PkJAQTJs2DZ9//rmzy7ELt3goYE/pdLoOh4Wenp7w9/eXnlf8xS9+gfDwcISGhuLMmTNYvnw5Ll26hI8//tjRJdvFzZs3YTKZEBQUZDU+KCgIFy9e7HQenU7XafuH/fxrT9ZFdHQ0tm3bhpiYGOj1eqxfvx5PP/00zp8/b/eHU7q6rrYLg8GAb775BgMHDnRSZX0vJCQE+fn5mDhxIlpbW/Hhhx9iypQpOHHiBJ544glnl9crbhkUK1aswLp166RtLly40OP+f3gNY9y4cQgJCcGzzz6LmpoajBw5ssf90sMhISEBCQkJltdPP/00xowZg9///vd44403nFgZOVN0dDSio6Mtr59++mnU1NTg3XffxR/+8AcnVtZ7bhkUS5cuxfz586VtIiMjERwc3OGC5XfffYfbt28jODi42++n0WgAANXV1Q9FUAQEBECpVKKxsdFqfGNjY5fLHRwcbFP7h0VP1sWPDRgwAHFxcaiurnZEiS6tq+3C19e3Xx1NdCU+Ph7Hjh1zdhm95pbXKAIDAzF69Gjp4OXlhYSEBDQ1NaG8vNwy72effQaz2WzZ+XdHZWUlgPZDz4eBl5cXJkyYgOLiYss4s9mM4uJiq7+UfyghIcGqPQAcOXKky/YPi56six8zmUw4e/bsQ/Pztyd33S7spbKy0j22C2dfTXe2pKQkERcXJ06cOCGOHTsmHn30UZGWlmaZXl9fL6Kjo8WJEyeEEEJUV1eL3/zmN+LUqVOitrZWHDhwQERGRoqf/exnzlqEHtm9e7dQqVSioKBAfPnll2LRokXCz89P6HQ6IYQQc+fOFStWrLC0//zzz4Wnp6dYv369uHDhgsjJyREDBgwQZ8+eddYi2I2t62LNmjXi0KFDoqamRpSXl4vZs2cLb29vcf78eWctgt00NzeL06dPi9OnTwsAYuPGjeL06dPi8uXLQgghVqxYIebOnWtp/7e//U34+PiIZcuWiQsXLoi8vDyhVCpFUVGRsxbBbmxdF++++64oLCwUVVVV4uzZs+KVV14RHh4e4s9//rOzFsFu+n1Q3Lp1S6SlpYnBgwcLX19fkZGRIZqbmy3Ta2trBQBx9OhRIYQQdXV14mc/+5nw9/cXKpVKjBo1Sixbtkzo9XonLUHPvf/++2L48OHCy8tLxMfHi+PHj1umTZ48WaSnp1u137t3r4iKihJeXl5i7Nix4uDBg31csePYsi6WLFliaRsUFCT+/u//XlRUVDihavu7d4vnj4d7y5+eni4mT57cYZ7x48cLLy8vERkZKbZv397ndTuCreti3bp1YuTIkcLb21v4+/uLKVOmiM8++8w5xdsZHzNORERSbnmNgoiI7IdBQUREUgwKIiKSYlAQEZEUg4KIiKQYFEREJMWgICIiKQYFEdH3evINf72xevXqDt+IN3r0aIe+Z08wKIiIvtfTb7XrjbFjx1p9I54rPkTQLZ8eS0TUE8nJyUhOTu5yemtrK1auXIldu3ahqakJjz/+ONatW4cpU6b0+D09PT1d/inMPKIgIuqml19+GWVlZdi9ezfOnDmD559/HklJSaiqqupxn1VVVQgNDUVkZCTmzJmDuro6O1ZsH3zWExFRJxQKBfbv34/U1FQAQF1dHSIjI1FXV4fQ0FBLO61Wi/j4eLz99ts2v8enn34Ko9GI6OhoNDQ0YM2aNbh69SrOnTuHIUOG2GtReo2nnoiIuuHs2bMwmUyIioqyGt/a2opHHnkEAHDx4kWMGTNG2s/y5cuxdu1aALA6zRUTEwONRoPw8HDs3bsXmZmZdl6CnmNQEBF1g9FohFKpRHl5OZRKpdW0wYMHA2j/5swHfc3yvVDpjJ+fH6Kiolzu2xIZFERE3RAXFweTyYTr169j0qRJnbbx8vLq1e2tRqMRNTU1mDt3bo/7cAQGBRHR94xGo9Vf87W1taisrIS/vz+ioqIwZ84czJs3Dxs2bEBcXBxu3LiB4uJixMTEYMaMGTa/36uvvoqUlBSEh4fj2rVryMnJgVKpRFpamj0Xq9d4MZuI6HslJSWYOnVqh/Hp6ekoKCjAt99+izfffBM7d+7E1atXERAQgKeeegpr1qzBuHHjbH6/2bNno7S0FLdu3UJgYCCeeeYZvPXWWxg5cqQ9FsduGBRERCTFz1EQEZEUg4KIiKQYFEREJMWgICIiKQYFERFJMSiIiEiKQUFERFIMCiIikmJQEBGRFIOCiIikGBRERCTFoCAiIqn/B4jgvN2vxDTHAAAAAElFTkSuQmCC",
=======
      "image/png": "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",
>>>>>>> 42f16c8 (thesis folder created)
      "text/plain": [
       "<Figure size 400x400 with 1 Axes>"
      ]
     },
     "metadata": {},
     "output_type": "display_data"
    },
    {
     "data": {
<<<<<<< HEAD
      "image/png": "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",
=======
      "image/png": "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",
>>>>>>> 42f16c8 (thesis folder created)
      "text/plain": [
       "<Figure size 600x400 with 3 Axes>"
      ]
     },
     "metadata": {},
     "output_type": "display_data"
    }
   ],
   "source": [
    "bp.visualize()"
   ]
  },
  {
   "cell_type": "markdown",
   "id": "d178ecc5",
   "metadata": {},
   "source": [
    "The compilation results can be directly sent to devices to execute. Before we submit them, we use Amazon Braket's simulator to simulate the evolution first."
   ]
  },
  {
   "cell_type": "code",
   "execution_count": 13,
   "id": "db7e0f90",
   "metadata": {},
   "outputs": [
    {
     "name": "stdout",
     "output_type": "stream",
     "text": [
      "Submitted.\n"
     ]
    }
   ],
   "source": [
    "bp.run(shots=1000, on_simulator=True)"
   ]
  },
  {
   "cell_type": "markdown",
   "id": "96d7a928",
   "metadata": {},
   "source": [
    "Then we can retrieve the results similarly. We examine the probability of obtaining the ground state again to compare with ideal classical simulation results."
   ]
  },
  {
   "cell_type": "code",
   "execution_count": 14,
   "id": "b134cd07",
   "metadata": {},
   "outputs": [
    {
     "name": "stdout",
     "output_type": "stream",
     "text": [
<<<<<<< HEAD
      "0.341\n"
=======
      "0.334\n"
>>>>>>> 42f16c8 (thesis folder created)
     ]
    }
   ],
   "source": [
    "res_quera = bp.results()\n",
    "print(res_quera[\"000000\"])"
   ]
  },
  {
   "cell_type": "markdown",
   "id": "0d9d9d94",
   "metadata": {},
   "source": [
    "The error mainly comes from the non-neighboring interactions between sites. To compare it with the ideal results, we calculate the TV between the two distrubtions"
   ]
  },
  {
   "cell_type": "code",
   "execution_count": 15,
   "id": "23d0a3cf",
   "metadata": {},
   "outputs": [
    {
     "data": {
      "text/plain": [
<<<<<<< HEAD
       "0.09318873915897855"
=======
       "0.10870470949966325"
>>>>>>> 42f16c8 (thesis folder created)
      ]
     },
     "execution_count": 15,
     "metadata": {},
     "output_type": "execute_result"
    }
   ],
   "source": [
    "tv(res_cycle_gt, res_quera)"
   ]
  },
  {
   "cell_type": "markdown",
   "id": "af885873",
   "metadata": {},
   "source": [
    "We may send the pulse schedule to QuEra's device to run. The following command submits a job to AWS via Amazon Braket, which returns a task. The task arn is the identifier for you to retrieve results later if the current environment is lost, so please record it carefully. "
   ]
  },
  {
   "cell_type": "code",
   "execution_count": 16,
   "id": "77b2f3c3",
   "metadata": {},
   "outputs": [
    {
     "ename": "NoRegionError",
     "evalue": "You must specify a region.",
     "output_type": "error",
     "traceback": [
      "\u001b[0;31m---------------------------------------------------------------------------\u001b[0m",
      "\u001b[0;31mNoRegionError\u001b[0m                             Traceback (most recent call last)",
      "\u001b[1;32m/workspaces/SimuQ/notebooks/tutorials/1-ising.ipynb Cell 32\u001b[0m line \u001b[0;36m1\n\u001b[0;32m----> <a href='vscode-notebook-cell://codespaces%2Bscaling-pancake-vpr79qrg74g2wvv6/workspaces/SimuQ/notebooks/tutorials/1-ising.ipynb#X43sdnNjb2RlLXJlbW90ZQ%3D%3D?line=0'>1</a>\u001b[0m bp\u001b[39m.\u001b[39;49mrun(shots\u001b[39m=\u001b[39;49m\u001b[39m1000\u001b[39;49m)  \u001b[39m# uncomment when last execution\u001b[39;00m\n",
      "File \u001b[0;32m~/.python/current/lib/python3.10/site-packages/simuq/braket/braket_provider.py:156\u001b[0m, in \u001b[0;36mBraketProvider.run\u001b[0;34m(self, shots, on_simulator, verbose)\u001b[0m\n\u001b[1;32m    154\u001b[0m         \u001b[39mprint\u001b[39m(\u001b[39m\"\u001b[39m\u001b[39mSubmitted.\u001b[39m\u001b[39m\"\u001b[39m)\n\u001b[1;32m    155\u001b[0m \u001b[39melse\u001b[39;00m:\n\u001b[0;32m--> 156\u001b[0m     aquila_qpu \u001b[39m=\u001b[39m AwsDevice(\u001b[39m\"\u001b[39;49m\u001b[39marn:aws:braket:us-east-1::device/qpu/quera/\u001b[39;49m\u001b[39m\"\u001b[39;49m \u001b[39m+\u001b[39;49m \u001b[39mself\u001b[39;49m\u001b[39m.\u001b[39;49mdevice)\n\u001b[1;32m    157\u001b[0m     user_agent \u001b[39m=\u001b[39m \u001b[39mf\u001b[39m\u001b[39m\"\u001b[39m\u001b[39mSimuQ/\u001b[39m\u001b[39m{\u001b[39;00m_version\u001b[39m.\u001b[39m__version__\u001b[39m}\u001b[39;00m\u001b[39m\"\u001b[39m\n\u001b[1;32m    158\u001b[0m     aquila_qpu\u001b[39m.\u001b[39maws_session\u001b[39m.\u001b[39madd_braket_user_agent(user_agent)\n",
      "File \u001b[0;32m~/.python/current/lib/python3.10/site-packages/braket/aws/aws_device.py:102\u001b[0m, in \u001b[0;36mAwsDevice.__init__\u001b[0;34m(self, arn, aws_session)\u001b[0m\n\u001b[1;32m    100\u001b[0m \u001b[39mself\u001b[39m\u001b[39m.\u001b[39m_poll_interval_seconds \u001b[39m=\u001b[39m \u001b[39mNone\u001b[39;00m\n\u001b[1;32m    101\u001b[0m \u001b[39mself\u001b[39m\u001b[39m.\u001b[39m_type \u001b[39m=\u001b[39m \u001b[39mNone\u001b[39;00m\n\u001b[0;32m--> 102\u001b[0m \u001b[39mself\u001b[39m\u001b[39m.\u001b[39m_aws_session \u001b[39m=\u001b[39m \u001b[39mself\u001b[39m\u001b[39m.\u001b[39m_get_session_and_initialize(aws_session \u001b[39mor\u001b[39;00m AwsSession())\n\u001b[1;32m    103\u001b[0m \u001b[39mself\u001b[39m\u001b[39m.\u001b[39m_ports \u001b[39m=\u001b[39m \u001b[39mNone\u001b[39;00m\n\u001b[1;32m    104\u001b[0m \u001b[39mself\u001b[39m\u001b[39m.\u001b[39m_frames \u001b[39m=\u001b[39m \u001b[39mNone\u001b[39;00m\n",
      "File \u001b[0;32m~/.python/current/lib/python3.10/site-packages/braket/aws/aws_session.py:76\u001b[0m, in \u001b[0;36mAwsSession.__init__\u001b[0;34m(self, boto_session, braket_client, config, default_bucket)\u001b[0m\n\u001b[1;32m     72\u001b[0m \u001b[39melse\u001b[39;00m:\n\u001b[1;32m     73\u001b[0m     \u001b[39mself\u001b[39m\u001b[39m.\u001b[39mboto_session \u001b[39m=\u001b[39m boto_session \u001b[39mor\u001b[39;00m boto3\u001b[39m.\u001b[39mSession(\n\u001b[1;32m     74\u001b[0m         region_name\u001b[39m=\u001b[39mos\u001b[39m.\u001b[39menviron\u001b[39m.\u001b[39mget(\u001b[39m\"\u001b[39m\u001b[39mAWS_REGION\u001b[39m\u001b[39m\"\u001b[39m)\n\u001b[1;32m     75\u001b[0m     )\n\u001b[0;32m---> 76\u001b[0m     \u001b[39mself\u001b[39m\u001b[39m.\u001b[39mbraket_client \u001b[39m=\u001b[39m \u001b[39mself\u001b[39;49m\u001b[39m.\u001b[39;49mboto_session\u001b[39m.\u001b[39;49mclient(\n\u001b[1;32m     77\u001b[0m         \u001b[39m\"\u001b[39;49m\u001b[39mbraket\u001b[39;49m\u001b[39m\"\u001b[39;49m, config\u001b[39m=\u001b[39;49m\u001b[39mself\u001b[39;49m\u001b[39m.\u001b[39;49m_config, endpoint_url\u001b[39m=\u001b[39;49mos\u001b[39m.\u001b[39;49menviron\u001b[39m.\u001b[39;49mget(\u001b[39m\"\u001b[39;49m\u001b[39mBRAKET_ENDPOINT\u001b[39;49m\u001b[39m\"\u001b[39;49m)\n\u001b[1;32m     78\u001b[0m     )\n\u001b[1;32m     80\u001b[0m \u001b[39mself\u001b[39m\u001b[39m.\u001b[39m_update_user_agent()\n\u001b[1;32m     81\u001b[0m \u001b[39mself\u001b[39m\u001b[39m.\u001b[39m_custom_default_bucket \u001b[39m=\u001b[39m \u001b[39mbool\u001b[39m(default_bucket)\n",
      "File \u001b[0;32m~/.python/current/lib/python3.10/site-packages/boto3/session.py:299\u001b[0m, in \u001b[0;36mSession.client\u001b[0;34m(self, service_name, region_name, api_version, use_ssl, verify, endpoint_url, aws_access_key_id, aws_secret_access_key, aws_session_token, config)\u001b[0m\n\u001b[1;32m    217\u001b[0m \u001b[39mdef\u001b[39;00m \u001b[39mclient\u001b[39m(\n\u001b[1;32m    218\u001b[0m     \u001b[39mself\u001b[39m,\n\u001b[1;32m    219\u001b[0m     service_name,\n\u001b[0;32m   (...)\u001b[0m\n\u001b[1;32m    228\u001b[0m     config\u001b[39m=\u001b[39m\u001b[39mNone\u001b[39;00m,\n\u001b[1;32m    229\u001b[0m ):\n\u001b[1;32m    230\u001b[0m \u001b[39m    \u001b[39m\u001b[39m\"\"\"\u001b[39;00m\n\u001b[1;32m    231\u001b[0m \u001b[39m    Create a low-level service client by name.\u001b[39;00m\n\u001b[1;32m    232\u001b[0m \n\u001b[0;32m   (...)\u001b[0m\n\u001b[1;32m    297\u001b[0m \n\u001b[1;32m    298\u001b[0m \u001b[39m    \"\"\"\u001b[39;00m\n\u001b[0;32m--> 299\u001b[0m     \u001b[39mreturn\u001b[39;00m \u001b[39mself\u001b[39;49m\u001b[39m.\u001b[39;49m_session\u001b[39m.\u001b[39;49mcreate_client(\n\u001b[1;32m    300\u001b[0m         service_name,\n\u001b[1;32m    301\u001b[0m         region_name\u001b[39m=\u001b[39;49mregion_name,\n\u001b[1;32m    302\u001b[0m         api_version\u001b[39m=\u001b[39;49mapi_version,\n\u001b[1;32m    303\u001b[0m         use_ssl\u001b[39m=\u001b[39;49muse_ssl,\n\u001b[1;32m    304\u001b[0m         verify\u001b[39m=\u001b[39;49mverify,\n\u001b[1;32m    305\u001b[0m         endpoint_url\u001b[39m=\u001b[39;49mendpoint_url,\n\u001b[1;32m    306\u001b[0m         aws_access_key_id\u001b[39m=\u001b[39;49maws_access_key_id,\n\u001b[1;32m    307\u001b[0m         aws_secret_access_key\u001b[39m=\u001b[39;49maws_secret_access_key,\n\u001b[1;32m    308\u001b[0m         aws_session_token\u001b[39m=\u001b[39;49maws_session_token,\n\u001b[1;32m    309\u001b[0m         config\u001b[39m=\u001b[39;49mconfig,\n\u001b[1;32m    310\u001b[0m     )\n",
      "File \u001b[0;32m~/.python/current/lib/python3.10/site-packages/botocore/session.py:997\u001b[0m, in \u001b[0;36mSession.create_client\u001b[0;34m(self, service_name, region_name, api_version, use_ssl, verify, endpoint_url, aws_access_key_id, aws_secret_access_key, aws_session_token, config)\u001b[0m\n\u001b[1;32m    980\u001b[0m \u001b[39mself\u001b[39m\u001b[39m.\u001b[39m_add_configured_endpoint_provider(\n\u001b[1;32m    981\u001b[0m     client_name\u001b[39m=\u001b[39mservice_name,\n\u001b[1;32m    982\u001b[0m     config_store\u001b[39m=\u001b[39mconfig_store,\n\u001b[1;32m    983\u001b[0m )\n\u001b[1;32m    985\u001b[0m client_creator \u001b[39m=\u001b[39m botocore\u001b[39m.\u001b[39mclient\u001b[39m.\u001b[39mClientCreator(\n\u001b[1;32m    986\u001b[0m     loader,\n\u001b[1;32m    987\u001b[0m     endpoint_resolver,\n\u001b[0;32m   (...)\u001b[0m\n\u001b[1;32m    995\u001b[0m     user_agent_creator\u001b[39m=\u001b[39muser_agent_creator,\n\u001b[1;32m    996\u001b[0m )\n\u001b[0;32m--> 997\u001b[0m client \u001b[39m=\u001b[39m client_creator\u001b[39m.\u001b[39;49mcreate_client(\n\u001b[1;32m    998\u001b[0m     service_name\u001b[39m=\u001b[39;49mservice_name,\n\u001b[1;32m    999\u001b[0m     region_name\u001b[39m=\u001b[39;49mregion_name,\n\u001b[1;32m   1000\u001b[0m     is_secure\u001b[39m=\u001b[39;49muse_ssl,\n\u001b[1;32m   1001\u001b[0m     endpoint_url\u001b[39m=\u001b[39;49mendpoint_url,\n\u001b[1;32m   1002\u001b[0m     verify\u001b[39m=\u001b[39;49mverify,\n\u001b[1;32m   1003\u001b[0m     credentials\u001b[39m=\u001b[39;49mcredentials,\n\u001b[1;32m   1004\u001b[0m     scoped_config\u001b[39m=\u001b[39;49m\u001b[39mself\u001b[39;49m\u001b[39m.\u001b[39;49mget_scoped_config(),\n\u001b[1;32m   1005\u001b[0m     client_config\u001b[39m=\u001b[39;49mconfig,\n\u001b[1;32m   1006\u001b[0m     api_version\u001b[39m=\u001b[39;49mapi_version,\n\u001b[1;32m   1007\u001b[0m     auth_token\u001b[39m=\u001b[39;49mauth_token,\n\u001b[1;32m   1008\u001b[0m )\n\u001b[1;32m   1009\u001b[0m monitor \u001b[39m=\u001b[39m \u001b[39mself\u001b[39m\u001b[39m.\u001b[39m_get_internal_component(\u001b[39m'\u001b[39m\u001b[39mmonitor\u001b[39m\u001b[39m'\u001b[39m)\n\u001b[1;32m   1010\u001b[0m \u001b[39mif\u001b[39;00m monitor \u001b[39mis\u001b[39;00m \u001b[39mnot\u001b[39;00m \u001b[39mNone\u001b[39;00m:\n",
      "File \u001b[0;32m~/.python/current/lib/python3.10/site-packages/botocore/client.py:159\u001b[0m, in \u001b[0;36mClientCreator.create_client\u001b[0;34m(self, service_name, region_name, is_secure, endpoint_url, verify, credentials, scoped_config, api_version, client_config, auth_token)\u001b[0m\n\u001b[1;32m    146\u001b[0m region_name, client_config \u001b[39m=\u001b[39m \u001b[39mself\u001b[39m\u001b[39m.\u001b[39m_normalize_fips_region(\n\u001b[1;32m    147\u001b[0m     region_name, client_config\n\u001b[1;32m    148\u001b[0m )\n\u001b[1;32m    149\u001b[0m endpoint_bridge \u001b[39m=\u001b[39m ClientEndpointBridge(\n\u001b[1;32m    150\u001b[0m     \u001b[39mself\u001b[39m\u001b[39m.\u001b[39m_endpoint_resolver,\n\u001b[1;32m    151\u001b[0m     scoped_config,\n\u001b[0;32m   (...)\u001b[0m\n\u001b[1;32m    157\u001b[0m     ),\n\u001b[1;32m    158\u001b[0m )\n\u001b[0;32m--> 159\u001b[0m client_args \u001b[39m=\u001b[39m \u001b[39mself\u001b[39;49m\u001b[39m.\u001b[39;49m_get_client_args(\n\u001b[1;32m    160\u001b[0m     service_model,\n\u001b[1;32m    161\u001b[0m     region_name,\n\u001b[1;32m    162\u001b[0m     is_secure,\n\u001b[1;32m    163\u001b[0m     endpoint_url,\n\u001b[1;32m    164\u001b[0m     verify,\n\u001b[1;32m    165\u001b[0m     credentials,\n\u001b[1;32m    166\u001b[0m     scoped_config,\n\u001b[1;32m    167\u001b[0m     client_config,\n\u001b[1;32m    168\u001b[0m     endpoint_bridge,\n\u001b[1;32m    169\u001b[0m     auth_token,\n\u001b[1;32m    170\u001b[0m     endpoints_ruleset_data,\n\u001b[1;32m    171\u001b[0m     partition_data,\n\u001b[1;32m    172\u001b[0m )\n\u001b[1;32m    173\u001b[0m service_client \u001b[39m=\u001b[39m \u001b[39mcls\u001b[39m(\u001b[39m*\u001b[39m\u001b[39m*\u001b[39mclient_args)\n\u001b[1;32m    174\u001b[0m \u001b[39mself\u001b[39m\u001b[39m.\u001b[39m_register_retries(service_client)\n",
      "File \u001b[0;32m~/.python/current/lib/python3.10/site-packages/botocore/client.py:490\u001b[0m, in \u001b[0;36mClientCreator._get_client_args\u001b[0;34m(self, service_model, region_name, is_secure, endpoint_url, verify, credentials, scoped_config, client_config, endpoint_bridge, auth_token, endpoints_ruleset_data, partition_data)\u001b[0m\n\u001b[1;32m    466\u001b[0m \u001b[39mdef\u001b[39;00m \u001b[39m_get_client_args\u001b[39m(\n\u001b[1;32m    467\u001b[0m     \u001b[39mself\u001b[39m,\n\u001b[1;32m    468\u001b[0m     service_model,\n\u001b[0;32m   (...)\u001b[0m\n\u001b[1;32m    479\u001b[0m     partition_data,\n\u001b[1;32m    480\u001b[0m ):\n\u001b[1;32m    481\u001b[0m     args_creator \u001b[39m=\u001b[39m ClientArgsCreator(\n\u001b[1;32m    482\u001b[0m         \u001b[39mself\u001b[39m\u001b[39m.\u001b[39m_event_emitter,\n\u001b[1;32m    483\u001b[0m         \u001b[39mself\u001b[39m\u001b[39m.\u001b[39m_user_agent,\n\u001b[0;32m   (...)\u001b[0m\n\u001b[1;32m    488\u001b[0m         user_agent_creator\u001b[39m=\u001b[39m\u001b[39mself\u001b[39m\u001b[39m.\u001b[39m_user_agent_creator,\n\u001b[1;32m    489\u001b[0m     )\n\u001b[0;32m--> 490\u001b[0m     \u001b[39mreturn\u001b[39;00m args_creator\u001b[39m.\u001b[39;49mget_client_args(\n\u001b[1;32m    491\u001b[0m         service_model,\n\u001b[1;32m    492\u001b[0m         region_name,\n\u001b[1;32m    493\u001b[0m         is_secure,\n\u001b[1;32m    494\u001b[0m         endpoint_url,\n\u001b[1;32m    495\u001b[0m         verify,\n\u001b[1;32m    496\u001b[0m         credentials,\n\u001b[1;32m    497\u001b[0m         scoped_config,\n\u001b[1;32m    498\u001b[0m         client_config,\n\u001b[1;32m    499\u001b[0m         endpoint_bridge,\n\u001b[1;32m    500\u001b[0m         auth_token,\n\u001b[1;32m    501\u001b[0m         endpoints_ruleset_data,\n\u001b[1;32m    502\u001b[0m         partition_data,\n\u001b[1;32m    503\u001b[0m     )\n",
      "File \u001b[0;32m~/.python/current/lib/python3.10/site-packages/botocore/args.py:100\u001b[0m, in \u001b[0;36mClientArgsCreator.get_client_args\u001b[0;34m(self, service_model, region_name, is_secure, endpoint_url, verify, credentials, scoped_config, client_config, endpoint_bridge, auth_token, endpoints_ruleset_data, partition_data)\u001b[0m\n\u001b[1;32m     85\u001b[0m \u001b[39mdef\u001b[39;00m \u001b[39mget_client_args\u001b[39m(\n\u001b[1;32m     86\u001b[0m     \u001b[39mself\u001b[39m,\n\u001b[1;32m     87\u001b[0m     service_model,\n\u001b[0;32m   (...)\u001b[0m\n\u001b[1;32m     98\u001b[0m     partition_data\u001b[39m=\u001b[39m\u001b[39mNone\u001b[39;00m,\n\u001b[1;32m     99\u001b[0m ):\n\u001b[0;32m--> 100\u001b[0m     final_args \u001b[39m=\u001b[39m \u001b[39mself\u001b[39;49m\u001b[39m.\u001b[39;49mcompute_client_args(\n\u001b[1;32m    101\u001b[0m         service_model,\n\u001b[1;32m    102\u001b[0m         client_config,\n\u001b[1;32m    103\u001b[0m         endpoint_bridge,\n\u001b[1;32m    104\u001b[0m         region_name,\n\u001b[1;32m    105\u001b[0m         endpoint_url,\n\u001b[1;32m    106\u001b[0m         is_secure,\n\u001b[1;32m    107\u001b[0m         scoped_config,\n\u001b[1;32m    108\u001b[0m     )\n\u001b[1;32m    110\u001b[0m     service_name \u001b[39m=\u001b[39m final_args[\u001b[39m'\u001b[39m\u001b[39mservice_name\u001b[39m\u001b[39m'\u001b[39m]  \u001b[39m# noqa\u001b[39;00m\n\u001b[1;32m    111\u001b[0m     parameter_validation \u001b[39m=\u001b[39m final_args[\u001b[39m'\u001b[39m\u001b[39mparameter_validation\u001b[39m\u001b[39m'\u001b[39m]\n",
      "File \u001b[0;32m~/.python/current/lib/python3.10/site-packages/botocore/args.py:219\u001b[0m, in \u001b[0;36mClientArgsCreator.compute_client_args\u001b[0;34m(self, service_model, client_config, endpoint_bridge, region_name, endpoint_url, is_secure, scoped_config)\u001b[0m\n\u001b[1;32m    212\u001b[0m s3_config \u001b[39m=\u001b[39m \u001b[39mself\u001b[39m\u001b[39m.\u001b[39mcompute_s3_config(client_config)\n\u001b[1;32m    214\u001b[0m configured_endpoint_url \u001b[39m=\u001b[39m \u001b[39mself\u001b[39m\u001b[39m.\u001b[39m_compute_configured_endpoint_url(\n\u001b[1;32m    215\u001b[0m     client_config\u001b[39m=\u001b[39mclient_config,\n\u001b[1;32m    216\u001b[0m     endpoint_url\u001b[39m=\u001b[39mendpoint_url,\n\u001b[1;32m    217\u001b[0m )\n\u001b[0;32m--> 219\u001b[0m endpoint_config \u001b[39m=\u001b[39m \u001b[39mself\u001b[39;49m\u001b[39m.\u001b[39;49m_compute_endpoint_config(\n\u001b[1;32m    220\u001b[0m     service_name\u001b[39m=\u001b[39;49mservice_name,\n\u001b[1;32m    221\u001b[0m     region_name\u001b[39m=\u001b[39;49mregion_name,\n\u001b[1;32m    222\u001b[0m     endpoint_url\u001b[39m=\u001b[39;49mconfigured_endpoint_url,\n\u001b[1;32m    223\u001b[0m     is_secure\u001b[39m=\u001b[39;49mis_secure,\n\u001b[1;32m    224\u001b[0m     endpoint_bridge\u001b[39m=\u001b[39;49mendpoint_bridge,\n\u001b[1;32m    225\u001b[0m     s3_config\u001b[39m=\u001b[39;49ms3_config,\n\u001b[1;32m    226\u001b[0m )\n\u001b[1;32m    227\u001b[0m endpoint_variant_tags \u001b[39m=\u001b[39m endpoint_config[\u001b[39m'\u001b[39m\u001b[39mmetadata\u001b[39m\u001b[39m'\u001b[39m]\u001b[39m.\u001b[39mget(\u001b[39m'\u001b[39m\u001b[39mtags\u001b[39m\u001b[39m'\u001b[39m, [])\n\u001b[1;32m    229\u001b[0m \u001b[39m# Some third-party libraries expect the final user-agent string in\u001b[39;00m\n\u001b[1;32m    230\u001b[0m \u001b[39m# ``client.meta.config.user_agent``. To maintain backwards\u001b[39;00m\n\u001b[1;32m    231\u001b[0m \u001b[39m# compatibility, the preliminary user-agent string (before any Config\u001b[39;00m\n\u001b[1;32m    232\u001b[0m \u001b[39m# object modifications and without request-specific user-agent\u001b[39;00m\n\u001b[1;32m    233\u001b[0m \u001b[39m# components) is stored in the new Config object's ``user_agent``\u001b[39;00m\n\u001b[1;32m    234\u001b[0m \u001b[39m# property but not used by Botocore itself.\u001b[39;00m\n",
      "File \u001b[0;32m~/.python/current/lib/python3.10/site-packages/botocore/args.py:368\u001b[0m, in \u001b[0;36mClientArgsCreator._compute_endpoint_config\u001b[0;34m(self, service_name, region_name, endpoint_url, is_secure, endpoint_bridge, s3_config)\u001b[0m\n\u001b[1;32m    366\u001b[0m \u001b[39mif\u001b[39;00m service_name \u001b[39m==\u001b[39m \u001b[39m'\u001b[39m\u001b[39msts\u001b[39m\u001b[39m'\u001b[39m:\n\u001b[1;32m    367\u001b[0m     \u001b[39mreturn\u001b[39;00m \u001b[39mself\u001b[39m\u001b[39m.\u001b[39m_compute_sts_endpoint_config(\u001b[39m*\u001b[39m\u001b[39m*\u001b[39mresolve_endpoint_kwargs)\n\u001b[0;32m--> 368\u001b[0m \u001b[39mreturn\u001b[39;00m \u001b[39mself\u001b[39;49m\u001b[39m.\u001b[39;49m_resolve_endpoint(\u001b[39m*\u001b[39;49m\u001b[39m*\u001b[39;49mresolve_endpoint_kwargs)\n",
      "File \u001b[0;32m~/.python/current/lib/python3.10/site-packages/botocore/args.py:473\u001b[0m, in \u001b[0;36mClientArgsCreator._resolve_endpoint\u001b[0;34m(self, service_name, region_name, endpoint_url, is_secure, endpoint_bridge)\u001b[0m\n\u001b[1;32m    465\u001b[0m \u001b[39mdef\u001b[39;00m \u001b[39m_resolve_endpoint\u001b[39m(\n\u001b[1;32m    466\u001b[0m     \u001b[39mself\u001b[39m,\n\u001b[1;32m    467\u001b[0m     service_name,\n\u001b[0;32m   (...)\u001b[0m\n\u001b[1;32m    471\u001b[0m     endpoint_bridge,\n\u001b[1;32m    472\u001b[0m ):\n\u001b[0;32m--> 473\u001b[0m     \u001b[39mreturn\u001b[39;00m endpoint_bridge\u001b[39m.\u001b[39;49mresolve(\n\u001b[1;32m    474\u001b[0m         service_name, region_name, endpoint_url, is_secure\n\u001b[1;32m    475\u001b[0m     )\n",
      "File \u001b[0;32m~/.python/current/lib/python3.10/site-packages/botocore/client.py:595\u001b[0m, in \u001b[0;36mClientEndpointBridge.resolve\u001b[0;34m(self, service_name, region_name, endpoint_url, is_secure)\u001b[0m\n\u001b[1;32m    589\u001b[0m use_dualstack_endpoint \u001b[39m=\u001b[39m \u001b[39mself\u001b[39m\u001b[39m.\u001b[39m_resolve_use_dualstack_endpoint(\n\u001b[1;32m    590\u001b[0m     service_name\n\u001b[1;32m    591\u001b[0m )\n\u001b[1;32m    592\u001b[0m use_fips_endpoint \u001b[39m=\u001b[39m \u001b[39mself\u001b[39m\u001b[39m.\u001b[39m_resolve_endpoint_variant_config_var(\n\u001b[1;32m    593\u001b[0m     \u001b[39m'\u001b[39m\u001b[39muse_fips_endpoint\u001b[39m\u001b[39m'\u001b[39m\n\u001b[1;32m    594\u001b[0m )\n\u001b[0;32m--> 595\u001b[0m resolved \u001b[39m=\u001b[39m \u001b[39mself\u001b[39;49m\u001b[39m.\u001b[39;49mendpoint_resolver\u001b[39m.\u001b[39;49mconstruct_endpoint(\n\u001b[1;32m    596\u001b[0m     service_name,\n\u001b[1;32m    597\u001b[0m     region_name,\n\u001b[1;32m    598\u001b[0m     use_dualstack_endpoint\u001b[39m=\u001b[39;49muse_dualstack_endpoint,\n\u001b[1;32m    599\u001b[0m     use_fips_endpoint\u001b[39m=\u001b[39;49muse_fips_endpoint,\n\u001b[1;32m    600\u001b[0m )\n\u001b[1;32m    602\u001b[0m \u001b[39m# If we can't resolve the region, we'll attempt to get a global\u001b[39;00m\n\u001b[1;32m    603\u001b[0m \u001b[39m# endpoint for non-regionalized services (iam, route53, etc)\u001b[39;00m\n\u001b[1;32m    604\u001b[0m \u001b[39mif\u001b[39;00m \u001b[39mnot\u001b[39;00m resolved:\n\u001b[1;32m    605\u001b[0m     \u001b[39m# TODO: fallback partition_name should be configurable in the\u001b[39;00m\n\u001b[1;32m    606\u001b[0m     \u001b[39m# future for users to define as needed.\u001b[39;00m\n",
      "File \u001b[0;32m~/.python/current/lib/python3.10/site-packages/botocore/regions.py:229\u001b[0m, in \u001b[0;36mEndpointResolver.construct_endpoint\u001b[0;34m(self, service_name, region_name, partition_name, use_dualstack_endpoint, use_fips_endpoint)\u001b[0m\n\u001b[1;32m    224\u001b[0m \u001b[39mif\u001b[39;00m use_dualstack_endpoint \u001b[39mand\u001b[39;00m (\n\u001b[1;32m    225\u001b[0m     partition[\u001b[39m'\u001b[39m\u001b[39mpartition\u001b[39m\u001b[39m'\u001b[39m]\n\u001b[1;32m    226\u001b[0m     \u001b[39min\u001b[39;00m \u001b[39mself\u001b[39m\u001b[39m.\u001b[39m_UNSUPPORTED_DUALSTACK_PARTITIONS\n\u001b[1;32m    227\u001b[0m ):\n\u001b[1;32m    228\u001b[0m     \u001b[39mcontinue\u001b[39;00m\n\u001b[0;32m--> 229\u001b[0m result \u001b[39m=\u001b[39m \u001b[39mself\u001b[39;49m\u001b[39m.\u001b[39;49m_endpoint_for_partition(\n\u001b[1;32m    230\u001b[0m     partition,\n\u001b[1;32m    231\u001b[0m     service_name,\n\u001b[1;32m    232\u001b[0m     region_name,\n\u001b[1;32m    233\u001b[0m     use_dualstack_endpoint,\n\u001b[1;32m    234\u001b[0m     use_fips_endpoint,\n\u001b[1;32m    235\u001b[0m )\n\u001b[1;32m    236\u001b[0m \u001b[39mif\u001b[39;00m result:\n\u001b[1;32m    237\u001b[0m     \u001b[39mreturn\u001b[39;00m result\n",
      "File \u001b[0;32m~/.python/current/lib/python3.10/site-packages/botocore/regions.py:277\u001b[0m, in \u001b[0;36mEndpointResolver._endpoint_for_partition\u001b[0;34m(self, partition, service_name, region_name, use_dualstack_endpoint, use_fips_endpoint, force_partition)\u001b[0m\n\u001b[1;32m    275\u001b[0m         region_name \u001b[39m=\u001b[39m service_data[\u001b[39m'\u001b[39m\u001b[39mpartitionEndpoint\u001b[39m\u001b[39m'\u001b[39m]\n\u001b[1;32m    276\u001b[0m     \u001b[39melse\u001b[39;00m:\n\u001b[0;32m--> 277\u001b[0m         \u001b[39mraise\u001b[39;00m NoRegionError()\n\u001b[1;32m    279\u001b[0m resolve_kwargs \u001b[39m=\u001b[39m {\n\u001b[1;32m    280\u001b[0m     \u001b[39m'\u001b[39m\u001b[39mpartition\u001b[39m\u001b[39m'\u001b[39m: partition,\n\u001b[1;32m    281\u001b[0m     \u001b[39m'\u001b[39m\u001b[39mservice_name\u001b[39m\u001b[39m'\u001b[39m: service_name,\n\u001b[0;32m   (...)\u001b[0m\n\u001b[1;32m    285\u001b[0m     \u001b[39m'\u001b[39m\u001b[39muse_fips_endpoint\u001b[39m\u001b[39m'\u001b[39m: use_fips_endpoint,\n\u001b[1;32m    286\u001b[0m }\n\u001b[1;32m    288\u001b[0m \u001b[39m# Attempt to resolve the exact region for this partition.\u001b[39;00m\n",
      "\u001b[0;31mNoRegionError\u001b[0m: You must specify a region."
     ]
    }
   ],
   "source": [
<<<<<<< HEAD
    "# bp.run(shots=1000)"
=======
    "bp.run(shots=1000)  # uncomment when last execution"
>>>>>>> 42f16c8 (thesis folder created)
   ]
  },
  {
   "cell_type": "markdown",
   "id": "3498922e",
   "metadata": {},
   "source": [
    "Typically you may need to wait for several days for the queuing on the cloud. We reuse a former task which submitted the same pulse schedule here for the explanation. We can retrieve the results by a previously recorded task arn."
   ]
  },
  {
   "cell_type": "code",
   "execution_count": 17,
   "id": "b43d6b6f",
   "metadata": {},
   "outputs": [
    {
     "name": "stdout",
     "output_type": "stream",
     "text": [
      "0.438\n"
     ]
    }
   ],
   "source": [
    "with open(\"../../../aws_ising.txt\", \"r\") as f:\n",
    "    task_arn = f.readline().strip()\n",
    "res_quera_real = bp.results(task_arn=task_arn)\n",
    "print(res_quera_real[\"000000\"])"
   ]
  },
  {
   "cell_type": "markdown",
   "id": "07417ffb",
   "metadata": {},
   "source": [
    "The real device execution is noisy, hence the retrieved results are significantly different than the noiseless simulation results. We can compare them by TV"
   ]
  },
  {
   "cell_type": "code",
   "execution_count": 18,
   "id": "cbe40e5e",
   "metadata": {},
   "outputs": [
    {
     "data": {
      "text/plain": [
       "0.4515000000000002"
      ]
     },
     "execution_count": 18,
     "metadata": {},
     "output_type": "execute_result"
    }
   ],
   "source": [
    "tv(res_quera, res_quera_real)"
   ]
  },
  {
   "cell_type": "markdown",
   "id": "4a98a44f",
   "metadata": {},
   "source": [
    "We may also calculate the distance between real device execution results and the ground truth results."
   ]
  },
  {
   "cell_type": "code",
   "execution_count": 19,
   "id": "bab2c9f3",
   "metadata": {},
   "outputs": [
    {
     "data": {
      "text/plain": [
       "0.48794750830712036"
      ]
     },
     "execution_count": 19,
     "metadata": {},
     "output_type": "execute_result"
    }
   ],
   "source": [
    "tv(res_cycle_gt, res_quera_real)"
   ]
  },
  {
   "cell_type": "markdown",
   "id": "69149a0a",
   "metadata": {},
   "source": [
    "Now we proceed to the chain Ising model. However, current QuEra devices only support global laser control, while the chain Ising model requires local laser control because of asymmetry of sites. We may try to compile ``Ising_chain`` with the QuEra device by"
   ]
  },
  {
   "cell_type": "code",
   "execution_count": 20,
   "id": "32ce2a61",
   "metadata": {},
   "outputs": [
    {
     "name": "stdout",
     "output_type": "stream",
     "text": [
      "Failed.\n"
     ]
    }
   ],
   "source": [
    "try:\n",
    "    bp.compile(ising_chain, \"quera\", \"Aquila\", \"rydberg2d_global\", tol=1)\n",
    "except:\n",
    "    print(\"Failed.\")"
   ]
  },
  {
   "cell_type": "markdown",
   "id": "9da6e991",
   "metadata": {},
   "source": [
    "### IonQ's Trapped Ion Arrays\n",
    "\n",
    "To access IonQ's devices, you may continue with Braket providers, while send in IonQ's device information and corresponding AAIS when compiling. \n",
    "\n",
    "Alternatively, here we access IonQ's devices via IonQ Quantum Cloud. To install, please refer to [SimuQ README](https://github.com/PicksPeng/SimuQ/blob/main/README.md). Similarly, we create an IonQ provider. "
   ]
  },
  {
   "cell_type": "code",
   "execution_count": 17,
   "id": "acb9b0f9",
   "metadata": {},
   "outputs": [],
   "source": [
    "# from simuq.ionq import IonQProvider\n",
    "# ionqp = IonQProvider(from_file=\"../ionq_API_key\")"
   ]
  },
  {
   "cell_type": "code",
   "execution_count": 21,
   "id": "5690cc43",
   "metadata": {},
   "outputs": [],
   "source": [
    "from simuq.braket import BraketProvider\n",
    "\n",
    "bp = BraketProvider()"
   ]
  },
  {
   "cell_type": "markdown",
   "id": "d8c135bb",
   "metadata": {},
   "source": [
    "We can follow the same procedures to compile and deploy the Ising models on IonQ's devices. Here we first validate the compilation on the noiseless simulator of IonQ. Similarly, the distance between the noiseless simulation and the ground truth results are calculated by TV."
   ]
  },
  {
   "cell_type": "code",
<<<<<<< HEAD
   "execution_count": 22,
=======
   "execution_count": 18,
>>>>>>> 42f16c8 (thesis folder created)
   "id": "fe346bd0",
   "metadata": {},
   "outputs": [],
   "source": [
    "bp.compile(ising_cycle, provider=\"ionq\", device=\"Harmony\", aais=\"heisenberg\", tol=1, trotter_num=4)\n",
    "# ionqp.compile(ising_cycle, backend=\"Harmony\", trotter_num=4)"
   ]
  },
  {
   "cell_type": "code",
<<<<<<< HEAD
   "execution_count": 23,
=======
   "execution_count": 19,
>>>>>>> 42f16c8 (thesis folder created)
   "id": "ee469f13",
   "metadata": {},
   "outputs": [
    {
     "name": "stdout",
     "output_type": "stream",
     "text": [
<<<<<<< HEAD
      "Submitted.\n"
=======
      "{'id': '9bbd971e-f4cc-4e4d-ada0-c01febaf8896', 'status': 'ready', 'request': 1696277044}\n"
>>>>>>> 42f16c8 (thesis folder created)
     ]
    }
   ],
   "source": [
    "bp.run(shots=512, on_simulator=True)"
   ]
  },
  {
   "cell_type": "code",
<<<<<<< HEAD
   "execution_count": 24,
=======
   "execution_count": 20,
>>>>>>> 42f16c8 (thesis folder created)
   "id": "028aa689",
   "metadata": {},
   "outputs": [
    {
<<<<<<< HEAD
     "data": {
      "text/plain": [
       "0.13378841563877508"
      ]
     },
     "execution_count": 24,
=======
     "data": {
      "text/plain": [
       "0.030735967110208453"
      ]
     },
     "execution_count": 20,
     "metadata": {},
     "output_type": "execute_result"
    }
   ],
   "source": [
    "res_ionq_cycle_ideal = ionqp.results()\n",
    "TV(res_cycle_gt, res_ionq_cycle_ideal)"
   ]
  },
  {
   "cell_type": "markdown",
   "id": "47406d35",
   "metadata": {},
   "source": [
    "A noisy simulation for IonQ devices is also possible. We repeat the above procedure to see how noises will likely affect the results."
   ]
  },
  {
   "cell_type": "code",
   "execution_count": 21,
   "id": "e1b10940",
   "metadata": {},
   "outputs": [
    {
     "name": "stdout",
     "output_type": "stream",
     "text": [
      "{'id': '8b7f665c-dc84-4247-938d-dac8fd5ae4b9', 'status': 'ready', 'request': 1696277057}\n"
     ]
    }
   ],
   "source": [
    "ionqp.run(shots=4096, on_simulator=True, with_noise=True)"
   ]
  },
  {
   "cell_type": "code",
   "execution_count": 22,
   "id": "1a2a8bb5",
   "metadata": {},
   "outputs": [
    {
     "data": {
      "text/plain": [
       "0.08412312611249292"
      ]
     },
     "execution_count": 22,
>>>>>>> 42f16c8 (thesis folder created)
     "metadata": {},
     "output_type": "execute_result"
    }
   ],
   "source": [
    "res_ionq_cycle_ideal = bp.results()\n",
    "tv(res_cycle_gt, res_ionq_cycle_ideal)"
   ]
  },
  {
   "cell_type": "code",
<<<<<<< HEAD
   "execution_count": 26,
=======
   "execution_count": 23,
>>>>>>> 42f16c8 (thesis folder created)
   "id": "51cf97ef",
   "metadata": {},
   "outputs": [
    {
     "name": "stdout",
     "output_type": "stream",
     "text": [
      "{'error': 'Bad Request', 'message': 'Unable to run jobs on IonQ Aria. Please visit our Quantum Cloud Page https://ionq.com/quantum-cloud to learn more about getting access to our IonQ Aria.', 'statusCode': 400}\n"
     ]
    }
   ],
   "source": [
<<<<<<< HEAD
    "bp.run(shots=512,verbose=-1)"
=======
    "ionqp.run(shots=4096)"
>>>>>>> 42f16c8 (thesis folder created)
   ]
  },
  {
   "cell_type": "code",
   "execution_count": 13,
   "id": "2dcff0a1",
   "metadata": {},
   "outputs": [
    {
     "data": {
      "text/plain": [
       "0.2955176690180533"
      ]
     },
     "execution_count": 13,
     "metadata": {},
     "output_type": "execute_result"
    }
   ],
   "source": [
    "res_ionq_cycle_real = bp.results(task_arn=\"my_task_arn\")\n",
    "tv(res_cycle_gt, res_ionq_cycle_real)"
   ]
  },
  {
   "cell_type": "markdown",
   "id": "7e847d6a",
   "metadata": {},
   "source": [
    "The above procedure can also be applied to ``Ising_chain`` since IonQ devices have complete connectivity. "
   ]
  },
  {
   "cell_type": "code",
<<<<<<< HEAD
   "execution_count": 26,
=======
   "execution_count": 24,
>>>>>>> 42f16c8 (thesis folder created)
   "id": "ac8371a2",
   "metadata": {},
   "outputs": [],
   "source": [
    "bp.compile(ising_chain, provider=\"ionq\", device=\"Harmony\", aais=\"heisenberg\", tol=1, trotter_num=4)"
   ]
  },
  {
   "cell_type": "code",
   "execution_count": null,
   "id": "01842c84",
   "metadata": {},
   "outputs": [],
   "source": [
    "bp.run(shots=512,verbose=-1)"
   ]
  },
  {
   "cell_type": "code",
<<<<<<< HEAD
   "execution_count": 13,
=======
   "execution_count": 25,
>>>>>>> 42f16c8 (thesis folder created)
   "id": "15360269",
   "metadata": {},
   "outputs": [
    {
<<<<<<< HEAD
     "data": {
      "text/plain": [
       "0.3261590753478466"
      ]
     },
     "execution_count": 13,
     "metadata": {},
     "output_type": "execute_result"
=======
     "ename": "KeyError",
     "evalue": "'status'",
     "output_type": "error",
     "traceback": [
      "\u001b[0;31m---------------------------------------------------------------------------\u001b[0m",
      "\u001b[0;31mKeyError\u001b[0m                                  Traceback (most recent call last)",
      "\u001b[1;32m/workspaces/SimuQ/notebooks/tutorials/1-ising.ipynb Cell 56\u001b[0m line \u001b[0;36m1\n\u001b[0;32m----> <a href='vscode-notebook-cell://codespaces%2Bscaling-pancake-vpr79qrg74g2wvv6/workspaces/SimuQ/notebooks/tutorials/1-ising.ipynb#Y106sdnNjb2RlLXJlbW90ZQ%3D%3D?line=0'>1</a>\u001b[0m res_ionq_chain_real \u001b[39m=\u001b[39m ionqp\u001b[39m.\u001b[39;49mresults(job_id\u001b[39m=\u001b[39;49m\u001b[39m\"\u001b[39;49m\u001b[39mff1e658d-985c-4e48-9cf8-c9875d34ec60\u001b[39;49m\u001b[39m\"\u001b[39;49m)\n\u001b[1;32m      <a href='vscode-notebook-cell://codespaces%2Bscaling-pancake-vpr79qrg74g2wvv6/workspaces/SimuQ/notebooks/tutorials/1-ising.ipynb#Y106sdnNjb2RlLXJlbW90ZQ%3D%3D?line=1'>2</a>\u001b[0m TV(res_chain_gt, res_ionq_chain_real)\n",
      "File \u001b[0;32m~/.python/current/lib/python3.10/site-packages/simuq/ionq/ionq_provider.py:125\u001b[0m, in \u001b[0;36mIonQProvider.results\u001b[0;34m(self, job_id, verbose)\u001b[0m\n\u001b[1;32m    122\u001b[0m response \u001b[39m=\u001b[39m requests\u001b[39m.\u001b[39mget(\u001b[39m\"\u001b[39m\u001b[39mhttps://api.ionq.co/v0.2/jobs/\u001b[39m\u001b[39m\"\u001b[39m \u001b[39m+\u001b[39m job_id, headers\u001b[39m=\u001b[39mheaders)\n\u001b[1;32m    123\u001b[0m res \u001b[39m=\u001b[39m response\u001b[39m.\u001b[39mjson()\n\u001b[0;32m--> 125\u001b[0m \u001b[39mif\u001b[39;00m res[\u001b[39m\"\u001b[39;49m\u001b[39mstatus\u001b[39;49m\u001b[39m\"\u001b[39;49m] \u001b[39m!=\u001b[39m \u001b[39m\"\u001b[39m\u001b[39mcompleted\u001b[39m\u001b[39m\"\u001b[39m:\n\u001b[1;32m    126\u001b[0m     \u001b[39mif\u001b[39;00m verbose \u001b[39m>\u001b[39m\u001b[39m=\u001b[39m \u001b[39m0\u001b[39m:\n\u001b[1;32m    127\u001b[0m         \u001b[39mprint\u001b[39m(\u001b[39m\"\u001b[39m\u001b[39mJob is not completed\u001b[39m\u001b[39m\"\u001b[39m)\n",
      "\u001b[0;31mKeyError\u001b[0m: 'status'"
     ]
>>>>>>> 42f16c8 (thesis folder created)
    }
   ],
   "source": [
    "res_ionq_chain_real = bp.results(task_arn=\"my_task_arn\")\n",
    "tv(res_chain_gt, res_ionq_chain_real)"
   ]
  },
  {
   "cell_type": "markdown",
   "id": "9b82ad01",
   "metadata": {},
   "source": [
    "### IBM's Transmon Systems\n",
    "\n",
    "Here we access IBM’s devices via qiskit. Similarly, we create an IBMprovider. "
   ]
  },
  {
   "cell_type": "code",
<<<<<<< HEAD
   "execution_count": 27,
=======
   "execution_count": 26,
>>>>>>> 42f16c8 (thesis folder created)
   "id": "324973eb",
   "metadata": {},
   "outputs": [],
   "source": [
    "from simuq.ibm import IBMProvider\n",
<<<<<<< HEAD
    "\n",
    "ibm = IBMProvider(\n",
    "    from_file=\"../../../qiskit_APIKEY\", hub=\"ibm-q-ornl\", group=\"ornl\", project=\"phy147\"\n",
    ")"
=======
    "ibm=IBMProvider(from_file=\"../ibm_API_key\", hub=\"ibm-q\", group=\"open\", project=\"main\")"
>>>>>>> 42f16c8 (thesis folder created)
   ]
  },
  {
   "cell_type": "markdown",
   "id": "d8cf8fbb",
   "metadata": {},
   "source": [
    "We can follow the same procedures to compile and deploy the Ising models on IBM's devices. Here we first validate the compilation on the noiseless simulator from qiskit. Similarly, the distance between the noiseless simulation and the ground truth results are calculated by TV. Notice that simulating pulse level instructions is much more time consuming than simulating circuit level instructions. Therefore, we only simulate gate level instructions here."
   ]
  },
  {
   "cell_type": "code",
<<<<<<< HEAD
   "execution_count": 28,
=======
   "execution_count": 32,
>>>>>>> 42f16c8 (thesis folder created)
   "id": "c7865db6",
   "metadata": {},
   "outputs": [
    {
     "ename": "PulseError",
     "evalue": "\"Operation 'cx' is not defined for this system.\"",
     "output_type": "error",
     "traceback": [
      "\u001b[0;31m---------------------------------------------------------------------------\u001b[0m",
      "\u001b[0;31mPulseError\u001b[0m                                Traceback (most recent call last)",
      "\u001b[1;32m/workspaces/SimuQ/notebooks/tutorials/1-ising.ipynb Cell 60\u001b[0m line \u001b[0;36m1\n\u001b[0;32m----> <a href='vscode-notebook-cell://codespaces%2Bscaling-pancake-vpr79qrg74g2wvv6/workspaces/SimuQ/notebooks/tutorials/1-ising.ipynb#Y113sdnNjb2RlLXJlbW90ZQ%3D%3D?line=0'>1</a>\u001b[0m ibm\u001b[39m.\u001b[39;49mcompile(Ising_chain, backend\u001b[39m=\u001b[39;49m\u001b[39m\"\u001b[39;49m\u001b[39mibm_brisbane\u001b[39;49m\u001b[39m\"\u001b[39;49m, trotter_num\u001b[39m=\u001b[39;49m\u001b[39m4\u001b[39;49m, use_pulse\u001b[39m=\u001b[39;49m\u001b[39mTrue\u001b[39;49;00m)\n\u001b[1;32m      <a href='vscode-notebook-cell://codespaces%2Bscaling-pancake-vpr79qrg74g2wvv6/workspaces/SimuQ/notebooks/tutorials/1-ising.ipynb#Y113sdnNjb2RlLXJlbW90ZQ%3D%3D?line=1'>2</a>\u001b[0m \u001b[39m# compile(\u001b[39;00m\n\u001b[1;32m      <a href='vscode-notebook-cell://codespaces%2Bscaling-pancake-vpr79qrg74g2wvv6/workspaces/SimuQ/notebooks/tutorials/1-ising.ipynb#Y113sdnNjb2RlLXJlbW90ZQ%3D%3D?line=2'>3</a>\u001b[0m \u001b[39m#     qs,\u001b[39;00m\n\u001b[1;32m      <a href='vscode-notebook-cell://codespaces%2Bscaling-pancake-vpr79qrg74g2wvv6/workspaces/SimuQ/notebooks/tutorials/1-ising.ipynb#Y113sdnNjb2RlLXJlbW90ZQ%3D%3D?line=3'>4</a>\u001b[0m \u001b[39m#     backend=\"ibmq_jakarta\",\u001b[39;00m\n\u001b[0;32m   (...)\u001b[0m\n\u001b[1;32m     <a href='vscode-notebook-cell://codespaces%2Bscaling-pancake-vpr79qrg74g2wvv6/workspaces/SimuQ/notebooks/tutorials/1-ising.ipynb#Y113sdnNjb2RlLXJlbW90ZQ%3D%3D?line=9'>10</a>\u001b[0m \u001b[39m#     state_prep=None, qiskit circuit, execute before the main body.\u001b[39;00m\n\u001b[1;32m     <a href='vscode-notebook-cell://codespaces%2Bscaling-pancake-vpr79qrg74g2wvv6/workspaces/SimuQ/notebooks/tutorials/1-ising.ipynb#Y113sdnNjb2RlLXJlbW90ZQ%3D%3D?line=10'>11</a>\u001b[0m \u001b[39m# ):\u001b[39;00m\n",
      "File \u001b[0;32m~/.python/current/lib/python3.10/site-packages/simuq/ibm/ibm_provider.py:40\u001b[0m, in \u001b[0;36mIBMProvider.compile\u001b[0;34m(self, qs, backend, aais, tol, trotter_num, verbose, use_pulse, state_prep)\u001b[0m\n\u001b[1;32m     37\u001b[0m     \u001b[39mfrom\u001b[39;00m \u001b[39msimuq\u001b[39;00m\u001b[39m.\u001b[39;00m\u001b[39maais\u001b[39;00m \u001b[39mimport\u001b[39;00m ibm\n\u001b[1;32m     38\u001b[0m     \u001b[39mfrom\u001b[39;00m \u001b[39msimuq\u001b[39;00m\u001b[39m.\u001b[39;00m\u001b[39mbackends\u001b[39;00m\u001b[39m.\u001b[39;00m\u001b[39mqiskit_pulse_ibm\u001b[39;00m \u001b[39mimport\u001b[39;00m transpile\n\u001b[0;32m---> 40\u001b[0m     mach \u001b[39m=\u001b[39m ibm\u001b[39m.\u001b[39;49mgenerate_qmachine(\u001b[39mself\u001b[39;49m\u001b[39m.\u001b[39;49mbackend)\n\u001b[1;32m     41\u001b[0m     comp \u001b[39m=\u001b[39m transpile\n\u001b[1;32m     43\u001b[0m layout, sol_gvars, boxes, edges \u001b[39m=\u001b[39m generate_as(\n\u001b[1;32m     44\u001b[0m     qs,\n\u001b[1;32m     45\u001b[0m     mach,\n\u001b[0;32m   (...)\u001b[0m\n\u001b[1;32m     50\u001b[0m     verbose\u001b[39m=\u001b[39mverbose,\n\u001b[1;32m     51\u001b[0m )\n",
      "File \u001b[0;32m~/.python/current/lib/python3.10/site-packages/simuq/aais/ibm.py:33\u001b[0m, in \u001b[0;36mgenerate_qmachine\u001b[0;34m(backend)\u001b[0m\n\u001b[1;32m     31\u001b[0m link \u001b[39m=\u001b[39m []\n\u001b[1;32m     32\u001b[0m \u001b[39mfor\u001b[39;00m item \u001b[39min\u001b[39;00m connected_pairs_cnot:\n\u001b[0;32m---> 33\u001b[0m     \u001b[39mif\u001b[39;00m get_control_qubit(item[\u001b[39m0\u001b[39;49m], item[\u001b[39m1\u001b[39;49m]) \u001b[39m==\u001b[39m item[\u001b[39m0\u001b[39m]:\n\u001b[1;32m     34\u001b[0m         link\u001b[39m.\u001b[39mappend(item)\n\u001b[1;32m     36\u001b[0m \u001b[39mfor\u001b[39;00m i \u001b[39min\u001b[39;00m \u001b[39mrange\u001b[39m(n):\n",
      "File \u001b[0;32m~/.python/current/lib/python3.10/site-packages/simuq/aais/ibm.py:18\u001b[0m, in \u001b[0;36mgenerate_qmachine.<locals>.get_control_qubit\u001b[0;34m(q1, q2)\u001b[0m\n\u001b[1;32m     17\u001b[0m \u001b[39mdef\u001b[39;00m \u001b[39mget_control_qubit\u001b[39m(q1, q2):  \u001b[39m# Control performs Z\u001b[39;00m\n\u001b[0;32m---> 18\u001b[0m     cx_sched \u001b[39m=\u001b[39m instruction_schedule_map\u001b[39m.\u001b[39;49mget(\u001b[39m\"\u001b[39;49m\u001b[39mcx\u001b[39;49m\u001b[39m\"\u001b[39;49m, qubits\u001b[39m=\u001b[39;49m(q1, q2))\n\u001b[1;32m     19\u001b[0m     supported \u001b[39m=\u001b[39m \u001b[39mFalse\u001b[39;00m\n\u001b[1;32m     20\u001b[0m     \u001b[39mfor\u001b[39;00m time, inst \u001b[39min\u001b[39;00m cx_sched\u001b[39m.\u001b[39minstructions:\n",
      "File \u001b[0;32m~/.python/current/lib/python3.10/site-packages/qiskit/pulse/instruction_schedule_map.py:195\u001b[0m, in \u001b[0;36mInstructionScheduleMap.get\u001b[0;34m(self, instruction, qubits, *params, **kwparams)\u001b[0m\n\u001b[1;32m    174\u001b[0m \u001b[39mdef\u001b[39;00m \u001b[39mget\u001b[39m(\n\u001b[1;32m    175\u001b[0m     \u001b[39mself\u001b[39m,\n\u001b[1;32m    176\u001b[0m     instruction: Union[\u001b[39mstr\u001b[39m, Instruction],\n\u001b[0;32m   (...)\u001b[0m\n\u001b[1;32m    179\u001b[0m     \u001b[39m*\u001b[39m\u001b[39m*\u001b[39mkwparams: Union[\u001b[39mcomplex\u001b[39m, ParameterExpression],\n\u001b[1;32m    180\u001b[0m ) \u001b[39m-\u001b[39m\u001b[39m>\u001b[39m Union[Schedule, ScheduleBlock]:\n\u001b[1;32m    181\u001b[0m \u001b[39m    \u001b[39m\u001b[39m\"\"\"Return the defined :py:class:`~qiskit.pulse.Schedule` or\u001b[39;00m\n\u001b[1;32m    182\u001b[0m \u001b[39m    :py:class:`~qiskit.pulse.ScheduleBlock` for the given instruction on the given qubits.\u001b[39;00m\n\u001b[1;32m    183\u001b[0m \n\u001b[0;32m   (...)\u001b[0m\n\u001b[1;32m    193\u001b[0m \u001b[39m        The Schedule defined for the input.\u001b[39;00m\n\u001b[1;32m    194\u001b[0m \u001b[39m    \"\"\"\u001b[39;00m\n\u001b[0;32m--> 195\u001b[0m     \u001b[39mreturn\u001b[39;00m \u001b[39mself\u001b[39;49m\u001b[39m.\u001b[39;49m_get_calibration_entry(instruction, qubits)\u001b[39m.\u001b[39mget_schedule(\u001b[39m*\u001b[39mparams, \u001b[39m*\u001b[39m\u001b[39m*\u001b[39mkwparams)\n",
      "File \u001b[0;32m~/.python/current/lib/python3.10/site-packages/qiskit/pulse/instruction_schedule_map.py:219\u001b[0m, in \u001b[0;36mInstructionScheduleMap._get_calibration_entry\u001b[0;34m(self, instruction, qubits)\u001b[0m\n\u001b[1;32m    202\u001b[0m \u001b[39m\u001b[39m\u001b[39m\"\"\"Return the :class:`.CalibrationEntry` without generating schedule.\u001b[39;00m\n\u001b[1;32m    203\u001b[0m \n\u001b[1;32m    204\u001b[0m \u001b[39mWhen calibration entry is un-parsed Pulse Qobj, this returns calibration\u001b[39;00m\n\u001b[0;32m   (...)\u001b[0m\n\u001b[1;32m    216\u001b[0m \u001b[39m    The calibration entry.\u001b[39;00m\n\u001b[1;32m    217\u001b[0m \u001b[39m\"\"\"\u001b[39;00m\n\u001b[1;32m    218\u001b[0m instruction \u001b[39m=\u001b[39m _get_instruction_string(instruction)\n\u001b[0;32m--> 219\u001b[0m \u001b[39mself\u001b[39;49m\u001b[39m.\u001b[39;49massert_has(instruction, qubits)\n\u001b[1;32m    221\u001b[0m \u001b[39mreturn\u001b[39;00m \u001b[39mself\u001b[39m\u001b[39m.\u001b[39m_map[instruction][_to_tuple(qubits)]\n",
      "File \u001b[0;32m~/.python/current/lib/python3.10/site-packages/qiskit/pulse/instruction_schedule_map.py:172\u001b[0m, in \u001b[0;36mInstructionScheduleMap.assert_has\u001b[0;34m(self, instruction, qubits)\u001b[0m\n\u001b[1;32m    165\u001b[0m \u001b[39mif\u001b[39;00m instruction \u001b[39min\u001b[39;00m \u001b[39mself\u001b[39m\u001b[39m.\u001b[39m_map:\n\u001b[1;32m    166\u001b[0m     \u001b[39mraise\u001b[39;00m PulseError(\n\u001b[1;32m    167\u001b[0m         \u001b[39m\"\u001b[39m\u001b[39mOperation \u001b[39m\u001b[39m'\u001b[39m\u001b[39m{inst}\u001b[39;00m\u001b[39m'\u001b[39m\u001b[39m exists, but is only defined for qubits \u001b[39m\u001b[39m\"\u001b[39m\n\u001b[1;32m    168\u001b[0m         \u001b[39m\"\u001b[39m\u001b[39m{qubits}\u001b[39;00m\u001b[39m.\u001b[39m\u001b[39m\"\u001b[39m\u001b[39m.\u001b[39mformat(\n\u001b[1;32m    169\u001b[0m             inst\u001b[39m=\u001b[39minstruction, qubits\u001b[39m=\u001b[39m\u001b[39mself\u001b[39m\u001b[39m.\u001b[39mqubits_with_instruction(instruction)\n\u001b[1;32m    170\u001b[0m         )\n\u001b[1;32m    171\u001b[0m     )\n\u001b[0;32m--> 172\u001b[0m \u001b[39mraise\u001b[39;00m PulseError(\u001b[39mf\u001b[39m\u001b[39m\"\u001b[39m\u001b[39mOperation \u001b[39m\u001b[39m'\u001b[39m\u001b[39m{\u001b[39;00minstruction\u001b[39m}\u001b[39;00m\u001b[39m'\u001b[39m\u001b[39m is not defined for this system.\u001b[39m\u001b[39m\"\u001b[39m)\n",
      "\u001b[0;31mPulseError\u001b[0m: \"Operation 'cx' is not defined for this system.\""
     ]
    }
   ],
   "source": [
<<<<<<< HEAD
    "ibm.compile(ising_chain, backend=\"ibmq_guadalupe\", trotter_num=4, use_pulse=False)"
=======
    "ibm.compile(Ising_chain, backend=\"ibm_brisbane\", trotter_num=4, use_pulse=True)\n",
    "# compile(\n",
    "#     qs,\n",
    "#     backend=\"ibmq_jakarta\",\n",
    "#     aais=\"heisenberg\", support single qubit rotation, two qubit XX, YY and ZZ.\n",
    "#     tol=0.01,\n",
    "#     trotter_num=6,\n",
    "#     verbose=0,\n",
    "#     use_pulse=True, whether use pulse or use IBM's default gate set.\n",
    "#     state_prep=None, qiskit circuit, execute before the main body.\n",
    "# ):"
>>>>>>> 42f16c8 (thesis folder created)
   ]
  },
  {
   "cell_type": "code",
<<<<<<< HEAD
   "execution_count": 29,
=======
   "execution_count": 31,
>>>>>>> 42f16c8 (thesis folder created)
   "id": "9f904d74",
   "metadata": {},
   "outputs": [
    {
<<<<<<< HEAD
     "name": "stdout",
     "output_type": "stream",
     "text": [
      "<qiskit.providers.ibmq.job.ibmqjob.IBMQJob object at 0x29e6d80d0>\n"
=======
     "ename": "AttributeError",
     "evalue": "'NoneType' object has no attribute 'name'",
     "output_type": "error",
     "traceback": [
      "\u001b[0;31m---------------------------------------------------------------------------\u001b[0m",
      "\u001b[0;31mAttributeError\u001b[0m                            Traceback (most recent call last)",
      "\u001b[1;32m/workspaces/SimuQ/notebooks/tutorials/1-ising.ipynb Cell 61\u001b[0m line \u001b[0;36m1\n\u001b[0;32m----> <a href='vscode-notebook-cell://codespaces%2Bscaling-pancake-vpr79qrg74g2wvv6/workspaces/SimuQ/notebooks/tutorials/1-ising.ipynb#Y114sdnNjb2RlLXJlbW90ZQ%3D%3D?line=0'>1</a>\u001b[0m ibm\u001b[39m.\u001b[39;49mrun(on_simulator\u001b[39m=\u001b[39;49m\u001b[39mTrue\u001b[39;49;00m)\n",
      "File \u001b[0;32m~/.python/current/lib/python3.10/site-packages/simuq/ibm/ibm_provider.py:84\u001b[0m, in \u001b[0;36mIBMProvider.run\u001b[0;34m(self, shots, on_simulator, with_noise, verbose)\u001b[0m\n\u001b[1;32m     82\u001b[0m     \u001b[39melse\u001b[39;00m:\n\u001b[1;32m     83\u001b[0m         \u001b[39mself\u001b[39m\u001b[39m.\u001b[39msimulator \u001b[39m=\u001b[39m \u001b[39mself\u001b[39m\u001b[39m.\u001b[39mprovider\u001b[39m.\u001b[39mget_backend(\u001b[39m\"\u001b[39m\u001b[39mibmq_qasm_simulator\u001b[39m\u001b[39m\"\u001b[39m)\n\u001b[0;32m---> 84\u001b[0m     job \u001b[39m=\u001b[39m execute(\u001b[39mself\u001b[39;49m\u001b[39m.\u001b[39;49mprog, shots\u001b[39m=\u001b[39;49mshots, backend\u001b[39m=\u001b[39;49m\u001b[39mself\u001b[39;49m\u001b[39m.\u001b[39;49msimulator)\n\u001b[1;32m     85\u001b[0m \u001b[39melse\u001b[39;00m:\n\u001b[1;32m     86\u001b[0m     job \u001b[39m=\u001b[39m execute(\u001b[39mself\u001b[39m\u001b[39m.\u001b[39mprog, shots\u001b[39m=\u001b[39mshots, backend\u001b[39m=\u001b[39m\u001b[39mself\u001b[39m\u001b[39m.\u001b[39mbackend)\n",
      "File \u001b[0;32m~/.python/current/lib/python3.10/site-packages/qiskit/utils/deprecation.py:182\u001b[0m, in \u001b[0;36mdeprecate_arg.<locals>.decorator.<locals>.wrapper\u001b[0;34m(*args, **kwargs)\u001b[0m\n\u001b[1;32m    169\u001b[0m \u001b[39m@functools\u001b[39m\u001b[39m.\u001b[39mwraps(func)\n\u001b[1;32m    170\u001b[0m \u001b[39mdef\u001b[39;00m \u001b[39mwrapper\u001b[39m(\u001b[39m*\u001b[39margs, \u001b[39m*\u001b[39m\u001b[39m*\u001b[39mkwargs):\n\u001b[1;32m    171\u001b[0m     _maybe_warn_and_rename_kwarg(\n\u001b[1;32m    172\u001b[0m         args,\n\u001b[1;32m    173\u001b[0m         kwargs,\n\u001b[0;32m   (...)\u001b[0m\n\u001b[1;32m    180\u001b[0m         predicate\u001b[39m=\u001b[39mpredicate,\n\u001b[1;32m    181\u001b[0m     )\n\u001b[0;32m--> 182\u001b[0m     \u001b[39mreturn\u001b[39;00m func(\u001b[39m*\u001b[39;49margs, \u001b[39m*\u001b[39;49m\u001b[39m*\u001b[39;49mkwargs)\n",
      "File \u001b[0;32m~/.python/current/lib/python3.10/site-packages/qiskit/utils/deprecation.py:182\u001b[0m, in \u001b[0;36mdeprecate_arg.<locals>.decorator.<locals>.wrapper\u001b[0;34m(*args, **kwargs)\u001b[0m\n\u001b[1;32m    169\u001b[0m \u001b[39m@functools\u001b[39m\u001b[39m.\u001b[39mwraps(func)\n\u001b[1;32m    170\u001b[0m \u001b[39mdef\u001b[39;00m \u001b[39mwrapper\u001b[39m(\u001b[39m*\u001b[39margs, \u001b[39m*\u001b[39m\u001b[39m*\u001b[39mkwargs):\n\u001b[1;32m    171\u001b[0m     _maybe_warn_and_rename_kwarg(\n\u001b[1;32m    172\u001b[0m         args,\n\u001b[1;32m    173\u001b[0m         kwargs,\n\u001b[0;32m   (...)\u001b[0m\n\u001b[1;32m    180\u001b[0m         predicate\u001b[39m=\u001b[39mpredicate,\n\u001b[1;32m    181\u001b[0m     )\n\u001b[0;32m--> 182\u001b[0m     \u001b[39mreturn\u001b[39;00m func(\u001b[39m*\u001b[39;49margs, \u001b[39m*\u001b[39;49m\u001b[39m*\u001b[39;49mkwargs)\n",
      "File \u001b[0;32m~/.python/current/lib/python3.10/site-packages/qiskit/execute_function.py:304\u001b[0m, in \u001b[0;36mexecute\u001b[0;34m(***failed resolving arguments***)\u001b[0m\n\u001b[1;32m    301\u001b[0m     experiments \u001b[39m=\u001b[39m pass_manager\u001b[39m.\u001b[39mrun(experiments)\n\u001b[1;32m    302\u001b[0m \u001b[39melse\u001b[39;00m:\n\u001b[1;32m    303\u001b[0m     \u001b[39m# transpiling the circuits using given transpile options\u001b[39;00m\n\u001b[0;32m--> 304\u001b[0m     experiments \u001b[39m=\u001b[39m transpile(\n\u001b[1;32m    305\u001b[0m         experiments,\n\u001b[1;32m    306\u001b[0m         basis_gates\u001b[39m=\u001b[39;49mbasis_gates,\n\u001b[1;32m    307\u001b[0m         coupling_map\u001b[39m=\u001b[39;49mcoupling_map,\n\u001b[1;32m    308\u001b[0m         backend_properties\u001b[39m=\u001b[39;49mbackend_properties,\n\u001b[1;32m    309\u001b[0m         initial_layout\u001b[39m=\u001b[39;49minitial_layout,\n\u001b[1;32m    310\u001b[0m         seed_transpiler\u001b[39m=\u001b[39;49mseed_transpiler,\n\u001b[1;32m    311\u001b[0m         optimization_level\u001b[39m=\u001b[39;49moptimization_level,\n\u001b[1;32m    312\u001b[0m         backend\u001b[39m=\u001b[39;49mbackend,\n\u001b[1;32m    313\u001b[0m     )\n\u001b[1;32m    315\u001b[0m \u001b[39mif\u001b[39;00m schedule_circuit:\n\u001b[1;32m    316\u001b[0m     experiments \u001b[39m=\u001b[39m schedule(\n\u001b[1;32m    317\u001b[0m         circuits\u001b[39m=\u001b[39mexperiments,\n\u001b[1;32m    318\u001b[0m         backend\u001b[39m=\u001b[39mbackend,\n\u001b[0;32m   (...)\u001b[0m\n\u001b[1;32m    321\u001b[0m         method\u001b[39m=\u001b[39mscheduling_method,\n\u001b[1;32m    322\u001b[0m     )\n",
      "File \u001b[0;32m~/.python/current/lib/python3.10/site-packages/qiskit/compiler/transpiler.py:331\u001b[0m, in \u001b[0;36mtranspile\u001b[0;34m(circuits, backend, basis_gates, inst_map, coupling_map, backend_properties, initial_layout, layout_method, routing_method, translation_method, scheduling_method, instruction_durations, dt, approximation_degree, timing_constraints, seed_transpiler, optimization_level, callback, output_name, unitary_synthesis_method, unitary_synthesis_plugin_config, target, hls_config, init_method, optimization_method, ignore_backend_supplied_default_methods)\u001b[0m\n\u001b[1;32m    328\u001b[0m coupling_map \u001b[39m=\u001b[39m _parse_coupling_map(coupling_map, backend)\n\u001b[1;32m    329\u001b[0m approximation_degree \u001b[39m=\u001b[39m _parse_approximation_degree(approximation_degree)\n\u001b[0;32m--> 331\u001b[0m output_name \u001b[39m=\u001b[39m _parse_output_name(output_name, circuits)\n\u001b[1;32m    332\u001b[0m inst_map \u001b[39m=\u001b[39m _parse_inst_map(inst_map, backend)\n\u001b[1;32m    334\u001b[0m _check_circuits_coupling_map(circuits, coupling_map, backend)\n",
      "File \u001b[0;32m~/.python/current/lib/python3.10/site-packages/qiskit/compiler/transpiler.py:586\u001b[0m, in \u001b[0;36m_parse_output_name\u001b[0;34m(output_name, circuits)\u001b[0m\n\u001b[1;32m    581\u001b[0m         \u001b[39mraise\u001b[39;00m TranspilerError(\n\u001b[1;32m    582\u001b[0m             \u001b[39m\"\u001b[39m\u001b[39mThe parameter output_name should be a string or a\u001b[39m\u001b[39m\"\u001b[39m\n\u001b[1;32m    583\u001b[0m             \u001b[39m\"\u001b[39m\u001b[39mlist of strings: \u001b[39m\u001b[39m%s\u001b[39;00m\u001b[39m was used.\u001b[39m\u001b[39m\"\u001b[39m \u001b[39m%\u001b[39m \u001b[39mtype\u001b[39m(output_name)\n\u001b[1;32m    584\u001b[0m         )\n\u001b[1;32m    585\u001b[0m \u001b[39melse\u001b[39;00m:\n\u001b[0;32m--> 586\u001b[0m     \u001b[39mreturn\u001b[39;00m [circuit\u001b[39m.\u001b[39mname \u001b[39mfor\u001b[39;00m circuit \u001b[39min\u001b[39;00m circuits]\n",
      "File \u001b[0;32m~/.python/current/lib/python3.10/site-packages/qiskit/compiler/transpiler.py:586\u001b[0m, in \u001b[0;36m<listcomp>\u001b[0;34m(.0)\u001b[0m\n\u001b[1;32m    581\u001b[0m         \u001b[39mraise\u001b[39;00m TranspilerError(\n\u001b[1;32m    582\u001b[0m             \u001b[39m\"\u001b[39m\u001b[39mThe parameter output_name should be a string or a\u001b[39m\u001b[39m\"\u001b[39m\n\u001b[1;32m    583\u001b[0m             \u001b[39m\"\u001b[39m\u001b[39mlist of strings: \u001b[39m\u001b[39m%s\u001b[39;00m\u001b[39m was used.\u001b[39m\u001b[39m\"\u001b[39m \u001b[39m%\u001b[39m \u001b[39mtype\u001b[39m(output_name)\n\u001b[1;32m    584\u001b[0m         )\n\u001b[1;32m    585\u001b[0m \u001b[39melse\u001b[39;00m:\n\u001b[0;32m--> 586\u001b[0m     \u001b[39mreturn\u001b[39;00m [circuit\u001b[39m.\u001b[39;49mname \u001b[39mfor\u001b[39;00m circuit \u001b[39min\u001b[39;00m circuits]\n",
      "\u001b[0;31mAttributeError\u001b[0m: 'NoneType' object has no attribute 'name'"
>>>>>>> 42f16c8 (thesis folder created)
     ]
    }
   ],
   "source": [
    "ibm.run(on_simulator=True)"
   ]
  },
  {
   "cell_type": "code",
   "execution_count": 30,
   "id": "425abd7d",
   "metadata": {},
   "outputs": [
    {
     "data": {
      "text/plain": [
       "0.13308281020998233"
      ]
     },
     "execution_count": 30,
     "metadata": {},
     "output_type": "execute_result"
    }
   ],
   "source": [
    "res_ibm_chain = ibm.results(on_simulator=True)\n",
    "tv(res_chain_gt, res_ibm_chain)"
   ]
  },
  {
   "cell_type": "markdown",
   "id": "c8422174",
   "metadata": {},
   "source": [
    "A noisy simulation for IBM devices is also possible. We repeat the above procedure to see how noises will likely affect the results."
   ]
  },
  {
   "cell_type": "code",
   "execution_count": null,
   "id": "0a43be69",
   "metadata": {},
   "outputs": [],
   "source": [
    "ibm.run(on_simulator=True, with_noise=True)"
   ]
  },
  {
   "cell_type": "code",
   "execution_count": 31,
   "id": "8ca34df2",
   "metadata": {},
   "outputs": [
    {
     "data": {
      "text/plain": [
       "0.14297352472366937"
      ]
     },
     "execution_count": 31,
     "metadata": {},
     "output_type": "execute_result"
    }
   ],
   "source": [
    "res_ibm_chain_noisy = ibm.results(on_simulator=True)\n",
    "tv(res_chain_gt, res_ibm_chain_noisy)"
   ]
  },
  {
   "cell_type": "markdown",
   "id": "b6b9a949",
   "metadata": {},
   "source": [
    "We may then send the compiled circuits to be executed on the real devices. We also use a previously submitted job to present the results."
   ]
  },
  {
   "cell_type": "code",
   "execution_count": 32,
   "id": "e4be685c",
   "metadata": {},
   "outputs": [
    {
     "name": "stdout",
     "output_type": "stream",
     "text": [
      "<qiskit.providers.ibmq.job.ibmqjob.IBMQJob object at 0x7ff2746d1f50>\n"
     ]
    }
   ],
   "source": [
    "# ibm.run(shots=4096)"
   ]
  },
  {
   "cell_type": "code",
   "execution_count": 12,
   "id": "0ddf1e4c",
   "metadata": {},
   "outputs": [
    {
     "data": {
      "text/plain": [
       "0.36901814080051965"
      ]
     },
     "execution_count": 12,
     "metadata": {},
     "output_type": "execute_result"
    }
   ],
   "source": [
    "res_ibm_chain_real = ibm.results(job_id=\"cjg1s533smr2evmgi8b0\")\n",
    "tv(res_chain_gt, res_ibm_chain_real)"
   ]
  },
  {
   "cell_type": "markdown",
   "id": "ad33ca01",
   "metadata": {},
   "source": [
    "Next, we try to use pulse level compilation to enhance the performance."
   ]
  },
  {
   "cell_type": "code",
   "execution_count": 26,
   "id": "f9f8682c",
   "metadata": {},
   "outputs": [],
   "source": [
    "ibm.compile(ising_chain, backend=\"ibmq_guadalupe\", trotter_num=4, use_pulse=True)"
   ]
  },
  {
   "cell_type": "code",
   "execution_count": 28,
   "id": "363db496",
   "metadata": {},
   "outputs": [
    {
     "name": "stdout",
     "output_type": "stream",
     "text": [
      "<qiskit.providers.ibmq.job.ibmqjob.IBMQJob object at 0x7f1a3c17c5d0>\n"
     ]
    }
   ],
   "source": [
    "# ibm.run(shots=4096)"
   ]
  },
  {
   "cell_type": "code",
   "execution_count": null,
   "id": "eb360e62",
   "metadata": {},
   "outputs": [],
   "source": [
    "res_ibm_chain_real = ibm.results(job_id=\"cjgll3q67vbih38voap0\")\n",
    "tv(res_chain_gt, res_ibm_chain_real)"
   ]
  },
  {
   "cell_type": "markdown",
   "id": "fb59d469",
   "metadata": {},
   "source": [
    "The results of Ising model on different backends are summarized as following.\n",
    "<div> <img src=\"imgs/figure_ising_simulation.png\" width=\"800\"/> </div> "
   ]
  }
 ],
 "metadata": {
  "kernelspec": {
   "display_name": "Python 3 (ipykernel)",
   "language": "python",
   "name": "python3"
  },
  "language_info": {
   "codemirror_mode": {
    "name": "ipython",
    "version": 3
   },
   "file_extension": ".py",
   "mimetype": "text/x-python",
   "name": "python",
   "nbconvert_exporter": "python",
   "pygments_lexer": "ipython3",
<<<<<<< HEAD
   "version": "3.11.5"
=======
   "version": "3.10.8"
>>>>>>> 42f16c8 (thesis folder created)
  }
 },
 "nbformat": 4,
 "nbformat_minor": 5
}
