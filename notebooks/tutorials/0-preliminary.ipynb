{
 "cells": [
  {
   "cell_type": "markdown",
   "metadata": {},
   "source": [
    "# Simulation of quantum systems\n",
    "\n",
    "In this notebook, we introduce the concepts of quantum simulation and the basic usage of SimuQ. \n",
    "\n",
    "Given a Hamiltonian $H$, the time evolution of a quantum system is governed by the Schrödinger equation. $$i\\frac{d}{dt}|\\psi(t)\\rangle = H|\\psi(t)\\rangle.$$\n",
    "\n",
    "Simulation of quantum systems is to solve the Schrödinger equation and obtain the system's state at a given time.\n",
    "\n",
    "Due to the exponentially-large Hilbert space, a classical computer can not effectively simulate a quantum system's time evolution in general. SimuQ provides a general and flexible way to simulate the time evolution of a quantum system using quantum computers.\n",
    "\n"
   ]
  },
  {
   "cell_type": "markdown",
   "metadata": {},
   "source": [
    "## Installation"
   ]
  },
  {
   "cell_type": "markdown",
   "metadata": {},
   "source": [
    "You may install SimuQ directly via `pip`:"
   ]
  },
  {
   "cell_type": "code",
   "execution_count": 1,
   "metadata": {},
   "outputs": [
    {
     "name": "stdout",
     "output_type": "stream",
     "text": [
      "Requirement already satisfied: simuq in /usr/local/python/3.10.8/lib/python3.10/site-packages (0.1.1.dev0)\n",
      "Requirement already satisfied: numpy in /usr/local/python/3.10.8/lib/python3.10/site-packages (from simuq) (1.23.5)\n",
      "Requirement already satisfied: scipy in /home/codespace/.local/lib/python3.10/site-packages (from simuq) (1.11.2)\n",
      "Requirement already satisfied: networkx in /home/codespace/.local/lib/python3.10/site-packages (from simuq) (3.1)\n",
      "Note: you may need to restart the kernel to use updated packages.\n",
      "Requirement already satisfied: qiskit-ibmq-provider in /usr/local/python/3.10.8/lib/python3.10/site-packages (0.20.2)\n",
      "Requirement already satisfied: qiskit-terra>=0.18.0 in /usr/local/python/3.10.8/lib/python3.10/site-packages (from qiskit-ibmq-provider) (0.25.1)\n",
      "Requirement already satisfied: requests>=2.19 in /home/codespace/.local/lib/python3.10/site-packages (from qiskit-ibmq-provider) (2.31.0)\n",
      "Requirement already satisfied: requests-ntlm<=1.1.0 in /usr/local/python/3.10.8/lib/python3.10/site-packages (from qiskit-ibmq-provider) (1.1.0)\n",
      "Requirement already satisfied: numpy<1.24 in /usr/local/python/3.10.8/lib/python3.10/site-packages (from qiskit-ibmq-provider) (1.23.5)\n",
      "Requirement already satisfied: urllib3>=1.21.1 in /usr/local/python/3.10.8/lib/python3.10/site-packages (from qiskit-ibmq-provider) (1.26.16)\n",
      "Requirement already satisfied: python-dateutil>=2.8.0 in /home/codespace/.local/lib/python3.10/site-packages (from qiskit-ibmq-provider) (2.8.2)\n",
      "Requirement already satisfied: websocket-client>=1.5.1 in /home/codespace/.local/lib/python3.10/site-packages (from qiskit-ibmq-provider) (1.6.2)\n",
      "Requirement already satisfied: websockets>=10.0 in /usr/local/python/3.10.8/lib/python3.10/site-packages (from qiskit-ibmq-provider) (11.0.3)\n",
      "Requirement already satisfied: six>=1.5 in /home/codespace/.local/lib/python3.10/site-packages (from python-dateutil>=2.8.0->qiskit-ibmq-provider) (1.16.0)\n",
      "Requirement already satisfied: rustworkx>=0.13.0 in /usr/local/python/3.10.8/lib/python3.10/site-packages (from qiskit-terra>=0.18.0->qiskit-ibmq-provider) (0.13.1)\n",
      "Requirement already satisfied: ply>=3.10 in /usr/local/python/3.10.8/lib/python3.10/site-packages (from qiskit-terra>=0.18.0->qiskit-ibmq-provider) (3.11)\n",
      "Requirement already satisfied: psutil>=5 in /home/codespace/.local/lib/python3.10/site-packages (from qiskit-terra>=0.18.0->qiskit-ibmq-provider) (5.9.5)\n",
      "Requirement already satisfied: scipy>=1.5 in /home/codespace/.local/lib/python3.10/site-packages (from qiskit-terra>=0.18.0->qiskit-ibmq-provider) (1.11.2)\n",
      "Requirement already satisfied: sympy>=1.3 in /home/codespace/.local/lib/python3.10/site-packages (from qiskit-terra>=0.18.0->qiskit-ibmq-provider) (1.12)\n",
      "Requirement already satisfied: dill>=0.3 in /usr/local/python/3.10.8/lib/python3.10/site-packages (from qiskit-terra>=0.18.0->qiskit-ibmq-provider) (0.3.7)\n",
      "Requirement already satisfied: stevedore>=3.0.0 in /usr/local/python/3.10.8/lib/python3.10/site-packages (from qiskit-terra>=0.18.0->qiskit-ibmq-provider) (5.1.0)\n",
      "Requirement already satisfied: symengine<0.10,>=0.9 in /usr/local/python/3.10.8/lib/python3.10/site-packages (from qiskit-terra>=0.18.0->qiskit-ibmq-provider) (0.9.2)\n",
      "Requirement already satisfied: typing-extensions in /home/codespace/.local/lib/python3.10/site-packages (from qiskit-terra>=0.18.0->qiskit-ibmq-provider) (4.7.1)\n",
      "Requirement already satisfied: charset-normalizer<4,>=2 in /home/codespace/.local/lib/python3.10/site-packages (from requests>=2.19->qiskit-ibmq-provider) (3.2.0)\n",
      "Requirement already satisfied: idna<4,>=2.5 in /home/codespace/.local/lib/python3.10/site-packages (from requests>=2.19->qiskit-ibmq-provider) (3.4)\n",
      "Requirement already satisfied: certifi>=2017.4.17 in /home/codespace/.local/lib/python3.10/site-packages (from requests>=2.19->qiskit-ibmq-provider) (2023.7.22)\n",
      "Requirement already satisfied: ntlm-auth>=1.0.2 in /usr/local/python/3.10.8/lib/python3.10/site-packages (from requests-ntlm<=1.1.0->qiskit-ibmq-provider) (1.5.0)\n",
      "Requirement already satisfied: cryptography>=1.3 in /home/codespace/.local/lib/python3.10/site-packages (from requests-ntlm<=1.1.0->qiskit-ibmq-provider) (41.0.3)\n",
      "Requirement already satisfied: cffi>=1.12 in /home/codespace/.local/lib/python3.10/site-packages (from cryptography>=1.3->requests-ntlm<=1.1.0->qiskit-ibmq-provider) (1.15.1)\n",
      "Requirement already satisfied: pbr!=2.1.0,>=2.0.0 in /usr/local/python/3.10.8/lib/python3.10/site-packages (from stevedore>=3.0.0->qiskit-terra>=0.18.0->qiskit-ibmq-provider) (5.11.1)\n",
      "Requirement already satisfied: mpmath>=0.19 in /home/codespace/.local/lib/python3.10/site-packages (from sympy>=1.3->qiskit-terra>=0.18.0->qiskit-ibmq-provider) (1.3.0)\n",
      "Requirement already satisfied: pycparser in /home/codespace/.local/lib/python3.10/site-packages (from cffi>=1.12->cryptography>=1.3->requests-ntlm<=1.1.0->qiskit-ibmq-provider) (2.21)\n",
      "Note: you may need to restart the kernel to use updated packages.\n"
     ]
    }
   ],
   "source": [
<<<<<<< HEAD
    "%pip install \"simuq[qutip,braket,qiskit]\""
=======
    "%pip install simuq\n",
    "%pip install qiskit-ibmq-provider"
>>>>>>> 42f16c8 (thesis folder created)
   ]
  },
  {
   "cell_type": "markdown",
   "metadata": {},
   "source": [
    "We start with programming the Ising model on a 3 qubit chain.\n",
    "\n",
    "# Prepare the python environment\n"
   ]
  },
  {
   "cell_type": "code",
   "execution_count": 2,
   "metadata": {},
   "outputs": [],
   "source": [
    "from simuq import QSystem\n",
    "from simuq import Qubit"
   ]
  },
  {
   "cell_type": "markdown",
   "metadata": {},
   "source": [
    "Here `QSystem` is the class for quantum systems, and `qubit` is the class for qubit sites.\n",
    "\n",
    "## Define the evolution\n",
    "\n",
    "First we create a quantum system and a list of qubit sites."
   ]
  },
  {
   "cell_type": "code",
   "execution_count": 3,
   "metadata": {},
   "outputs": [],
   "source": [
    "n_qubits = 3\n",
    "qs = QSystem()\n",
    "q1, q2, q3 = Qubit(qs), Qubit(qs), Qubit(qs)"
   ]
  },
  {
   "cell_type": "markdown",
   "metadata": {},
   "source": [
    "Suppose our target is a short evolution governed by an constant Ising Hamiltonian $H=X_1X_2+X_2X_3+Z_1+Z_2+Z_3$. We can program the evolution as follows. SimuQ follows a OOP style for Hamiltonian programming."
   ]
  },
  {
   "cell_type": "code",
   "execution_count": 4,
   "metadata": {},
   "outputs": [],
   "source": [
    "h = q1.X * q2.X + q2.X * q3.X + q1.Z + q2.Z + q3.Z"
   ]
  },
  {
   "cell_type": "markdown",
   "metadata": {},
   "source": [
    "We add a $T=1$ time evolution under $H$ to the quantum system.\n"
   ]
  },
  {
   "cell_type": "code",
   "execution_count": 5,
   "metadata": {},
   "outputs": [],
   "source": [
    "T = 1\n",
    "qs.add_evolution(h, T)"
   ]
  },
  {
   "cell_type": "markdown",
   "metadata": {},
   "source": [
    "Then `qs` contains the evolution of $H$ for time $T$."
   ]
  },
  {
   "cell_type": "markdown",
   "metadata": {},
   "source": [
    "# Create a QuTiP provider\n",
    "\n",
    "A provider is a user interface for convenient manipulations of functionalities of SimuQ. QuTiP is a python package for simulating the dynamics of open quantum systems. \n",
    "\n",
    "We use QuTiP provider as a basic example on how to use providers to deploy quantum simulation problems on devices and obtain results.\n",
    "\n",
    "We can create a QuTiP provider via the following code\n"
   ]
  },
  {
   "cell_type": "code",
   "execution_count": 5,
   "metadata": {},
   "outputs": [],
   "source": [
    "from simuq.qutip import QuTiPProvider\n",
    "\n",
    "qpp = QuTiPProvider()"
   ]
  },
  {
   "cell_type": "markdown",
   "metadata": {},
   "source": [
    "## Compilation in provider\n",
    "\n",
    "To simulate a quantum system `qs` programmed in HML via SimuQ, we need three major steps of a provider: `compile`, `run`, `results`.\n",
    "\n",
    "We call the `compile` function of the provider to process the system into a runnable executable. For QuTiP provider, we can execute"
   ]
  },
  {
   "cell_type": "code",
   "execution_count": 6,
   "metadata": {},
   "outputs": [
    {
     "name": "stdout",
     "output_type": "stream",
     "text": [
      "Compiled.\n"
     ]
    }
   ],
   "source": [
    "qpp.compile(qs)"
   ]
  },
  {
   "cell_type": "markdown",
   "metadata": {},
   "source": [
    "QuTiP provider processes the quantum system `qs` and translate it into a Hamiltonian in QuTiP. \n",
    "\n",
    "For other providers, compile command may specify the backend device, AAIS, and compiler specifications.\n",
    "\n",
    "When compilation succeeds, the job will be recorded in the provider.\n",
    "\n",
    "## Run and obtain results from providers\n",
    "\n",
    "Running a job will send the compilation results to backend devices to execute. For QuTiP provider, we execute\n"
   ]
  },
  {
   "cell_type": "code",
   "execution_count": 7,
   "metadata": {},
   "outputs": [
    {
     "name": "stdout",
     "output_type": "stream",
     "text": [
      "Solved.\n"
     ]
    }
   ],
   "source": [
    "qpp.run()"
   ]
  },
  {
   "cell_type": "markdown",
   "metadata": {},
   "source": [
    "To retrieve the results, we can execute"
   ]
  },
  {
   "cell_type": "code",
   "execution_count": 8,
   "metadata": {},
   "outputs": [
    {
     "data": {
      "text/plain": [
       "{'000': 0.697205360082755,\n",
       " '001': 0.0,\n",
       " '010': 0.0,\n",
       " '011': 0.05973358916350665,\n",
       " '100': 0.0,\n",
       " '101': 0.18332746159023183,\n",
       " '110': 0.05973358916350665,\n",
       " '111': 0.0}"
      ]
     },
     "execution_count": 8,
     "metadata": {},
     "output_type": "execute_result"
    }
   ],
   "source": [
    "qpp.results()"
   ]
  },
  {
   "cell_type": "markdown",
   "metadata": {},
   "source": [
<<<<<<< HEAD
    "A dictionary is returned, which contains the frequencies of obtaining a measurement array (encoded as a 0/1 string). A bit in the string corresponds to a site of the quantum system. "
=======
    "If the task is still in the queue on the device, an exception will be raised. When the retrieval succeeds, a dictionary is returned, which contains the frequencies of obtaining a measurement array (encoded as a 0/1 string). A bit in the string corresponds to a site of the quantum system. \n",
    "\n",
    "We can call the following code to show the order of the sites in the measurement output."
   ]
  },
  {
   "cell_type": "code",
   "execution_count": 10,
   "metadata": {},
   "outputs": [
    {
     "name": "stdout",
     "output_type": "stream",
     "text": [
      "Order of sites: ['Qubit0', 'Qubit1', 'Qubit2']\n"
     ]
    }
   ],
   "source": [
    "qpp.print_sites()"
   ]
  },
  {
   "cell_type": "markdown",
   "metadata": {},
   "source": [
    "# Compile and run on devices\n",
    "\n",
    "## Declare IonQ providers\n",
    "\n",
    "Accesses to IonQ Quantum Cloud require an API key from IonQ.\n",
    "\n",
    "Assuming that you have a string `API_key` storing it, we can declare an IonQ provider in SimuQ by"
   ]
  },
  {
   "cell_type": "code",
   "execution_count": 13,
   "metadata": {},
   "outputs": [],
   "source": [
    "from simuq.ionq import IonQProvider\n",
    "iqp = IonQProvider(from_file=\"../ionq_API_key\")"
   ]
  },
  {
   "cell_type": "markdown",
   "metadata": {},
   "source": [
    "## Compile, run, and retrieve results\n",
    "\n",
    "To compile and run the 3-site Ising system `qs` on IonQ devices, we need to specify a device and an AAIS. By default, the device is Aria-1 and the AAIS in compilation is Heisenberg-AAIS. One can also pass detailed parameters in the compilation like error tolerance bound and number of Trotterization here. For simplicity, we execute with the default compiler configuration by"
   ]
  },
  {
   "cell_type": "code",
   "execution_count": 14,
   "metadata": {},
   "outputs": [],
   "source": [
    "iqp.compile(qs)"
   ]
  },
  {
   "cell_type": "markdown",
   "metadata": {},
   "source": [
    "We then run the experiment on simulator, which executes\n"
   ]
  },
  {
   "cell_type": "code",
   "execution_count": 15,
   "metadata": {},
   "outputs": [
    {
     "name": "stdout",
     "output_type": "stream",
     "text": [
      "{'id': '14a1ed47-802a-4f8b-90a6-ae12147ba84c', 'status': 'ready', 'request': 1695760395}\n"
     ]
    }
   ],
   "source": [
    "iqp.run(shots=4096, on_simulator=True)"
   ]
  },
  {
   "cell_type": "markdown",
   "metadata": {},
   "source": [
    "This will submit a job to IonQ Quantum Cloud using the compiled results, and print the job id and status. The simulator will account for the noise model of Aria-1. To retrieve the results, we wait for a short period of time (normally several seconds) for the cloud server to queue and process the simulation, and then run\n"
   ]
  },
  {
   "cell_type": "code",
   "execution_count": 16,
   "metadata": {},
   "outputs": [
    {
     "data": {
      "text/plain": [
       "{'000': 0.686469675, '011': 0.062272307, '101': 0.18898571, '110': 0.062272307}"
      ]
     },
     "execution_count": 16,
     "metadata": {},
     "output_type": "execute_result"
    }
   ],
   "source": [
    "iqp.results()"
   ]
  },
  {
   "cell_type": "markdown",
   "metadata": {},
   "source": [
    "To run on real devices, we can execute\n",
    "\n"
   ]
  },
  {
   "cell_type": "code",
   "execution_count": 17,
   "metadata": {},
   "outputs": [
    {
     "name": "stdout",
     "output_type": "stream",
     "text": [
      "{'error': 'Bad Request', 'message': 'Unable to run jobs on IonQ Aria. Please visit our Quantum Cloud Page https://ionq.com/quantum-cloud to learn more about getting access to our IonQ Aria.', 'statusCode': 400}\n"
     ]
    }
   ],
   "source": [
    "iqp.run(shots=4096)"
   ]
  },
  {
   "cell_type": "markdown",
   "metadata": {},
   "source": [
    "Here `shots` represent the number of repetition of the experiment. After queuing and executing, you may retrieve the results by calling `iqp.results()`."
>>>>>>> 42f16c8 (thesis folder created)
   ]
  },
  {
   "cell_type": "markdown",
   "metadata": {},
   "source": [
    "# Time dependent simulation\n",
    "SimuQ also support simulating time dependent Hamiltonians. We use quantum annealing as an example to show how to program a time dependent Hamiltonian.\n",
    "\n",
    "In quantum annealing, the Hamiltonian is a linear interpolation between an initial Hamiltonian $H_0$ and a target Hamiltonian $H_1$. $$H(t)=(1-\\frac{t}{T})H_0+\\frac{t}{T}H_1.$$ So that the state will evolve from the ground state of $H_0$ to the ground state of $H_1$.\n",
    "\n",
    "In the following example, $H_0$ is chosen to be single qubit $X$ operators on each site, and $H_1$ is chosen to be the $ZZ$ interaction between neighboring sites in a ring."
   ]
  },
  {
   "cell_type": "code",
<<<<<<< HEAD
   "execution_count": 3,
=======
   "execution_count": 6,
>>>>>>> 42f16c8 (thesis folder created)
   "metadata": {},
   "outputs": [],
   "source": [
    "import numpy as np\n",
    "\n",
    "\n",
    "def anneal(h0, h1, T):\n",
    "    def f(t):\n",
    "        return (1 - t / T) * h0 + t / T * h1\n",
    "\n",
    "    return f\n",
    "\n",
    "\n",
    "n = 4  # num of qubits\n",
    "m = 10  # discretization\n",
    "T = 5  # evolution time\n",
    "\n",
    "qs = QSystem()\n",
    "q = [Qubit(qs) for _ in range(n)]\n",
    "h0, h1 = 0, 0\n",
    "for i in range(n):\n",
    "    h0 += q[i].X\n",
    "for i in range(n):\n",
    "    h1 += q[i % n].Z * q[(i + 1) % n].Z\n",
    "\n",
    "ht=anneal(h0, h1, T)\n",
    "\n",
    "qs.add_td_evolution(ht, np.linspace(0, T, m))"
   ]
  },
  {
   "cell_type": "markdown",
   "metadata": {},
   "source": [
    "Next, we use qutip provider to run the simulation."
   ]
  },
  {
   "cell_type": "code",
   "execution_count": 4,
   "metadata": {},
   "outputs": [],
   "source": [
    "from simuq.qutip import QuTiPProvider\n",
    "\n",
    "qpp = QuTiPProvider()"
   ]
  },
  {
   "cell_type": "markdown",
   "metadata": {},
   "source": [
    "Before we run the simulation, we need to prepare the initial state to the ground state of $H_0$, which is $|-\\rangle^{\\otimes N}$"
   ]
  },
  {
   "cell_type": "code",
   "execution_count": 7,
   "metadata": {},
   "outputs": [],
   "source": [
    "from qutip import Qobj, tensor\n",
    "\n",
<<<<<<< HEAD
    "minus = Qobj([[1], [-1]]) / np.sqrt(2)\n",
    "initial_state = tensor([minus] * 4)"
=======
    "ibm = IBMProvider(from_file=\"../ibm_API_key\", hub=\"ibm-q\", group=\"open\", project=\"main\")"
>>>>>>> 42f16c8 (thesis folder created)
   ]
  },
  {
   "cell_type": "markdown",
   "metadata": {},
   "source": [
    "Next, we compile and run with the given initial state."
   ]
  },
  {
   "cell_type": "code",
   "execution_count": 8,
   "metadata": {},
   "outputs": [
    {
     "name": "stdout",
     "output_type": "stream",
     "text": [
      "Compiled.\n",
      "Solved.\n"
     ]
    },
    {
     "data": {
      "text/plain": [
<<<<<<< HEAD
       "{'0000': 1.5230890114860354e-07,\n",
       " '0001': 0.005297099980634664,\n",
       " '0010': 0.005297099980634658,\n",
       " '0011': 0.010332546307168037,\n",
       " '0100': 0.005297099980634611,\n",
       " '0101': 0.45814635515422436,\n",
       " '0110': 0.010332546307168023,\n",
       " '0111': 0.00529709998063466,\n",
       " '1000': 0.00529709998063466,\n",
       " '1001': 0.010332546307168006,\n",
       " '1010': 0.45814635515422364,\n",
       " '1011': 0.005297099980634637,\n",
       " '1100': 0.01033254630716806,\n",
       " '1101': 0.005297099980634631,\n",
       " '1110': 0.005297099980634674,\n",
       " '1111': 1.5230890114880148e-07}"
=======
       "<qiskit.circuit.instructionset.InstructionSet at 0x7fc27dfa79a0>"
>>>>>>> 42f16c8 (thesis folder created)
      ]
     },
     "execution_count": 8,
     "metadata": {},
     "output_type": "execute_result"
    }
   ],
   "source": [
<<<<<<< HEAD
    "qpp.compile(qs, initial_state=initial_state)\n",
    "qpp.run()\n",
    "results = qpp.results()\n",
    "results"
=======
    "from qiskit import QuantumCircuit\n",
    "state_prep=QuantumCircuit(12)\n",
    "state_prep.h(range(12))"
   ]
  },
  {
   "cell_type": "code",
   "execution_count": 15,
   "metadata": {},
   "outputs": [
    {
     "ename": "QiskitBackendNotFoundError",
     "evalue": "'No backend matches the criteria'",
     "output_type": "error",
     "traceback": [
      "\u001b[0;31m---------------------------------------------------------------------------\u001b[0m",
      "\u001b[0;31mQiskitBackendNotFoundError\u001b[0m                Traceback (most recent call last)",
      "\u001b[1;32m/workspaces/SimuQ/notebooks/tutorials/0-preliminary.ipynb Cell 41\u001b[0m line \u001b[0;36m1\n\u001b[0;32m----> <a href='vscode-notebook-cell://codespaces%2Bscaling-pancake-vpr79qrg74g2wvv6/workspaces/SimuQ/notebooks/tutorials/0-preliminary.ipynb#X55sdnNjb2RlLXJlbW90ZQ%3D%3D?line=0'>1</a>\u001b[0m ibm\u001b[39m.\u001b[39;49mcompile(QAOA, backend\u001b[39m=\u001b[39;49m\u001b[39m\"\u001b[39;49m\u001b[39mibm_guadalupe\u001b[39;49m\u001b[39m\"\u001b[39;49m, trotter_num\u001b[39m=\u001b[39;49m\u001b[39m1\u001b[39;49m,use_pulse\u001b[39m=\u001b[39;49m\u001b[39mFalse\u001b[39;49;00m, state_prep\u001b[39m=\u001b[39;49mstate_prep)\n\u001b[1;32m      <a href='vscode-notebook-cell://codespaces%2Bscaling-pancake-vpr79qrg74g2wvv6/workspaces/SimuQ/notebooks/tutorials/0-preliminary.ipynb#X55sdnNjb2RlLXJlbW90ZQ%3D%3D?line=1'>2</a>\u001b[0m ibm\u001b[39m.\u001b[39mrun(shots\u001b[39m=\u001b[39m\u001b[39m8192\u001b[39m, on_simulator\u001b[39m=\u001b[39m\u001b[39mTrue\u001b[39;00m)\n\u001b[1;32m      <a href='vscode-notebook-cell://codespaces%2Bscaling-pancake-vpr79qrg74g2wvv6/workspaces/SimuQ/notebooks/tutorials/0-preliminary.ipynb#X55sdnNjb2RlLXJlbW90ZQ%3D%3D?line=2'>3</a>\u001b[0m result\u001b[39m=\u001b[39mibm\u001b[39m.\u001b[39mresults(on_simulator\u001b[39m=\u001b[39m\u001b[39mTrue\u001b[39;00m)\n",
      "File \u001b[0;32m~/.python/current/lib/python3.10/site-packages/simuq/ibm/ibm_provider.py:30\u001b[0m, in \u001b[0;36mIBMProvider.compile\u001b[0;34m(self, qs, backend, aais, tol, trotter_num, verbose, use_pulse, state_prep)\u001b[0m\n\u001b[1;32m     19\u001b[0m \u001b[39mdef\u001b[39;00m \u001b[39mcompile\u001b[39m(\n\u001b[1;32m     20\u001b[0m     \u001b[39mself\u001b[39m,\n\u001b[1;32m     21\u001b[0m     qs,\n\u001b[0;32m   (...)\u001b[0m\n\u001b[1;32m     28\u001b[0m     state_prep\u001b[39m=\u001b[39m\u001b[39mNone\u001b[39;00m,\n\u001b[1;32m     29\u001b[0m ):\n\u001b[0;32m---> 30\u001b[0m     \u001b[39mself\u001b[39m\u001b[39m.\u001b[39mbackend \u001b[39m=\u001b[39m \u001b[39mself\u001b[39;49m\u001b[39m.\u001b[39;49mprovider\u001b[39m.\u001b[39;49mget_backend(backend)\n\u001b[1;32m     31\u001b[0m     nsite \u001b[39m=\u001b[39m \u001b[39mself\u001b[39m\u001b[39m.\u001b[39mbackend\u001b[39m.\u001b[39mconfiguration()\u001b[39m.\u001b[39mn_qubits\n\u001b[1;32m     33\u001b[0m     \u001b[39mif\u001b[39;00m qs\u001b[39m.\u001b[39mnum_sites \u001b[39m>\u001b[39m nsite:\n",
      "File \u001b[0;32m~/.python/current/lib/python3.10/site-packages/qiskit/providers/provider.py:55\u001b[0m, in \u001b[0;36mProviderV1.get_backend\u001b[0;34m(self, name, **kwargs)\u001b[0m\n\u001b[1;32m     53\u001b[0m     \u001b[39mraise\u001b[39;00m QiskitBackendNotFoundError(\u001b[39m\"\u001b[39m\u001b[39mMore than one backend matches the criteria\u001b[39m\u001b[39m\"\u001b[39m)\n\u001b[1;32m     54\u001b[0m \u001b[39mif\u001b[39;00m \u001b[39mnot\u001b[39;00m backends:\n\u001b[0;32m---> 55\u001b[0m     \u001b[39mraise\u001b[39;00m QiskitBackendNotFoundError(\u001b[39m\"\u001b[39m\u001b[39mNo backend matches the criteria\u001b[39m\u001b[39m\"\u001b[39m)\n\u001b[1;32m     57\u001b[0m \u001b[39mreturn\u001b[39;00m backends[\u001b[39m0\u001b[39m]\n",
      "\u001b[0;31mQiskitBackendNotFoundError\u001b[0m: 'No backend matches the criteria'"
     ]
    }
   ],
   "source": [
    "ibm.compile(QAOA, backend=\"ibm_guadalupe\", trotter_num=1,use_pulse=False, state_prep=state_prep)\n",
    "ibm.run(shots=8192, on_simulator=True)\n",
    "result=ibm.results(on_simulator=True)"
   ]
  },
  {
   "cell_type": "markdown",
   "metadata": {},
   "source": [
    "To understant the quality of the result, we calculated the average cut."
   ]
  },
  {
   "cell_type": "code",
   "execution_count": 12,
   "metadata": {},
   "outputs": [
    {
     "data": {
      "text/plain": [
       "10.503662109375"
      ]
     },
     "execution_count": 12,
     "metadata": {},
     "output_type": "execute_result"
    }
   ],
   "source": [
    "def average_cut(result):\n",
    "    avg_cut=0\n",
    "    for key in result.keys():\n",
    "        cut_i=0\n",
    "        for i in range(12):\n",
    "            if key[i]!=key[(i+1)%12]:\n",
    "                cut_i+=1\n",
    "        avg_cut+=result[key]*cut_i\n",
    "    return avg_cut\n",
    "\n",
    "average_cut(result)"
>>>>>>> 42f16c8 (thesis folder created)
   ]
  },
  {
   "cell_type": "markdown",
   "metadata": {},
   "source": [
    "# Non qubit systems\n",
    "\n",
    "Thanks to the abstraction of a `site`, simuq can handle non-qubit systems as well with a uniform interface."
   ]
  },
  {
   "cell_type": "code",
   "execution_count": 8,
   "metadata": {},
   "outputs": [],
   "source": [
    "from simuq import Fermion\n",
    "from simuq import QSystem\n",
    "from simuq.transformation import jw_transform\n",
    "\n",
    "D = 2\n",
    "\n",
    "qs = QSystem()\n",
    "f = [Fermion(qs) for _ in range(D)]\n",
    "\n",
    "gamma_x = [f[i].a + f[i].c for i in range(D)]\n",
    "gamma_y = [-1j * (f[i].a - f[i].c) for i in range(D)]\n",
    "\n",
    "h = 1j * gamma_y[0] * gamma_x[1]\n",
    "qs.add_evolution(h, 1)\n",
    "\n",
    "new_qs, new_sites = jw_transform(qs)"
   ]
  },
  {
   "cell_type": "markdown",
   "metadata": {},
   "source": [
    "We can inspect the hamiltonian of `new_qs` with the following code:"
   ]
  },
  {
   "cell_type": "code",
   "execution_count": 15,
   "metadata": {},
   "outputs": [
    {
     "data": {
      "text/plain": [
       "[(['X', 'X'], (-1+0j))]"
      ]
     },
     "execution_count": 15,
     "metadata": {},
     "output_type": "execute_result"
    }
   ],
   "source": [
    "new_qs.evos[0][0].ham"
   ]
  }
 ],
 "metadata": {
  "kernelspec": {
   "display_name": "lpy",
   "language": "python",
   "name": "python3"
  },
  "language_info": {
   "codemirror_mode": {
    "name": "ipython",
    "version": 3
   },
   "file_extension": ".py",
   "mimetype": "text/x-python",
   "name": "python",
   "nbconvert_exporter": "python",
   "pygments_lexer": "ipython3",
<<<<<<< HEAD
   "version": "3.11.5"
=======
   "version": "3.10.8"
>>>>>>> 42f16c8 (thesis folder created)
  },
  "orig_nbformat": 4
 },
 "nbformat": 4,
 "nbformat_minor": 2
}
