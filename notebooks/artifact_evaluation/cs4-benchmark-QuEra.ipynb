{
 "cells": [
  {
   "cell_type": "markdown",
   "id": "c0cf0f49",
   "metadata": {},
   "source": [
    "This notebook reproduces the compilation results for employing SimuQ compilation on the quantum systems in the small benchmark on QuEra devices. Note that here we consider the (future) QuEra devices with local laser controls. Since this device is not online for now, the corresponding compilation settings are not currently wrapped into a provider. We directly call the compiler methods of SimuQ in this notebook, whose compilation results are Bloqade code in Julia. You are welcome to simulate them in Julia's Bloqade extension, while we focus on the compilation itself in this notebook."
   ]
  },
  {
   "cell_type": "code",
   "execution_count": 1,
   "id": "b6404ee1",
   "metadata": {},
   "outputs": [],
   "source": [
    "import time\n",
    "Repitition = 1\n",
    "T = 1"
   ]
  },
  {
   "cell_type": "code",
   "execution_count": 2,
   "id": "898d1252",
   "metadata": {},
   "outputs": [],
   "source": [
    "def run_benchmark(qs, dimension):\n",
    "    from simuq.solver import generate_as\n",
    "    if dimension == 1 :\n",
    "        from simuq.aais.rydberg1d import generate_qmachine\n",
    "        from simuq.backends.bloqade_rydberg import transpile\n",
    "    else :\n",
    "        from simuq.aais.rydberg2d import generate_qmachine\n",
    "        from simuq.backends.bloqade_rydberg2d import transpile\n",
    "    n_qubits = len(qs.sites)\n",
    "    mach = generate_qmachine(n_qubits)\n",
    "    sum_time = 0\n",
    "    try:\n",
    "        for _ in range(Repitition) :\n",
    "            start_time = time.time()\n",
    "            res = transpile(*generate_as(qs, mach, Trot, solver = 'least_squares', solver_tol = 2*n_qubits, override_layout = [i for i in range(N)]))\n",
    "            end_time = time.time()\n",
    "            this_time = end_time - start_time\n",
    "            sum_time += this_time\n",
    "        print(f\"Avgerage compilation time for {n_qubits} qubit using SimuQ\", sum_time / Repitition)\n",
    "    except:\n",
    "        print(\"Fail!\")"
   ]
  },
  {
   "cell_type": "code",
   "execution_count": null,
   "id": "c68fcfc6",
   "metadata": {},
   "outputs": [],
   "source": [
    "from simuq.systems.benchmark.ising_chain import GenQS\n",
    "for N in [6,32,64,96]:\n",
    "    qs = GenQS(N, T, 1, 1)\n",
    "    run_benchmark(qs, 1)"
   ]
  },
  {
   "cell_type": "code",
   "execution_count": null,
   "id": "f97db0df",
   "metadata": {},
   "outputs": [],
   "source": [
    "from simuq.systems.benchmark.ising_cycle import GenQS\n",
    "for N in [6,12,32,64]:\n",
    "    qs = GenQS(N, T, 1, 1)\n",
    "    run_benchmark(qs, 2)"
   ]
  },
  {
   "cell_type": "code",
   "execution_count": null,
   "id": "c81f280c",
   "metadata": {},
   "outputs": [],
   "source": [
    "from simuq.systems.benchmark.heis_chain import GenQS\n",
    "N=32\n",
    "qs = GenQS(N, T, 1, 1)\n",
    "run_benchmark(qs, 1, 2)"
   ]
  },
  {
   "cell_type": "code",
   "execution_count": null,
   "id": "f14d59b1",
   "metadata": {},
   "outputs": [],
   "source": [
    "from simuq.systems.benchmark.qaoa_cycle import GenQS\n",
    "N=12\n",
    "qs = GenQS(N, 3,[1,1,1,1,1,1])\n",
    "run_benchmark(qs, 2)"
   ]
  },
  {
   "cell_type": "code",
   "execution_count": null,
   "id": "14e7f5ba",
   "metadata": {},
   "outputs": [],
   "source": [
    "from simuq.systems.benchmark.qhd import GenQS\n",
    "N=16\n",
    "qs = GenQS(N, T, 1, 1)\n",
    "run_benchmark(qs, 2)"
   ]
  },
  {
   "cell_type": "code",
   "execution_count": null,
   "id": "1bbcc8a0",
   "metadata": {},
   "outputs": [],
   "source": [
    "from simuq.systems.benchmark.mis_chain import GenQS\n",
    "for N in [12,24]:\n",
    "    qs = GenQS(N, D=2)\n",
    "    run_benchmark(qs, 1)"
   ]
  },
  {
   "cell_type": "code",
   "execution_count": null,
   "id": "f9c45265",
   "metadata": {},
   "outputs": [],
   "source": [
    "from simuq.systems.benchmark.mis_grid import GenQS\n",
    "for k in [4,5]:\n",
    "    qs = GenQS(k, D=2)\n",
    "    run_benchmark(qs, 2)"
   ]
  },
  {
   "cell_type": "code",
   "execution_count": null,
   "id": "92183e3a",
   "metadata": {},
   "outputs": [],
   "source": [
    "from simuq.systems.benchmark.kitaev import GenQS\n",
    "N=18\n",
    "qs = GenQS(N)\n",
    "run_benchmark(qs, 1)"
   ]
  },
  {
   "cell_type": "code",
   "execution_count": null,
   "id": "f9c1e90d",
   "metadata": {},
   "outputs": [],
   "source": [
    "from simuq.systems.benchmark.schwinger import GenQS\n",
    "N=10\n",
    "qs = GenQS(N)\n",
    "run_benchmark(qs, 2)"
   ]
  },
  {
   "cell_type": "code",
   "execution_count": null,
   "id": "d88969f1",
   "metadata": {},
   "outputs": [],
   "source": [
    "from simuq.systems.benchmark.o3nlσm import GenQS\n",
    "N=5\n",
    "M=6\n",
    "qs = GenQS(N,M)\n",
    "run_benchmark(qs, 2)"
   ]
  },
  {
   "cell_type": "code",
   "execution_count": null,
   "id": "c408e429",
   "metadata": {},
   "outputs": [],
   "source": []
  }
 ],
 "metadata": {
  "kernelspec": {
   "display_name": "Python 3 (ipykernel)",
   "language": "python",
   "name": "python3"
  },
  "language_info": {
   "codemirror_mode": {
    "name": "ipython",
    "version": 3
   },
   "file_extension": ".py",
   "mimetype": "text/x-python",
   "name": "python",
   "nbconvert_exporter": "python",
   "pygments_lexer": "ipython3",
   "version": "3.9.15"
  }
 },
 "nbformat": 4,
 "nbformat_minor": 5
}
