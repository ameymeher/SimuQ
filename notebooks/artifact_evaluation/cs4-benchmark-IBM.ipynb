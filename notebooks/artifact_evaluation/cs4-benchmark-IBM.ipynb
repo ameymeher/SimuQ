{
 "cells": [
  {
   "cell_type": "markdown",
   "id": "c8a67852",
   "metadata": {},
   "source": [
    "This notebook reproduces the compilation results for employing SimuQ compilation on the quantum systems in the small benchmark on IBM devices. We employ IBM Quantum Experience here, so you need an IBM Quantum Experience account. For more details please refer to `README.md`. The compilations are executed on fake `ibmq_guadalupe` and `ibmq_washington` devices, which does not require specific access permissions. "
   ]
  },
  {
   "cell_type": "code",
   "execution_count": 1,
   "id": "72dc3340",
   "metadata": {},
   "outputs": [],
   "source": [
    "import time\n",
    "import warnings \n",
    "warnings.filterwarnings('ignore', category=DeprecationWarning)\n",
    "\n",
    "from simuq.ibm import IBMProvider\n",
    "ibm=IBMProvider(from_file=\"../../../qiskit_APIKEY\", hub=\"ibm-q-ornl\", group=\"ornl\", project=\"phy147\")\n",
    "#ibm = IBMProvider(api_key=\"YOUR_API_TOKEN\", hub=\"ibm-q\", group=\"open\", project=\"main\")"
   ]
  },
  {
   "cell_type": "code",
   "execution_count": 2,
   "id": "1a06e08c",
   "metadata": {},
   "outputs": [],
   "source": [
    "Trot = 4\n",
    "Repitition = 1\n",
    "tol = 0.5\n",
    "T = 1"
   ]
  },
  {
   "cell_type": "code",
   "execution_count": 5,
   "id": "898d1252",
   "metadata": {},
   "outputs": [],
   "source": [
    "from qiskit import schedule\n",
    "from qiskit import transpile as qiskit_transpile\n",
    "from qiskit.providers.fake_provider import FakeGuadalupe, FakeWashington\n",
    "from qiskit import QuantumCircuit\n",
    "from qiskit.opflow import PauliTrotterEvolution\n",
    "def run_benchmark(qs):\n",
    "    n_qubits = len(qs.sites)\n",
    "    sum_time = 0\n",
    "    if n_qubits <= 27 :\n",
    "        backend = \"ibmq_guadalupe\"\n",
    "        fakebackend = FakeGuadalupe()\n",
    "    else :\n",
    "        backend = \"ibmq_washington\"\n",
    "        fakebackend = FakeWashington()\n",
    "    try:\n",
    "        for _ in range(Repitition) :\n",
    "            start_time = time.time()\n",
    "            ibm.compile(qs, backend=backend, trotter_num=Trot, tol=tol, use_fake_backend=True, with_measure=False, verbose=-1)\n",
    "            end_time = time.time()\n",
    "            this_time = end_time - start_time\n",
    "            sum_time += this_time\n",
    "        print(f\"Avgerage compilation time for {n_qubits} qubit using SimuQ\", sum_time / Repitition)\n",
    "        print(f\"Pulse duration for {n_qubits} qubit using SimuQ\", schedule(ibm.prog, ibm.backend).duration*0.22222*1e-3)\n",
    "    except:\n",
    "        print(\"Fail!\")\n",
    "\n",
    "    circ = QuantumCircuit(n_qubits)\n",
    "    for evo_index in range(len(qs.evos)) :\n",
    "        hamiltonian = qs.evos[evo_index][0].to_qiskit_opflow()\n",
    "        evolution_op = (T*hamiltonian).exp_i()\n",
    "        trotterized_op = PauliTrotterEvolution(\n",
    "                        trotter_mode='trotter',\n",
    "                        reps=Trot).convert(evolution_op)\n",
    "        trot_op_circ = trotterized_op.to_circuit()\n",
    "        circ = circ.compose(trot_op_circ)\n",
    "\n",
    "    qiskit_sch = schedule(qiskit_transpile(circ, fakebackend), fakebackend)\n",
    "    print(f\"Pulse duration for {n_qubits} qubit using Qiskit\", qiskit_sch.duration * 0.22222 * 1e-3)"
   ]
  },
  {
   "cell_type": "code",
   "execution_count": null,
   "id": "bb0e5119",
   "metadata": {},
   "outputs": [],
   "source": [
    "from simuq.systems.benchmark.ising_chain import GenQS\n",
    "for N in [6,32,64,96]:\n",
    "    qs = GenQS(N, T, 1, 1)\n",
    "    run_benchmark(qs)"
   ]
  },
  {
   "cell_type": "code",
   "execution_count": null,
   "id": "52e5dd87",
   "metadata": {},
   "outputs": [],
   "source": [
    "from simuq.systems.benchmark.ising_cycle import GenQS\n",
    "for N in [6,12,32,64]:\n",
    "    qs = GenQS(N, T, 1, 1)\n",
    "    run_benchmark(qs)"
   ]
  },
  {
   "cell_type": "code",
   "execution_count": null,
   "id": "c81f280c",
   "metadata": {},
   "outputs": [],
   "source": [
    "from simuq.systems.benchmark.heis_chain import GenQS\n",
    "N=32\n",
    "qs = GenQS(N, T, 1, 1)\n",
    "run_benchmark(qs)"
   ]
  },
  {
   "cell_type": "code",
   "execution_count": null,
   "id": "f14d59b1",
   "metadata": {},
   "outputs": [],
   "source": [
    "from simuq.systems.benchmark.qaoa_cycle import GenQS\n",
    "N=12\n",
    "qs = GenQS(N, 3,[1,1,1,1,1,1])\n",
    "run_benchmark(qs)"
   ]
  },
  {
   "cell_type": "code",
   "execution_count": null,
   "id": "14e7f5ba",
   "metadata": {},
   "outputs": [],
   "source": [
    "from simuq.systems.benchmark.qhd import GenQS\n",
    "N=16\n",
    "qs = GenQS(N, T, 1, 1)\n",
    "run_benchmark(qs)"
   ]
  },
  {
   "cell_type": "code",
   "execution_count": null,
   "id": "e47c2857",
   "metadata": {},
   "outputs": [],
   "source": [
    "from simuq.systems.benchmark.mis_chain import GenQS\n",
    "for N in [12,24]:\n",
    "    qs = GenQS(N)\n",
    "    run_benchmark(qs)"
   ]
  },
  {
   "cell_type": "code",
   "execution_count": null,
   "id": "f9c45265",
   "metadata": {},
   "outputs": [],
   "source": [
    "from simuq.systems.benchmark.mis_grid import GenQS\n",
    "for k in [4,5]:\n",
    "    qs = GenQS(k)\n",
    "    run_benchmark(qs)"
   ]
  },
  {
   "cell_type": "code",
   "execution_count": null,
   "id": "ff6633a5",
   "metadata": {},
   "outputs": [],
   "source": [
    "from simuq.systems.benchmark.kitaev import GenQS\n",
    "N=18\n",
    "qs = GenQS(N)\n",
    "run_benchmark(qs)"
   ]
  },
  {
   "cell_type": "code",
   "execution_count": null,
   "id": "6cf9f9cb",
   "metadata": {},
   "outputs": [],
   "source": [
    "from simuq.systems.benchmark.schwinger import GenQS\n",
    "N=10\n",
    "qs = GenQS(N)\n",
    "run_benchmark(qs)"
   ]
  },
  {
   "cell_type": "code",
   "execution_count": null,
   "id": "8a3b142a",
   "metadata": {},
   "outputs": [],
   "source": [
    "from simuq.systems.benchmark.o3nlσm import GenQS\n",
    "N=5\n",
    "M=6\n",
    "qs = GenQS(N,M)\n",
    "run_benchmark(qs)"
   ]
  }
 ],
 "metadata": {
  "kernelspec": {
   "display_name": "Python 3 (ipykernel)",
   "language": "python",
   "name": "python3"
  },
  "language_info": {
   "codemirror_mode": {
    "name": "ipython",
    "version": 3
   },
   "file_extension": ".py",
   "mimetype": "text/x-python",
   "name": "python",
   "nbconvert_exporter": "python",
   "pygments_lexer": "ipython3",
   "version": "3.9.15"
  }
 },
 "nbformat": 4,
 "nbformat_minor": 5
}
