{
 "cells": [
  {
   "cell_type": "markdown",
   "metadata": {},
   "source": [
    "We reproduce Section 5.3 SimuQ data in Table 2 of our paper in this notebook, which contains the cut difference of QAOA on IBM and IonQ devices.\n",
    "\n",
    "Note that for the convenience of the reviewer, the exhibited code below will generate the simulator results (for free). This case study is specifically designed to showcase the advantage of using interaction-based gates on real devices, which cannot be observed from classical simulation.\n",
    "\n",
    "If you want to reproduce the real device results, set the on_simulator variable to False. CAUTION: real device experiments may cost your money to run."
   ]
  },
  {
   "cell_type": "markdown",
   "metadata": {},
   "source": [
    "The IBM provider requires you to have an IBM account to access classical simulator (see README.md). You will be given a API token from the IBM account, and you may use the commented line to create a provider, although you may not have access to the ibmq_gradalupe device. As the time when this document is written, you may access ibmq_brisbane through the open plan of IBM. \n",
    "\n",
    "If you don't have an IBM account, you can remove the IBM provider and the following executions related to IBM. This merely leads to the lack of IBM (ideal) curve in the first figure."
   ]
  },
  {
   "cell_type": "code",
   "execution_count": 1,
   "metadata": {},
   "outputs": [],
   "source": [
    "import numpy as np\n",
    "\n",
    "from simuq import QSystem, Qubit\n",
    "from simuq.braket import BraketProvider\n",
    "from simuq.ibm import IBMProvider\n",
    "\n",
    "bp = BraketProvider()\n",
    "ibm = IBMProvider(from_file=\"../../../qiskit_APIKEY\", hub=\"ibm-q-ornl\", group=\"ornl\", project=\"phy147\")\n",
    "#ibm = IBMProvider(api_key=\"YOUR_API_TOKEN\", hub=\"ibm-q\", group=\"open\", project=\"main\")"
   ]
  },
  {
   "cell_type": "code",
   "execution_count": 2,
   "metadata": {},
   "outputs": [],
   "source": [
    "def GenQS(n=12, p=3):\n",
    "    qs = QSystem()\n",
    "    ql = [Qubit(qs) for i in range(n)]\n",
    "    link = [(i, (i + 1) % n) for i in range(n)]\n",
    "    if p==3:    \n",
    "        parameter_list = np.array(\n",
    "        [\n",
    "            0.5702193 * 2,\n",
    "            -0.58631086,\n",
    "            0.85160685 * 2,\n",
    "            -1.7058538,\n",
    "            0.29468536 * 2,\n",
    "            -1.132814,\n",
    "        ]\n",
    "    )/2\n",
    "    if p==2:\n",
    "        parameter_list = np.array([-3.8034,1.2438, -1.2467,-2.4899])/2\n",
    "    if p==1:\n",
    "        parameter_list = np.array([-0.7854,-2.3562])/2\n",
    "\n",
    "    for i in range(p):\n",
    "        h = 0\n",
    "        for q0, q1 in link:\n",
    "            h += parameter_list[2 * i] * ql[q0].Z * ql[q1].Z\n",
    "        qs.add_evolution(h, 1)\n",
    "        h = 0\n",
    "        for q0 in range(n):\n",
    "            h += parameter_list[2 * i+1] * ql[q0].X\n",
    "        qs.add_evolution(h, 1)\n",
    "    return qs\n",
    "\n",
    "def calc_cut(count):\n",
    "    cut=0\n",
    "    n_shots=sum(count.values())\n",
    "    for key in count:\n",
    "        cut+=count[key]*calc_weight(key)/n_shots\n",
    "    return cut\n",
    "\n",
    "def calc_weight(key):\n",
    "    cut=0\n",
    "    for i in range(len(key)):\n",
    "        if key[i]!= key[(i+1)%len(key)]:\n",
    "            cut+=1\n",
    "    return cut\n",
    "\n",
    "ideal_cut_size = [9, 10, 10.5]"
   ]
  },
  {
   "cell_type": "code",
   "execution_count": 5,
   "metadata": {},
   "outputs": [
    {
     "name": "stdout",
     "output_type": "stream",
     "text": [
      "For p=1, IonQ gives cut size 8.998046875, different from ideal value 9 by 0.001953125.\n",
      "For p=1, IBM gives cut size 8.990234375, different from ideal value 9 by 0.009765625.\n",
      "For p=2, IonQ gives cut size 9.990234375, different from ideal value 10 by 0.009765625.\n",
      "For p=2, IBM gives cut size 10.00732421875, different from ideal value 10 by 0.00732421875.\n",
      "For p=3, IonQ gives cut size 10.455078125, different from ideal value 10.5 by 0.044921875.\n",
      "For p=3, IBM gives cut size 10.5126953125, different from ideal value 10.5 by 0.0126953125.\n"
     ]
    }
   ],
   "source": [
    "on_simulator = True\n",
    "\n",
    "from simuq.braket import BraketIonQCircuit\n",
    "state_prep = BraketIonQCircuit(12)\n",
    "for i in range(12):\n",
    "    state_prep.gpi2(i, np.pi / 2)\n",
    "    \n",
    "from qiskit import QuantumCircuit\n",
    "all_h_circ = QuantumCircuit(12)\n",
    "for i in range(12):\n",
    "    all_h_circ.h(i)\n",
    "\n",
    "for p in [1, 2, 3]:\n",
    "    qs = GenQS(12, p)\n",
    "    \n",
    "    bp.compile(qs, provider=\"ionq\", device=\"Aria-1\", aais=\"heisenberg\", trotter_num=4, state_prep=state_prep, verbose=-1)\n",
    "    bp.run(shots=1024, on_simulator=on_simulator, verbose=-1)\n",
    "    result = bp.results()\n",
    "    cs = calc_cut(result)\n",
    "    print(f\"For p={p}, IonQ gives cut size {cs}, different from ideal value {ideal_cut_size[p-1]} by {abs(ideal_cut_size[p-1]-cs)}.\")\n",
    "    \n",
    "    ibm.compile(qs, backend=\"ibmq_guadalupe\", trotter_num=4, use_pulse=False, state_prep=all_h_circ, verbose=-1)\n",
    "    ibm.run(on_simulator=on_simulator, verbose=-1)\n",
    "    result = ibm.results(on_simulator=on_simulator)\n",
    "    cs = calc_cut(result)\n",
    "    print(f\"For p={p}, IBM gives cut size {cs}, different from ideal value {ideal_cut_size[p-1]} by {abs(ideal_cut_size[p-1]-cs)}.\")"
   ]
  },
  {
   "cell_type": "code",
   "execution_count": null,
   "metadata": {},
   "outputs": [],
   "source": []
  }
 ],
 "metadata": {
  "kernelspec": {
   "display_name": "Python 3 (ipykernel)",
   "language": "python",
   "name": "python3"
  },
  "language_info": {
   "codemirror_mode": {
    "name": "ipython",
    "version": 3
   },
   "file_extension": ".py",
   "mimetype": "text/x-python",
   "name": "python",
   "nbconvert_exporter": "python",
   "pygments_lexer": "ipython3",
   "version": "3.9.15"
  }
 },
 "nbformat": 4,
 "nbformat_minor": 2
}
